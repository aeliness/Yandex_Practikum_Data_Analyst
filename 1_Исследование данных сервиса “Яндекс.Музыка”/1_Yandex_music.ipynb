{
 "cells": [
  {
   "cell_type": "markdown",
   "metadata": {
    "id": "E0vqbgi9ay0H"
   },
   "source": [
    "# Яндекс.Музыка"
   ]
  },
  {
   "cell_type": "markdown",
   "metadata": {
    "id": "VUC88oWjTJw2"
   },
   "source": [
    "Сравнение Москвы и Петербурга окружено мифами. Например:\n",
    " * Москва — мегаполис, подчинённый жёсткому ритму рабочей недели;\n",
    " * Петербург — культурная столица, со своими вкусами.\n",
    "\n",
    "На данных Яндекс.Музыки вы сравните поведение пользователей двух столиц.\n",
    "\n",
    "**Цель исследования** — проверьте три гипотезы:\n",
    "1. Активность пользователей зависит от дня недели. Причём в Москве и Петербурге это проявляется по-разному.\n",
    "2. В понедельник утром в Москве преобладают одни жанры, а в Петербурге — другие. Так же и вечером пятницы преобладают разные жанры — в зависимости от города. \n",
    "3. Москва и Петербург предпочитают разные жанры музыки. В Москве чаще слушают поп-музыку, в Петербурге — русский рэп.\n",
    "\n",
    "**Ход исследования**\n",
    "\n",
    "Данные о поведении пользователей вы получите из файла `yandex_music_project.csv`. О качестве данных ничего не известно. Поэтому перед проверкой гипотез понадобится обзор данных. \n",
    "\n",
    "Вы проверите данные на ошибки и оцените их влияние на исследование. Затем, на этапе предобработки вы поищете возможность исправить самые критичные ошибки данных.\n",
    " \n",
    "Таким образом, исследование пройдёт в три этапа:\n",
    " 1. Обзор данных.\n",
    " 2. Предобработка данных.\n",
    " 3. Проверка гипотез.\n",
    "\n"
   ]
  },
  {
   "cell_type": "markdown",
   "metadata": {
    "id": "Ml1hmfXC_Zcs"
   },
   "source": [
    "## Обзор данных\n",
    "\n",
    "Составьте первое представление о данных Яндекс.Музыки.\n",
    "\n",
    "\n"
   ]
  },
  {
   "cell_type": "markdown",
   "metadata": {
    "id": "57eAOGIz_Zcs"
   },
   "source": [
    "Основной инструмент аналитика — `pandas`. Импортируйте эту библиотеку."
   ]
  },
  {
   "cell_type": "code",
   "execution_count": 1,
   "metadata": {
    "id": "AXN7PHPN_Zcs"
   },
   "outputs": [],
   "source": [
    "import pandas as pd # импорт библиотеки pandas"
   ]
  },
  {
   "cell_type": "markdown",
   "metadata": {
    "id": "SG23P8tt_Zcs"
   },
   "source": [
    "Прочитайте файл `yandex_music_project.csv` из папки `/datasets` и сохраните его в переменной `df`:"
   ]
  },
  {
   "cell_type": "code",
   "execution_count": 2,
   "metadata": {
    "id": "fFVu7vqh_Zct"
   },
   "outputs": [],
   "source": [
    "df = pd.read_csv('/datasets/yandex_music_project.csv') # чтение файла с данными и сохранение в df"
   ]
  },
  {
   "cell_type": "markdown",
   "metadata": {
    "id": "rDoOMd3uTqnZ"
   },
   "source": [
    "Выведите на экран первые десять строк таблицы:"
   ]
  },
  {
   "cell_type": "code",
   "execution_count": 3,
   "metadata": {
    "id": "oWTVX3gW_Zct"
   },
   "outputs": [
    {
     "data": {
      "text/html": [
       "<div>\n",
       "<style scoped>\n",
       "    .dataframe tbody tr th:only-of-type {\n",
       "        vertical-align: middle;\n",
       "    }\n",
       "\n",
       "    .dataframe tbody tr th {\n",
       "        vertical-align: top;\n",
       "    }\n",
       "\n",
       "    .dataframe thead th {\n",
       "        text-align: right;\n",
       "    }\n",
       "</style>\n",
       "<table border=\"1\" class=\"dataframe\">\n",
       "  <thead>\n",
       "    <tr style=\"text-align: right;\">\n",
       "      <th></th>\n",
       "      <th>userID</th>\n",
       "      <th>Track</th>\n",
       "      <th>artist</th>\n",
       "      <th>genre</th>\n",
       "      <th>City</th>\n",
       "      <th>time</th>\n",
       "      <th>Day</th>\n",
       "    </tr>\n",
       "  </thead>\n",
       "  <tbody>\n",
       "    <tr>\n",
       "      <th>0</th>\n",
       "      <td>FFB692EC</td>\n",
       "      <td>Kamigata To Boots</td>\n",
       "      <td>The Mass Missile</td>\n",
       "      <td>rock</td>\n",
       "      <td>Saint-Petersburg</td>\n",
       "      <td>20:28:33</td>\n",
       "      <td>Wednesday</td>\n",
       "    </tr>\n",
       "    <tr>\n",
       "      <th>1</th>\n",
       "      <td>55204538</td>\n",
       "      <td>Delayed Because of Accident</td>\n",
       "      <td>Andreas Rönnberg</td>\n",
       "      <td>rock</td>\n",
       "      <td>Moscow</td>\n",
       "      <td>14:07:09</td>\n",
       "      <td>Friday</td>\n",
       "    </tr>\n",
       "    <tr>\n",
       "      <th>2</th>\n",
       "      <td>20EC38</td>\n",
       "      <td>Funiculì funiculà</td>\n",
       "      <td>Mario Lanza</td>\n",
       "      <td>pop</td>\n",
       "      <td>Saint-Petersburg</td>\n",
       "      <td>20:58:07</td>\n",
       "      <td>Wednesday</td>\n",
       "    </tr>\n",
       "    <tr>\n",
       "      <th>3</th>\n",
       "      <td>A3DD03C9</td>\n",
       "      <td>Dragons in the Sunset</td>\n",
       "      <td>Fire + Ice</td>\n",
       "      <td>folk</td>\n",
       "      <td>Saint-Petersburg</td>\n",
       "      <td>08:37:09</td>\n",
       "      <td>Monday</td>\n",
       "    </tr>\n",
       "    <tr>\n",
       "      <th>4</th>\n",
       "      <td>E2DC1FAE</td>\n",
       "      <td>Soul People</td>\n",
       "      <td>Space Echo</td>\n",
       "      <td>dance</td>\n",
       "      <td>Moscow</td>\n",
       "      <td>08:34:34</td>\n",
       "      <td>Monday</td>\n",
       "    </tr>\n",
       "    <tr>\n",
       "      <th>5</th>\n",
       "      <td>842029A1</td>\n",
       "      <td>Преданная</td>\n",
       "      <td>IMPERVTOR</td>\n",
       "      <td>rusrap</td>\n",
       "      <td>Saint-Petersburg</td>\n",
       "      <td>13:09:41</td>\n",
       "      <td>Friday</td>\n",
       "    </tr>\n",
       "    <tr>\n",
       "      <th>6</th>\n",
       "      <td>4CB90AA5</td>\n",
       "      <td>True</td>\n",
       "      <td>Roman Messer</td>\n",
       "      <td>dance</td>\n",
       "      <td>Moscow</td>\n",
       "      <td>13:00:07</td>\n",
       "      <td>Wednesday</td>\n",
       "    </tr>\n",
       "    <tr>\n",
       "      <th>7</th>\n",
       "      <td>F03E1C1F</td>\n",
       "      <td>Feeling This Way</td>\n",
       "      <td>Polina Griffith</td>\n",
       "      <td>dance</td>\n",
       "      <td>Moscow</td>\n",
       "      <td>20:47:49</td>\n",
       "      <td>Wednesday</td>\n",
       "    </tr>\n",
       "    <tr>\n",
       "      <th>8</th>\n",
       "      <td>8FA1D3BE</td>\n",
       "      <td>И вновь продолжается бой</td>\n",
       "      <td>NaN</td>\n",
       "      <td>ruspop</td>\n",
       "      <td>Moscow</td>\n",
       "      <td>09:17:40</td>\n",
       "      <td>Friday</td>\n",
       "    </tr>\n",
       "    <tr>\n",
       "      <th>9</th>\n",
       "      <td>E772D5C0</td>\n",
       "      <td>Pessimist</td>\n",
       "      <td>NaN</td>\n",
       "      <td>dance</td>\n",
       "      <td>Saint-Petersburg</td>\n",
       "      <td>21:20:49</td>\n",
       "      <td>Wednesday</td>\n",
       "    </tr>\n",
       "  </tbody>\n",
       "</table>\n",
       "</div>"
      ],
      "text/plain": [
       "     userID                        Track            artist   genre  \\\n",
       "0  FFB692EC            Kamigata To Boots  The Mass Missile    rock   \n",
       "1  55204538  Delayed Because of Accident  Andreas Rönnberg    rock   \n",
       "2    20EC38            Funiculì funiculà       Mario Lanza     pop   \n",
       "3  A3DD03C9        Dragons in the Sunset        Fire + Ice    folk   \n",
       "4  E2DC1FAE                  Soul People        Space Echo   dance   \n",
       "5  842029A1                    Преданная         IMPERVTOR  rusrap   \n",
       "6  4CB90AA5                         True      Roman Messer   dance   \n",
       "7  F03E1C1F             Feeling This Way   Polina Griffith   dance   \n",
       "8  8FA1D3BE     И вновь продолжается бой               NaN  ruspop   \n",
       "9  E772D5C0                    Pessimist               NaN   dance   \n",
       "\n",
       "             City        time        Day  \n",
       "0  Saint-Petersburg  20:28:33  Wednesday  \n",
       "1            Moscow  14:07:09     Friday  \n",
       "2  Saint-Petersburg  20:58:07  Wednesday  \n",
       "3  Saint-Petersburg  08:37:09     Monday  \n",
       "4            Moscow  08:34:34     Monday  \n",
       "5  Saint-Petersburg  13:09:41     Friday  \n",
       "6            Moscow  13:00:07  Wednesday  \n",
       "7            Moscow  20:47:49  Wednesday  \n",
       "8            Moscow  09:17:40     Friday  \n",
       "9  Saint-Petersburg  21:20:49  Wednesday  "
      ]
     },
     "execution_count": 3,
     "metadata": {},
     "output_type": "execute_result"
    }
   ],
   "source": [
    "df.head(10) # получение первых 10 строк таблицы df"
   ]
  },
  {
   "cell_type": "markdown",
   "metadata": {
    "id": "EO73Kwic_Zct"
   },
   "source": [
    "Одной командой получить общую информацию о таблице:"
   ]
  },
  {
   "cell_type": "code",
   "execution_count": 4,
   "metadata": {
    "id": "DSf2kIb-_Zct"
   },
   "outputs": [
    {
     "name": "stdout",
     "output_type": "stream",
     "text": [
      "<class 'pandas.core.frame.DataFrame'>\n",
      "RangeIndex: 65079 entries, 0 to 65078\n",
      "Data columns (total 7 columns):\n",
      " #   Column    Non-Null Count  Dtype \n",
      "---  ------    --------------  ----- \n",
      " 0     userID  65079 non-null  object\n",
      " 1   Track     63848 non-null  object\n",
      " 2   artist    57876 non-null  object\n",
      " 3   genre     63881 non-null  object\n",
      " 4     City    65079 non-null  object\n",
      " 5   time      65079 non-null  object\n",
      " 6   Day       65079 non-null  object\n",
      "dtypes: object(7)\n",
      "memory usage: 3.5+ MB\n"
     ]
    }
   ],
   "source": [
    "df.info() # получение общей информации о данных в таблице df"
   ]
  },
  {
   "cell_type": "markdown",
   "metadata": {
    "id": "TaQ2Iwbr_Zct"
   },
   "source": [
    "Итак, в таблице семь столбцов. Тип данных во всех столбцах — `object`.\n",
    "\n",
    "Согласно документации к данным:\n",
    "* `userID` — идентификатор пользователя;\n",
    "* `Track` — название трека;  \n",
    "* `artist` — имя исполнителя;\n",
    "* `genre` — название жанра;\n",
    "* `City` — город пользователя;\n",
    "* `time` — время начала прослушивания;\n",
    "* `Day` — день недели.\n",
    "\n",
    "В названиях колонок видны три нарушения стиля:\n",
    "1. Строчные буквы сочетаются с прописными.\n",
    "2. Встречаются пробелы.\n",
    "3. Некоторые названия столбцов написаны слитно, не учитывается \"змеиный_регистр\".\n",
    "\n",
    "\n",
    "\n",
    "Количество значений в столбцах различается. Значит, в данных есть пропущенные значения.\n"
   ]
  },
  {
   "cell_type": "markdown",
   "metadata": {
    "id": "MCB6-dXG_Zct"
   },
   "source": [
    "**Выводы**\n",
    "\n",
    "В каждой строке таблицы — данные о прослушанном треке. Часть колонок описывает саму композицию: название, исполнителя и жанр. Остальные данные рассказывают о пользователе: из какого он города, когда он слушал музыку. \n",
    "\n",
    "Предварительно можно утверждать, что, данных достаточно для проверки гипотез. Но встречаются пропуски в данных, а в названиях колонок — расхождения с хорошим стилем.\n",
    "\n",
    "Чтобы двигаться дальше, нужно устранить проблемы в данных."
   ]
  },
  {
   "cell_type": "markdown",
   "metadata": {
    "id": "SjYF6Ub9_Zct"
   },
   "source": [
    "## Предобработка данных\n",
    "Исправьте стиль в заголовках столбцов, исключите пропуски. Затем проверьте данные на дубликаты."
   ]
  },
  {
   "cell_type": "markdown",
   "metadata": {
    "id": "dIaKXr29_Zct"
   },
   "source": [
    "### Стиль заголовков\n",
    "Выведите на экран названия столбцов:"
   ]
  },
  {
   "cell_type": "code",
   "execution_count": 5,
   "metadata": {
    "id": "oKOTdF_Q_Zct"
   },
   "outputs": [
    {
     "data": {
      "text/plain": [
       "Index(['  userID', 'Track', 'artist', 'genre', '  City  ', 'time', 'Day'], dtype='object')"
      ]
     },
     "execution_count": 5,
     "metadata": {},
     "output_type": "execute_result"
    }
   ],
   "source": [
    "df.columns # перечень названий столбцов таблицы df"
   ]
  },
  {
   "cell_type": "markdown",
   "metadata": {
    "id": "FPZA3ki8xe7T"
   },
   "source": []
  },
  {
   "cell_type": "markdown",
   "metadata": {
    "id": "zj5534cv_Zct"
   },
   "source": [
    "Приведите названия в соответствие с хорошим стилем:\n",
    "* несколько слов в названии запишите в «змеином_регистре»,\n",
    "* все символы сделайте строчными,\n",
    "* устраните пробелы.\n",
    "\n",
    "Для этого переименуйте колонки так:\n",
    "* `'  userID'` → `'user_id'`;\n",
    "* `'Track'` → `'track'`;\n",
    "* `'  City  '` → `'city'`;\n",
    "* `'Day'` → `'day'`."
   ]
  },
  {
   "cell_type": "code",
   "execution_count": 6,
   "metadata": {
    "id": "ISlFqs5y_Zct"
   },
   "outputs": [],
   "source": [
    "df = df.rename(columns = {'  userID': 'user_id', 'Track': 'track', '  City  ': 'city', 'Day': 'day'})# переименование столбцов"
   ]
  },
  {
   "cell_type": "markdown",
   "metadata": {
    "id": "1dqbh00J_Zct"
   },
   "source": [
    "Проверьте результат. Для этого ещё раз выведите на экран названия столбцов:"
   ]
  },
  {
   "cell_type": "code",
   "execution_count": 7,
   "metadata": {
    "id": "d4NOAmTW_Zct"
   },
   "outputs": [
    {
     "data": {
      "text/plain": [
       "Index(['user_id', 'track', 'artist', 'genre', 'city', 'time', 'day'], dtype='object')"
      ]
     },
     "execution_count": 7,
     "metadata": {},
     "output_type": "execute_result"
    }
   ],
   "source": [
    "df.columns# проверка результатов - перечень названий столбцов"
   ]
  },
  {
   "cell_type": "markdown",
   "metadata": {
    "id": "5ISfbcfY_Zct"
   },
   "source": [
    "### Пропуски значений\n",
    "Сначала посчитайте, сколько в таблице пропущенных значений. Для этого достаточно двух методов `pandas`:"
   ]
  },
  {
   "cell_type": "code",
   "execution_count": 8,
   "metadata": {
    "id": "RskX29qr_Zct"
   },
   "outputs": [
    {
     "data": {
      "text/plain": [
       "user_id       0\n",
       "track      1231\n",
       "artist     7203\n",
       "genre      1198\n",
       "city          0\n",
       "time          0\n",
       "day           0\n",
       "dtype: int64"
      ]
     },
     "execution_count": 8,
     "metadata": {},
     "output_type": "execute_result"
    }
   ],
   "source": [
    "df.isna().sum() # подсчёт пропусков"
   ]
  },
  {
   "cell_type": "markdown",
   "metadata": {
    "id": "qubhgnlO_Zct"
   },
   "source": [
    "Не все пропущенные значения влияют на исследование. Так в `track` и `artist` пропуски не важны для вашей работы. Достаточно заменить их явными обозначениями.\n",
    "\n",
    "Но пропуски в `genre` могут помешать сравнению музыкальных вкусов в Москве и Санкт-Петербурге. На практике было бы правильно установить причину пропусков и восстановить данные. Такой возможности нет в учебном проекте. Придётся:\n",
    "* заполнить и эти пропуски явными обозначениями,\n",
    "* оценить, насколько они повредят расчётам. "
   ]
  },
  {
   "cell_type": "markdown",
   "metadata": {
    "id": "fSv2laPA_Zct"
   },
   "source": [
    "Замените пропущенные значения в столбцах `track`, `artist` и `genre` на строку `'unknown'`. Для этого создайте список `columns_to_replace`, переберите его элементы циклом `for` и для каждого столбца выполните замену пропущенных значений:"
   ]
  },
  {
   "cell_type": "code",
   "execution_count": 9,
   "metadata": {
    "id": "KplB5qWs_Zct"
   },
   "outputs": [],
   "source": [
    "columns_to_replace = ['track', 'artist', 'genre'] # перебор названий столбцов в цикле и замена пропущенных значений на 'unknown'\n",
    "for column in columns_to_replace:\n",
    "    df[column] = df[column].fillna('unknown')"
   ]
  },
  {
   "cell_type": "markdown",
   "metadata": {
    "id": "Ilsm-MZo_Zct"
   },
   "source": [
    "Убедитесь, что в таблице не осталось пропусков. Для этого ещё раз посчитайте пропущенные значения."
   ]
  },
  {
   "cell_type": "code",
   "execution_count": 10,
   "metadata": {
    "id": "Tq4nYRX4_Zct"
   },
   "outputs": [
    {
     "data": {
      "text/plain": [
       "user_id    0\n",
       "track      0\n",
       "artist     0\n",
       "genre      0\n",
       "city       0\n",
       "time       0\n",
       "day        0\n",
       "dtype: int64"
      ]
     },
     "execution_count": 10,
     "metadata": {},
     "output_type": "execute_result"
    }
   ],
   "source": [
    "df.isna().sum() # подсчёт пропусков"
   ]
  },
  {
   "cell_type": "markdown",
   "metadata": {
    "id": "BWKRtBJ3_Zct"
   },
   "source": [
    "### Дубликаты\n",
    "Посчитайте явные дубликаты в таблице одной командой:"
   ]
  },
  {
   "cell_type": "code",
   "execution_count": 11,
   "metadata": {
    "id": "36eES_S0_Zct"
   },
   "outputs": [
    {
     "data": {
      "text/plain": [
       "3826"
      ]
     },
     "execution_count": 11,
     "metadata": {},
     "output_type": "execute_result"
    }
   ],
   "source": [
    "df.duplicated().sum() # подсчёт явных дубликатов"
   ]
  },
  {
   "cell_type": "markdown",
   "metadata": {
    "id": "Ot25h6XR_Zct"
   },
   "source": [
    "Вызовите специальный метод `pandas`, чтобы удалить явные дубликаты:"
   ]
  },
  {
   "cell_type": "code",
   "execution_count": 12,
   "metadata": {
    "id": "exFHq6tt_Zct"
   },
   "outputs": [],
   "source": [
    "df = df.drop_duplicates().reset_index(drop = True) # удаление явных дубликатов (с удалением старых индексов и формированием новых)"
   ]
  },
  {
   "cell_type": "code",
   "execution_count": 13,
   "metadata": {},
   "outputs": [
    {
     "data": {
      "text/html": [
       "<div>\n",
       "<style scoped>\n",
       "    .dataframe tbody tr th:only-of-type {\n",
       "        vertical-align: middle;\n",
       "    }\n",
       "\n",
       "    .dataframe tbody tr th {\n",
       "        vertical-align: top;\n",
       "    }\n",
       "\n",
       "    .dataframe thead th {\n",
       "        text-align: right;\n",
       "    }\n",
       "</style>\n",
       "<table border=\"1\" class=\"dataframe\">\n",
       "  <thead>\n",
       "    <tr style=\"text-align: right;\">\n",
       "      <th></th>\n",
       "      <th>user_id</th>\n",
       "      <th>track</th>\n",
       "      <th>artist</th>\n",
       "      <th>genre</th>\n",
       "      <th>city</th>\n",
       "      <th>time</th>\n",
       "      <th>day</th>\n",
       "    </tr>\n",
       "  </thead>\n",
       "  <tbody>\n",
       "    <tr>\n",
       "      <th>0</th>\n",
       "      <td>FFB692EC</td>\n",
       "      <td>Kamigata To Boots</td>\n",
       "      <td>The Mass Missile</td>\n",
       "      <td>rock</td>\n",
       "      <td>Saint-Petersburg</td>\n",
       "      <td>20:28:33</td>\n",
       "      <td>Wednesday</td>\n",
       "    </tr>\n",
       "    <tr>\n",
       "      <th>1</th>\n",
       "      <td>55204538</td>\n",
       "      <td>Delayed Because of Accident</td>\n",
       "      <td>Andreas Rönnberg</td>\n",
       "      <td>rock</td>\n",
       "      <td>Moscow</td>\n",
       "      <td>14:07:09</td>\n",
       "      <td>Friday</td>\n",
       "    </tr>\n",
       "    <tr>\n",
       "      <th>2</th>\n",
       "      <td>20EC38</td>\n",
       "      <td>Funiculì funiculà</td>\n",
       "      <td>Mario Lanza</td>\n",
       "      <td>pop</td>\n",
       "      <td>Saint-Petersburg</td>\n",
       "      <td>20:58:07</td>\n",
       "      <td>Wednesday</td>\n",
       "    </tr>\n",
       "    <tr>\n",
       "      <th>3</th>\n",
       "      <td>A3DD03C9</td>\n",
       "      <td>Dragons in the Sunset</td>\n",
       "      <td>Fire + Ice</td>\n",
       "      <td>folk</td>\n",
       "      <td>Saint-Petersburg</td>\n",
       "      <td>08:37:09</td>\n",
       "      <td>Monday</td>\n",
       "    </tr>\n",
       "    <tr>\n",
       "      <th>4</th>\n",
       "      <td>E2DC1FAE</td>\n",
       "      <td>Soul People</td>\n",
       "      <td>Space Echo</td>\n",
       "      <td>dance</td>\n",
       "      <td>Moscow</td>\n",
       "      <td>08:34:34</td>\n",
       "      <td>Monday</td>\n",
       "    </tr>\n",
       "  </tbody>\n",
       "</table>\n",
       "</div>"
      ],
      "text/plain": [
       "    user_id                        track            artist  genre  \\\n",
       "0  FFB692EC            Kamigata To Boots  The Mass Missile   rock   \n",
       "1  55204538  Delayed Because of Accident  Andreas Rönnberg   rock   \n",
       "2    20EC38            Funiculì funiculà       Mario Lanza    pop   \n",
       "3  A3DD03C9        Dragons in the Sunset        Fire + Ice   folk   \n",
       "4  E2DC1FAE                  Soul People        Space Echo  dance   \n",
       "\n",
       "               city      time        day  \n",
       "0  Saint-Petersburg  20:28:33  Wednesday  \n",
       "1            Moscow  14:07:09     Friday  \n",
       "2  Saint-Petersburg  20:58:07  Wednesday  \n",
       "3  Saint-Petersburg  08:37:09     Monday  \n",
       "4            Moscow  08:34:34     Monday  "
      ]
     },
     "execution_count": 13,
     "metadata": {},
     "output_type": "execute_result"
    }
   ],
   "source": [
    "df.head()"
   ]
  },
  {
   "cell_type": "markdown",
   "metadata": {
    "id": "Im2YwBEG_Zct"
   },
   "source": [
    "Ещё раз посчитайте явные дубликаты в таблице — убедитесь, что полностью от них избавились:"
   ]
  },
  {
   "cell_type": "code",
   "execution_count": 14,
   "metadata": {
    "id": "-8PuNWQ0_Zct"
   },
   "outputs": [
    {
     "data": {
      "text/plain": [
       "0"
      ]
     },
     "execution_count": 14,
     "metadata": {},
     "output_type": "execute_result"
    }
   ],
   "source": [
    "df.duplicated().sum() # проверка на отсутствие дубликатов"
   ]
  },
  {
   "cell_type": "markdown",
   "metadata": {
    "id": "QlFBsxAr_Zct"
   },
   "source": [
    "Теперь избавьтесь от неявных дубликатов в колонке `genre`. Например, название одного и того же жанра может быть записано немного по-разному. Такие ошибки тоже повлияют на результат исследования."
   ]
  },
  {
   "cell_type": "markdown",
   "metadata": {
    "id": "eSjWwsOh_Zct"
   },
   "source": [
    "Выведите на экран список уникальных названий жанров, отсортированный в алфавитном порядке. Для этого:\n",
    "* извлеките нужный столбец датафрейма, \n",
    "* примените к нему метод сортировки,\n",
    "* для отсортированного столбца вызовите метод, который вернёт уникальные значения из столбца."
   ]
  },
  {
   "cell_type": "code",
   "execution_count": 15,
   "metadata": {
    "id": "JIUcqzZN_Zct"
   },
   "outputs": [
    {
     "data": {
      "text/plain": [
       "array(['acid', 'acoustic', 'action', 'adult', 'africa', 'afrikaans',\n",
       "       'alternative', 'alternativepunk', 'ambient', 'americana',\n",
       "       'animated', 'anime', 'arabesk', 'arabic', 'arena',\n",
       "       'argentinetango', 'art', 'audiobook', 'author', 'avantgarde',\n",
       "       'axé', 'baile', 'balkan', 'beats', 'bigroom', 'black', 'bluegrass',\n",
       "       'blues', 'bollywood', 'bossa', 'brazilian', 'breakbeat', 'breaks',\n",
       "       'broadway', 'cantautori', 'cantopop', 'canzone', 'caribbean',\n",
       "       'caucasian', 'celtic', 'chamber', 'chanson', 'children', 'chill',\n",
       "       'chinese', 'choral', 'christian', 'christmas', 'classical',\n",
       "       'classicmetal', 'club', 'colombian', 'comedy', 'conjazz',\n",
       "       'contemporary', 'country', 'cuban', 'dance', 'dancehall',\n",
       "       'dancepop', 'dark', 'death', 'deep', 'deutschrock', 'deutschspr',\n",
       "       'dirty', 'disco', 'dnb', 'documentary', 'downbeat', 'downtempo',\n",
       "       'drum', 'dub', 'dubstep', 'eastern', 'easy', 'electronic',\n",
       "       'electropop', 'emo', 'entehno', 'epicmetal', 'estrada', 'ethnic',\n",
       "       'eurofolk', 'european', 'experimental', 'extrememetal', 'fado',\n",
       "       'fairytail', 'film', 'fitness', 'flamenco', 'folk', 'folklore',\n",
       "       'folkmetal', 'folkrock', 'folktronica', 'forró', 'frankreich',\n",
       "       'französisch', 'french', 'funk', 'future', 'gangsta', 'garage',\n",
       "       'german', 'ghazal', 'gitarre', 'glitch', 'gospel', 'gothic',\n",
       "       'grime', 'grunge', 'gypsy', 'handsup', \"hard'n'heavy\", 'hardcore',\n",
       "       'hardstyle', 'hardtechno', 'hip', 'hip-hop', 'hiphop',\n",
       "       'historisch', 'holiday', 'hop', 'horror', 'house', 'hymn', 'idm',\n",
       "       'independent', 'indian', 'indie', 'indipop', 'industrial',\n",
       "       'inspirational', 'instrumental', 'international', 'irish', 'jam',\n",
       "       'japanese', 'jazz', 'jewish', 'jpop', 'jungle', 'k-pop',\n",
       "       'karadeniz', 'karaoke', 'kayokyoku', 'korean', 'laiko', 'latin',\n",
       "       'latino', 'leftfield', 'local', 'lounge', 'loungeelectronic',\n",
       "       'lovers', 'malaysian', 'mandopop', 'marschmusik', 'meditative',\n",
       "       'mediterranean', 'melodic', 'metal', 'metalcore', 'mexican',\n",
       "       'middle', 'minimal', 'miscellaneous', 'modern', 'mood', 'mpb',\n",
       "       'muslim', 'native', 'neoklassik', 'neue', 'new', 'newage',\n",
       "       'newwave', 'nu', 'nujazz', 'numetal', 'oceania', 'old', 'opera',\n",
       "       'orchestral', 'other', 'piano', 'podcasts', 'pop', 'popdance',\n",
       "       'popelectronic', 'popeurodance', 'poprussian', 'post',\n",
       "       'posthardcore', 'postrock', 'power', 'progmetal', 'progressive',\n",
       "       'psychedelic', 'punjabi', 'punk', 'quebecois', 'ragga', 'ram',\n",
       "       'rancheras', 'rap', 'rave', 'reggae', 'reggaeton', 'regional',\n",
       "       'relax', 'religious', 'retro', 'rhythm', 'rnb', 'rnr', 'rock',\n",
       "       'rockabilly', 'rockalternative', 'rockindie', 'rockother',\n",
       "       'romance', 'roots', 'ruspop', 'rusrap', 'rusrock', 'russian',\n",
       "       'salsa', 'samba', 'scenic', 'schlager', 'self', 'sertanejo',\n",
       "       'shanson', 'shoegazing', 'showtunes', 'singer', 'ska', 'skarock',\n",
       "       'slow', 'smooth', 'soft', 'soul', 'soulful', 'sound', 'soundtrack',\n",
       "       'southern', 'specialty', 'speech', 'spiritual', 'sport',\n",
       "       'stonerrock', 'surf', 'swing', 'synthpop', 'synthrock',\n",
       "       'sängerportrait', 'tango', 'tanzorchester', 'taraftar', 'tatar',\n",
       "       'tech', 'techno', 'teen', 'thrash', 'top', 'traditional',\n",
       "       'tradjazz', 'trance', 'tribal', 'trip', 'triphop', 'tropical',\n",
       "       'türk', 'türkçe', 'ukrrock', 'unknown', 'urban', 'uzbek',\n",
       "       'variété', 'vi', 'videogame', 'vocal', 'western', 'world',\n",
       "       'worldbeat', 'ïîï', 'электроника'], dtype=object)"
      ]
     },
     "execution_count": 15,
     "metadata": {},
     "output_type": "execute_result"
    }
   ],
   "source": [
    "df['genre'].sort_values().unique()\n",
    " # Просмотр уникальных названий жанров"
   ]
  },
  {
   "cell_type": "markdown",
   "metadata": {
    "id": "qej-Qmuo_Zct"
   },
   "source": [
    "Просмотрите список и найдите неявные дубликаты названия `hiphop`. Это могут быть названия с ошибками или альтернативные названия того же жанра.\n",
    "\n",
    "Вы увидите следующие неявные дубликаты:\n",
    "* *hip*,\n",
    "* *hop*,\n",
    "* *hip-hop*.\n",
    "\n",
    "Чтобы очистить от них таблицу, напишите функцию `replace_wrong_genres()` с двумя параметрами: \n",
    "* `wrong_genres` — список дубликатов,\n",
    "* `correct_genre` — строка с правильным значением.\n",
    "\n",
    "Функция должна исправить колонку `genre` в таблице `df`: заменить каждое значение из списка `wrong_genres` на значение из `correct_genre`."
   ]
  },
  {
   "cell_type": "code",
   "execution_count": 16,
   "metadata": {
    "id": "ErNDkmns_Zct"
   },
   "outputs": [],
   "source": [
    "def replace_wrong_genres(wrong_genres, correct_genre): # Функция для замены неявных дубликатов\n",
    "    for index in wrong_genres:\n",
    "        df['genre'] = df['genre'].replace(wrong_genres, correct_genre)\n",
    "        \n",
    "duplicates = ['hip', 'hop', 'hip-hop']\n",
    "name = 'hiphop'"
   ]
  },
  {
   "cell_type": "markdown",
   "metadata": {
    "id": "aDoBJxbA_Zct"
   },
   "source": [
    "Вызовите `replace_wrong_genres()` и передайте ей такие аргументы, чтобы она устранила неявные дубликаты: вместо `hip`, `hop` и `hip-hop` в таблице должно быть значение `hiphop`:"
   ]
  },
  {
   "cell_type": "code",
   "execution_count": 17,
   "metadata": {
    "id": "YN5i2hpmSo09"
   },
   "outputs": [],
   "source": [
    "replace_wrong_genres(duplicates, name) # Устранение неявных дубликатов"
   ]
  },
  {
   "cell_type": "markdown",
   "metadata": {
    "id": "zQKF16_RG15m"
   },
   "source": [
    "Проверьте, что заменили неправильные названия:\n",
    "\n",
    "*   hip\n",
    "*   hop\n",
    "*   hip-hop\n",
    "\n",
    "Выведите отсортированный список уникальных значений столбца `genre`:"
   ]
  },
  {
   "cell_type": "code",
   "execution_count": 18,
   "metadata": {
    "id": "wvixALnFG15m"
   },
   "outputs": [
    {
     "data": {
      "text/plain": [
       "array(['acid', 'acoustic', 'action', 'adult', 'africa', 'afrikaans',\n",
       "       'alternative', 'alternativepunk', 'ambient', 'americana',\n",
       "       'animated', 'anime', 'arabesk', 'arabic', 'arena',\n",
       "       'argentinetango', 'art', 'audiobook', 'author', 'avantgarde',\n",
       "       'axé', 'baile', 'balkan', 'beats', 'bigroom', 'black', 'bluegrass',\n",
       "       'blues', 'bollywood', 'bossa', 'brazilian', 'breakbeat', 'breaks',\n",
       "       'broadway', 'cantautori', 'cantopop', 'canzone', 'caribbean',\n",
       "       'caucasian', 'celtic', 'chamber', 'chanson', 'children', 'chill',\n",
       "       'chinese', 'choral', 'christian', 'christmas', 'classical',\n",
       "       'classicmetal', 'club', 'colombian', 'comedy', 'conjazz',\n",
       "       'contemporary', 'country', 'cuban', 'dance', 'dancehall',\n",
       "       'dancepop', 'dark', 'death', 'deep', 'deutschrock', 'deutschspr',\n",
       "       'dirty', 'disco', 'dnb', 'documentary', 'downbeat', 'downtempo',\n",
       "       'drum', 'dub', 'dubstep', 'eastern', 'easy', 'electronic',\n",
       "       'electropop', 'emo', 'entehno', 'epicmetal', 'estrada', 'ethnic',\n",
       "       'eurofolk', 'european', 'experimental', 'extrememetal', 'fado',\n",
       "       'fairytail', 'film', 'fitness', 'flamenco', 'folk', 'folklore',\n",
       "       'folkmetal', 'folkrock', 'folktronica', 'forró', 'frankreich',\n",
       "       'französisch', 'french', 'funk', 'future', 'gangsta', 'garage',\n",
       "       'german', 'ghazal', 'gitarre', 'glitch', 'gospel', 'gothic',\n",
       "       'grime', 'grunge', 'gypsy', 'handsup', \"hard'n'heavy\", 'hardcore',\n",
       "       'hardstyle', 'hardtechno', 'hiphop', 'historisch', 'holiday',\n",
       "       'horror', 'house', 'hymn', 'idm', 'independent', 'indian', 'indie',\n",
       "       'indipop', 'industrial', 'inspirational', 'instrumental',\n",
       "       'international', 'irish', 'jam', 'japanese', 'jazz', 'jewish',\n",
       "       'jpop', 'jungle', 'k-pop', 'karadeniz', 'karaoke', 'kayokyoku',\n",
       "       'korean', 'laiko', 'latin', 'latino', 'leftfield', 'local',\n",
       "       'lounge', 'loungeelectronic', 'lovers', 'malaysian', 'mandopop',\n",
       "       'marschmusik', 'meditative', 'mediterranean', 'melodic', 'metal',\n",
       "       'metalcore', 'mexican', 'middle', 'minimal', 'miscellaneous',\n",
       "       'modern', 'mood', 'mpb', 'muslim', 'native', 'neoklassik', 'neue',\n",
       "       'new', 'newage', 'newwave', 'nu', 'nujazz', 'numetal', 'oceania',\n",
       "       'old', 'opera', 'orchestral', 'other', 'piano', 'podcasts', 'pop',\n",
       "       'popdance', 'popelectronic', 'popeurodance', 'poprussian', 'post',\n",
       "       'posthardcore', 'postrock', 'power', 'progmetal', 'progressive',\n",
       "       'psychedelic', 'punjabi', 'punk', 'quebecois', 'ragga', 'ram',\n",
       "       'rancheras', 'rap', 'rave', 'reggae', 'reggaeton', 'regional',\n",
       "       'relax', 'religious', 'retro', 'rhythm', 'rnb', 'rnr', 'rock',\n",
       "       'rockabilly', 'rockalternative', 'rockindie', 'rockother',\n",
       "       'romance', 'roots', 'ruspop', 'rusrap', 'rusrock', 'russian',\n",
       "       'salsa', 'samba', 'scenic', 'schlager', 'self', 'sertanejo',\n",
       "       'shanson', 'shoegazing', 'showtunes', 'singer', 'ska', 'skarock',\n",
       "       'slow', 'smooth', 'soft', 'soul', 'soulful', 'sound', 'soundtrack',\n",
       "       'southern', 'specialty', 'speech', 'spiritual', 'sport',\n",
       "       'stonerrock', 'surf', 'swing', 'synthpop', 'synthrock',\n",
       "       'sängerportrait', 'tango', 'tanzorchester', 'taraftar', 'tatar',\n",
       "       'tech', 'techno', 'teen', 'thrash', 'top', 'traditional',\n",
       "       'tradjazz', 'trance', 'tribal', 'trip', 'triphop', 'tropical',\n",
       "       'türk', 'türkçe', 'ukrrock', 'unknown', 'urban', 'uzbek',\n",
       "       'variété', 'vi', 'videogame', 'vocal', 'western', 'world',\n",
       "       'worldbeat', 'ïîï', 'электроника'], dtype=object)"
      ]
     },
     "execution_count": 18,
     "metadata": {},
     "output_type": "execute_result"
    }
   ],
   "source": [
    "df['genre'].sort_values().unique() # Проверка на неявные дубликаты"
   ]
  },
  {
   "cell_type": "markdown",
   "metadata": {
    "id": "jz6a9-7HQUDd"
   },
   "source": [
    "**Выводы**\n",
    "\n",
    "Предобработка обнаружила три проблемы в данных:\n",
    "\n",
    "- нарушения в стиле заголовков,\n",
    "- пропущенные значения,\n",
    "- дубликаты — явные и неявные.\n",
    "\n",
    "Вы исправили заголовки, чтобы упростить работу с таблицей. Без дубликатов исследование станет более точным.\n",
    "\n",
    "Пропущенные значения вы заменили на `'unknown'`. Ещё предстоит увидеть, не повредят ли исследованию пропуски в колонке `genre`.\n",
    "\n",
    "Теперь можно перейти к проверке гипотез. "
   ]
  },
  {
   "cell_type": "markdown",
   "metadata": {
    "id": "WttZHXH0SqKk"
   },
   "source": [
    "## Проверка гипотез"
   ]
  },
  {
   "cell_type": "markdown",
   "metadata": {
    "id": "Im936VVi_Zcu"
   },
   "source": [
    "### Сравнение поведения пользователей двух столиц"
   ]
  },
  {
   "cell_type": "markdown",
   "metadata": {
    "id": "nwt_MuaL_Zcu"
   },
   "source": [
    "Первая гипотеза утверждает, что пользователи по-разному слушают музыку в Москве и Санкт-Петербурге. Проверьте это предположение по данным о трёх днях недели — понедельнике, среде и пятнице. Для этого:\n",
    "\n",
    "* Разделите пользователей Москвы и Санкт-Петербурга\n",
    "* Сравните, сколько треков послушала каждая группа пользователей в понедельник, среду и пятницу.\n"
   ]
  },
  {
   "cell_type": "markdown",
   "metadata": {
    "id": "8Dw_YMmT_Zcu"
   },
   "source": [
    "Для тренировки сначала выполните каждый из расчётов по отдельности. \n",
    "\n",
    "Оцените активность пользователей в каждом городе. Сгруппируйте данные по городу и посчитайте прослушивания в каждой группе.\n",
    "\n"
   ]
  },
  {
   "cell_type": "code",
   "execution_count": 19,
   "metadata": {
    "id": "0_Qs96oh_Zcu"
   },
   "outputs": [
    {
     "data": {
      "text/plain": [
       "city\n",
       "Moscow              42741\n",
       "Saint-Petersburg    18512\n",
       "Name: genre, dtype: int64"
      ]
     },
     "execution_count": 19,
     "metadata": {},
     "output_type": "execute_result"
    }
   ],
   "source": [
    "df.groupby('city')['genre'].count() # Подсчёт прослушиваний в каждом городе"
   ]
  },
  {
   "cell_type": "markdown",
   "metadata": {
    "id": "dzli3w8o_Zcu"
   },
   "source": [
    "В Москве прослушиваний больше, чем в Петербурге. Из этого не следует, что московские пользователи чаще слушают музыку. Просто самих пользователей в Москве больше.\n",
    "\n",
    "Теперь сгруппируйте данные по дню недели и подсчитайте прослушивания в понедельник, среду и пятницу. Учтите, что в данных есть информация о прослушиваниях только за эти дни.\n"
   ]
  },
  {
   "cell_type": "code",
   "execution_count": 20,
   "metadata": {
    "id": "uZMKjiJz_Zcu"
   },
   "outputs": [
    {
     "data": {
      "text/plain": [
       "day\n",
       "Friday       21840\n",
       "Monday       21354\n",
       "Wednesday    18059\n",
       "Name: genre, dtype: int64"
      ]
     },
     "execution_count": 20,
     "metadata": {},
     "output_type": "execute_result"
    }
   ],
   "source": [
    "df.groupby('day')['genre'].count() # Подсчёт прослушиваний в каждый из трёх дней"
   ]
  },
  {
   "cell_type": "markdown",
   "metadata": {
    "id": "cC2tNrlL_Zcu"
   },
   "source": [
    "В среднем пользователи из двух городов менее активны по средам. Но картина может измениться, если рассмотреть каждый город в отдельности."
   ]
  },
  {
   "cell_type": "markdown",
   "metadata": {
    "id": "POzs8bGa_Zcu"
   },
   "source": [
    "Вы видели, как работает группировка по городу и по дням недели. Теперь напишите функцию, которая объединит два эти расчёта.\n",
    "\n",
    "Создайте функцию `number_tracks()`, которая посчитает прослушивания для заданного дня и города. Ей понадобятся два параметра:\n",
    "* день недели,\n",
    "* название города.\n",
    "\n",
    "В функции сохраните в переменную строки исходной таблицы, у которых значение:\n",
    "  * в колонке `day` равно параметру `day`,\n",
    "  * в колонке `city` равно параметру `city`.\n",
    "\n",
    "Для этого примените последовательную фильтрацию с логической индексацией.\n",
    "\n",
    "Затем посчитайте значения в столбце `user_id` получившейся таблицы. Результат сохраните в новую переменную. Верните эту переменную из функции."
   ]
  },
  {
   "cell_type": "code",
   "execution_count": 21,
   "metadata": {
    "id": "Nz3GdQB1_Zcu"
   },
   "outputs": [],
   "source": [
    "def number_tracks(day, city): \n",
    "    track_list = df[df['day'] == day]\n",
    "    track_list = track_list[track_list['city'] == city]\n",
    "    track_list_count = track_list['user_id'].count()\n",
    "    return track_list_count\n",
    "\n",
    "# <создание функции number_tracks()>\n",
    "# Объявляется функция с двумя параметрами: day, city.\n",
    "# В переменной track_list сохраняются те строки таблицы df, для которых \n",
    "# значение в столбце 'day' равно параметру day и одновременно значение\n",
    "# в столбце 'city' равно параметру city (используйте последовательную фильтрацию\n",
    "# с помощью логической индексации).\n",
    "# В переменной track_list_count сохраняется число значений столбца 'user_id',\n",
    "# рассчитанное методом count() для таблицы track_list.\n",
    "# Функция возвращает число - значение track_list_count.\n",
    "\n",
    "# Функция для подсчёта прослушиваний для конкретного города и дня.\n",
    "# С помощью последовательной фильтрации с логической индексацией она \n",
    "# сначала получит из исходной таблицы строки с нужным днём,\n",
    "# затем из результата отфильтрует строки с нужным городом,\n",
    "# методом count() посчитает количество значений в колонке user_id. \n",
    "# Это количество функция вернёт в качестве результата"
   ]
  },
  {
   "cell_type": "markdown",
   "metadata": {
    "id": "ytf7xFrFJQ2r"
   },
   "source": [
    "Вызовите `number_tracks()` шесть раз, меняя значение параметров — так, чтобы получить данные для каждого города в каждый из трёх дней."
   ]
  },
  {
   "cell_type": "code",
   "execution_count": 22,
   "metadata": {
    "id": "rJcRATNQ_Zcu"
   },
   "outputs": [
    {
     "data": {
      "text/plain": [
       "15740"
      ]
     },
     "execution_count": 22,
     "metadata": {},
     "output_type": "execute_result"
    }
   ],
   "source": [
    "number_tracks('Monday', 'Moscow') # количество прослушиваний в Москве по понедельникам"
   ]
  },
  {
   "cell_type": "code",
   "execution_count": 23,
   "metadata": {
    "id": "hq_ncZ5T_Zcu"
   },
   "outputs": [
    {
     "data": {
      "text/plain": [
       "5614"
      ]
     },
     "execution_count": 23,
     "metadata": {},
     "output_type": "execute_result"
    }
   ],
   "source": [
    "number_tracks('Monday', 'Saint-Petersburg')# количество прослушиваний в Санкт-Петербурге по понедельникам"
   ]
  },
  {
   "cell_type": "code",
   "execution_count": 24,
   "metadata": {
    "id": "_NTy2VPU_Zcu"
   },
   "outputs": [
    {
     "data": {
      "text/plain": [
       "11056"
      ]
     },
     "execution_count": 24,
     "metadata": {},
     "output_type": "execute_result"
    }
   ],
   "source": [
    "number_tracks('Wednesday', 'Moscow')# количество прослушиваний в Москве по средам"
   ]
  },
  {
   "cell_type": "code",
   "execution_count": 25,
   "metadata": {
    "id": "j2y3TAwo_Zcu"
   },
   "outputs": [
    {
     "data": {
      "text/plain": [
       "7003"
      ]
     },
     "execution_count": 25,
     "metadata": {},
     "output_type": "execute_result"
    }
   ],
   "source": [
    "number_tracks('Wednesday', 'Saint-Petersburg')# количество прослушиваний в Санкт-Петербурге по средам"
   ]
  },
  {
   "cell_type": "code",
   "execution_count": 26,
   "metadata": {
    "id": "vYDw5u_K_Zcu"
   },
   "outputs": [
    {
     "data": {
      "text/plain": [
       "15945"
      ]
     },
     "execution_count": 26,
     "metadata": {},
     "output_type": "execute_result"
    }
   ],
   "source": [
    "number_tracks('Friday', 'Moscow')# количество прослушиваний в Москве по пятницам"
   ]
  },
  {
   "cell_type": "code",
   "execution_count": 27,
   "metadata": {
    "id": "8_yzFtW3_Zcu"
   },
   "outputs": [
    {
     "data": {
      "text/plain": [
       "5895"
      ]
     },
     "execution_count": 27,
     "metadata": {},
     "output_type": "execute_result"
    }
   ],
   "source": [
    "number_tracks('Friday', 'Saint-Petersburg')# количество прослушиваний в Санкт-Петербурге по пятницам"
   ]
  },
  {
   "cell_type": "markdown",
   "metadata": {
    "id": "7QXffbO-_Zcu"
   },
   "source": [
    "Создайте c помощью конструктора `pd.DataFrame` таблицу, где\n",
    "* названия колонок — `['city', 'monday', 'wednesday', 'friday']`;\n",
    "* данные — результаты, которые вы получили с помощью `number_tracks`."
   ]
  },
  {
   "cell_type": "code",
   "execution_count": 28,
   "metadata": {
    "id": "APAcLpOr_Zcu"
   },
   "outputs": [
    {
     "data": {
      "text/html": [
       "<div>\n",
       "<style scoped>\n",
       "    .dataframe tbody tr th:only-of-type {\n",
       "        vertical-align: middle;\n",
       "    }\n",
       "\n",
       "    .dataframe tbody tr th {\n",
       "        vertical-align: top;\n",
       "    }\n",
       "\n",
       "    .dataframe thead th {\n",
       "        text-align: right;\n",
       "    }\n",
       "</style>\n",
       "<table border=\"1\" class=\"dataframe\">\n",
       "  <thead>\n",
       "    <tr style=\"text-align: right;\">\n",
       "      <th></th>\n",
       "      <th>city</th>\n",
       "      <th>monday</th>\n",
       "      <th>wednesday</th>\n",
       "      <th>friday</th>\n",
       "    </tr>\n",
       "  </thead>\n",
       "  <tbody>\n",
       "    <tr>\n",
       "      <th>0</th>\n",
       "      <td>Moscow</td>\n",
       "      <td>15740</td>\n",
       "      <td>11056</td>\n",
       "      <td>15945</td>\n",
       "    </tr>\n",
       "    <tr>\n",
       "      <th>1</th>\n",
       "      <td>Saint-Petersburg</td>\n",
       "      <td>5614</td>\n",
       "      <td>7003</td>\n",
       "      <td>5895</td>\n",
       "    </tr>\n",
       "  </tbody>\n",
       "</table>\n",
       "</div>"
      ],
      "text/plain": [
       "               city  monday  wednesday  friday\n",
       "0            Moscow   15740      11056   15945\n",
       "1  Saint-Petersburg    5614       7003    5895"
      ]
     },
     "execution_count": 28,
     "metadata": {},
     "output_type": "execute_result"
    }
   ],
   "source": [
    "data = [\n",
    "    ['Moscow', 15740, 11056, 15945],\n",
    "    ['Saint-Petersburg', 5614, 7003, 5895]\n",
    "]\n",
    "columns = ['city', 'monday', 'wednesday', 'friday']\n",
    "\n",
    "table = pd.DataFrame(data = data, columns = columns) \n",
    "table # Таблица с результатами"
   ]
  },
  {
   "cell_type": "markdown",
   "metadata": {
    "id": "-EgPIHYu_Zcu"
   },
   "source": [
    "**Выводы**\n",
    "\n",
    "Данные показывают разницу поведения пользователей:\n",
    "\n",
    "- В Москве пик прослушиваний приходится на понедельник и пятницу, а в среду заметен спад.\n",
    "- В Петербурге, наоборот, больше слушают музыку по средам. Активность в понедельник и пятницу здесь почти в равной мере уступает среде.\n",
    "\n",
    "Значит, данные говорят в пользу первой гипотезы."
   ]
  },
  {
   "cell_type": "markdown",
   "metadata": {
    "id": "atZAxtq4_Zcu"
   },
   "source": [
    "### Музыка в начале и в конце недели"
   ]
  },
  {
   "cell_type": "markdown",
   "metadata": {
    "id": "eXrQqXFH_Zcu"
   },
   "source": [
    "Согласно второй гипотезе, утром в понедельник в Москве преобладают одни жанры, а в Петербурге — другие. Так же и вечером пятницы преобладают разные жанры — в зависимости от города."
   ]
  },
  {
   "cell_type": "markdown",
   "metadata": {
    "id": "S8UcW6Hw_Zcu"
   },
   "source": [
    "Сохраните таблицы с данными в две переменные:\n",
    "* по Москве — в `moscow_general`;\n",
    "* по Санкт-Петербургу — в `spb_general`."
   ]
  },
  {
   "cell_type": "code",
   "execution_count": 29,
   "metadata": {
    "id": "qeaFfM_P_Zcu"
   },
   "outputs": [],
   "source": [
    "moscow_general = df[df['city'] == 'Moscow']\n",
    "# получение таблицы moscow_general из тех строк таблицы df, \n",
    "# для которых значение в столбце 'city' равно 'Moscow'\n"
   ]
  },
  {
   "cell_type": "code",
   "execution_count": 30,
   "metadata": {
    "id": "ORaVRKto_Zcu"
   },
   "outputs": [],
   "source": [
    "spb_general= df[df['city'] == 'Saint-Petersburg']\n",
    "# получение таблицы spb_general из тех строк таблицы df,\n",
    "# для которых значение в столбце 'city' равно 'Saint-Petersburg'\n"
   ]
  },
  {
   "cell_type": "markdown",
   "metadata": {
    "id": "MEJV-CX2_Zcu"
   },
   "source": [
    "Создайте функцию `genre_weekday()` с четырьмя параметрами:\n",
    "* таблица (датафрейм) с данными,\n",
    "* день недели,\n",
    "* начальная временная метка в формате 'hh:mm', \n",
    "* последняя временная метка в формате 'hh:mm'.\n",
    "\n",
    "Функция должна вернуть информацию о топ-10 жанров тех треков, которые прослушивали в указанный день, в промежутке между двумя отметками времени."
   ]
  },
  {
   "cell_type": "code",
   "execution_count": 31,
   "metadata": {
    "id": "laJT9BYl_Zcu"
   },
   "outputs": [],
   "source": [
    "def genre_weekday(table, day, time1, time2):\n",
    "    genre_df = table[table['day'] == day]\n",
    "    genre_df = genre_df[genre_df['time'] > time1]\n",
    "    genre_df = genre_df[genre_df['time'] < time2]\n",
    "    genre_df_count = genre_df.groupby('genre')['genre'].count()\n",
    "    genre_df_sorted = genre_df_count.sort_values(ascending = False)\n",
    "    return genre_df_sorted.head(10)\n",
    "\n",
    "# Объявление функции genre_weekday() с параметрами table, day, time1, time2,\n",
    "# которая возвращает информацию о самых популярных жанрах в указанный день в\n",
    "# заданное время:\n",
    "# 1) в переменную genre_df сохраняются те строки переданного датафрейма table, для\n",
    "#    которых одновременно:\n",
    "#    - значение в столбце day равно значению аргумента day\n",
    "#    - значение в столбце time больше значения аргумента time1\n",
    "#    - значение в столбце time меньше значения аргумента time2\n",
    "#    Используйте последовательную фильтрацию с помощью логической индексации.\n",
    "# 2) сгруппировать датафрейм genre_df по столбцу genre, взять один из его\n",
    "#    столбцов и посчитать методом count() количество записей для каждого из\n",
    "#    присутствующих жанров, получившийся Series записать в переменную\n",
    "#    genre_df_count\n",
    "# 3) отсортировать genre_df_count по убыванию встречаемости и сохранить\n",
    "#    в переменную genre_df_sorted\n",
    "# 4) вернуть Series из 10 первых значений genre_df_sorted, это будут топ-10\n",
    "#    популярных жанров (в указанный день, в заданное время)"
   ]
  },
  {
   "cell_type": "markdown",
   "metadata": {
    "id": "la2s2_PF_Zcu"
   },
   "source": [
    "Cравните результаты функции `genre_weekday()` для Москвы и Санкт-Петербурга в понедельник утром (с 7:00 до 11:00) и в пятницу вечером (с 17:00 до 23:00):"
   ]
  },
  {
   "cell_type": "code",
   "execution_count": 32,
   "metadata": {
    "id": "yz7itPUQ_Zcu"
   },
   "outputs": [
    {
     "data": {
      "text/plain": [
       "genre\n",
       "pop            781\n",
       "dance          549\n",
       "electronic     480\n",
       "rock           474\n",
       "hiphop         286\n",
       "ruspop         186\n",
       "world          181\n",
       "rusrap         175\n",
       "alternative    164\n",
       "unknown        161\n",
       "Name: genre, dtype: int64"
      ]
     },
     "execution_count": 32,
     "metadata": {},
     "output_type": "execute_result"
    }
   ],
   "source": [
    "genre_weekday(moscow_general, 'Monday', '07:00', '11:00')\n",
    "# вызов функции для утра понедельника в Москве (вместо df — таблица moscow_general)\n",
    "# объекты, хранящие время, являются строками и сравниваются как строки\n",
    "# пример вызова: genre_weekday(moscow_general, 'Monday', '07:00', '11:00')"
   ]
  },
  {
   "cell_type": "code",
   "execution_count": 33,
   "metadata": {
    "id": "kwUcHPdy_Zcu"
   },
   "outputs": [
    {
     "data": {
      "text/plain": [
       "genre\n",
       "pop            218\n",
       "dance          182\n",
       "rock           162\n",
       "electronic     147\n",
       "hiphop          80\n",
       "ruspop          64\n",
       "alternative     58\n",
       "rusrap          55\n",
       "jazz            44\n",
       "classical       40\n",
       "Name: genre, dtype: int64"
      ]
     },
     "execution_count": 33,
     "metadata": {},
     "output_type": "execute_result"
    }
   ],
   "source": [
    "genre_weekday(spb_general, 'Monday', '07:00', '11:00')\n",
    "# вызов функции для утра понедельника в Петербурге (вместо df — таблица spb_general)"
   ]
  },
  {
   "cell_type": "code",
   "execution_count": 34,
   "metadata": {
    "id": "EzXVRE1o_Zcu"
   },
   "outputs": [
    {
     "data": {
      "text/plain": [
       "genre\n",
       "pop            713\n",
       "rock           517\n",
       "dance          495\n",
       "electronic     482\n",
       "hiphop         273\n",
       "world          208\n",
       "ruspop         170\n",
       "alternative    163\n",
       "classical      163\n",
       "rusrap         142\n",
       "Name: genre, dtype: int64"
      ]
     },
     "execution_count": 34,
     "metadata": {},
     "output_type": "execute_result"
    }
   ],
   "source": [
    "genre_weekday(moscow_general, 'Friday', '17:00', '23:00')\n",
    "# вызов функции для вечера пятницы в Москве"
   ]
  },
  {
   "cell_type": "code",
   "execution_count": 35,
   "metadata": {
    "id": "JZaEKu5v_Zcu"
   },
   "outputs": [
    {
     "data": {
      "text/plain": [
       "genre\n",
       "pop            256\n",
       "electronic     216\n",
       "rock           216\n",
       "dance          210\n",
       "hiphop          97\n",
       "alternative     63\n",
       "jazz            61\n",
       "classical       60\n",
       "rusrap          59\n",
       "world           54\n",
       "Name: genre, dtype: int64"
      ]
     },
     "execution_count": 35,
     "metadata": {},
     "output_type": "execute_result"
    }
   ],
   "source": [
    "genre_weekday(spb_general, 'Friday', '17:00', '23:00')\n",
    "# вызов функции для вечера пятницы в Петербурге"
   ]
  },
  {
   "cell_type": "markdown",
   "metadata": {
    "id": "wrCe4MNX_Zcu"
   },
   "source": [
    "**Выводы**\n",
    "\n",
    "Если сравнить топ-10 жанров в понедельник утром, можно сделать такие выводы:\n",
    "\n",
    "1. В Москве и Петербурге слушают похожую музыку. Единственное отличие — в московский рейтинг вошёл жанр “world”, а в петербургский — джаз и классика.\n",
    "\n",
    "2. В Москве пропущенных значений оказалось так много, что значение `'unknown'` заняло десятое место среди самых популярных жанров. Значит, пропущенные значения занимают существенную долю в данных и угрожают достоверности исследования.\n",
    "\n",
    "Вечером в пятницу топ-10 в целом остётся тем же самым, за исключением, что в Москве классика потеснила значение `'unknown'`, а в Санкт-Петербурге из списка исчез “ruspop”, а вместо него появился жанр “world”.\n",
    "Таким образом, вторая гипотеза подтвердилась лишь частично:\n",
    "* Пользователи слушают похожую музыку в начале недели и в конце c незначительными изменениями.\n",
    "* Разница между Москвой и Петербургом не слишком выражена. В Москве чаще слушают русскую популярную музыку, в Петербурге — джаз.\n",
    "\n",
    "Однако пропуски в данных ставят под сомнение этот результат. В Москве их так много, что рейтинг топ-10 в понедельник утром мог бы выглядеть иначе, если бы не утерянные  данные о жанрах."
   ]
  },
  {
   "cell_type": "markdown",
   "metadata": {
    "id": "JolODAqr_Zcu"
   },
   "source": [
    "### Жанровые предпочтения в Москве и Петербурге\n",
    "\n",
    "Гипотеза: Петербург — столица рэпа, музыку этого жанра там слушают чаще, чем в Москве.  А Москва — город контрастов, в котором, тем не менее, преобладает поп-музыка."
   ]
  },
  {
   "cell_type": "markdown",
   "metadata": {
    "id": "DlegSvaT_Zcu"
   },
   "source": [
    "Сгруппируйте таблицу `moscow_general` по жанру и посчитайте прослушивания треков каждого жанра методом `count()`. Затем отсортируйте результат в порядке убывания и сохраните его в таблице `moscow_genres`."
   ]
  },
  {
   "cell_type": "code",
   "execution_count": 36,
   "metadata": {
    "id": "r19lIPke_Zcu"
   },
   "outputs": [],
   "source": [
    "moscow_genres = moscow_general.groupby('genre')['genre'].count().sort_values(ascending = False)\n",
    "# одной строкой: группировка таблицы moscow_general по столбцу 'genre', \n",
    "# подсчёт числа значений 'genre' в этой группировке методом count(), \n",
    "# сортировка получившегося Series в порядке убывания и сохранение в moscow_genres"
   ]
  },
  {
   "cell_type": "markdown",
   "metadata": {
    "id": "6kMuomxTiIr8"
   },
   "source": [
    "Выведите на экран первые десять строк `moscow_genres`:"
   ]
  },
  {
   "cell_type": "code",
   "execution_count": 37,
   "metadata": {
    "id": "WhCSooF8_Zcv"
   },
   "outputs": [
    {
     "data": {
      "text/plain": [
       "genre\n",
       "pop            5892\n",
       "dance          4435\n",
       "rock           3965\n",
       "electronic     3786\n",
       "hiphop         2096\n",
       "classical      1616\n",
       "world          1432\n",
       "alternative    1379\n",
       "ruspop         1372\n",
       "rusrap         1161\n",
       "Name: genre, dtype: int64"
      ]
     },
     "execution_count": 37,
     "metadata": {},
     "output_type": "execute_result"
    }
   ],
   "source": [
    "moscow_genres.head(10)# просмотр первых 10 строк moscow_genres"
   ]
  },
  {
   "cell_type": "markdown",
   "metadata": {
    "id": "cnPG2vnN_Zcv"
   },
   "source": [
    "Теперь повторите то же и для Петербурга.\n",
    "\n",
    "Сгруппируйте таблицу `spb_general` по жанру. Посчитайте прослушивания треков каждого жанра. Результат отсортируйте в порядке убывания и сохраните в таблице `spb_genres`:\n"
   ]
  },
  {
   "cell_type": "code",
   "execution_count": 38,
   "metadata": {
    "id": "gluLIpE7_Zcv"
   },
   "outputs": [],
   "source": [
    "spb_genres = spb_general.groupby('genre')['genre'].count().sort_values(ascending = False)\n",
    "# одной строкой: группировка таблицы spb_general по столбцу 'genre', \n",
    "# подсчёт числа значений 'genre' в этой группировке методом count(), \n",
    "# сортировка получившегося Series в порядке убывания и сохранение в spb_genres"
   ]
  },
  {
   "cell_type": "markdown",
   "metadata": {
    "id": "5Doha_ODgyQ8"
   },
   "source": [
    "Выведите на экран первые десять строк `spb_genres`:"
   ]
  },
  {
   "cell_type": "code",
   "execution_count": 39,
   "metadata": {
    "id": "uaGJHjVU_Zcv"
   },
   "outputs": [
    {
     "data": {
      "text/plain": [
       "genre\n",
       "pop            2431\n",
       "dance          1932\n",
       "rock           1879\n",
       "electronic     1736\n",
       "hiphop          960\n",
       "alternative     649\n",
       "classical       646\n",
       "rusrap          564\n",
       "ruspop          538\n",
       "world           515\n",
       "Name: genre, dtype: int64"
      ]
     },
     "execution_count": 39,
     "metadata": {},
     "output_type": "execute_result"
    }
   ],
   "source": [
    "spb_genres.head(10) # просмотр первых 10 строк spb_genres"
   ]
  },
  {
   "cell_type": "markdown",
   "metadata": {
    "id": "RY51YJYu_Zcv"
   },
   "source": [
    "**Выводы**"
   ]
  },
  {
   "cell_type": "markdown",
   "metadata": {
    "id": "nVhnJEm__Zcv"
   },
   "source": [
    "Гипотеза частично подтвердилась:\n",
    "* Поп-музыка — самый популярный жанр в Москве, как и предполагала гипотеза. Более того, в топ-10 жанров встречается близкий жанр — русская популярная музыка.\n",
    "* Вопреки ожиданиям, рэп одинаково популярен в Москве и Петербурге. \n"
   ]
  },
  {
   "cell_type": "markdown",
   "metadata": {
    "id": "ykKQ0N65_Zcv"
   },
   "source": [
    "## Итоги исследования"
   ]
  },
  {
   "cell_type": "markdown",
   "metadata": {
    "id": "tjUwbHb3_Zcv"
   },
   "source": [
    "Вы проверили три гипотезы и установили:\n",
    "\n",
    "1. День недели по-разному влияет на активность пользователей в Москве и Петербурге. \n",
    "\n",
    "Первая гипотеза полностью подтвердилась.\n",
    "\n",
    "2. Музыкальные предпочтения не сильно меняются в течение недели — будь то Москва или Петербург. Небольшие различия заметны в начале недели, по понедельникам:\n",
    "* в Москве слушают музыку жанра “world”,\n",
    "* в Петербурге — джаз и классику.\n",
    "\n",
    "Таким образом, вторая гипотеза подтвердилась лишь отчасти. Этот результат мог оказаться иным, если бы не пропуски в данных.\n",
    "\n",
    "3. Во вкусах пользователей Москвы и Петербурга больше общего чем различий. Вопреки ожиданиям, предпочтения жанров в Петербурге напоминают московские.\n",
    "\n",
    "Третья гипотеза не подтвердилась. Если различия в предпочтениях и существуют, на основной массе пользователей они незаметны."
   ]
  }
 ],
 "metadata": {
  "ExecuteTimeLog": [
   {
    "duration": 401,
    "start_time": "2022-03-24T08:06:59.357Z"
   },
   {
    "duration": 166,
    "start_time": "2022-03-24T08:08:35.499Z"
   },
   {
    "duration": 21,
    "start_time": "2022-03-24T08:08:45.151Z"
   },
   {
    "duration": 8,
    "start_time": "2022-03-24T08:08:56.090Z"
   },
   {
    "duration": 32,
    "start_time": "2022-03-24T08:09:21.136Z"
   },
   {
    "duration": 12,
    "start_time": "2022-03-24T08:09:59.744Z"
   },
   {
    "duration": 72,
    "start_time": "2022-03-24T08:15:11.703Z"
   },
   {
    "duration": 7,
    "start_time": "2022-03-24T08:15:18.241Z"
   },
   {
    "duration": 7,
    "start_time": "2022-03-24T08:16:32.371Z"
   },
   {
    "duration": 8,
    "start_time": "2022-03-24T08:16:48.234Z"
   },
   {
    "duration": 8,
    "start_time": "2022-03-24T08:17:16.988Z"
   },
   {
    "duration": 9,
    "start_time": "2022-03-24T08:17:43.068Z"
   },
   {
    "duration": 4,
    "start_time": "2022-03-24T08:18:11.079Z"
   },
   {
    "duration": 5,
    "start_time": "2022-03-24T08:18:42.481Z"
   },
   {
    "duration": 4,
    "start_time": "2022-03-24T08:20:31.701Z"
   },
   {
    "duration": 11,
    "start_time": "2022-03-24T08:20:34.785Z"
   },
   {
    "duration": 5,
    "start_time": "2022-03-24T08:20:36.790Z"
   },
   {
    "duration": 29,
    "start_time": "2022-03-24T08:23:53.580Z"
   },
   {
    "duration": 10,
    "start_time": "2022-03-24T09:09:03.443Z"
   },
   {
    "duration": 15706,
    "start_time": "2022-03-24T09:09:23.796Z"
   },
   {
    "duration": 0,
    "start_time": "2022-03-24T09:09:39.504Z"
   },
   {
    "duration": 2797,
    "start_time": "2022-03-24T09:13:59.095Z"
   },
   {
    "duration": 28,
    "start_time": "2022-03-24T09:14:26.296Z"
   },
   {
    "duration": 29,
    "start_time": "2022-03-24T09:14:41.059Z"
   },
   {
    "duration": 26,
    "start_time": "2022-03-24T09:14:45.502Z"
   },
   {
    "duration": 7,
    "start_time": "2022-03-24T09:26:07.801Z"
   },
   {
    "duration": 2882,
    "start_time": "2022-03-24T09:26:22.915Z"
   },
   {
    "duration": 27,
    "start_time": "2022-03-24T09:26:29.476Z"
   },
   {
    "duration": 34,
    "start_time": "2022-03-24T09:28:46.996Z"
   },
   {
    "duration": 34,
    "start_time": "2022-03-24T09:28:51.728Z"
   },
   {
    "duration": 33,
    "start_time": "2022-03-24T09:28:55.683Z"
   },
   {
    "duration": 27,
    "start_time": "2022-03-24T09:28:58.623Z"
   },
   {
    "duration": 16,
    "start_time": "2022-03-24T09:29:42.826Z"
   },
   {
    "duration": 27,
    "start_time": "2022-03-24T09:29:48.998Z"
   },
   {
    "duration": 33,
    "start_time": "2022-03-24T09:30:09.718Z"
   },
   {
    "duration": 26,
    "start_time": "2022-03-24T09:30:11.815Z"
   },
   {
    "duration": 19,
    "start_time": "2022-03-24T09:31:23.451Z"
   },
   {
    "duration": 27,
    "start_time": "2022-03-24T09:31:25.459Z"
   },
   {
    "duration": 20,
    "start_time": "2022-03-24T09:32:07.048Z"
   },
   {
    "duration": 27,
    "start_time": "2022-03-24T09:32:09.364Z"
   },
   {
    "duration": 74,
    "start_time": "2022-03-24T09:32:42.452Z"
   },
   {
    "duration": 87,
    "start_time": "2022-03-24T09:34:15.336Z"
   },
   {
    "duration": 69,
    "start_time": "2022-03-24T09:34:20.562Z"
   },
   {
    "duration": 55,
    "start_time": "2022-03-24T09:40:36.641Z"
   },
   {
    "duration": 176,
    "start_time": "2022-03-24T09:42:59.058Z"
   },
   {
    "duration": 173,
    "start_time": "2022-03-24T09:43:09.010Z"
   },
   {
    "duration": 7,
    "start_time": "2022-03-24T09:44:26.268Z"
   },
   {
    "duration": 188,
    "start_time": "2022-03-24T09:44:29.655Z"
   },
   {
    "duration": 174,
    "start_time": "2022-03-24T09:44:42.983Z"
   },
   {
    "duration": 8,
    "start_time": "2022-03-24T09:44:55.332Z"
   },
   {
    "duration": 8,
    "start_time": "2022-03-24T09:46:55.724Z"
   },
   {
    "duration": 9,
    "start_time": "2022-03-24T09:47:06.013Z"
   },
   {
    "duration": 52,
    "start_time": "2022-03-24T09:51:14.232Z"
   },
   {
    "duration": 54,
    "start_time": "2022-03-24T09:51:51.525Z"
   },
   {
    "duration": 53,
    "start_time": "2022-03-24T09:52:00.381Z"
   },
   {
    "duration": 9,
    "start_time": "2022-03-24T09:53:16.399Z"
   },
   {
    "duration": 8,
    "start_time": "2022-03-24T09:53:58.475Z"
   },
   {
    "duration": 10,
    "start_time": "2022-03-24T09:54:24.314Z"
   },
   {
    "duration": 4,
    "start_time": "2022-03-24T10:03:11.679Z"
   },
   {
    "duration": 20,
    "start_time": "2022-03-24T10:03:44.276Z"
   },
   {
    "duration": 11,
    "start_time": "2022-03-24T10:04:02.526Z"
   },
   {
    "duration": 4,
    "start_time": "2022-03-24T10:10:31.448Z"
   },
   {
    "duration": 7,
    "start_time": "2022-03-24T10:10:55.541Z"
   },
   {
    "duration": 8,
    "start_time": "2022-03-24T10:11:01.032Z"
   },
   {
    "duration": 19,
    "start_time": "2022-03-24T10:11:24.981Z"
   },
   {
    "duration": 11,
    "start_time": "2022-03-24T10:11:28.214Z"
   },
   {
    "duration": 20,
    "start_time": "2022-03-24T10:11:38.441Z"
   },
   {
    "duration": 11,
    "start_time": "2022-03-24T10:11:41.310Z"
   },
   {
    "duration": 32,
    "start_time": "2022-03-24T10:14:07.092Z"
   },
   {
    "duration": 22,
    "start_time": "2022-03-24T10:14:13.250Z"
   },
   {
    "duration": 182,
    "start_time": "2022-03-24T10:15:31.254Z"
   },
   {
    "duration": 29,
    "start_time": "2022-03-24T10:15:44.047Z"
   },
   {
    "duration": 4,
    "start_time": "2022-03-24T10:17:00.494Z"
   },
   {
    "duration": 18,
    "start_time": "2022-03-24T10:17:02.851Z"
   },
   {
    "duration": 10,
    "start_time": "2022-03-24T10:17:47.914Z"
   },
   {
    "duration": 11,
    "start_time": "2022-03-24T10:17:51.646Z"
   },
   {
    "duration": 82,
    "start_time": "2022-03-24T10:21:52.992Z"
   },
   {
    "duration": 168,
    "start_time": "2022-03-24T10:23:45.750Z"
   },
   {
    "duration": 46,
    "start_time": "2022-03-24T10:23:53.431Z"
   },
   {
    "duration": 13,
    "start_time": "2022-03-24T10:24:07.546Z"
   },
   {
    "duration": 13,
    "start_time": "2022-03-24T10:25:04.454Z"
   },
   {
    "duration": 12,
    "start_time": "2022-03-24T10:26:21.167Z"
   },
   {
    "duration": 12,
    "start_time": "2022-03-24T10:26:25.680Z"
   },
   {
    "duration": 12,
    "start_time": "2022-03-24T10:26:38.911Z"
   },
   {
    "duration": 167,
    "start_time": "2022-03-24T12:15:44.470Z"
   },
   {
    "duration": 5,
    "start_time": "2022-03-24T12:16:32.570Z"
   },
   {
    "duration": 4,
    "start_time": "2022-03-24T12:16:41.733Z"
   },
   {
    "duration": 2755,
    "start_time": "2022-03-24T12:16:44.822Z"
   },
   {
    "duration": 0,
    "start_time": "2022-03-24T12:17:32.593Z"
   },
   {
    "duration": 2683,
    "start_time": "2022-03-24T12:17:52.761Z"
   },
   {
    "duration": 3,
    "start_time": "2022-03-24T12:20:08.094Z"
   },
   {
    "duration": 8091,
    "start_time": "2022-03-24T12:20:12.785Z"
   },
   {
    "duration": 3,
    "start_time": "2022-03-24T12:21:24.838Z"
   },
   {
    "duration": 6088,
    "start_time": "2022-03-24T12:21:27.744Z"
   },
   {
    "duration": 2729,
    "start_time": "2022-03-24T12:22:01.392Z"
   },
   {
    "duration": 4,
    "start_time": "2022-03-24T12:22:34.986Z"
   },
   {
    "duration": 2770,
    "start_time": "2022-03-24T12:22:37.475Z"
   },
   {
    "duration": 4,
    "start_time": "2022-03-24T12:24:08.348Z"
   },
   {
    "duration": 4680,
    "start_time": "2022-03-24T12:24:11.483Z"
   },
   {
    "duration": 3,
    "start_time": "2022-03-24T12:24:22.007Z"
   },
   {
    "duration": 2739,
    "start_time": "2022-03-24T12:24:26.195Z"
   },
   {
    "duration": 2646,
    "start_time": "2022-03-24T12:24:46.904Z"
   },
   {
    "duration": 4,
    "start_time": "2022-03-24T12:29:46.628Z"
   },
   {
    "duration": 2742,
    "start_time": "2022-03-24T12:29:49.129Z"
   },
   {
    "duration": 4,
    "start_time": "2022-03-24T12:30:26.803Z"
   },
   {
    "duration": 59,
    "start_time": "2022-03-24T12:30:28.842Z"
   },
   {
    "duration": 4,
    "start_time": "2022-03-24T12:30:45.470Z"
   },
   {
    "duration": 29,
    "start_time": "2022-03-24T12:30:47.754Z"
   },
   {
    "duration": 3,
    "start_time": "2022-03-24T12:31:07.163Z"
   },
   {
    "duration": 79,
    "start_time": "2022-03-24T12:31:09.117Z"
   },
   {
    "duration": 4,
    "start_time": "2022-03-24T12:31:18.798Z"
   },
   {
    "duration": 26,
    "start_time": "2022-03-24T12:31:20.615Z"
   },
   {
    "duration": 3,
    "start_time": "2022-03-24T12:32:23.584Z"
   },
   {
    "duration": 29,
    "start_time": "2022-03-24T12:32:25.384Z"
   },
   {
    "duration": 4,
    "start_time": "2022-03-24T12:33:15.976Z"
   },
   {
    "duration": 25,
    "start_time": "2022-03-24T12:33:17.963Z"
   },
   {
    "duration": 4,
    "start_time": "2022-03-24T12:33:56.252Z"
   },
   {
    "duration": 25,
    "start_time": "2022-03-24T12:33:57.930Z"
   },
   {
    "duration": 22,
    "start_time": "2022-03-24T12:35:54.119Z"
   },
   {
    "duration": 24,
    "start_time": "2022-03-24T12:35:55.324Z"
   },
   {
    "duration": 22,
    "start_time": "2022-03-24T12:35:56.856Z"
   },
   {
    "duration": 26,
    "start_time": "2022-03-24T12:35:58.245Z"
   },
   {
    "duration": 23,
    "start_time": "2022-03-24T12:35:59.206Z"
   },
   {
    "duration": 4,
    "start_time": "2022-03-24T12:36:33.184Z"
   },
   {
    "duration": 24,
    "start_time": "2022-03-24T12:36:35.286Z"
   },
   {
    "duration": 23,
    "start_time": "2022-03-24T12:37:07.001Z"
   },
   {
    "duration": 3,
    "start_time": "2022-03-24T12:37:16.257Z"
   },
   {
    "duration": 29,
    "start_time": "2022-03-24T12:37:17.430Z"
   },
   {
    "duration": 5,
    "start_time": "2022-03-24T12:37:27.281Z"
   },
   {
    "duration": 23,
    "start_time": "2022-03-24T12:37:28.819Z"
   },
   {
    "duration": 22,
    "start_time": "2022-03-24T12:37:31.164Z"
   },
   {
    "duration": 4,
    "start_time": "2022-03-24T12:45:05.999Z"
   },
   {
    "duration": 19,
    "start_time": "2022-03-24T12:45:07.523Z"
   },
   {
    "duration": 17,
    "start_time": "2022-03-24T12:45:09.579Z"
   },
   {
    "duration": 17,
    "start_time": "2022-03-24T12:45:10.954Z"
   },
   {
    "duration": 16,
    "start_time": "2022-03-24T12:45:12.342Z"
   },
   {
    "duration": 18,
    "start_time": "2022-03-24T12:45:12.904Z"
   },
   {
    "duration": 17,
    "start_time": "2022-03-24T12:45:13.316Z"
   },
   {
    "duration": 8,
    "start_time": "2022-03-24T12:48:43.320Z"
   },
   {
    "duration": 4,
    "start_time": "2022-03-24T12:49:12.693Z"
   },
   {
    "duration": 4,
    "start_time": "2022-03-24T12:49:15.380Z"
   },
   {
    "duration": 9,
    "start_time": "2022-03-24T12:49:39.824Z"
   },
   {
    "duration": 12,
    "start_time": "2022-03-24T12:52:46.292Z"
   },
   {
    "duration": 12,
    "start_time": "2022-03-24T12:53:06.961Z"
   },
   {
    "duration": 7,
    "start_time": "2022-03-24T13:09:23.151Z"
   },
   {
    "duration": 9,
    "start_time": "2022-03-24T13:09:25.003Z"
   },
   {
    "duration": 23,
    "start_time": "2022-03-24T13:09:27.659Z"
   },
   {
    "duration": 20,
    "start_time": "2022-03-24T13:09:51.855Z"
   },
   {
    "duration": 4,
    "start_time": "2022-03-24T13:10:26.131Z"
   },
   {
    "duration": 24,
    "start_time": "2022-03-24T13:10:27.783Z"
   },
   {
    "duration": 4,
    "start_time": "2022-03-24T13:11:21.593Z"
   },
   {
    "duration": 18,
    "start_time": "2022-03-24T13:11:23.728Z"
   },
   {
    "duration": 18,
    "start_time": "2022-03-24T13:12:10.761Z"
   },
   {
    "duration": 15,
    "start_time": "2022-03-24T13:12:21.771Z"
   },
   {
    "duration": 16,
    "start_time": "2022-03-24T13:12:38.654Z"
   },
   {
    "duration": 14,
    "start_time": "2022-03-24T13:12:50.160Z"
   },
   {
    "duration": 4,
    "start_time": "2022-03-24T13:22:30.187Z"
   },
   {
    "duration": 18,
    "start_time": "2022-03-24T13:22:31.917Z"
   },
   {
    "duration": 22,
    "start_time": "2022-03-24T13:22:34.096Z"
   },
   {
    "duration": 15,
    "start_time": "2022-03-24T13:22:35.386Z"
   },
   {
    "duration": 15,
    "start_time": "2022-03-24T13:22:36.624Z"
   },
   {
    "duration": 172,
    "start_time": "2022-03-24T13:23:44.008Z"
   },
   {
    "duration": 5,
    "start_time": "2022-03-24T13:23:49.228Z"
   },
   {
    "duration": 19,
    "start_time": "2022-03-24T13:23:51.582Z"
   },
   {
    "duration": 13,
    "start_time": "2022-03-24T13:23:54.319Z"
   },
   {
    "duration": 17,
    "start_time": "2022-03-24T13:23:55.581Z"
   },
   {
    "duration": 12,
    "start_time": "2022-03-24T13:23:56.674Z"
   },
   {
    "duration": 9,
    "start_time": "2022-03-24T13:26:18.502Z"
   },
   {
    "duration": 14,
    "start_time": "2022-03-24T13:26:22.600Z"
   },
   {
    "duration": 19,
    "start_time": "2022-03-24T13:26:25.285Z"
   },
   {
    "duration": 5,
    "start_time": "2022-03-24T14:02:42.644Z"
   },
   {
    "duration": 5,
    "start_time": "2022-03-24T14:02:46.982Z"
   },
   {
    "duration": 5,
    "start_time": "2022-03-24T14:02:54.445Z"
   },
   {
    "duration": 7,
    "start_time": "2022-03-24T14:03:45.877Z"
   },
   {
    "duration": 5,
    "start_time": "2022-03-24T14:03:48.603Z"
   },
   {
    "duration": 455,
    "start_time": "2022-04-01T19:09:04.201Z"
   },
   {
    "duration": 174,
    "start_time": "2022-04-01T19:09:04.659Z"
   },
   {
    "duration": 19,
    "start_time": "2022-04-01T19:09:04.834Z"
   },
   {
    "duration": 36,
    "start_time": "2022-04-01T19:09:04.855Z"
   },
   {
    "duration": 4,
    "start_time": "2022-04-01T19:09:04.893Z"
   },
   {
    "duration": 15,
    "start_time": "2022-04-01T19:09:04.899Z"
   },
   {
    "duration": 6,
    "start_time": "2022-04-01T19:09:04.932Z"
   },
   {
    "duration": 28,
    "start_time": "2022-04-01T19:09:04.939Z"
   },
   {
    "duration": 24,
    "start_time": "2022-04-01T19:09:04.969Z"
   },
   {
    "duration": 48,
    "start_time": "2022-04-01T19:09:04.995Z"
   },
   {
    "duration": 87,
    "start_time": "2022-04-01T19:09:05.045Z"
   },
   {
    "duration": 85,
    "start_time": "2022-04-01T19:09:05.134Z"
   },
   {
    "duration": 80,
    "start_time": "2022-04-01T19:09:05.220Z"
   },
   {
    "duration": 11,
    "start_time": "2022-04-01T19:09:05.301Z"
   },
   {
    "duration": 3,
    "start_time": "2022-04-01T19:09:05.331Z"
   },
   {
    "duration": 13,
    "start_time": "2022-04-01T19:09:05.336Z"
   },
   {
    "duration": 11,
    "start_time": "2022-04-01T19:09:05.350Z"
   },
   {
    "duration": 13,
    "start_time": "2022-04-01T19:09:05.363Z"
   },
   {
    "duration": 15,
    "start_time": "2022-04-01T19:09:05.378Z"
   },
   {
    "duration": 4,
    "start_time": "2022-04-01T19:09:05.395Z"
   },
   {
    "duration": 49,
    "start_time": "2022-04-01T19:09:05.400Z"
   },
   {
    "duration": 17,
    "start_time": "2022-04-01T19:09:05.451Z"
   },
   {
    "duration": 17,
    "start_time": "2022-04-01T19:09:05.469Z"
   },
   {
    "duration": 43,
    "start_time": "2022-04-01T19:09:05.488Z"
   },
   {
    "duration": 19,
    "start_time": "2022-04-01T19:09:05.534Z"
   },
   {
    "duration": 17,
    "start_time": "2022-04-01T19:09:05.555Z"
   },
   {
    "duration": 10,
    "start_time": "2022-04-01T19:09:05.573Z"
   },
   {
    "duration": 16,
    "start_time": "2022-04-01T19:09:05.586Z"
   },
   {
    "duration": 11,
    "start_time": "2022-04-01T19:09:05.632Z"
   },
   {
    "duration": 4,
    "start_time": "2022-04-01T19:09:05.645Z"
   },
   {
    "duration": 32,
    "start_time": "2022-04-01T19:09:05.651Z"
   },
   {
    "duration": 12,
    "start_time": "2022-04-01T19:09:05.686Z"
   },
   {
    "duration": 44,
    "start_time": "2022-04-01T19:09:05.700Z"
   },
   {
    "duration": 13,
    "start_time": "2022-04-01T19:09:05.745Z"
   },
   {
    "duration": 11,
    "start_time": "2022-04-01T19:09:05.759Z"
   },
   {
    "duration": 9,
    "start_time": "2022-04-01T19:09:05.772Z"
   },
   {
    "duration": 9,
    "start_time": "2022-04-01T19:09:05.783Z"
   },
   {
    "duration": 10,
    "start_time": "2022-04-01T19:09:05.794Z"
   },
   {
    "duration": 440,
    "start_time": "2022-04-01T19:31:54.214Z"
   },
   {
    "duration": 170,
    "start_time": "2022-04-01T19:31:54.657Z"
   },
   {
    "duration": 18,
    "start_time": "2022-04-01T19:31:54.829Z"
   },
   {
    "duration": 36,
    "start_time": "2022-04-01T19:31:54.849Z"
   },
   {
    "duration": 4,
    "start_time": "2022-04-01T19:31:54.887Z"
   },
   {
    "duration": 19,
    "start_time": "2022-04-01T19:31:54.892Z"
   },
   {
    "duration": 20,
    "start_time": "2022-04-01T19:31:54.913Z"
   },
   {
    "duration": 37,
    "start_time": "2022-04-01T19:31:54.935Z"
   },
   {
    "duration": 31,
    "start_time": "2022-04-01T19:31:54.974Z"
   },
   {
    "duration": 27,
    "start_time": "2022-04-01T19:31:55.008Z"
   },
   {
    "duration": 76,
    "start_time": "2022-04-01T19:31:55.037Z"
   },
   {
    "duration": 100,
    "start_time": "2022-04-01T19:31:55.115Z"
   },
   {
    "duration": 76,
    "start_time": "2022-04-01T19:31:55.217Z"
   },
   {
    "duration": 10,
    "start_time": "2022-04-01T19:31:55.294Z"
   },
   {
    "duration": 14,
    "start_time": "2022-04-01T19:31:55.306Z"
   },
   {
    "duration": 11,
    "start_time": "2022-04-01T19:31:55.331Z"
   },
   {
    "duration": 14,
    "start_time": "2022-04-01T19:31:55.344Z"
   },
   {
    "duration": 14,
    "start_time": "2022-04-01T19:31:55.360Z"
   },
   {
    "duration": 13,
    "start_time": "2022-04-01T19:31:55.376Z"
   },
   {
    "duration": 4,
    "start_time": "2022-04-01T19:31:55.391Z"
   },
   {
    "duration": 50,
    "start_time": "2022-04-01T19:31:55.397Z"
   },
   {
    "duration": 18,
    "start_time": "2022-04-01T19:31:55.449Z"
   },
   {
    "duration": 24,
    "start_time": "2022-04-01T19:31:55.469Z"
   },
   {
    "duration": 38,
    "start_time": "2022-04-01T19:31:55.495Z"
   },
   {
    "duration": 21,
    "start_time": "2022-04-01T19:31:55.535Z"
   },
   {
    "duration": 18,
    "start_time": "2022-04-01T19:31:55.558Z"
   },
   {
    "duration": 14,
    "start_time": "2022-04-01T19:31:55.578Z"
   },
   {
    "duration": 18,
    "start_time": "2022-04-01T19:31:55.595Z"
   },
   {
    "duration": 17,
    "start_time": "2022-04-01T19:31:55.615Z"
   },
   {
    "duration": 4,
    "start_time": "2022-04-01T19:31:55.634Z"
   },
   {
    "duration": 38,
    "start_time": "2022-04-01T19:31:55.640Z"
   },
   {
    "duration": 14,
    "start_time": "2022-04-01T19:31:55.679Z"
   },
   {
    "duration": 19,
    "start_time": "2022-04-01T19:31:55.695Z"
   },
   {
    "duration": 13,
    "start_time": "2022-04-01T19:31:55.715Z"
   },
   {
    "duration": 9,
    "start_time": "2022-04-01T19:31:55.730Z"
   },
   {
    "duration": 9,
    "start_time": "2022-04-01T19:31:55.741Z"
   },
   {
    "duration": 13,
    "start_time": "2022-04-01T19:31:55.752Z"
   },
   {
    "duration": 8,
    "start_time": "2022-04-01T19:31:55.767Z"
   },
   {
    "duration": 11,
    "start_time": "2022-04-01T19:37:43.109Z"
   },
   {
    "duration": 431,
    "start_time": "2022-04-01T19:38:22.800Z"
   },
   {
    "duration": 180,
    "start_time": "2022-04-01T19:38:23.234Z"
   },
   {
    "duration": 19,
    "start_time": "2022-04-01T19:38:23.415Z"
   },
   {
    "duration": 33,
    "start_time": "2022-04-01T19:38:23.436Z"
   },
   {
    "duration": 8,
    "start_time": "2022-04-01T19:38:23.471Z"
   },
   {
    "duration": 15,
    "start_time": "2022-04-01T19:38:23.480Z"
   },
   {
    "duration": 7,
    "start_time": "2022-04-01T19:38:23.497Z"
   },
   {
    "duration": 27,
    "start_time": "2022-04-01T19:38:23.532Z"
   },
   {
    "duration": 36,
    "start_time": "2022-04-01T19:38:23.560Z"
   },
   {
    "duration": 35,
    "start_time": "2022-04-01T19:38:23.599Z"
   },
   {
    "duration": 76,
    "start_time": "2022-04-01T19:38:23.636Z"
   },
   {
    "duration": 103,
    "start_time": "2022-04-01T19:38:23.713Z"
   },
   {
    "duration": 79,
    "start_time": "2022-04-01T19:38:23.818Z"
   },
   {
    "duration": 10,
    "start_time": "2022-04-01T19:38:23.899Z"
   },
   {
    "duration": 21,
    "start_time": "2022-04-01T19:38:23.910Z"
   },
   {
    "duration": 13,
    "start_time": "2022-04-01T19:38:23.934Z"
   },
   {
    "duration": 31,
    "start_time": "2022-04-01T19:38:23.950Z"
   },
   {
    "duration": 34,
    "start_time": "2022-04-01T19:38:23.983Z"
   },
   {
    "duration": 18,
    "start_time": "2022-04-01T19:38:24.019Z"
   },
   {
    "duration": 5,
    "start_time": "2022-04-01T19:38:24.039Z"
   },
   {
    "duration": 46,
    "start_time": "2022-04-01T19:38:24.046Z"
   },
   {
    "duration": 18,
    "start_time": "2022-04-01T19:38:24.094Z"
   },
   {
    "duration": 28,
    "start_time": "2022-04-01T19:38:24.114Z"
   },
   {
    "duration": 21,
    "start_time": "2022-04-01T19:38:24.144Z"
   },
   {
    "duration": 19,
    "start_time": "2022-04-01T19:38:24.167Z"
   },
   {
    "duration": 26,
    "start_time": "2022-04-01T19:38:24.188Z"
   },
   {
    "duration": 26,
    "start_time": "2022-04-01T19:38:24.216Z"
   },
   {
    "duration": 22,
    "start_time": "2022-04-01T19:38:24.246Z"
   },
   {
    "duration": 24,
    "start_time": "2022-04-01T19:38:24.270Z"
   },
   {
    "duration": 14,
    "start_time": "2022-04-01T19:38:24.296Z"
   },
   {
    "duration": 50,
    "start_time": "2022-04-01T19:38:24.312Z"
   },
   {
    "duration": 32,
    "start_time": "2022-04-01T19:38:24.364Z"
   },
   {
    "duration": 27,
    "start_time": "2022-04-01T19:38:24.398Z"
   },
   {
    "duration": 27,
    "start_time": "2022-04-01T19:38:24.426Z"
   },
   {
    "duration": 25,
    "start_time": "2022-04-01T19:38:24.455Z"
   },
   {
    "duration": 5,
    "start_time": "2022-04-01T19:38:24.482Z"
   },
   {
    "duration": 13,
    "start_time": "2022-04-01T19:38:24.489Z"
   },
   {
    "duration": 7,
    "start_time": "2022-04-01T19:38:24.504Z"
   },
   {
    "duration": 11,
    "start_time": "2022-04-01T19:38:34.106Z"
   },
   {
    "duration": 129,
    "start_time": "2022-04-02T11:29:13.496Z"
   },
   {
    "duration": 108,
    "start_time": "2022-04-02T11:29:22.477Z"
   },
   {
    "duration": 101,
    "start_time": "2022-04-02T11:30:13.039Z"
   },
   {
    "duration": 65,
    "start_time": "2022-04-02T11:31:19.259Z"
   },
   {
    "duration": 8,
    "start_time": "2022-04-02T11:31:33.673Z"
   },
   {
    "duration": 8,
    "start_time": "2022-04-02T11:31:56.617Z"
   },
   {
    "duration": 7,
    "start_time": "2022-04-02T11:32:12.775Z"
   },
   {
    "duration": 8,
    "start_time": "2022-04-02T11:32:15.688Z"
   },
   {
    "duration": 9,
    "start_time": "2022-04-02T11:32:23.149Z"
   },
   {
    "duration": 8,
    "start_time": "2022-04-02T11:32:41.340Z"
   },
   {
    "duration": 8,
    "start_time": "2022-04-02T11:33:04.481Z"
   },
   {
    "duration": 8,
    "start_time": "2022-04-02T11:33:15.406Z"
   },
   {
    "duration": 8,
    "start_time": "2022-04-02T11:35:13.034Z"
   },
   {
    "duration": 8,
    "start_time": "2022-04-02T11:35:32.602Z"
   },
   {
    "duration": 7,
    "start_time": "2022-04-02T11:35:47.471Z"
   },
   {
    "duration": 520,
    "start_time": "2022-04-02T11:36:08.986Z"
   },
   {
    "duration": 179,
    "start_time": "2022-04-02T11:36:09.990Z"
   },
   {
    "duration": 27,
    "start_time": "2022-04-02T11:36:11.786Z"
   },
   {
    "duration": 42,
    "start_time": "2022-04-02T11:36:14.555Z"
   },
   {
    "duration": 39,
    "start_time": "2022-04-02T11:36:20.101Z"
   },
   {
    "duration": 6,
    "start_time": "2022-04-02T11:36:26.810Z"
   },
   {
    "duration": 6,
    "start_time": "2022-04-02T11:36:39.685Z"
   },
   {
    "duration": 6,
    "start_time": "2022-04-02T11:36:51.502Z"
   },
   {
    "duration": 138,
    "start_time": "2022-04-02T11:37:10.942Z"
   },
   {
    "duration": 34,
    "start_time": "2022-04-02T11:37:38.724Z"
   },
   {
    "duration": 34,
    "start_time": "2022-04-02T11:37:50.551Z"
   },
   {
    "duration": 108,
    "start_time": "2022-04-02T11:38:05.290Z"
   },
   {
    "duration": 22,
    "start_time": "2022-04-02T11:38:07.328Z"
   },
   {
    "duration": 56,
    "start_time": "2022-04-02T11:39:14.808Z"
   },
   {
    "duration": 5,
    "start_time": "2022-04-02T11:41:31.095Z"
   },
   {
    "duration": 34,
    "start_time": "2022-04-02T11:41:36.033Z"
   },
   {
    "duration": 13,
    "start_time": "2022-04-02T11:41:39.044Z"
   },
   {
    "duration": 50,
    "start_time": "2022-04-02T11:41:51.153Z"
   },
   {
    "duration": 22,
    "start_time": "2022-04-02T11:44:29.382Z"
   },
   {
    "duration": 14,
    "start_time": "2022-04-02T11:45:12.933Z"
   },
   {
    "duration": 15,
    "start_time": "2022-04-02T11:45:50.515Z"
   },
   {
    "duration": 15,
    "start_time": "2022-04-02T11:46:57.761Z"
   },
   {
    "duration": 511,
    "start_time": "2022-04-02T11:47:19.953Z"
   },
   {
    "duration": 189,
    "start_time": "2022-04-02T11:47:20.467Z"
   },
   {
    "duration": 27,
    "start_time": "2022-04-02T11:47:20.659Z"
   },
   {
    "duration": 41,
    "start_time": "2022-04-02T11:47:20.689Z"
   },
   {
    "duration": 35,
    "start_time": "2022-04-02T11:47:20.733Z"
   },
   {
    "duration": 13,
    "start_time": "2022-04-02T11:47:20.771Z"
   },
   {
    "duration": 6,
    "start_time": "2022-04-02T11:47:20.787Z"
   },
   {
    "duration": 35,
    "start_time": "2022-04-02T11:47:20.795Z"
   },
   {
    "duration": 24,
    "start_time": "2022-04-02T11:47:20.868Z"
   },
   {
    "duration": 32,
    "start_time": "2022-04-02T11:47:20.896Z"
   },
   {
    "duration": 118,
    "start_time": "2022-04-02T11:47:20.930Z"
   },
   {
    "duration": 113,
    "start_time": "2022-04-02T11:47:21.050Z"
   },
   {
    "duration": 16,
    "start_time": "2022-04-02T11:47:21.168Z"
   },
   {
    "duration": 102,
    "start_time": "2022-04-02T11:47:21.186Z"
   },
   {
    "duration": 51,
    "start_time": "2022-04-02T11:47:21.290Z"
   },
   {
    "duration": 25,
    "start_time": "2022-04-02T11:47:21.343Z"
   },
   {
    "duration": 32,
    "start_time": "2022-04-02T11:47:21.370Z"
   },
   {
    "duration": 68,
    "start_time": "2022-04-02T11:47:21.405Z"
   },
   {
    "duration": 15,
    "start_time": "2022-04-02T11:47:21.475Z"
   },
   {
    "duration": 15,
    "start_time": "2022-04-02T11:47:21.492Z"
   },
   {
    "duration": 5,
    "start_time": "2022-04-02T11:47:21.509Z"
   },
   {
    "duration": 60,
    "start_time": "2022-04-02T11:47:21.516Z"
   },
   {
    "duration": 19,
    "start_time": "2022-04-02T11:47:21.578Z"
   },
   {
    "duration": 19,
    "start_time": "2022-04-02T11:47:21.599Z"
   },
   {
    "duration": 56,
    "start_time": "2022-04-02T11:47:21.620Z"
   },
   {
    "duration": 21,
    "start_time": "2022-04-02T11:47:21.678Z"
   },
   {
    "duration": 19,
    "start_time": "2022-04-02T11:47:21.700Z"
   },
   {
    "duration": 43,
    "start_time": "2022-04-02T11:47:21.724Z"
   },
   {
    "duration": 14,
    "start_time": "2022-04-02T11:47:21.770Z"
   },
   {
    "duration": 13,
    "start_time": "2022-04-02T11:47:21.786Z"
   },
   {
    "duration": 6,
    "start_time": "2022-04-02T11:47:21.801Z"
   },
   {
    "duration": 29,
    "start_time": "2022-04-02T11:47:21.809Z"
   },
   {
    "duration": 16,
    "start_time": "2022-04-02T11:47:21.868Z"
   },
   {
    "duration": 22,
    "start_time": "2022-04-02T11:47:21.887Z"
   },
   {
    "duration": 15,
    "start_time": "2022-04-02T11:47:21.911Z"
   },
   {
    "duration": 47,
    "start_time": "2022-04-02T11:47:21.928Z"
   },
   {
    "duration": 6,
    "start_time": "2022-04-02T11:47:21.978Z"
   },
   {
    "duration": 9,
    "start_time": "2022-04-02T11:47:21.986Z"
   },
   {
    "duration": 7,
    "start_time": "2022-04-02T11:47:21.997Z"
   },
   {
    "duration": 8,
    "start_time": "2022-04-02T11:47:36.782Z"
   },
   {
    "duration": 18,
    "start_time": "2022-04-02T11:48:08.599Z"
   },
   {
    "duration": 13,
    "start_time": "2022-04-02T11:48:25.753Z"
   },
   {
    "duration": 6,
    "start_time": "2022-04-02T11:48:34.931Z"
   },
   {
    "duration": 6,
    "start_time": "2022-04-02T11:48:37.300Z"
   },
   {
    "duration": 13,
    "start_time": "2022-04-02T11:48:45.330Z"
   },
   {
    "duration": 6,
    "start_time": "2022-04-02T11:49:34.576Z"
   },
   {
    "duration": 6,
    "start_time": "2022-04-02T11:49:47.494Z"
   },
   {
    "duration": 419,
    "start_time": "2022-04-02T22:51:24.233Z"
   },
   {
    "duration": 162,
    "start_time": "2022-04-02T22:51:24.654Z"
   },
   {
    "duration": 22,
    "start_time": "2022-04-02T22:51:24.818Z"
   },
   {
    "duration": 31,
    "start_time": "2022-04-02T22:51:24.842Z"
   },
   {
    "duration": 4,
    "start_time": "2022-04-02T22:51:24.875Z"
   },
   {
    "duration": 14,
    "start_time": "2022-04-02T22:51:24.881Z"
   },
   {
    "duration": 9,
    "start_time": "2022-04-02T22:51:24.896Z"
   },
   {
    "duration": 51,
    "start_time": "2022-04-02T22:51:24.906Z"
   },
   {
    "duration": 26,
    "start_time": "2022-04-02T22:51:24.959Z"
   },
   {
    "duration": 26,
    "start_time": "2022-04-02T22:51:24.988Z"
   },
   {
    "duration": 83,
    "start_time": "2022-04-02T22:51:25.016Z"
   },
   {
    "duration": 96,
    "start_time": "2022-04-02T22:51:25.101Z"
   },
   {
    "duration": 11,
    "start_time": "2022-04-02T22:51:25.199Z"
   },
   {
    "duration": 73,
    "start_time": "2022-04-02T22:51:25.212Z"
   },
   {
    "duration": 38,
    "start_time": "2022-04-02T22:51:25.286Z"
   },
   {
    "duration": 3,
    "start_time": "2022-04-02T22:51:25.337Z"
   },
   {
    "duration": 28,
    "start_time": "2022-04-02T22:51:25.342Z"
   },
   {
    "duration": 40,
    "start_time": "2022-04-02T22:51:25.372Z"
   },
   {
    "duration": 29,
    "start_time": "2022-04-02T22:51:25.414Z"
   },
   {
    "duration": 10,
    "start_time": "2022-04-02T22:51:25.445Z"
   },
   {
    "duration": 3,
    "start_time": "2022-04-02T22:51:25.457Z"
   },
   {
    "duration": 23,
    "start_time": "2022-04-02T22:51:25.462Z"
   },
   {
    "duration": 15,
    "start_time": "2022-04-02T22:51:25.486Z"
   },
   {
    "duration": 46,
    "start_time": "2022-04-02T22:51:25.503Z"
   },
   {
    "duration": 15,
    "start_time": "2022-04-02T22:51:25.551Z"
   },
   {
    "duration": 18,
    "start_time": "2022-04-02T22:51:25.568Z"
   },
   {
    "duration": 17,
    "start_time": "2022-04-02T22:51:25.587Z"
   },
   {
    "duration": 38,
    "start_time": "2022-04-02T22:51:25.607Z"
   },
   {
    "duration": 15,
    "start_time": "2022-04-02T22:51:25.647Z"
   },
   {
    "duration": 12,
    "start_time": "2022-04-02T22:51:25.663Z"
   },
   {
    "duration": 6,
    "start_time": "2022-04-02T22:51:25.677Z"
   },
   {
    "duration": 26,
    "start_time": "2022-04-02T22:51:25.684Z"
   },
   {
    "duration": 14,
    "start_time": "2022-04-02T22:51:25.737Z"
   },
   {
    "duration": 17,
    "start_time": "2022-04-02T22:51:25.753Z"
   },
   {
    "duration": 12,
    "start_time": "2022-04-02T22:51:25.773Z"
   },
   {
    "duration": 10,
    "start_time": "2022-04-02T22:51:25.787Z"
   },
   {
    "duration": 41,
    "start_time": "2022-04-02T22:51:25.798Z"
   },
   {
    "duration": 12,
    "start_time": "2022-04-02T22:51:25.841Z"
   },
   {
    "duration": 11,
    "start_time": "2022-04-02T22:51:25.855Z"
   },
   {
    "duration": 363,
    "start_time": "2022-04-02T23:04:00.194Z"
   },
   {
    "duration": 182,
    "start_time": "2022-04-02T23:04:00.946Z"
   },
   {
    "duration": 20,
    "start_time": "2022-04-02T23:04:01.858Z"
   },
   {
    "duration": 31,
    "start_time": "2022-04-02T23:04:02.817Z"
   },
   {
    "duration": 5,
    "start_time": "2022-04-02T23:04:04.937Z"
   },
   {
    "duration": 13,
    "start_time": "2022-04-02T23:04:07.058Z"
   },
   {
    "duration": 5,
    "start_time": "2022-04-02T23:04:08.484Z"
   },
   {
    "duration": 29,
    "start_time": "2022-04-02T23:04:09.997Z"
   },
   {
    "duration": 22,
    "start_time": "2022-04-02T23:04:13.442Z"
   },
   {
    "duration": 26,
    "start_time": "2022-04-02T23:04:14.545Z"
   },
   {
    "duration": 74,
    "start_time": "2022-04-02T23:04:15.156Z"
   },
   {
    "duration": 81,
    "start_time": "2022-04-02T23:04:16.736Z"
   },
   {
    "duration": 10,
    "start_time": "2022-04-02T23:04:17.562Z"
   },
   {
    "duration": 60,
    "start_time": "2022-04-02T23:04:19.828Z"
   },
   {
    "duration": 40,
    "start_time": "2022-04-02T23:04:21.015Z"
   },
   {
    "duration": 3,
    "start_time": "2022-04-02T23:04:24.436Z"
   },
   {
    "duration": 74,
    "start_time": "2022-04-02T23:05:02.998Z"
   },
   {
    "duration": 46,
    "start_time": "2022-04-02T23:05:12.287Z"
   }
  ],
  "colab": {
   "collapsed_sections": [
    "E0vqbgi9ay0H",
    "VUC88oWjTJw2"
   ],
   "name": "yandex_music_project.ipynb",
   "provenance": []
  },
  "kernelspec": {
   "display_name": "Python 3 (ipykernel)",
   "language": "python",
   "name": "python3"
  },
  "language_info": {
   "codemirror_mode": {
    "name": "ipython",
    "version": 3
   },
   "file_extension": ".py",
   "mimetype": "text/x-python",
   "name": "python",
   "nbconvert_exporter": "python",
   "pygments_lexer": "ipython3",
   "version": "3.9.7"
  },
  "toc": {
   "base_numbering": 1,
   "nav_menu": {},
   "number_sections": true,
   "sideBar": true,
   "skip_h1_title": true,
   "title_cell": "Table of Contents",
   "title_sidebar": "Contents",
   "toc_cell": false,
   "toc_position": {},
   "toc_section_display": true,
   "toc_window_display": true
  }
 },
 "nbformat": 4,
 "nbformat_minor": 1
}

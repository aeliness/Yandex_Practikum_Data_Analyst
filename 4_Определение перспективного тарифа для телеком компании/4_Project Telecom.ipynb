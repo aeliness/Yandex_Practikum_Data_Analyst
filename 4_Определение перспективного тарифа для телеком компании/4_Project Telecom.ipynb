{
 "cells": [
  {
   "cell_type": "markdown",
   "id": "d87ec03c",
   "metadata": {},
   "source": [
    "# Определение перспективного тарифа для телеком-компании <a class=\"tocSkip\">"
   ]
  },
  {
   "cell_type": "markdown",
   "id": "d103314a",
   "metadata": {},
   "source": [
    "В нашем распоряжении имеются данные о 500 пользователей компании «Мегалайн» — федерального оператора сотовой связи: кто они, откуда, каким тарифом пользуются, сколько звонков и сообщений каждый отправил за 2018 год.\n",
    "\n",
    "**Описание тарифов**\n",
    "\n",
    "|Наименование            | Тариф «Смарт»   | Тариф «Ультра»|\n",
    "|-------------           |---------------  | ------------- |\n",
    "| Ежемесячная плата      | 550 рублей      |   1950 руб.   |\n",
    "| Звонки             | 500 минут       |   3000 минут  |\n",
    "| Сообщения         | 50 сообщений    |1000 сообщений | \n",
    "| Интернет          | 15 гб           |   30 гб       |\n",
    "| **Услуги сверхпакета:**\n",
    "| Звонки           | 3 рубля         |  1 рубль      |\n",
    "| Сообщения         | 3 рубля         |  1 рубль      |\n",
    "| Интернет          | 200 рублей      |  150 рублей   |\n",
    "\n",
    "**Цель исследования** — для корректировки рекламного бюджета необходимо понять какой тариф приносит больше денег. \n",
    "\n",
    "**Ход исследования**\n",
    "\n",
    "\n",
    "1. Обзор данных\n",
    "2. Преобработка данных\n",
    "3. Анализ данных\n",
    "4. Проверка гипотез\n",
    "6. Общий вывод\n",
    "\n"
   ]
  },
  {
   "cell_type": "markdown",
   "id": "e4aa9cf6",
   "metadata": {},
   "source": [
    "# Обзор данных"
   ]
  },
  {
   "cell_type": "code",
   "execution_count": 1,
   "id": "93d6d9fe",
   "metadata": {},
   "outputs": [],
   "source": [
    "#импортируем необходимые библиотеки для работы\n",
    "import pandas as pd\n",
    "import numpy as np\n",
    "import matplotlib.pyplot as plt \n",
    "import math\n",
    "from math import factorial\n",
    "from scipy import stats as st"
   ]
  },
  {
   "cell_type": "code",
   "execution_count": 2,
   "id": "74a3f5a0",
   "metadata": {},
   "outputs": [],
   "source": [
    "#прочитаем файлы с сохранием их в соотвующей переменной\n",
    "try:\n",
    "    calls = pd.read_csv('/datasets/calls.csv')\n",
    "except:\n",
    "    calls = pd.read_csv('Downloads/calls.csv')\n",
    "try:\n",
    "    internet = pd.read_csv('/datasets/internet.csv')\n",
    "except:\n",
    "    internet = pd.read_csv('Downloads/internet.csv')\n",
    "try:\n",
    "    messages = pd.read_csv('/datasets/messages.csv')\n",
    "except:    \n",
    "    messages = pd.read_csv('Downloads/messages.csv')\n",
    "try:\n",
    "    tariffs = pd.read_csv('/datasets/tariffs.csv')\n",
    "except:    \n",
    "    tariffs = pd.read_csv('Downloads/tariffs.csv')\n",
    "try:\n",
    "    users = pd.read_csv('/datasets/users.csv')    \n",
    "except: \n",
    "    users = pd.read_csv('Downloads/users.csv') "
   ]
  },
  {
   "cell_type": "markdown",
   "id": "966b964d",
   "metadata": {},
   "source": [
    "Далее проверим каждый датасет по отдельности. "
   ]
  },
  {
   "cell_type": "markdown",
   "id": "554b13f6",
   "metadata": {},
   "source": [
    "## Информация о звонках"
   ]
  },
  {
   "cell_type": "markdown",
   "id": "96b2714e",
   "metadata": {},
   "source": [
    "- `id` — уникальный номер звонка\n",
    "- `call_date` — дата звонка\n",
    "- `duration` — длительность звонка в минутах\n",
    "- `user_id` — идентификатор пользователя, сделавшего звонок"
   ]
  },
  {
   "cell_type": "code",
   "execution_count": 3,
   "id": "0885bc02",
   "metadata": {},
   "outputs": [
    {
     "name": "stdout",
     "output_type": "stream",
     "text": [
      "<class 'pandas.core.frame.DataFrame'>\n",
      "RangeIndex: 202607 entries, 0 to 202606\n",
      "Data columns (total 4 columns):\n",
      " #   Column     Non-Null Count   Dtype  \n",
      "---  ------     --------------   -----  \n",
      " 0   id         202607 non-null  object \n",
      " 1   call_date  202607 non-null  object \n",
      " 2   duration   202607 non-null  float64\n",
      " 3   user_id    202607 non-null  int64  \n",
      "dtypes: float64(1), int64(1), object(2)\n",
      "memory usage: 6.2+ MB\n"
     ]
    }
   ],
   "source": [
    "calls.info() #посмотрим общую информацию о датасете"
   ]
  },
  {
   "cell_type": "code",
   "execution_count": 4,
   "id": "62f63ee9",
   "metadata": {},
   "outputs": [
    {
     "data": {
      "text/html": [
       "<div>\n",
       "<style scoped>\n",
       "    .dataframe tbody tr th:only-of-type {\n",
       "        vertical-align: middle;\n",
       "    }\n",
       "\n",
       "    .dataframe tbody tr th {\n",
       "        vertical-align: top;\n",
       "    }\n",
       "\n",
       "    .dataframe thead th {\n",
       "        text-align: right;\n",
       "    }\n",
       "</style>\n",
       "<table border=\"1\" class=\"dataframe\">\n",
       "  <thead>\n",
       "    <tr style=\"text-align: right;\">\n",
       "      <th></th>\n",
       "      <th>duration</th>\n",
       "      <th>user_id</th>\n",
       "    </tr>\n",
       "  </thead>\n",
       "  <tbody>\n",
       "    <tr>\n",
       "      <th>count</th>\n",
       "      <td>202607.000000</td>\n",
       "      <td>202607.000000</td>\n",
       "    </tr>\n",
       "    <tr>\n",
       "      <th>mean</th>\n",
       "      <td>6.755887</td>\n",
       "      <td>1253.940619</td>\n",
       "    </tr>\n",
       "    <tr>\n",
       "      <th>std</th>\n",
       "      <td>5.843365</td>\n",
       "      <td>144.722751</td>\n",
       "    </tr>\n",
       "    <tr>\n",
       "      <th>min</th>\n",
       "      <td>0.000000</td>\n",
       "      <td>1000.000000</td>\n",
       "    </tr>\n",
       "    <tr>\n",
       "      <th>25%</th>\n",
       "      <td>1.300000</td>\n",
       "      <td>1126.000000</td>\n",
       "    </tr>\n",
       "    <tr>\n",
       "      <th>50%</th>\n",
       "      <td>6.000000</td>\n",
       "      <td>1260.000000</td>\n",
       "    </tr>\n",
       "    <tr>\n",
       "      <th>75%</th>\n",
       "      <td>10.700000</td>\n",
       "      <td>1379.000000</td>\n",
       "    </tr>\n",
       "    <tr>\n",
       "      <th>max</th>\n",
       "      <td>38.000000</td>\n",
       "      <td>1499.000000</td>\n",
       "    </tr>\n",
       "  </tbody>\n",
       "</table>\n",
       "</div>"
      ],
      "text/plain": [
       "            duration        user_id\n",
       "count  202607.000000  202607.000000\n",
       "mean        6.755887    1253.940619\n",
       "std         5.843365     144.722751\n",
       "min         0.000000    1000.000000\n",
       "25%         1.300000    1126.000000\n",
       "50%         6.000000    1260.000000\n",
       "75%        10.700000    1379.000000\n",
       "max        38.000000    1499.000000"
      ]
     },
     "execution_count": 4,
     "metadata": {},
     "output_type": "execute_result"
    }
   ],
   "source": [
    "calls.describe() #посмотрим статистическую информацию"
   ]
  },
  {
   "cell_type": "code",
   "execution_count": 5,
   "id": "5eaeee4c",
   "metadata": {
    "scrolled": true
   },
   "outputs": [
    {
     "data": {
      "text/html": [
       "<div>\n",
       "<style scoped>\n",
       "    .dataframe tbody tr th:only-of-type {\n",
       "        vertical-align: middle;\n",
       "    }\n",
       "\n",
       "    .dataframe tbody tr th {\n",
       "        vertical-align: top;\n",
       "    }\n",
       "\n",
       "    .dataframe thead th {\n",
       "        text-align: right;\n",
       "    }\n",
       "</style>\n",
       "<table border=\"1\" class=\"dataframe\">\n",
       "  <thead>\n",
       "    <tr style=\"text-align: right;\">\n",
       "      <th></th>\n",
       "      <th>id</th>\n",
       "      <th>call_date</th>\n",
       "      <th>duration</th>\n",
       "      <th>user_id</th>\n",
       "    </tr>\n",
       "  </thead>\n",
       "  <tbody>\n",
       "    <tr>\n",
       "      <th>68355</th>\n",
       "      <td>1173_88</td>\n",
       "      <td>2018-08-19</td>\n",
       "      <td>15.64</td>\n",
       "      <td>1173</td>\n",
       "    </tr>\n",
       "    <tr>\n",
       "      <th>4624</th>\n",
       "      <td>1012_98</td>\n",
       "      <td>2018-10-27</td>\n",
       "      <td>5.59</td>\n",
       "      <td>1012</td>\n",
       "    </tr>\n",
       "    <tr>\n",
       "      <th>33134</th>\n",
       "      <td>1081_379</td>\n",
       "      <td>2018-07-24</td>\n",
       "      <td>0.00</td>\n",
       "      <td>1081</td>\n",
       "    </tr>\n",
       "    <tr>\n",
       "      <th>61713</th>\n",
       "      <td>1155_521</td>\n",
       "      <td>2018-12-11</td>\n",
       "      <td>3.86</td>\n",
       "      <td>1155</td>\n",
       "    </tr>\n",
       "    <tr>\n",
       "      <th>99088</th>\n",
       "      <td>1251_450</td>\n",
       "      <td>2018-09-29</td>\n",
       "      <td>10.03</td>\n",
       "      <td>1251</td>\n",
       "    </tr>\n",
       "    <tr>\n",
       "      <th>92848</th>\n",
       "      <td>1233_193</td>\n",
       "      <td>2018-10-31</td>\n",
       "      <td>6.40</td>\n",
       "      <td>1233</td>\n",
       "    </tr>\n",
       "    <tr>\n",
       "      <th>149363</th>\n",
       "      <td>1377_210</td>\n",
       "      <td>2018-09-10</td>\n",
       "      <td>5.20</td>\n",
       "      <td>1377</td>\n",
       "    </tr>\n",
       "    <tr>\n",
       "      <th>19565</th>\n",
       "      <td>1053_186</td>\n",
       "      <td>2018-12-06</td>\n",
       "      <td>17.54</td>\n",
       "      <td>1053</td>\n",
       "    </tr>\n",
       "    <tr>\n",
       "      <th>196671</th>\n",
       "      <td>1482_38</td>\n",
       "      <td>2018-09-13</td>\n",
       "      <td>0.00</td>\n",
       "      <td>1482</td>\n",
       "    </tr>\n",
       "    <tr>\n",
       "      <th>60949</th>\n",
       "      <td>1153_195</td>\n",
       "      <td>2018-10-28</td>\n",
       "      <td>23.12</td>\n",
       "      <td>1153</td>\n",
       "    </tr>\n",
       "  </tbody>\n",
       "</table>\n",
       "</div>"
      ],
      "text/plain": [
       "              id   call_date  duration  user_id\n",
       "68355    1173_88  2018-08-19     15.64     1173\n",
       "4624     1012_98  2018-10-27      5.59     1012\n",
       "33134   1081_379  2018-07-24      0.00     1081\n",
       "61713   1155_521  2018-12-11      3.86     1155\n",
       "99088   1251_450  2018-09-29     10.03     1251\n",
       "92848   1233_193  2018-10-31      6.40     1233\n",
       "149363  1377_210  2018-09-10      5.20     1377\n",
       "19565   1053_186  2018-12-06     17.54     1053\n",
       "196671   1482_38  2018-09-13      0.00     1482\n",
       "60949   1153_195  2018-10-28     23.12     1153"
      ]
     },
     "execution_count": 5,
     "metadata": {},
     "output_type": "execute_result"
    }
   ],
   "source": [
    "calls.sample(10) #посмотрим рандомные 10 строк таблицы"
   ]
  },
  {
   "cell_type": "markdown",
   "id": "e34bb04b",
   "metadata": {},
   "source": [
    "**Вывод**:\n",
    "- `id` необходимо перевести в формат int32, также как и `user_id`,\n",
    "- `call_date` необходимо привести к формату дат,\n",
    "- `duration` необходимо перевести в int32, а также округлить значения вверх."
   ]
  },
  {
   "cell_type": "markdown",
   "id": "20c4d867",
   "metadata": {},
   "source": [
    "## Информация об интернет-сессиях"
   ]
  },
  {
   "cell_type": "markdown",
   "id": "d723844a",
   "metadata": {},
   "source": [
    "- `id` — уникальный номер сессии\n",
    "- `mb_used` — объём потраченного за сессию интернет-трафика (в мегабайтах)\n",
    "- `session_date` — дата интернет-сессии\n",
    "- `user_id` — идентификатор пользователя"
   ]
  },
  {
   "cell_type": "code",
   "execution_count": 6,
   "id": "116fb8d9",
   "metadata": {
    "scrolled": false
   },
   "outputs": [
    {
     "name": "stdout",
     "output_type": "stream",
     "text": [
      "<class 'pandas.core.frame.DataFrame'>\n",
      "RangeIndex: 149396 entries, 0 to 149395\n",
      "Data columns (total 5 columns):\n",
      " #   Column        Non-Null Count   Dtype  \n",
      "---  ------        --------------   -----  \n",
      " 0   Unnamed: 0    149396 non-null  int64  \n",
      " 1   id            149396 non-null  object \n",
      " 2   mb_used       149396 non-null  float64\n",
      " 3   session_date  149396 non-null  object \n",
      " 4   user_id       149396 non-null  int64  \n",
      "dtypes: float64(1), int64(2), object(2)\n",
      "memory usage: 5.7+ MB\n"
     ]
    }
   ],
   "source": [
    "internet.info() #посмотрим общую информацию о датасете"
   ]
  },
  {
   "cell_type": "code",
   "execution_count": 7,
   "id": "77114079",
   "metadata": {},
   "outputs": [
    {
     "data": {
      "text/html": [
       "<div>\n",
       "<style scoped>\n",
       "    .dataframe tbody tr th:only-of-type {\n",
       "        vertical-align: middle;\n",
       "    }\n",
       "\n",
       "    .dataframe tbody tr th {\n",
       "        vertical-align: top;\n",
       "    }\n",
       "\n",
       "    .dataframe thead th {\n",
       "        text-align: right;\n",
       "    }\n",
       "</style>\n",
       "<table border=\"1\" class=\"dataframe\">\n",
       "  <thead>\n",
       "    <tr style=\"text-align: right;\">\n",
       "      <th></th>\n",
       "      <th>Unnamed: 0</th>\n",
       "      <th>mb_used</th>\n",
       "      <th>user_id</th>\n",
       "    </tr>\n",
       "  </thead>\n",
       "  <tbody>\n",
       "    <tr>\n",
       "      <th>count</th>\n",
       "      <td>149396.000000</td>\n",
       "      <td>149396.000000</td>\n",
       "      <td>149396.000000</td>\n",
       "    </tr>\n",
       "    <tr>\n",
       "      <th>mean</th>\n",
       "      <td>74697.500000</td>\n",
       "      <td>370.192426</td>\n",
       "      <td>1252.099842</td>\n",
       "    </tr>\n",
       "    <tr>\n",
       "      <th>std</th>\n",
       "      <td>43127.054745</td>\n",
       "      <td>278.300951</td>\n",
       "      <td>144.050823</td>\n",
       "    </tr>\n",
       "    <tr>\n",
       "      <th>min</th>\n",
       "      <td>0.000000</td>\n",
       "      <td>0.000000</td>\n",
       "      <td>1000.000000</td>\n",
       "    </tr>\n",
       "    <tr>\n",
       "      <th>25%</th>\n",
       "      <td>37348.750000</td>\n",
       "      <td>138.187500</td>\n",
       "      <td>1130.000000</td>\n",
       "    </tr>\n",
       "    <tr>\n",
       "      <th>50%</th>\n",
       "      <td>74697.500000</td>\n",
       "      <td>348.015000</td>\n",
       "      <td>1251.000000</td>\n",
       "    </tr>\n",
       "    <tr>\n",
       "      <th>75%</th>\n",
       "      <td>112046.250000</td>\n",
       "      <td>559.552500</td>\n",
       "      <td>1380.000000</td>\n",
       "    </tr>\n",
       "    <tr>\n",
       "      <th>max</th>\n",
       "      <td>149395.000000</td>\n",
       "      <td>1724.830000</td>\n",
       "      <td>1499.000000</td>\n",
       "    </tr>\n",
       "  </tbody>\n",
       "</table>\n",
       "</div>"
      ],
      "text/plain": [
       "          Unnamed: 0        mb_used        user_id\n",
       "count  149396.000000  149396.000000  149396.000000\n",
       "mean    74697.500000     370.192426    1252.099842\n",
       "std     43127.054745     278.300951     144.050823\n",
       "min         0.000000       0.000000    1000.000000\n",
       "25%     37348.750000     138.187500    1130.000000\n",
       "50%     74697.500000     348.015000    1251.000000\n",
       "75%    112046.250000     559.552500    1380.000000\n",
       "max    149395.000000    1724.830000    1499.000000"
      ]
     },
     "execution_count": 7,
     "metadata": {},
     "output_type": "execute_result"
    }
   ],
   "source": [
    "internet.describe() #посмотрим статистическую информацию"
   ]
  },
  {
   "cell_type": "code",
   "execution_count": 8,
   "id": "a0b4c53d",
   "metadata": {},
   "outputs": [
    {
     "data": {
      "text/html": [
       "<div>\n",
       "<style scoped>\n",
       "    .dataframe tbody tr th:only-of-type {\n",
       "        vertical-align: middle;\n",
       "    }\n",
       "\n",
       "    .dataframe tbody tr th {\n",
       "        vertical-align: top;\n",
       "    }\n",
       "\n",
       "    .dataframe thead th {\n",
       "        text-align: right;\n",
       "    }\n",
       "</style>\n",
       "<table border=\"1\" class=\"dataframe\">\n",
       "  <thead>\n",
       "    <tr style=\"text-align: right;\">\n",
       "      <th></th>\n",
       "      <th>Unnamed: 0</th>\n",
       "      <th>id</th>\n",
       "      <th>mb_used</th>\n",
       "      <th>session_date</th>\n",
       "      <th>user_id</th>\n",
       "    </tr>\n",
       "  </thead>\n",
       "  <tbody>\n",
       "    <tr>\n",
       "      <th>113218</th>\n",
       "      <td>113218</td>\n",
       "      <td>1383_26</td>\n",
       "      <td>885.74</td>\n",
       "      <td>2018-11-21</td>\n",
       "      <td>1383</td>\n",
       "    </tr>\n",
       "    <tr>\n",
       "      <th>85183</th>\n",
       "      <td>85183</td>\n",
       "      <td>1290_213</td>\n",
       "      <td>13.49</td>\n",
       "      <td>2018-06-02</td>\n",
       "      <td>1290</td>\n",
       "    </tr>\n",
       "    <tr>\n",
       "      <th>129638</th>\n",
       "      <td>129638</td>\n",
       "      <td>1432_126</td>\n",
       "      <td>512.99</td>\n",
       "      <td>2018-10-03</td>\n",
       "      <td>1432</td>\n",
       "    </tr>\n",
       "    <tr>\n",
       "      <th>108181</th>\n",
       "      <td>108181</td>\n",
       "      <td>1369_210</td>\n",
       "      <td>260.67</td>\n",
       "      <td>2018-08-31</td>\n",
       "      <td>1369</td>\n",
       "    </tr>\n",
       "    <tr>\n",
       "      <th>10168</th>\n",
       "      <td>10168</td>\n",
       "      <td>1035_3</td>\n",
       "      <td>485.97</td>\n",
       "      <td>2018-05-07</td>\n",
       "      <td>1035</td>\n",
       "    </tr>\n",
       "    <tr>\n",
       "      <th>102250</th>\n",
       "      <td>102250</td>\n",
       "      <td>1341_365</td>\n",
       "      <td>377.67</td>\n",
       "      <td>2018-11-25</td>\n",
       "      <td>1341</td>\n",
       "    </tr>\n",
       "    <tr>\n",
       "      <th>99333</th>\n",
       "      <td>99333</td>\n",
       "      <td>1332_307</td>\n",
       "      <td>425.33</td>\n",
       "      <td>2018-06-13</td>\n",
       "      <td>1332</td>\n",
       "    </tr>\n",
       "    <tr>\n",
       "      <th>25690</th>\n",
       "      <td>25690</td>\n",
       "      <td>1088_325</td>\n",
       "      <td>0.00</td>\n",
       "      <td>2018-07-18</td>\n",
       "      <td>1088</td>\n",
       "    </tr>\n",
       "    <tr>\n",
       "      <th>148461</th>\n",
       "      <td>148461</td>\n",
       "      <td>1496_409</td>\n",
       "      <td>0.00</td>\n",
       "      <td>2018-04-08</td>\n",
       "      <td>1496</td>\n",
       "    </tr>\n",
       "    <tr>\n",
       "      <th>111165</th>\n",
       "      <td>111165</td>\n",
       "      <td>1377_49</td>\n",
       "      <td>630.58</td>\n",
       "      <td>2018-06-10</td>\n",
       "      <td>1377</td>\n",
       "    </tr>\n",
       "  </tbody>\n",
       "</table>\n",
       "</div>"
      ],
      "text/plain": [
       "        Unnamed: 0        id  mb_used session_date  user_id\n",
       "113218      113218   1383_26   885.74   2018-11-21     1383\n",
       "85183        85183  1290_213    13.49   2018-06-02     1290\n",
       "129638      129638  1432_126   512.99   2018-10-03     1432\n",
       "108181      108181  1369_210   260.67   2018-08-31     1369\n",
       "10168        10168    1035_3   485.97   2018-05-07     1035\n",
       "102250      102250  1341_365   377.67   2018-11-25     1341\n",
       "99333        99333  1332_307   425.33   2018-06-13     1332\n",
       "25690        25690  1088_325     0.00   2018-07-18     1088\n",
       "148461      148461  1496_409     0.00   2018-04-08     1496\n",
       "111165      111165   1377_49   630.58   2018-06-10     1377"
      ]
     },
     "execution_count": 8,
     "metadata": {},
     "output_type": "execute_result"
    }
   ],
   "source": [
    "internet.sample(10)#посмотрим рандомные 10 строк таблицы"
   ]
  },
  {
   "cell_type": "markdown",
   "id": "e208ca4d",
   "metadata": {},
   "source": [
    "**Вывод:**"
   ]
  },
  {
   "cell_type": "markdown",
   "id": "06dedb6f",
   "metadata": {},
   "source": [
    "- непонятный столбец `Unnamed: 0` (описание к нему отсутствовало), судя по таблице - эта колонка дублирует индексы, ее можно удалить,\n",
    "- `id` стоит перевести в формат int32, так же как и `user_id`,\n",
    "- `mb_used` необходимо превести к формату int32 с округлением вверх,\n",
    "- `session_date` необходимо перевести в формат дат."
   ]
  },
  {
   "cell_type": "markdown",
   "id": "132578bd",
   "metadata": {},
   "source": [
    "## Информация о сообщениях"
   ]
  },
  {
   "cell_type": "markdown",
   "id": "cf80200e",
   "metadata": {},
   "source": [
    "- `id` — уникальный номер сообщения\n",
    "- `message_date` — дата сообщения\n",
    "- `user_id` — идентификатор пользователя, отправившего сообщение"
   ]
  },
  {
   "cell_type": "code",
   "execution_count": 9,
   "id": "faf2ef9d",
   "metadata": {},
   "outputs": [
    {
     "name": "stdout",
     "output_type": "stream",
     "text": [
      "<class 'pandas.core.frame.DataFrame'>\n",
      "RangeIndex: 123036 entries, 0 to 123035\n",
      "Data columns (total 3 columns):\n",
      " #   Column        Non-Null Count   Dtype \n",
      "---  ------        --------------   ----- \n",
      " 0   id            123036 non-null  object\n",
      " 1   message_date  123036 non-null  object\n",
      " 2   user_id       123036 non-null  int64 \n",
      "dtypes: int64(1), object(2)\n",
      "memory usage: 2.8+ MB\n"
     ]
    }
   ],
   "source": [
    "messages.info() #посмотрим общую информацию о датасете"
   ]
  },
  {
   "cell_type": "code",
   "execution_count": 10,
   "id": "85cb54bd",
   "metadata": {},
   "outputs": [
    {
     "data": {
      "text/html": [
       "<div>\n",
       "<style scoped>\n",
       "    .dataframe tbody tr th:only-of-type {\n",
       "        vertical-align: middle;\n",
       "    }\n",
       "\n",
       "    .dataframe tbody tr th {\n",
       "        vertical-align: top;\n",
       "    }\n",
       "\n",
       "    .dataframe thead th {\n",
       "        text-align: right;\n",
       "    }\n",
       "</style>\n",
       "<table border=\"1\" class=\"dataframe\">\n",
       "  <thead>\n",
       "    <tr style=\"text-align: right;\">\n",
       "      <th></th>\n",
       "      <th>user_id</th>\n",
       "    </tr>\n",
       "  </thead>\n",
       "  <tbody>\n",
       "    <tr>\n",
       "      <th>count</th>\n",
       "      <td>123036.000000</td>\n",
       "    </tr>\n",
       "    <tr>\n",
       "      <th>mean</th>\n",
       "      <td>1256.989410</td>\n",
       "    </tr>\n",
       "    <tr>\n",
       "      <th>std</th>\n",
       "      <td>143.523967</td>\n",
       "    </tr>\n",
       "    <tr>\n",
       "      <th>min</th>\n",
       "      <td>1000.000000</td>\n",
       "    </tr>\n",
       "    <tr>\n",
       "      <th>25%</th>\n",
       "      <td>1134.000000</td>\n",
       "    </tr>\n",
       "    <tr>\n",
       "      <th>50%</th>\n",
       "      <td>1271.000000</td>\n",
       "    </tr>\n",
       "    <tr>\n",
       "      <th>75%</th>\n",
       "      <td>1381.000000</td>\n",
       "    </tr>\n",
       "    <tr>\n",
       "      <th>max</th>\n",
       "      <td>1499.000000</td>\n",
       "    </tr>\n",
       "  </tbody>\n",
       "</table>\n",
       "</div>"
      ],
      "text/plain": [
       "             user_id\n",
       "count  123036.000000\n",
       "mean     1256.989410\n",
       "std       143.523967\n",
       "min      1000.000000\n",
       "25%      1134.000000\n",
       "50%      1271.000000\n",
       "75%      1381.000000\n",
       "max      1499.000000"
      ]
     },
     "execution_count": 10,
     "metadata": {},
     "output_type": "execute_result"
    }
   ],
   "source": [
    "messages.describe() #посмотрим статистическую информацию"
   ]
  },
  {
   "cell_type": "code",
   "execution_count": 11,
   "id": "8e32aa6d",
   "metadata": {
    "scrolled": true
   },
   "outputs": [
    {
     "data": {
      "text/html": [
       "<div>\n",
       "<style scoped>\n",
       "    .dataframe tbody tr th:only-of-type {\n",
       "        vertical-align: middle;\n",
       "    }\n",
       "\n",
       "    .dataframe tbody tr th {\n",
       "        vertical-align: top;\n",
       "    }\n",
       "\n",
       "    .dataframe thead th {\n",
       "        text-align: right;\n",
       "    }\n",
       "</style>\n",
       "<table border=\"1\" class=\"dataframe\">\n",
       "  <thead>\n",
       "    <tr style=\"text-align: right;\">\n",
       "      <th></th>\n",
       "      <th>id</th>\n",
       "      <th>message_date</th>\n",
       "      <th>user_id</th>\n",
       "    </tr>\n",
       "  </thead>\n",
       "  <tbody>\n",
       "    <tr>\n",
       "      <th>42157</th>\n",
       "      <td>1181_30</td>\n",
       "      <td>2018-12-10</td>\n",
       "      <td>1181</td>\n",
       "    </tr>\n",
       "    <tr>\n",
       "      <th>119446</th>\n",
       "      <td>1483_381</td>\n",
       "      <td>2018-07-24</td>\n",
       "      <td>1483</td>\n",
       "    </tr>\n",
       "    <tr>\n",
       "      <th>17387</th>\n",
       "      <td>1076_536</td>\n",
       "      <td>2018-09-18</td>\n",
       "      <td>1076</td>\n",
       "    </tr>\n",
       "    <tr>\n",
       "      <th>25541</th>\n",
       "      <td>1104_733</td>\n",
       "      <td>2018-08-02</td>\n",
       "      <td>1104</td>\n",
       "    </tr>\n",
       "    <tr>\n",
       "      <th>31002</th>\n",
       "      <td>1135_36</td>\n",
       "      <td>2018-11-24</td>\n",
       "      <td>1135</td>\n",
       "    </tr>\n",
       "    <tr>\n",
       "      <th>86377</th>\n",
       "      <td>1358_6</td>\n",
       "      <td>2018-04-16</td>\n",
       "      <td>1358</td>\n",
       "    </tr>\n",
       "    <tr>\n",
       "      <th>12629</th>\n",
       "      <td>1054_185</td>\n",
       "      <td>2018-07-24</td>\n",
       "      <td>1054</td>\n",
       "    </tr>\n",
       "    <tr>\n",
       "      <th>37970</th>\n",
       "      <td>1165_324</td>\n",
       "      <td>2018-12-30</td>\n",
       "      <td>1165</td>\n",
       "    </tr>\n",
       "    <tr>\n",
       "      <th>115004</th>\n",
       "      <td>1471_232</td>\n",
       "      <td>2018-04-04</td>\n",
       "      <td>1471</td>\n",
       "    </tr>\n",
       "    <tr>\n",
       "      <th>32928</th>\n",
       "      <td>1145_581</td>\n",
       "      <td>2018-10-07</td>\n",
       "      <td>1145</td>\n",
       "    </tr>\n",
       "  </tbody>\n",
       "</table>\n",
       "</div>"
      ],
      "text/plain": [
       "              id message_date  user_id\n",
       "42157    1181_30   2018-12-10     1181\n",
       "119446  1483_381   2018-07-24     1483\n",
       "17387   1076_536   2018-09-18     1076\n",
       "25541   1104_733   2018-08-02     1104\n",
       "31002    1135_36   2018-11-24     1135\n",
       "86377     1358_6   2018-04-16     1358\n",
       "12629   1054_185   2018-07-24     1054\n",
       "37970   1165_324   2018-12-30     1165\n",
       "115004  1471_232   2018-04-04     1471\n",
       "32928   1145_581   2018-10-07     1145"
      ]
     },
     "execution_count": 11,
     "metadata": {},
     "output_type": "execute_result"
    }
   ],
   "source": [
    "messages.sample(10) #посмотрим рандомные 10 строк таблицы"
   ]
  },
  {
   "cell_type": "markdown",
   "id": "0d7b939c",
   "metadata": {},
   "source": [
    "**Вывод**"
   ]
  },
  {
   "cell_type": "markdown",
   "id": "f70fe811",
   "metadata": {},
   "source": [
    "- `id` и `user_id` необходимо перевести в формат int32, \n",
    "- `message_date` необходимо перевести в формат дат."
   ]
  },
  {
   "cell_type": "markdown",
   "id": "b0dfa03b",
   "metadata": {},
   "source": [
    "## Информация о пользователях"
   ]
  },
  {
   "cell_type": "markdown",
   "id": "4b32571a",
   "metadata": {},
   "source": [
    "- `user_id` — уникальный идентификатор пользователя\n",
    "- `first_name` — имя пользователя\n",
    "- `last_name` — фамилия пользователя\n",
    "- `age` — возраст пользователя (годы)\n",
    "- `reg_date` — дата подключения тарифа (день, месяц, год)\n",
    "- `churn_date` — дата прекращения пользования тарифом (если значение пропущено, то тариф ещё действовал на момент выгрузки данных)\n",
    "- `city` — город проживания пользователя\n",
    "- `tariff` — название тарифного плана"
   ]
  },
  {
   "cell_type": "code",
   "execution_count": 12,
   "id": "0d062c6e",
   "metadata": {},
   "outputs": [
    {
     "name": "stdout",
     "output_type": "stream",
     "text": [
      "<class 'pandas.core.frame.DataFrame'>\n",
      "RangeIndex: 500 entries, 0 to 499\n",
      "Data columns (total 8 columns):\n",
      " #   Column      Non-Null Count  Dtype \n",
      "---  ------      --------------  ----- \n",
      " 0   user_id     500 non-null    int64 \n",
      " 1   age         500 non-null    int64 \n",
      " 2   churn_date  38 non-null     object\n",
      " 3   city        500 non-null    object\n",
      " 4   first_name  500 non-null    object\n",
      " 5   last_name   500 non-null    object\n",
      " 6   reg_date    500 non-null    object\n",
      " 7   tariff      500 non-null    object\n",
      "dtypes: int64(2), object(6)\n",
      "memory usage: 31.4+ KB\n"
     ]
    }
   ],
   "source": [
    "users.info() #посмотрим общую информацию о датасете"
   ]
  },
  {
   "cell_type": "code",
   "execution_count": 13,
   "id": "5f3588b9",
   "metadata": {},
   "outputs": [
    {
     "data": {
      "text/html": [
       "<div>\n",
       "<style scoped>\n",
       "    .dataframe tbody tr th:only-of-type {\n",
       "        vertical-align: middle;\n",
       "    }\n",
       "\n",
       "    .dataframe tbody tr th {\n",
       "        vertical-align: top;\n",
       "    }\n",
       "\n",
       "    .dataframe thead th {\n",
       "        text-align: right;\n",
       "    }\n",
       "</style>\n",
       "<table border=\"1\" class=\"dataframe\">\n",
       "  <thead>\n",
       "    <tr style=\"text-align: right;\">\n",
       "      <th></th>\n",
       "      <th>user_id</th>\n",
       "      <th>age</th>\n",
       "    </tr>\n",
       "  </thead>\n",
       "  <tbody>\n",
       "    <tr>\n",
       "      <th>count</th>\n",
       "      <td>500.000000</td>\n",
       "      <td>500.00000</td>\n",
       "    </tr>\n",
       "    <tr>\n",
       "      <th>mean</th>\n",
       "      <td>1249.500000</td>\n",
       "      <td>46.58800</td>\n",
       "    </tr>\n",
       "    <tr>\n",
       "      <th>std</th>\n",
       "      <td>144.481833</td>\n",
       "      <td>16.66763</td>\n",
       "    </tr>\n",
       "    <tr>\n",
       "      <th>min</th>\n",
       "      <td>1000.000000</td>\n",
       "      <td>18.00000</td>\n",
       "    </tr>\n",
       "    <tr>\n",
       "      <th>25%</th>\n",
       "      <td>1124.750000</td>\n",
       "      <td>32.00000</td>\n",
       "    </tr>\n",
       "    <tr>\n",
       "      <th>50%</th>\n",
       "      <td>1249.500000</td>\n",
       "      <td>46.00000</td>\n",
       "    </tr>\n",
       "    <tr>\n",
       "      <th>75%</th>\n",
       "      <td>1374.250000</td>\n",
       "      <td>62.00000</td>\n",
       "    </tr>\n",
       "    <tr>\n",
       "      <th>max</th>\n",
       "      <td>1499.000000</td>\n",
       "      <td>75.00000</td>\n",
       "    </tr>\n",
       "  </tbody>\n",
       "</table>\n",
       "</div>"
      ],
      "text/plain": [
       "           user_id        age\n",
       "count   500.000000  500.00000\n",
       "mean   1249.500000   46.58800\n",
       "std     144.481833   16.66763\n",
       "min    1000.000000   18.00000\n",
       "25%    1124.750000   32.00000\n",
       "50%    1249.500000   46.00000\n",
       "75%    1374.250000   62.00000\n",
       "max    1499.000000   75.00000"
      ]
     },
     "execution_count": 13,
     "metadata": {},
     "output_type": "execute_result"
    }
   ],
   "source": [
    "users.describe() #посмотрим статистическую информацию"
   ]
  },
  {
   "cell_type": "code",
   "execution_count": 14,
   "id": "df3eeaf5",
   "metadata": {},
   "outputs": [
    {
     "data": {
      "text/html": [
       "<div>\n",
       "<style scoped>\n",
       "    .dataframe tbody tr th:only-of-type {\n",
       "        vertical-align: middle;\n",
       "    }\n",
       "\n",
       "    .dataframe tbody tr th {\n",
       "        vertical-align: top;\n",
       "    }\n",
       "\n",
       "    .dataframe thead th {\n",
       "        text-align: right;\n",
       "    }\n",
       "</style>\n",
       "<table border=\"1\" class=\"dataframe\">\n",
       "  <thead>\n",
       "    <tr style=\"text-align: right;\">\n",
       "      <th></th>\n",
       "      <th>user_id</th>\n",
       "      <th>age</th>\n",
       "      <th>churn_date</th>\n",
       "      <th>city</th>\n",
       "      <th>first_name</th>\n",
       "      <th>last_name</th>\n",
       "      <th>reg_date</th>\n",
       "      <th>tariff</th>\n",
       "    </tr>\n",
       "  </thead>\n",
       "  <tbody>\n",
       "    <tr>\n",
       "      <th>179</th>\n",
       "      <td>1179</td>\n",
       "      <td>43</td>\n",
       "      <td>NaN</td>\n",
       "      <td>Вологда</td>\n",
       "      <td>Дана</td>\n",
       "      <td>Астапенко</td>\n",
       "      <td>2018-04-19</td>\n",
       "      <td>smart</td>\n",
       "    </tr>\n",
       "    <tr>\n",
       "      <th>177</th>\n",
       "      <td>1177</td>\n",
       "      <td>75</td>\n",
       "      <td>NaN</td>\n",
       "      <td>Новосибирск</td>\n",
       "      <td>Лолита</td>\n",
       "      <td>Аничкина</td>\n",
       "      <td>2018-06-19</td>\n",
       "      <td>smart</td>\n",
       "    </tr>\n",
       "    <tr>\n",
       "      <th>178</th>\n",
       "      <td>1178</td>\n",
       "      <td>56</td>\n",
       "      <td>NaN</td>\n",
       "      <td>Москва</td>\n",
       "      <td>Наталья</td>\n",
       "      <td>Жарова</td>\n",
       "      <td>2018-05-15</td>\n",
       "      <td>smart</td>\n",
       "    </tr>\n",
       "    <tr>\n",
       "      <th>334</th>\n",
       "      <td>1334</td>\n",
       "      <td>45</td>\n",
       "      <td>NaN</td>\n",
       "      <td>Владивосток</td>\n",
       "      <td>Пётр</td>\n",
       "      <td>Минаев</td>\n",
       "      <td>2018-11-16</td>\n",
       "      <td>smart</td>\n",
       "    </tr>\n",
       "    <tr>\n",
       "      <th>379</th>\n",
       "      <td>1379</td>\n",
       "      <td>39</td>\n",
       "      <td>NaN</td>\n",
       "      <td>Москва</td>\n",
       "      <td>Нелли</td>\n",
       "      <td>Кочергина</td>\n",
       "      <td>2018-08-09</td>\n",
       "      <td>ultra</td>\n",
       "    </tr>\n",
       "    <tr>\n",
       "      <th>106</th>\n",
       "      <td>1106</td>\n",
       "      <td>67</td>\n",
       "      <td>NaN</td>\n",
       "      <td>Калуга</td>\n",
       "      <td>Исаак</td>\n",
       "      <td>Костин</td>\n",
       "      <td>2018-04-26</td>\n",
       "      <td>ultra</td>\n",
       "    </tr>\n",
       "    <tr>\n",
       "      <th>74</th>\n",
       "      <td>1074</td>\n",
       "      <td>68</td>\n",
       "      <td>NaN</td>\n",
       "      <td>Якутск</td>\n",
       "      <td>Андрей</td>\n",
       "      <td>Кравцов</td>\n",
       "      <td>2018-12-30</td>\n",
       "      <td>smart</td>\n",
       "    </tr>\n",
       "    <tr>\n",
       "      <th>486</th>\n",
       "      <td>1486</td>\n",
       "      <td>35</td>\n",
       "      <td>NaN</td>\n",
       "      <td>Нижний Новгород</td>\n",
       "      <td>Матвей</td>\n",
       "      <td>Моргунов</td>\n",
       "      <td>2018-10-31</td>\n",
       "      <td>smart</td>\n",
       "    </tr>\n",
       "    <tr>\n",
       "      <th>265</th>\n",
       "      <td>1265</td>\n",
       "      <td>24</td>\n",
       "      <td>2018-10-04</td>\n",
       "      <td>Омск</td>\n",
       "      <td>Радим</td>\n",
       "      <td>Адамов</td>\n",
       "      <td>2018-06-24</td>\n",
       "      <td>ultra</td>\n",
       "    </tr>\n",
       "    <tr>\n",
       "      <th>443</th>\n",
       "      <td>1443</td>\n",
       "      <td>21</td>\n",
       "      <td>NaN</td>\n",
       "      <td>Казань</td>\n",
       "      <td>Иван</td>\n",
       "      <td>Афинин</td>\n",
       "      <td>2018-09-17</td>\n",
       "      <td>smart</td>\n",
       "    </tr>\n",
       "  </tbody>\n",
       "</table>\n",
       "</div>"
      ],
      "text/plain": [
       "     user_id  age  churn_date             city first_name  last_name  \\\n",
       "179     1179   43         NaN          Вологда       Дана  Астапенко   \n",
       "177     1177   75         NaN      Новосибирск     Лолита   Аничкина   \n",
       "178     1178   56         NaN           Москва    Наталья     Жарова   \n",
       "334     1334   45         NaN      Владивосток       Пётр     Минаев   \n",
       "379     1379   39         NaN           Москва      Нелли  Кочергина   \n",
       "106     1106   67         NaN           Калуга      Исаак     Костин   \n",
       "74      1074   68         NaN           Якутск     Андрей    Кравцов   \n",
       "486     1486   35         NaN  Нижний Новгород     Матвей   Моргунов   \n",
       "265     1265   24  2018-10-04             Омск      Радим     Адамов   \n",
       "443     1443   21         NaN           Казань       Иван     Афинин   \n",
       "\n",
       "       reg_date tariff  \n",
       "179  2018-04-19  smart  \n",
       "177  2018-06-19  smart  \n",
       "178  2018-05-15  smart  \n",
       "334  2018-11-16  smart  \n",
       "379  2018-08-09  ultra  \n",
       "106  2018-04-26  ultra  \n",
       "74   2018-12-30  smart  \n",
       "486  2018-10-31  smart  \n",
       "265  2018-06-24  ultra  \n",
       "443  2018-09-17  smart  "
      ]
     },
     "execution_count": 14,
     "metadata": {},
     "output_type": "execute_result"
    }
   ],
   "source": [
    "users.sample(10)#посмотрим рандомные 10 строк таблицы"
   ]
  },
  {
   "cell_type": "markdown",
   "id": "50c48301",
   "metadata": {},
   "source": [
    "**Вывод**:\n",
    "- `user_id` и `age` необходимо перевести в формат int32,\n",
    "- имеется большое количество пропусков в колонке `churn_date` (дата прекращения пользования тарифом), но есть информация о том, что если значение пропущено, то тариф еще действовал на момент выгрузки данных,\n",
    "- данные в колонке `reg_date` необходимо перевести в формат дат."
   ]
  },
  {
   "cell_type": "markdown",
   "id": "8ad9844d",
   "metadata": {},
   "source": [
    "## Информация о тарифах"
   ]
  },
  {
   "cell_type": "markdown",
   "id": "ccc56a1e",
   "metadata": {},
   "source": [
    "- `tariff_name` — название тарифа\n",
    "- `rub_monthly_fee` — ежемесячная абонентская плата в рублях\n",
    "- `minutes_included` — количество минут разговора в месяц, включённых в абонентскую плату\n",
    "- `messages_included` — количество сообщений в месяц, включённых в абонентскую плату\n",
    "- `mb_per_month_included` — объём интернет-трафика, включённого в абонентскую плату (в мегабайтах)\n",
    "- `rub_per_minute` — стоимость минуты разговора сверх тарифного пакета (например, если в тарифе 100 минут разговора в месяц, то со 101 минуты будет взиматься плата)\n",
    "- `rub_per_message` — стоимость отправки сообщения сверх тарифного пакета\n",
    "- `rub_per_gb` — стоимость дополнительного гигабайта интернет-трафика сверх тарифного пакета (1 гигабайт = 1024 мегабайта)"
   ]
  },
  {
   "cell_type": "code",
   "execution_count": 15,
   "id": "a30bf9ea",
   "metadata": {},
   "outputs": [
    {
     "name": "stdout",
     "output_type": "stream",
     "text": [
      "<class 'pandas.core.frame.DataFrame'>\n",
      "RangeIndex: 2 entries, 0 to 1\n",
      "Data columns (total 8 columns):\n",
      " #   Column                 Non-Null Count  Dtype \n",
      "---  ------                 --------------  ----- \n",
      " 0   messages_included      2 non-null      int64 \n",
      " 1   mb_per_month_included  2 non-null      int64 \n",
      " 2   minutes_included       2 non-null      int64 \n",
      " 3   rub_monthly_fee        2 non-null      int64 \n",
      " 4   rub_per_gb             2 non-null      int64 \n",
      " 5   rub_per_message        2 non-null      int64 \n",
      " 6   rub_per_minute         2 non-null      int64 \n",
      " 7   tariff_name            2 non-null      object\n",
      "dtypes: int64(7), object(1)\n",
      "memory usage: 256.0+ bytes\n"
     ]
    }
   ],
   "source": [
    "tariffs.info() #посмотрим общую информацию о датасете"
   ]
  },
  {
   "cell_type": "code",
   "execution_count": 16,
   "id": "62ac3987",
   "metadata": {},
   "outputs": [
    {
     "data": {
      "text/html": [
       "<div>\n",
       "<style scoped>\n",
       "    .dataframe tbody tr th:only-of-type {\n",
       "        vertical-align: middle;\n",
       "    }\n",
       "\n",
       "    .dataframe tbody tr th {\n",
       "        vertical-align: top;\n",
       "    }\n",
       "\n",
       "    .dataframe thead th {\n",
       "        text-align: right;\n",
       "    }\n",
       "</style>\n",
       "<table border=\"1\" class=\"dataframe\">\n",
       "  <thead>\n",
       "    <tr style=\"text-align: right;\">\n",
       "      <th></th>\n",
       "      <th>messages_included</th>\n",
       "      <th>mb_per_month_included</th>\n",
       "      <th>minutes_included</th>\n",
       "      <th>rub_monthly_fee</th>\n",
       "      <th>rub_per_gb</th>\n",
       "      <th>rub_per_message</th>\n",
       "      <th>rub_per_minute</th>\n",
       "    </tr>\n",
       "  </thead>\n",
       "  <tbody>\n",
       "    <tr>\n",
       "      <th>count</th>\n",
       "      <td>2.000000</td>\n",
       "      <td>2.000000</td>\n",
       "      <td>2.000000</td>\n",
       "      <td>2.000000</td>\n",
       "      <td>2.000000</td>\n",
       "      <td>2.000000</td>\n",
       "      <td>2.000000</td>\n",
       "    </tr>\n",
       "    <tr>\n",
       "      <th>mean</th>\n",
       "      <td>525.000000</td>\n",
       "      <td>23040.000000</td>\n",
       "      <td>1750.000000</td>\n",
       "      <td>1250.000000</td>\n",
       "      <td>175.000000</td>\n",
       "      <td>2.000000</td>\n",
       "      <td>2.000000</td>\n",
       "    </tr>\n",
       "    <tr>\n",
       "      <th>std</th>\n",
       "      <td>671.751442</td>\n",
       "      <td>10861.160159</td>\n",
       "      <td>1767.766953</td>\n",
       "      <td>989.949494</td>\n",
       "      <td>35.355339</td>\n",
       "      <td>1.414214</td>\n",
       "      <td>1.414214</td>\n",
       "    </tr>\n",
       "    <tr>\n",
       "      <th>min</th>\n",
       "      <td>50.000000</td>\n",
       "      <td>15360.000000</td>\n",
       "      <td>500.000000</td>\n",
       "      <td>550.000000</td>\n",
       "      <td>150.000000</td>\n",
       "      <td>1.000000</td>\n",
       "      <td>1.000000</td>\n",
       "    </tr>\n",
       "    <tr>\n",
       "      <th>25%</th>\n",
       "      <td>287.500000</td>\n",
       "      <td>19200.000000</td>\n",
       "      <td>1125.000000</td>\n",
       "      <td>900.000000</td>\n",
       "      <td>162.500000</td>\n",
       "      <td>1.500000</td>\n",
       "      <td>1.500000</td>\n",
       "    </tr>\n",
       "    <tr>\n",
       "      <th>50%</th>\n",
       "      <td>525.000000</td>\n",
       "      <td>23040.000000</td>\n",
       "      <td>1750.000000</td>\n",
       "      <td>1250.000000</td>\n",
       "      <td>175.000000</td>\n",
       "      <td>2.000000</td>\n",
       "      <td>2.000000</td>\n",
       "    </tr>\n",
       "    <tr>\n",
       "      <th>75%</th>\n",
       "      <td>762.500000</td>\n",
       "      <td>26880.000000</td>\n",
       "      <td>2375.000000</td>\n",
       "      <td>1600.000000</td>\n",
       "      <td>187.500000</td>\n",
       "      <td>2.500000</td>\n",
       "      <td>2.500000</td>\n",
       "    </tr>\n",
       "    <tr>\n",
       "      <th>max</th>\n",
       "      <td>1000.000000</td>\n",
       "      <td>30720.000000</td>\n",
       "      <td>3000.000000</td>\n",
       "      <td>1950.000000</td>\n",
       "      <td>200.000000</td>\n",
       "      <td>3.000000</td>\n",
       "      <td>3.000000</td>\n",
       "    </tr>\n",
       "  </tbody>\n",
       "</table>\n",
       "</div>"
      ],
      "text/plain": [
       "       messages_included  mb_per_month_included  minutes_included  \\\n",
       "count           2.000000               2.000000          2.000000   \n",
       "mean          525.000000           23040.000000       1750.000000   \n",
       "std           671.751442           10861.160159       1767.766953   \n",
       "min            50.000000           15360.000000        500.000000   \n",
       "25%           287.500000           19200.000000       1125.000000   \n",
       "50%           525.000000           23040.000000       1750.000000   \n",
       "75%           762.500000           26880.000000       2375.000000   \n",
       "max          1000.000000           30720.000000       3000.000000   \n",
       "\n",
       "       rub_monthly_fee  rub_per_gb  rub_per_message  rub_per_minute  \n",
       "count         2.000000    2.000000         2.000000        2.000000  \n",
       "mean       1250.000000  175.000000         2.000000        2.000000  \n",
       "std         989.949494   35.355339         1.414214        1.414214  \n",
       "min         550.000000  150.000000         1.000000        1.000000  \n",
       "25%         900.000000  162.500000         1.500000        1.500000  \n",
       "50%        1250.000000  175.000000         2.000000        2.000000  \n",
       "75%        1600.000000  187.500000         2.500000        2.500000  \n",
       "max        1950.000000  200.000000         3.000000        3.000000  "
      ]
     },
     "execution_count": 16,
     "metadata": {},
     "output_type": "execute_result"
    }
   ],
   "source": [
    "tariffs.describe() #посмотрим статистическую информацию"
   ]
  },
  {
   "cell_type": "code",
   "execution_count": 17,
   "id": "c9830483",
   "metadata": {},
   "outputs": [
    {
     "data": {
      "text/html": [
       "<div>\n",
       "<style scoped>\n",
       "    .dataframe tbody tr th:only-of-type {\n",
       "        vertical-align: middle;\n",
       "    }\n",
       "\n",
       "    .dataframe tbody tr th {\n",
       "        vertical-align: top;\n",
       "    }\n",
       "\n",
       "    .dataframe thead th {\n",
       "        text-align: right;\n",
       "    }\n",
       "</style>\n",
       "<table border=\"1\" class=\"dataframe\">\n",
       "  <thead>\n",
       "    <tr style=\"text-align: right;\">\n",
       "      <th></th>\n",
       "      <th>messages_included</th>\n",
       "      <th>mb_per_month_included</th>\n",
       "      <th>minutes_included</th>\n",
       "      <th>rub_monthly_fee</th>\n",
       "      <th>rub_per_gb</th>\n",
       "      <th>rub_per_message</th>\n",
       "      <th>rub_per_minute</th>\n",
       "      <th>tariff_name</th>\n",
       "    </tr>\n",
       "  </thead>\n",
       "  <tbody>\n",
       "    <tr>\n",
       "      <th>0</th>\n",
       "      <td>50</td>\n",
       "      <td>15360</td>\n",
       "      <td>500</td>\n",
       "      <td>550</td>\n",
       "      <td>200</td>\n",
       "      <td>3</td>\n",
       "      <td>3</td>\n",
       "      <td>smart</td>\n",
       "    </tr>\n",
       "    <tr>\n",
       "      <th>1</th>\n",
       "      <td>1000</td>\n",
       "      <td>30720</td>\n",
       "      <td>3000</td>\n",
       "      <td>1950</td>\n",
       "      <td>150</td>\n",
       "      <td>1</td>\n",
       "      <td>1</td>\n",
       "      <td>ultra</td>\n",
       "    </tr>\n",
       "  </tbody>\n",
       "</table>\n",
       "</div>"
      ],
      "text/plain": [
       "   messages_included  mb_per_month_included  minutes_included  \\\n",
       "0                 50                  15360               500   \n",
       "1               1000                  30720              3000   \n",
       "\n",
       "   rub_monthly_fee  rub_per_gb  rub_per_message  rub_per_minute tariff_name  \n",
       "0              550         200                3               3       smart  \n",
       "1             1950         150                1               1       ultra  "
      ]
     },
     "execution_count": 17,
     "metadata": {},
     "output_type": "execute_result"
    }
   ],
   "source": [
    "tariffs.head()#посмотрим первые 5 строк таблицы"
   ]
  },
  {
   "cell_type": "markdown",
   "id": "b5404150",
   "metadata": {},
   "source": [
    "**Вывод:**\n",
    "- с таблицей все в порядке."
   ]
  },
  {
   "cell_type": "markdown",
   "id": "2130eada",
   "metadata": {},
   "source": [
    "## Вывод по обзору данных"
   ]
  },
  {
   "cell_type": "markdown",
   "id": "065edec5",
   "metadata": {},
   "source": [
    "По итогам обзора данных были сделаны следующие выводы:\n",
    "* для таблицы с данными о звонках:\n",
    "   - `id`, `user_id` перевести в формат int32,\n",
    "   - `call_date` необходимо привести к формату дат,\n",
    "   - `duration` необходимо перевести в int32, а также округлить значение вверх.\n",
    "* для таблицы с данными об интернет-сессиях:\n",
    "   - необходимо удалить столбец`Unnamed: 0`\n",
    "   - `id`, `user_id` стоит перевести в формат int32, \n",
    "   - `mb_used` необходимо превести к формату int32 с округлением вверх\n",
    "   - `session_date` необходимо перевести в формат дат\n",
    "* для таблицы с данными о сообщениях:\n",
    "   - `id`, `user_id` необходимо перевести в формат int32, \n",
    "   - `message_date` необходимо перевести в формат дат\n",
    "* для таблицы с данными о пользователях:    \n",
    "   - в `churn_date` имееются пропуски,\n",
    "   - `reg_date` необходимо перевести в формат дат."
   ]
  },
  {
   "cell_type": "markdown",
   "id": "41ffc76e",
   "metadata": {},
   "source": [
    "# Предобработка данных"
   ]
  },
  {
   "cell_type": "markdown",
   "id": "8bf8e18e",
   "metadata": {},
   "source": [
    "## Заполнение пропусков"
   ]
  },
  {
   "cell_type": "markdown",
   "id": "7dcd258c",
   "metadata": {},
   "source": [
    "Исходя из предобработки данных случайных пропусков найдено не было. Однако, были обнаружены нулевые значение в колонках duration таблицы `calls` и mb_used таблицы `internet`."
   ]
  },
  {
   "cell_type": "code",
   "execution_count": 18,
   "id": "6fa94fa4",
   "metadata": {
    "scrolled": true
   },
   "outputs": [
    {
     "data": {
      "text/plain": [
       "'Пропущенные значения в столбце duration таблицы calls:, 19.55%'"
      ]
     },
     "metadata": {},
     "output_type": "display_data"
    },
    {
     "data": {
      "text/plain": [
       "'Пропущенные значения в столбце mb_used таблицы internet:, 13.12%'"
      ]
     },
     "metadata": {},
     "output_type": "display_data"
    }
   ],
   "source": [
    "display('Пропущенные значения в столбце duration таблицы calls:, {:.2%}'.format(\n",
    "    calls[calls['duration'] == 0].count()[0]/calls.shape[0]))\n",
    "display('Пропущенные значения в столбце mb_used таблицы internet:, {:.2%}'.format(\n",
    "    internet[internet['mb_used'] == 0].count()[0]/internet.shape[0]))\n"
   ]
  },
  {
   "cell_type": "markdown",
   "id": "75ec7186",
   "metadata": {},
   "source": [
    "Нулевых значений довольно много, однако по имеющейся информации - нулями обозначены пропущенные звонки, поэтому их удалять не нужно. Нулевые значения в таблице об использовании интернета, возможно, связаны с тем, что у пользователя был подключен интернет, но он им не пользовался. Удалять их так же не будем."
   ]
  },
  {
   "cell_type": "markdown",
   "id": "55636df4",
   "metadata": {},
   "source": [
    "Также были выявлены пропуски в колонке churn_date (дата прекращения пользования тарифом) таблицы `users`. Однако, по имеющейся информации, если значение пропущено, то тариф ещё действовал на момент выгрузки данных. Поэтому с пропущенными значениями мы пока тоже ничего делать не будем."
   ]
  },
  {
   "cell_type": "markdown",
   "id": "4044ae40",
   "metadata": {},
   "source": [
    "**Вывод**\n",
    "\n",
    "Случайных пропусков обнаружено не было."
   ]
  },
  {
   "cell_type": "markdown",
   "id": "9f5391cb",
   "metadata": {},
   "source": [
    "## Удаление дубликатов"
   ]
  },
  {
   "cell_type": "markdown",
   "id": "694d7ffe",
   "metadata": {},
   "source": [
    "Проверим таблицы на наличие дубликатов. "
   ]
  },
  {
   "cell_type": "code",
   "execution_count": 19,
   "id": "a529d161",
   "metadata": {},
   "outputs": [
    {
     "data": {
      "text/plain": [
       "0"
      ]
     },
     "execution_count": 19,
     "metadata": {},
     "output_type": "execute_result"
    }
   ],
   "source": [
    "calls.duplicated().sum() #проверка явных дубликатов таблицы calls"
   ]
  },
  {
   "cell_type": "code",
   "execution_count": 20,
   "id": "c79e2bf1",
   "metadata": {},
   "outputs": [
    {
     "data": {
      "text/plain": [
       "0"
      ]
     },
     "execution_count": 20,
     "metadata": {},
     "output_type": "execute_result"
    }
   ],
   "source": [
    "internet.duplicated().sum() #проверка явных дубликатов таблицы internet"
   ]
  },
  {
   "cell_type": "code",
   "execution_count": 21,
   "id": "e4b5aff7",
   "metadata": {},
   "outputs": [
    {
     "data": {
      "text/plain": [
       "0"
      ]
     },
     "execution_count": 21,
     "metadata": {},
     "output_type": "execute_result"
    }
   ],
   "source": [
    "messages.duplicated().sum() #проверка явных дубликатов таблицы messages"
   ]
  },
  {
   "cell_type": "code",
   "execution_count": 22,
   "id": "810ece5c",
   "metadata": {
    "scrolled": false
   },
   "outputs": [
    {
     "data": {
      "text/plain": [
       "0"
      ]
     },
     "execution_count": 22,
     "metadata": {},
     "output_type": "execute_result"
    }
   ],
   "source": [
    "users.duplicated().sum() #проверка явных дубликатов таблицы users"
   ]
  },
  {
   "cell_type": "markdown",
   "id": "28dc5414",
   "metadata": {},
   "source": [
    "Из всех таблиц только в одной колонке city таблицы `users` могут быть неявные дубликаты, так что, на всякий случай, ее тоже проверим. "
   ]
  },
  {
   "cell_type": "code",
   "execution_count": 23,
   "id": "c84e747b",
   "metadata": {
    "scrolled": false
   },
   "outputs": [
    {
     "data": {
      "text/plain": [
       "array(['Краснодар', 'Москва', 'Стерлитамак', 'Новокузнецк',\n",
       "       'Набережные Челны', 'Ульяновск', 'Челябинск', 'Пермь', 'Тюмень',\n",
       "       'Самара', 'Санкт-Петербург', 'Иваново', 'Чебоксары', 'Омск', 'Уфа',\n",
       "       'Томск', 'Чита', 'Мурманск', 'Петрозаводск', 'Тверь',\n",
       "       'Екатеринбург', 'Махачкала', 'Вологда', 'Череповец', 'Ярославль',\n",
       "       'Сочи', 'Хабаровск', 'Ставрополь', 'Рязань', 'Улан-Удэ', 'Тула',\n",
       "       'Саратов', 'Ростов-на-Дону', 'Казань', 'Иркутск', 'Курск',\n",
       "       'Калуга', 'Якутск', 'Астрахань', 'Химки', 'Владикавказ',\n",
       "       'Волгоград', 'Саранск', 'Ижевск', 'Новосибирск', 'Брянск',\n",
       "       'Тольятти', 'Нижний Тагил', 'Орёл', 'Белгород', 'Воронеж',\n",
       "       'Волжский', 'Курган', 'Барнаул', 'Красноярск', 'Архангельск',\n",
       "       'Липецк', 'Кемерово', 'Киров', 'Сургут', 'Пенза', 'Магнитогорск',\n",
       "       'Нижний Новгород', 'Кострома', 'Владивосток', 'Тамбов', 'Балашиха',\n",
       "       'Севастополь', 'Калининград', 'Оренбург', 'Смоленск',\n",
       "       'Нижневартовск', 'Владимир', 'Новороссийск', 'Грозный', 'Подольск'],\n",
       "      dtype=object)"
      ]
     },
     "execution_count": 23,
     "metadata": {},
     "output_type": "execute_result"
    }
   ],
   "source": [
    "users['city'].unique() #посмотрим на уникальные значения в столбце"
   ]
  },
  {
   "cell_type": "markdown",
   "id": "5fdf95bf",
   "metadata": {},
   "source": [
    "Неявных дубликатов выявлено не было."
   ]
  },
  {
   "cell_type": "markdown",
   "id": "69da57f3",
   "metadata": {},
   "source": [
    "**Вывод**\n",
    "\n",
    "Дубликаты не были обнаружены."
   ]
  },
  {
   "cell_type": "markdown",
   "id": "9accd094",
   "metadata": {},
   "source": [
    "## Изменение типов данных"
   ]
  },
  {
   "cell_type": "markdown",
   "id": "f7f21688",
   "metadata": {},
   "source": [
    "По итогам обзора данных были сделаны выводы о том, что типы данных в некоторых колонках таблиц необходимо заменить. Далее проводится их замена по каждой таблице в отдельности."
   ]
  },
  {
   "cell_type": "markdown",
   "id": "4dd161d7",
   "metadata": {},
   "source": [
    "### Таблица с данными о звонках"
   ]
  },
  {
   "cell_type": "code",
   "execution_count": 24,
   "id": "af80f1d1",
   "metadata": {
    "scrolled": true
   },
   "outputs": [
    {
     "name": "stdout",
     "output_type": "stream",
     "text": [
      "<class 'pandas.core.frame.DataFrame'>\n",
      "RangeIndex: 202607 entries, 0 to 202606\n",
      "Data columns (total 4 columns):\n",
      " #   Column     Non-Null Count   Dtype         \n",
      "---  ------     --------------   -----         \n",
      " 0   id         202607 non-null  int64         \n",
      " 1   call_date  202607 non-null  datetime64[ns]\n",
      " 2   duration   202607 non-null  int64         \n",
      " 3   user_id    202607 non-null  int64         \n",
      "dtypes: datetime64[ns](1), int64(3)\n",
      "memory usage: 6.2 MB\n"
     ]
    }
   ],
   "source": [
    "#перевод формата в int\n",
    "calls['id'] = calls['id'].astype('int') \n",
    "#перевод формата в int, а также округление в большую сторию в соответствии с условиями\n",
    "calls['duration'] = calls['duration'].apply(np.ceil).astype('int') \n",
    "#перевод в формат дат \n",
    "calls['call_date'] = pd.to_datetime(calls['call_date'], format='%Y-%m-%d')\n",
    "#перевод формата в int\n",
    "calls['user_id'] = calls['user_id'].astype('int')\n",
    "calls.info()"
   ]
  },
  {
   "cell_type": "markdown",
   "id": "0f01aea7",
   "metadata": {},
   "source": [
    "### Таблица с данными об интернет-сессиях"
   ]
  },
  {
   "cell_type": "markdown",
   "id": "b5bd6c77",
   "metadata": {},
   "source": [
    "В таблице с данными об интернет-сессиях был обнаружен столбец, описания которого в исходной документации не было. Т.к. этот столбец непонятно что собой представляет, а также для расчетов нам не нужен мы его удалим. "
   ]
  },
  {
   "cell_type": "code",
   "execution_count": 25,
   "id": "11c798d0",
   "metadata": {},
   "outputs": [
    {
     "name": "stdout",
     "output_type": "stream",
     "text": [
      "<class 'pandas.core.frame.DataFrame'>\n",
      "RangeIndex: 149396 entries, 0 to 149395\n",
      "Data columns (total 4 columns):\n",
      " #   Column        Non-Null Count   Dtype         \n",
      "---  ------        --------------   -----         \n",
      " 0   id            149396 non-null  int64         \n",
      " 1   mb_used       149396 non-null  int64         \n",
      " 2   session_date  149396 non-null  datetime64[ns]\n",
      " 3   user_id       149396 non-null  int64         \n",
      "dtypes: datetime64[ns](1), int64(3)\n",
      "memory usage: 4.6 MB\n"
     ]
    }
   ],
   "source": [
    "#удаление неизвестного столбца\n",
    "internet = internet.drop(columns = ['Unnamed: 0'])\n",
    "\n",
    "#далее все итерации проводятся по аналогии с данными в таблице со звонками\n",
    "internet['id'] = internet['id'].astype('int')\n",
    "internet['mb_used'] = internet['mb_used'].apply(np.ceil).astype('int')\n",
    "internet['session_date'] = pd.to_datetime(internet['session_date'], format='%Y-%m-%d')\n",
    "internet['user_id'] = internet['user_id'].astype('int')\n",
    "internet.info()"
   ]
  },
  {
   "cell_type": "markdown",
   "id": "796f627e",
   "metadata": {},
   "source": [
    "### Таблица с данными о сообщениях"
   ]
  },
  {
   "cell_type": "code",
   "execution_count": 26,
   "id": "e5bbff37",
   "metadata": {
    "scrolled": true
   },
   "outputs": [
    {
     "name": "stdout",
     "output_type": "stream",
     "text": [
      "<class 'pandas.core.frame.DataFrame'>\n",
      "RangeIndex: 123036 entries, 0 to 123035\n",
      "Data columns (total 3 columns):\n",
      " #   Column        Non-Null Count   Dtype         \n",
      "---  ------        --------------   -----         \n",
      " 0   id            123036 non-null  int64         \n",
      " 1   message_date  123036 non-null  datetime64[ns]\n",
      " 2   user_id       123036 non-null  int64         \n",
      "dtypes: datetime64[ns](1), int64(2)\n",
      "memory usage: 2.8 MB\n"
     ]
    }
   ],
   "source": [
    "messages['id'] = messages['id'].astype('int')\n",
    "messages['message_date'] = pd.to_datetime(messages['message_date'], format='%Y-%m-%d')\n",
    "messages['user_id'] = messages['user_id'].astype('int')\n",
    "messages.info()"
   ]
  },
  {
   "cell_type": "markdown",
   "id": "2eb7998f",
   "metadata": {},
   "source": [
    "### Таблица с данными о пользователях"
   ]
  },
  {
   "cell_type": "code",
   "execution_count": 27,
   "id": "cd1911f4",
   "metadata": {},
   "outputs": [
    {
     "name": "stdout",
     "output_type": "stream",
     "text": [
      "<class 'pandas.core.frame.DataFrame'>\n",
      "RangeIndex: 500 entries, 0 to 499\n",
      "Data columns (total 8 columns):\n",
      " #   Column      Non-Null Count  Dtype         \n",
      "---  ------      --------------  -----         \n",
      " 0   user_id     500 non-null    int64         \n",
      " 1   age         500 non-null    int64         \n",
      " 2   churn_date  38 non-null     datetime64[ns]\n",
      " 3   city        500 non-null    object        \n",
      " 4   first_name  500 non-null    object        \n",
      " 5   last_name   500 non-null    object        \n",
      " 6   reg_date    500 non-null    datetime64[ns]\n",
      " 7   tariff      500 non-null    object        \n",
      "dtypes: datetime64[ns](2), int64(2), object(4)\n",
      "memory usage: 31.4+ KB\n"
     ]
    }
   ],
   "source": [
    "users['user_id'] = users['user_id'].astype('int')\n",
    "users['age'] = users['age'].astype('int')\n",
    "users['churn_date'] = pd.to_datetime(users['churn_date'], format='%Y-%m-%d')\n",
    "users['reg_date'] = pd.to_datetime(users['reg_date'], format='%Y-%m-%d')\n",
    "users.info()"
   ]
  },
  {
   "cell_type": "markdown",
   "id": "4f453c6b",
   "metadata": {},
   "source": [
    "**Вывод**\n",
    "\n",
    "Были скорректированы типы данных, также все int64 приведены к int32 для уменьшения размера таблиц. Помимо того был удален неизвестный столбец Unnamed: 0 в таблице `internet`."
   ]
  },
  {
   "cell_type": "markdown",
   "id": "981e41f0",
   "metadata": {},
   "source": [
    "### Расчет показателей"
   ]
  },
  {
   "cell_type": "markdown",
   "id": "5cad36eb",
   "metadata": {},
   "source": [
    "Далее рассчитаем следующие показатели:\n",
    " * количество сделанных звонков и израсходованных минут разговора по месяцам,\n",
    " * количество отправленных сообщений по месяцам,\n",
    " * объем израсходованного интернет-трафика по месяцам,\n",
    " * помесячная выручка с каждого пользователя."
   ]
  },
  {
   "cell_type": "markdown",
   "id": "27b19900",
   "metadata": {},
   "source": [
    "**Количество сделанных звонков и израсходованных минут разговора по месяцам**"
   ]
  },
  {
   "cell_type": "code",
   "execution_count": 28,
   "id": "97a9608f",
   "metadata": {},
   "outputs": [
    {
     "data": {
      "text/html": [
       "<div>\n",
       "<style scoped>\n",
       "    .dataframe tbody tr th:only-of-type {\n",
       "        vertical-align: middle;\n",
       "    }\n",
       "\n",
       "    .dataframe tbody tr th {\n",
       "        vertical-align: top;\n",
       "    }\n",
       "\n",
       "    .dataframe thead th {\n",
       "        text-align: right;\n",
       "    }\n",
       "</style>\n",
       "<table border=\"1\" class=\"dataframe\">\n",
       "  <thead>\n",
       "    <tr style=\"text-align: right;\">\n",
       "      <th></th>\n",
       "      <th>user_id</th>\n",
       "      <th>month</th>\n",
       "      <th>month_calls_duration</th>\n",
       "      <th>calls_total_in_month</th>\n",
       "    </tr>\n",
       "  </thead>\n",
       "  <tbody>\n",
       "    <tr>\n",
       "      <th>0</th>\n",
       "      <td>1000</td>\n",
       "      <td>5</td>\n",
       "      <td>159</td>\n",
       "      <td>22</td>\n",
       "    </tr>\n",
       "    <tr>\n",
       "      <th>1</th>\n",
       "      <td>1000</td>\n",
       "      <td>6</td>\n",
       "      <td>172</td>\n",
       "      <td>43</td>\n",
       "    </tr>\n",
       "    <tr>\n",
       "      <th>2</th>\n",
       "      <td>1000</td>\n",
       "      <td>7</td>\n",
       "      <td>340</td>\n",
       "      <td>47</td>\n",
       "    </tr>\n",
       "    <tr>\n",
       "      <th>3</th>\n",
       "      <td>1000</td>\n",
       "      <td>8</td>\n",
       "      <td>408</td>\n",
       "      <td>52</td>\n",
       "    </tr>\n",
       "    <tr>\n",
       "      <th>4</th>\n",
       "      <td>1000</td>\n",
       "      <td>9</td>\n",
       "      <td>466</td>\n",
       "      <td>58</td>\n",
       "    </tr>\n",
       "  </tbody>\n",
       "</table>\n",
       "</div>"
      ],
      "text/plain": [
       "   user_id  month  month_calls_duration  calls_total_in_month\n",
       "0     1000      5                   159                    22\n",
       "1     1000      6                   172                    43\n",
       "2     1000      7                   340                    47\n",
       "3     1000      8                   408                    52\n",
       "4     1000      9                   466                    58"
      ]
     },
     "execution_count": 28,
     "metadata": {},
     "output_type": "execute_result"
    }
   ],
   "source": [
    "#добавим в таблицу calls новый столбец с номером месяца\n",
    "calls['month'] = calls['call_date'].dt.month \n",
    "\n",
    "#создадим новый сгруппированный ДФ, в котором будут посчитаны количество звонков и \n",
    "#сумма потраченных минут в месяц по каждому пользователю\n",
    "calls_month = calls.groupby(['user_id', 'month'])\\\n",
    "            .agg({'duration':'sum', 'id':'count'})\\\n",
    "            .reset_index()\\\n",
    "            .rename(columns={'duration':'month_calls_duration', 'id': 'calls_total_in_month'})\n",
    "\n",
    "#выведем 5 строк таблицы для проверки\n",
    "calls_month.head(5) "
   ]
  },
  {
   "cell_type": "markdown",
   "id": "e04cd816",
   "metadata": {},
   "source": [
    "Была успешно создана новая таблица с информацией для каждого пользователя с количеством совершенных звоноков, а также истраченных минут за месяц."
   ]
  },
  {
   "cell_type": "markdown",
   "id": "4c798d6c",
   "metadata": {},
   "source": [
    "**Количество отправленных сообщений по месяцам**"
   ]
  },
  {
   "cell_type": "code",
   "execution_count": 29,
   "id": "8d75b27c",
   "metadata": {},
   "outputs": [
    {
     "data": {
      "text/html": [
       "<div>\n",
       "<style scoped>\n",
       "    .dataframe tbody tr th:only-of-type {\n",
       "        vertical-align: middle;\n",
       "    }\n",
       "\n",
       "    .dataframe tbody tr th {\n",
       "        vertical-align: top;\n",
       "    }\n",
       "\n",
       "    .dataframe thead th {\n",
       "        text-align: right;\n",
       "    }\n",
       "</style>\n",
       "<table border=\"1\" class=\"dataframe\">\n",
       "  <thead>\n",
       "    <tr style=\"text-align: right;\">\n",
       "      <th></th>\n",
       "      <th>user_id</th>\n",
       "      <th>month</th>\n",
       "      <th>message_total_in_month</th>\n",
       "    </tr>\n",
       "  </thead>\n",
       "  <tbody>\n",
       "    <tr>\n",
       "      <th>0</th>\n",
       "      <td>1000</td>\n",
       "      <td>5</td>\n",
       "      <td>22</td>\n",
       "    </tr>\n",
       "    <tr>\n",
       "      <th>1</th>\n",
       "      <td>1000</td>\n",
       "      <td>6</td>\n",
       "      <td>60</td>\n",
       "    </tr>\n",
       "    <tr>\n",
       "      <th>2</th>\n",
       "      <td>1000</td>\n",
       "      <td>7</td>\n",
       "      <td>75</td>\n",
       "    </tr>\n",
       "    <tr>\n",
       "      <th>3</th>\n",
       "      <td>1000</td>\n",
       "      <td>8</td>\n",
       "      <td>81</td>\n",
       "    </tr>\n",
       "    <tr>\n",
       "      <th>4</th>\n",
       "      <td>1000</td>\n",
       "      <td>9</td>\n",
       "      <td>57</td>\n",
       "    </tr>\n",
       "  </tbody>\n",
       "</table>\n",
       "</div>"
      ],
      "text/plain": [
       "   user_id  month  message_total_in_month\n",
       "0     1000      5                      22\n",
       "1     1000      6                      60\n",
       "2     1000      7                      75\n",
       "3     1000      8                      81\n",
       "4     1000      9                      57"
      ]
     },
     "execution_count": 29,
     "metadata": {},
     "output_type": "execute_result"
    }
   ],
   "source": [
    "messages['month'] = messages['message_date'].dt.month\n",
    "messages_month = messages.groupby(['user_id', 'month'])\\\n",
    "            .agg({'id':'count'})\\\n",
    "            .reset_index()\\\n",
    "            .rename(columns={'id': 'message_total_in_month'})\n",
    "messages_month.head(5)"
   ]
  },
  {
   "cell_type": "markdown",
   "id": "38d432bd",
   "metadata": {},
   "source": [
    "Была успешно создана новая таблица с информацией для каждого пользователя о количестве отправленных смс за месяц."
   ]
  },
  {
   "cell_type": "markdown",
   "id": "6f428ab2",
   "metadata": {},
   "source": [
    "**Объем израсходованного интернет-трафика по месяцам**"
   ]
  },
  {
   "cell_type": "code",
   "execution_count": 30,
   "id": "d5e2da08",
   "metadata": {},
   "outputs": [
    {
     "data": {
      "text/html": [
       "<div>\n",
       "<style scoped>\n",
       "    .dataframe tbody tr th:only-of-type {\n",
       "        vertical-align: middle;\n",
       "    }\n",
       "\n",
       "    .dataframe tbody tr th {\n",
       "        vertical-align: top;\n",
       "    }\n",
       "\n",
       "    .dataframe thead th {\n",
       "        text-align: right;\n",
       "    }\n",
       "</style>\n",
       "<table border=\"1\" class=\"dataframe\">\n",
       "  <thead>\n",
       "    <tr style=\"text-align: right;\">\n",
       "      <th></th>\n",
       "      <th>user_id</th>\n",
       "      <th>month</th>\n",
       "      <th>mb_total_in_month</th>\n",
       "    </tr>\n",
       "  </thead>\n",
       "  <tbody>\n",
       "    <tr>\n",
       "      <th>0</th>\n",
       "      <td>1000</td>\n",
       "      <td>5</td>\n",
       "      <td>2256</td>\n",
       "    </tr>\n",
       "    <tr>\n",
       "      <th>1</th>\n",
       "      <td>1000</td>\n",
       "      <td>6</td>\n",
       "      <td>23257</td>\n",
       "    </tr>\n",
       "    <tr>\n",
       "      <th>2</th>\n",
       "      <td>1000</td>\n",
       "      <td>7</td>\n",
       "      <td>14016</td>\n",
       "    </tr>\n",
       "    <tr>\n",
       "      <th>3</th>\n",
       "      <td>1000</td>\n",
       "      <td>8</td>\n",
       "      <td>14070</td>\n",
       "    </tr>\n",
       "    <tr>\n",
       "      <th>4</th>\n",
       "      <td>1000</td>\n",
       "      <td>9</td>\n",
       "      <td>14581</td>\n",
       "    </tr>\n",
       "  </tbody>\n",
       "</table>\n",
       "</div>"
      ],
      "text/plain": [
       "   user_id  month  mb_total_in_month\n",
       "0     1000      5               2256\n",
       "1     1000      6              23257\n",
       "2     1000      7              14016\n",
       "3     1000      8              14070\n",
       "4     1000      9              14581"
      ]
     },
     "execution_count": 30,
     "metadata": {},
     "output_type": "execute_result"
    }
   ],
   "source": [
    "internet['month'] = internet['session_date'].dt.month\n",
    "internet_month = internet.groupby(['user_id', 'month'])\\\n",
    "            .agg({'mb_used':'sum'})\\\n",
    "            .reset_index()\\\n",
    "            .rename(columns={'mb_used': 'mb_total_in_month'})\n",
    "internet_month.head(5)"
   ]
  },
  {
   "cell_type": "markdown",
   "id": "536aecc3",
   "metadata": {},
   "source": [
    "Была успешно создана новая таблица с информацией для каждого пользователя об объеме потраченного интернет-траффика за месяц."
   ]
  },
  {
   "cell_type": "markdown",
   "id": "b1c50bd1",
   "metadata": {},
   "source": [
    "**Помесячная выручка с каждого пользователя**"
   ]
  },
  {
   "cell_type": "markdown",
   "id": "ad34914e",
   "metadata": {},
   "source": [
    "Для расчета помесячной выручки, полученной с каждого пользователя, нам необходимо будет объединить таблицы `calls_month`, `messages_month`, `internet_month`, `users`, а также `tariffs`."
   ]
  },
  {
   "cell_type": "code",
   "execution_count": 31,
   "id": "19325067",
   "metadata": {},
   "outputs": [
    {
     "data": {
      "text/html": [
       "<div>\n",
       "<style scoped>\n",
       "    .dataframe tbody tr th:only-of-type {\n",
       "        vertical-align: middle;\n",
       "    }\n",
       "\n",
       "    .dataframe tbody tr th {\n",
       "        vertical-align: top;\n",
       "    }\n",
       "\n",
       "    .dataframe thead th {\n",
       "        text-align: right;\n",
       "    }\n",
       "</style>\n",
       "<table border=\"1\" class=\"dataframe\">\n",
       "  <thead>\n",
       "    <tr style=\"text-align: right;\">\n",
       "      <th></th>\n",
       "      <th>user_id</th>\n",
       "      <th>month</th>\n",
       "      <th>month_calls_duration</th>\n",
       "      <th>calls_total_in_month</th>\n",
       "      <th>message_total_in_month</th>\n",
       "      <th>mb_total_in_month</th>\n",
       "      <th>age</th>\n",
       "      <th>churn_date</th>\n",
       "      <th>city</th>\n",
       "      <th>first_name</th>\n",
       "      <th>last_name</th>\n",
       "      <th>reg_date</th>\n",
       "      <th>tariff</th>\n",
       "    </tr>\n",
       "  </thead>\n",
       "  <tbody>\n",
       "    <tr>\n",
       "      <th>0</th>\n",
       "      <td>1000</td>\n",
       "      <td>5</td>\n",
       "      <td>159.0</td>\n",
       "      <td>22.0</td>\n",
       "      <td>22.0</td>\n",
       "      <td>2256.0</td>\n",
       "      <td>52</td>\n",
       "      <td>NaT</td>\n",
       "      <td>Краснодар</td>\n",
       "      <td>Рафаил</td>\n",
       "      <td>Верещагин</td>\n",
       "      <td>2018-05-25</td>\n",
       "      <td>ultra</td>\n",
       "    </tr>\n",
       "    <tr>\n",
       "      <th>1</th>\n",
       "      <td>1000</td>\n",
       "      <td>6</td>\n",
       "      <td>172.0</td>\n",
       "      <td>43.0</td>\n",
       "      <td>60.0</td>\n",
       "      <td>23257.0</td>\n",
       "      <td>52</td>\n",
       "      <td>NaT</td>\n",
       "      <td>Краснодар</td>\n",
       "      <td>Рафаил</td>\n",
       "      <td>Верещагин</td>\n",
       "      <td>2018-05-25</td>\n",
       "      <td>ultra</td>\n",
       "    </tr>\n",
       "    <tr>\n",
       "      <th>2</th>\n",
       "      <td>1000</td>\n",
       "      <td>7</td>\n",
       "      <td>340.0</td>\n",
       "      <td>47.0</td>\n",
       "      <td>75.0</td>\n",
       "      <td>14016.0</td>\n",
       "      <td>52</td>\n",
       "      <td>NaT</td>\n",
       "      <td>Краснодар</td>\n",
       "      <td>Рафаил</td>\n",
       "      <td>Верещагин</td>\n",
       "      <td>2018-05-25</td>\n",
       "      <td>ultra</td>\n",
       "    </tr>\n",
       "    <tr>\n",
       "      <th>3</th>\n",
       "      <td>1000</td>\n",
       "      <td>8</td>\n",
       "      <td>408.0</td>\n",
       "      <td>52.0</td>\n",
       "      <td>81.0</td>\n",
       "      <td>14070.0</td>\n",
       "      <td>52</td>\n",
       "      <td>NaT</td>\n",
       "      <td>Краснодар</td>\n",
       "      <td>Рафаил</td>\n",
       "      <td>Верещагин</td>\n",
       "      <td>2018-05-25</td>\n",
       "      <td>ultra</td>\n",
       "    </tr>\n",
       "    <tr>\n",
       "      <th>4</th>\n",
       "      <td>1000</td>\n",
       "      <td>9</td>\n",
       "      <td>466.0</td>\n",
       "      <td>58.0</td>\n",
       "      <td>57.0</td>\n",
       "      <td>14581.0</td>\n",
       "      <td>52</td>\n",
       "      <td>NaT</td>\n",
       "      <td>Краснодар</td>\n",
       "      <td>Рафаил</td>\n",
       "      <td>Верещагин</td>\n",
       "      <td>2018-05-25</td>\n",
       "      <td>ultra</td>\n",
       "    </tr>\n",
       "  </tbody>\n",
       "</table>\n",
       "</div>"
      ],
      "text/plain": [
       "   user_id  month  month_calls_duration  calls_total_in_month  \\\n",
       "0     1000      5                 159.0                  22.0   \n",
       "1     1000      6                 172.0                  43.0   \n",
       "2     1000      7                 340.0                  47.0   \n",
       "3     1000      8                 408.0                  52.0   \n",
       "4     1000      9                 466.0                  58.0   \n",
       "\n",
       "   message_total_in_month  mb_total_in_month  age churn_date       city  \\\n",
       "0                    22.0             2256.0   52        NaT  Краснодар   \n",
       "1                    60.0            23257.0   52        NaT  Краснодар   \n",
       "2                    75.0            14016.0   52        NaT  Краснодар   \n",
       "3                    81.0            14070.0   52        NaT  Краснодар   \n",
       "4                    57.0            14581.0   52        NaT  Краснодар   \n",
       "\n",
       "  first_name  last_name   reg_date tariff  \n",
       "0     Рафаил  Верещагин 2018-05-25  ultra  \n",
       "1     Рафаил  Верещагин 2018-05-25  ultra  \n",
       "2     Рафаил  Верещагин 2018-05-25  ultra  \n",
       "3     Рафаил  Верещагин 2018-05-25  ultra  \n",
       "4     Рафаил  Верещагин 2018-05-25  ultra  "
      ]
     },
     "execution_count": 31,
     "metadata": {},
     "output_type": "execute_result"
    }
   ],
   "source": [
    "#создадим новую таблицу data, к которой будем присоединять все остальные \n",
    "#к таблице calls_month присоединяем таблицу messages_month, далее internet_month и users\n",
    "data = calls_month.merge(messages_month, on=['user_id', 'month'], how='outer')\n",
    "data = data.merge(internet_month, on=['user_id', 'month'], how='outer')\n",
    "data = data.merge(users, on='user_id', how='left')\n",
    "\n",
    "#выведем 5 строк таблицы\n",
    "data.head() "
   ]
  },
  {
   "cell_type": "code",
   "execution_count": 32,
   "id": "20879319",
   "metadata": {},
   "outputs": [
    {
     "data": {
      "text/html": [
       "<div>\n",
       "<style scoped>\n",
       "    .dataframe tbody tr th:only-of-type {\n",
       "        vertical-align: middle;\n",
       "    }\n",
       "\n",
       "    .dataframe tbody tr th {\n",
       "        vertical-align: top;\n",
       "    }\n",
       "\n",
       "    .dataframe thead th {\n",
       "        text-align: right;\n",
       "    }\n",
       "</style>\n",
       "<table border=\"1\" class=\"dataframe\">\n",
       "  <thead>\n",
       "    <tr style=\"text-align: right;\">\n",
       "      <th></th>\n",
       "      <th>user_id</th>\n",
       "      <th>month</th>\n",
       "      <th>month_calls_duration</th>\n",
       "      <th>calls_total_in_month</th>\n",
       "      <th>message_total_in_month</th>\n",
       "      <th>mb_total_in_month</th>\n",
       "      <th>age</th>\n",
       "      <th>churn_date</th>\n",
       "      <th>city</th>\n",
       "      <th>first_name</th>\n",
       "      <th>last_name</th>\n",
       "      <th>reg_date</th>\n",
       "      <th>tariff</th>\n",
       "      <th>messages_included</th>\n",
       "      <th>mb_per_month_included</th>\n",
       "      <th>minutes_included</th>\n",
       "      <th>rub_monthly_fee</th>\n",
       "      <th>rub_per_gb</th>\n",
       "      <th>rub_per_message</th>\n",
       "      <th>rub_per_minute</th>\n",
       "    </tr>\n",
       "  </thead>\n",
       "  <tbody>\n",
       "    <tr>\n",
       "      <th>0</th>\n",
       "      <td>1000</td>\n",
       "      <td>5</td>\n",
       "      <td>159.0</td>\n",
       "      <td>22.0</td>\n",
       "      <td>22.0</td>\n",
       "      <td>2256.0</td>\n",
       "      <td>52</td>\n",
       "      <td>NaT</td>\n",
       "      <td>Краснодар</td>\n",
       "      <td>Рафаил</td>\n",
       "      <td>Верещагин</td>\n",
       "      <td>2018-05-25</td>\n",
       "      <td>ultra</td>\n",
       "      <td>1000</td>\n",
       "      <td>30720</td>\n",
       "      <td>3000</td>\n",
       "      <td>1950</td>\n",
       "      <td>150</td>\n",
       "      <td>1</td>\n",
       "      <td>1</td>\n",
       "    </tr>\n",
       "    <tr>\n",
       "      <th>1</th>\n",
       "      <td>1000</td>\n",
       "      <td>6</td>\n",
       "      <td>172.0</td>\n",
       "      <td>43.0</td>\n",
       "      <td>60.0</td>\n",
       "      <td>23257.0</td>\n",
       "      <td>52</td>\n",
       "      <td>NaT</td>\n",
       "      <td>Краснодар</td>\n",
       "      <td>Рафаил</td>\n",
       "      <td>Верещагин</td>\n",
       "      <td>2018-05-25</td>\n",
       "      <td>ultra</td>\n",
       "      <td>1000</td>\n",
       "      <td>30720</td>\n",
       "      <td>3000</td>\n",
       "      <td>1950</td>\n",
       "      <td>150</td>\n",
       "      <td>1</td>\n",
       "      <td>1</td>\n",
       "    </tr>\n",
       "    <tr>\n",
       "      <th>2</th>\n",
       "      <td>1000</td>\n",
       "      <td>7</td>\n",
       "      <td>340.0</td>\n",
       "      <td>47.0</td>\n",
       "      <td>75.0</td>\n",
       "      <td>14016.0</td>\n",
       "      <td>52</td>\n",
       "      <td>NaT</td>\n",
       "      <td>Краснодар</td>\n",
       "      <td>Рафаил</td>\n",
       "      <td>Верещагин</td>\n",
       "      <td>2018-05-25</td>\n",
       "      <td>ultra</td>\n",
       "      <td>1000</td>\n",
       "      <td>30720</td>\n",
       "      <td>3000</td>\n",
       "      <td>1950</td>\n",
       "      <td>150</td>\n",
       "      <td>1</td>\n",
       "      <td>1</td>\n",
       "    </tr>\n",
       "    <tr>\n",
       "      <th>3</th>\n",
       "      <td>1000</td>\n",
       "      <td>8</td>\n",
       "      <td>408.0</td>\n",
       "      <td>52.0</td>\n",
       "      <td>81.0</td>\n",
       "      <td>14070.0</td>\n",
       "      <td>52</td>\n",
       "      <td>NaT</td>\n",
       "      <td>Краснодар</td>\n",
       "      <td>Рафаил</td>\n",
       "      <td>Верещагин</td>\n",
       "      <td>2018-05-25</td>\n",
       "      <td>ultra</td>\n",
       "      <td>1000</td>\n",
       "      <td>30720</td>\n",
       "      <td>3000</td>\n",
       "      <td>1950</td>\n",
       "      <td>150</td>\n",
       "      <td>1</td>\n",
       "      <td>1</td>\n",
       "    </tr>\n",
       "    <tr>\n",
       "      <th>4</th>\n",
       "      <td>1000</td>\n",
       "      <td>9</td>\n",
       "      <td>466.0</td>\n",
       "      <td>58.0</td>\n",
       "      <td>57.0</td>\n",
       "      <td>14581.0</td>\n",
       "      <td>52</td>\n",
       "      <td>NaT</td>\n",
       "      <td>Краснодар</td>\n",
       "      <td>Рафаил</td>\n",
       "      <td>Верещагин</td>\n",
       "      <td>2018-05-25</td>\n",
       "      <td>ultra</td>\n",
       "      <td>1000</td>\n",
       "      <td>30720</td>\n",
       "      <td>3000</td>\n",
       "      <td>1950</td>\n",
       "      <td>150</td>\n",
       "      <td>1</td>\n",
       "      <td>1</td>\n",
       "    </tr>\n",
       "  </tbody>\n",
       "</table>\n",
       "</div>"
      ],
      "text/plain": [
       "   user_id  month  month_calls_duration  calls_total_in_month  \\\n",
       "0     1000      5                 159.0                  22.0   \n",
       "1     1000      6                 172.0                  43.0   \n",
       "2     1000      7                 340.0                  47.0   \n",
       "3     1000      8                 408.0                  52.0   \n",
       "4     1000      9                 466.0                  58.0   \n",
       "\n",
       "   message_total_in_month  mb_total_in_month  age churn_date       city  \\\n",
       "0                    22.0             2256.0   52        NaT  Краснодар   \n",
       "1                    60.0            23257.0   52        NaT  Краснодар   \n",
       "2                    75.0            14016.0   52        NaT  Краснодар   \n",
       "3                    81.0            14070.0   52        NaT  Краснодар   \n",
       "4                    57.0            14581.0   52        NaT  Краснодар   \n",
       "\n",
       "  first_name  last_name   reg_date tariff  messages_included  \\\n",
       "0     Рафаил  Верещагин 2018-05-25  ultra               1000   \n",
       "1     Рафаил  Верещагин 2018-05-25  ultra               1000   \n",
       "2     Рафаил  Верещагин 2018-05-25  ultra               1000   \n",
       "3     Рафаил  Верещагин 2018-05-25  ultra               1000   \n",
       "4     Рафаил  Верещагин 2018-05-25  ultra               1000   \n",
       "\n",
       "   mb_per_month_included  minutes_included  rub_monthly_fee  rub_per_gb  \\\n",
       "0                  30720              3000             1950         150   \n",
       "1                  30720              3000             1950         150   \n",
       "2                  30720              3000             1950         150   \n",
       "3                  30720              3000             1950         150   \n",
       "4                  30720              3000             1950         150   \n",
       "\n",
       "   rub_per_message  rub_per_minute  \n",
       "0                1               1  \n",
       "1                1               1  \n",
       "2                1               1  \n",
       "3                1               1  \n",
       "4                1               1  "
      ]
     },
     "execution_count": 32,
     "metadata": {},
     "output_type": "execute_result"
    }
   ],
   "source": [
    "#название колонок с типом тарифа в таблицах tariffs и data отличаются, \n",
    "#поэтому переименуем наименование колонки в таблице tariffs\n",
    "tariffs.rename(columns={'tariff_name': 'tariff'}, inplace=True)\n",
    "#присоединяем к таблице data таблицу tariffs\n",
    "data = data.merge(tariffs, on='tariff', how='left')\n",
    "\n",
    "#выведем 5 строк таблицы\n",
    "data.head()"
   ]
  },
  {
   "cell_type": "code",
   "execution_count": 33,
   "id": "121889ab",
   "metadata": {
    "scrolled": true
   },
   "outputs": [
    {
     "data": {
      "text/plain": [
       "user_id                      0\n",
       "month                        0\n",
       "month_calls_duration        40\n",
       "calls_total_in_month        40\n",
       "message_total_in_month     497\n",
       "mb_total_in_month           11\n",
       "age                          0\n",
       "churn_date                3027\n",
       "city                         0\n",
       "first_name                   0\n",
       "last_name                    0\n",
       "reg_date                     0\n",
       "tariff                       0\n",
       "messages_included            0\n",
       "mb_per_month_included        0\n",
       "minutes_included             0\n",
       "rub_monthly_fee              0\n",
       "rub_per_gb                   0\n",
       "rub_per_message              0\n",
       "rub_per_minute               0\n",
       "dtype: int64"
      ]
     },
     "execution_count": 33,
     "metadata": {},
     "output_type": "execute_result"
    }
   ],
   "source": [
    "#проверим есть ли пропуски в новой таблице\n",
    "data.isna().sum()"
   ]
  },
  {
   "cell_type": "markdown",
   "id": "3661974f",
   "metadata": {},
   "source": [
    "Были обнаружены пропуски в колонках количество звонков и сумма минут в месяц, количество сообщений в месяц, а также количество использованного интернет-траффика. Т.к. пользователи могли просто не пользоваться какими-то услугами, то заменем данные пропущенные значения на 0."
   ]
  },
  {
   "cell_type": "code",
   "execution_count": 34,
   "id": "95baf3e6",
   "metadata": {},
   "outputs": [
    {
     "data": {
      "text/plain": [
       "user_id                      0\n",
       "month                        0\n",
       "month_calls_duration         0\n",
       "calls_total_in_month         0\n",
       "message_total_in_month       0\n",
       "mb_total_in_month            0\n",
       "age                          0\n",
       "churn_date                3027\n",
       "city                         0\n",
       "first_name                   0\n",
       "last_name                    0\n",
       "reg_date                     0\n",
       "tariff                       0\n",
       "messages_included            0\n",
       "mb_per_month_included        0\n",
       "minutes_included             0\n",
       "rub_monthly_fee              0\n",
       "rub_per_gb                   0\n",
       "rub_per_message              0\n",
       "rub_per_minute               0\n",
       "dtype: int64"
      ]
     },
     "execution_count": 34,
     "metadata": {},
     "output_type": "execute_result"
    }
   ],
   "source": [
    "data['month_calls_duration'] = data['month_calls_duration'].fillna(0)\n",
    "data['calls_total_in_month'] = data['calls_total_in_month'].fillna(0)\n",
    "data['message_total_in_month'] = data['message_total_in_month'].fillna(0)\n",
    "data['mb_total_in_month'] = data['mb_total_in_month'].fillna(0)\n",
    "data.isna().sum()"
   ]
  },
  {
   "cell_type": "code",
   "execution_count": 35,
   "id": "aac73190",
   "metadata": {
    "scrolled": true
   },
   "outputs": [
    {
     "data": {
      "text/plain": [
       "0"
      ]
     },
     "execution_count": 35,
     "metadata": {},
     "output_type": "execute_result"
    }
   ],
   "source": [
    "#проверим на дубликаты новую таблицу\n",
    "data.duplicated().sum()"
   ]
  },
  {
   "cell_type": "markdown",
   "id": "141d2c00",
   "metadata": {},
   "source": [
    "Дубликатов в новой таблице обнаружено не было, значит, все совместили правильно."
   ]
  },
  {
   "cell_type": "markdown",
   "id": "1d883a0e",
   "metadata": {},
   "source": [
    "Далее напишем функцию, которая будет рассчитывать количество минут, смс и интернет-траффика, потраченных сверх тарифа и сразу умножать на соответствующую стоимость сверх тарифа. \n",
    "Далее добавим дополнительный столбец с полученной стоимостью сверх тарифа. И потом еще один, который будет рассчитывать конечную выручку по пользователю."
   ]
  },
  {
   "cell_type": "code",
   "execution_count": 36,
   "id": "62358adc",
   "metadata": {},
   "outputs": [
    {
     "data": {
      "text/html": [
       "<div>\n",
       "<style scoped>\n",
       "    .dataframe tbody tr th:only-of-type {\n",
       "        vertical-align: middle;\n",
       "    }\n",
       "\n",
       "    .dataframe tbody tr th {\n",
       "        vertical-align: top;\n",
       "    }\n",
       "\n",
       "    .dataframe thead th {\n",
       "        text-align: right;\n",
       "    }\n",
       "</style>\n",
       "<table border=\"1\" class=\"dataframe\">\n",
       "  <thead>\n",
       "    <tr style=\"text-align: right;\">\n",
       "      <th></th>\n",
       "      <th>user_id</th>\n",
       "      <th>month</th>\n",
       "      <th>month_calls_duration</th>\n",
       "      <th>calls_total_in_month</th>\n",
       "      <th>message_total_in_month</th>\n",
       "      <th>mb_total_in_month</th>\n",
       "      <th>age</th>\n",
       "      <th>churn_date</th>\n",
       "      <th>city</th>\n",
       "      <th>first_name</th>\n",
       "      <th>...</th>\n",
       "      <th>tariff</th>\n",
       "      <th>messages_included</th>\n",
       "      <th>mb_per_month_included</th>\n",
       "      <th>minutes_included</th>\n",
       "      <th>rub_monthly_fee</th>\n",
       "      <th>rub_per_gb</th>\n",
       "      <th>rub_per_message</th>\n",
       "      <th>rub_per_minute</th>\n",
       "      <th>extra_tariff</th>\n",
       "      <th>revenue</th>\n",
       "    </tr>\n",
       "  </thead>\n",
       "  <tbody>\n",
       "    <tr>\n",
       "      <th>2322</th>\n",
       "      <td>1373</td>\n",
       "      <td>5</td>\n",
       "      <td>13.0</td>\n",
       "      <td>2.0</td>\n",
       "      <td>48.0</td>\n",
       "      <td>29761.0</td>\n",
       "      <td>34</td>\n",
       "      <td>NaT</td>\n",
       "      <td>Улан-Удэ</td>\n",
       "      <td>Нелли</td>\n",
       "      <td>...</td>\n",
       "      <td>smart</td>\n",
       "      <td>50</td>\n",
       "      <td>15360</td>\n",
       "      <td>500</td>\n",
       "      <td>550</td>\n",
       "      <td>200</td>\n",
       "      <td>3</td>\n",
       "      <td>3</td>\n",
       "      <td>2813.0</td>\n",
       "      <td>3363.0</td>\n",
       "    </tr>\n",
       "    <tr>\n",
       "      <th>3001</th>\n",
       "      <td>1471</td>\n",
       "      <td>10</td>\n",
       "      <td>557.0</td>\n",
       "      <td>75.0</td>\n",
       "      <td>83.0</td>\n",
       "      <td>14036.0</td>\n",
       "      <td>35</td>\n",
       "      <td>NaT</td>\n",
       "      <td>Вологда</td>\n",
       "      <td>Элеонора</td>\n",
       "      <td>...</td>\n",
       "      <td>ultra</td>\n",
       "      <td>1000</td>\n",
       "      <td>30720</td>\n",
       "      <td>3000</td>\n",
       "      <td>1950</td>\n",
       "      <td>150</td>\n",
       "      <td>1</td>\n",
       "      <td>1</td>\n",
       "      <td>0.0</td>\n",
       "      <td>1950.0</td>\n",
       "    </tr>\n",
       "    <tr>\n",
       "      <th>2947</th>\n",
       "      <td>1464</td>\n",
       "      <td>9</td>\n",
       "      <td>542.0</td>\n",
       "      <td>74.0</td>\n",
       "      <td>21.0</td>\n",
       "      <td>16824.0</td>\n",
       "      <td>44</td>\n",
       "      <td>NaT</td>\n",
       "      <td>Саранск</td>\n",
       "      <td>Антонина</td>\n",
       "      <td>...</td>\n",
       "      <td>smart</td>\n",
       "      <td>50</td>\n",
       "      <td>15360</td>\n",
       "      <td>500</td>\n",
       "      <td>550</td>\n",
       "      <td>200</td>\n",
       "      <td>3</td>\n",
       "      <td>3</td>\n",
       "      <td>412.0</td>\n",
       "      <td>962.0</td>\n",
       "    </tr>\n",
       "    <tr>\n",
       "      <th>1092</th>\n",
       "      <td>1174</td>\n",
       "      <td>11</td>\n",
       "      <td>519.0</td>\n",
       "      <td>78.0</td>\n",
       "      <td>57.0</td>\n",
       "      <td>15278.0</td>\n",
       "      <td>29</td>\n",
       "      <td>NaT</td>\n",
       "      <td>Санкт-Петербург</td>\n",
       "      <td>Лолита</td>\n",
       "      <td>...</td>\n",
       "      <td>smart</td>\n",
       "      <td>50</td>\n",
       "      <td>15360</td>\n",
       "      <td>500</td>\n",
       "      <td>550</td>\n",
       "      <td>200</td>\n",
       "      <td>3</td>\n",
       "      <td>3</td>\n",
       "      <td>78.0</td>\n",
       "      <td>628.0</td>\n",
       "    </tr>\n",
       "    <tr>\n",
       "      <th>1234</th>\n",
       "      <td>1195</td>\n",
       "      <td>11</td>\n",
       "      <td>416.0</td>\n",
       "      <td>72.0</td>\n",
       "      <td>0.0</td>\n",
       "      <td>10448.0</td>\n",
       "      <td>19</td>\n",
       "      <td>NaT</td>\n",
       "      <td>Москва</td>\n",
       "      <td>Веселина</td>\n",
       "      <td>...</td>\n",
       "      <td>smart</td>\n",
       "      <td>50</td>\n",
       "      <td>15360</td>\n",
       "      <td>500</td>\n",
       "      <td>550</td>\n",
       "      <td>200</td>\n",
       "      <td>3</td>\n",
       "      <td>3</td>\n",
       "      <td>0.0</td>\n",
       "      <td>550.0</td>\n",
       "    </tr>\n",
       "  </tbody>\n",
       "</table>\n",
       "<p>5 rows × 22 columns</p>\n",
       "</div>"
      ],
      "text/plain": [
       "      user_id  month  month_calls_duration  calls_total_in_month  \\\n",
       "2322     1373      5                  13.0                   2.0   \n",
       "3001     1471     10                 557.0                  75.0   \n",
       "2947     1464      9                 542.0                  74.0   \n",
       "1092     1174     11                 519.0                  78.0   \n",
       "1234     1195     11                 416.0                  72.0   \n",
       "\n",
       "      message_total_in_month  mb_total_in_month  age churn_date  \\\n",
       "2322                    48.0            29761.0   34        NaT   \n",
       "3001                    83.0            14036.0   35        NaT   \n",
       "2947                    21.0            16824.0   44        NaT   \n",
       "1092                    57.0            15278.0   29        NaT   \n",
       "1234                     0.0            10448.0   19        NaT   \n",
       "\n",
       "                 city first_name  ... tariff messages_included  \\\n",
       "2322         Улан-Удэ      Нелли  ...  smart                50   \n",
       "3001          Вологда   Элеонора  ...  ultra              1000   \n",
       "2947          Саранск   Антонина  ...  smart                50   \n",
       "1092  Санкт-Петербург     Лолита  ...  smart                50   \n",
       "1234           Москва   Веселина  ...  smart                50   \n",
       "\n",
       "     mb_per_month_included  minutes_included  rub_monthly_fee  rub_per_gb  \\\n",
       "2322                 15360               500              550         200   \n",
       "3001                 30720              3000             1950         150   \n",
       "2947                 15360               500              550         200   \n",
       "1092                 15360               500              550         200   \n",
       "1234                 15360               500              550         200   \n",
       "\n",
       "      rub_per_message  rub_per_minute  extra_tariff  revenue  \n",
       "2322                3               3        2813.0   3363.0  \n",
       "3001                1               1           0.0   1950.0  \n",
       "2947                3               3         412.0    962.0  \n",
       "1092                3               3          78.0    628.0  \n",
       "1234                3               3           0.0    550.0  \n",
       "\n",
       "[5 rows x 22 columns]"
      ]
     },
     "execution_count": 36,
     "metadata": {},
     "output_type": "execute_result"
    }
   ],
   "source": [
    "#функция для расчета прибыли по данным, потраченных сверх тарифа\n",
    "def extra_tariff(row):\n",
    "    minutes = (row['month_calls_duration'] - row['minutes_included']) * row['rub_per_minute']\n",
    "    messages = (row['message_total_in_month'] - row['messages_included']) * row['rub_per_message']\n",
    "    internet = ((row['mb_total_in_month'] - row['mb_per_month_included']) / 1024) * row['rub_per_gb']\n",
    "    total = 0\n",
    "    for i in [minutes, messages, internet]:\n",
    "        if i > 0:\n",
    "            total += i\n",
    "    return total\n",
    "\n",
    "data['extra_tariff'] = round(data.apply(lambda x: extra_tariff(x), axis = 1)) #добавляем новый столбец с выручкой сверх тарифа\n",
    "data['revenue'] = round(data['rub_monthly_fee'] + data['extra_tariff']) #добавляем новый столбец с общей выручкой\n",
    "data.sample(5)"
   ]
  },
  {
   "cell_type": "markdown",
   "id": "45477002",
   "metadata": {},
   "source": [
    "# Анализ данных"
   ]
  },
  {
   "cell_type": "markdown",
   "id": "912ef675",
   "metadata": {},
   "source": [
    "Далее посмотрим сколько минут разговора, сколько сообщений и какой объём интернет-трафика требуется пользователям каждого тарифа в месяц."
   ]
  },
  {
   "cell_type": "code",
   "execution_count": 37,
   "id": "dc132cbe",
   "metadata": {
    "scrolled": true
   },
   "outputs": [
    {
     "name": "stdout",
     "output_type": "stream",
     "text": [
      "Количество использованных минут в месяц тарифа Smart: 77631 , тарифа Ultra: 43227\n",
      "Количество отправленных смс тарифа Smart: 6201 , тарифа Ultra: 4052\n",
      "Количество потраченного интернет-траффика тарифа Smart: 3014572 , тарифа Ultra: 1599550\n",
      "Процент пользователей тарифа Смарт, платящих больше ежемесячной платы: 74.70%\n",
      "Процент пользователей тарифа Ультра, платящих больше ежемесячной платы: 13.60%\n"
     ]
    },
    {
     "data": {
      "text/html": [
       "<div>\n",
       "<style scoped>\n",
       "    .dataframe tbody tr th:only-of-type {\n",
       "        vertical-align: middle;\n",
       "    }\n",
       "\n",
       "    .dataframe tbody tr th {\n",
       "        vertical-align: top;\n",
       "    }\n",
       "\n",
       "    .dataframe thead th {\n",
       "        text-align: right;\n",
       "    }\n",
       "</style>\n",
       "<table border=\"1\" class=\"dataframe\">\n",
       "  <thead>\n",
       "    <tr style=\"text-align: right;\">\n",
       "      <th></th>\n",
       "      <th>user_id</th>\n",
       "    </tr>\n",
       "    <tr>\n",
       "      <th>tariff</th>\n",
       "      <th></th>\n",
       "    </tr>\n",
       "  </thead>\n",
       "  <tbody>\n",
       "    <tr>\n",
       "      <th>smart</th>\n",
       "      <td>351</td>\n",
       "    </tr>\n",
       "    <tr>\n",
       "      <th>ultra</th>\n",
       "      <td>149</td>\n",
       "    </tr>\n",
       "  </tbody>\n",
       "</table>\n",
       "</div>"
      ],
      "text/plain": [
       "        user_id\n",
       "tariff         \n",
       "smart       351\n",
       "ultra       149"
      ]
     },
     "execution_count": 37,
     "metadata": {},
     "output_type": "execute_result"
    }
   ],
   "source": [
    "smart = data.query('tariff ==\"smart\"') #создадим новую таблицу, в которой будут данные только по тарифу Смарт\n",
    "ultra = data.query('tariff ==\"ultra\"') #создадим новую таблицу, в которой будут данные только по тарифу Ультра\n",
    "print('Количество использованных минут в месяц тарифа Smart: {:.0f}'.format(smart['month_calls_duration'].sum()/12),', тарифа Ultra: {:.0f}'.format(ultra['month_calls_duration'].sum()/12))\n",
    "print('Количество отправленных смс тарифа Smart: {:.0f}'.format(smart['message_total_in_month'].sum()/12),', тарифа Ultra: {:.0f}'.format(ultra['message_total_in_month'].sum()/12))\n",
    "print('Количество потраченного интернет-траффика тарифа Smart: {:.0f}'.format(smart['mb_total_in_month'].sum()/12),', тарифа Ultra: {:.0f}'.format(ultra['mb_total_in_month'].sum()/12))\n",
    "\n",
    "print('Процент пользователей тарифа Смарт, платящих больше ежемесячной платы: {:.2%}'.format(\n",
    "    smart[smart['revenue'] > 550].shape[0]/smart['revenue'].shape[0]))\n",
    "print('Процент пользователей тарифа Ультра, платящих больше ежемесячной платы: {:.2%}'.format(\n",
    "    ultra[ultra['revenue'] > 1950].shape[0]/ultra['revenue'].shape[0]))\n",
    "\n",
    "\n",
    "#построим сводную, чтобы посмотреть количество пользователей у обоих тарифов\n",
    "users_tariff = users.pivot_table(index='tariff', values = 'user_id', aggfunc = 'count') \n",
    "users_tariff"
   ]
  },
  {
   "cell_type": "markdown",
   "id": "96bf1cc8",
   "metadata": {},
   "source": [
    "По этим данным можно говорить о том, что пользователей тарифа Смарт в 2,36 раза больше, чем пользователей тарифа Ультра, поэтому логично, что объем использованных данных (длительных звонков, отправленных смс, потраченного интернет-траффика) так же больше. \n",
    "\n",
    "Стоит отметить почти 75% пользователей тарифа Смарт платят дополнительно за услуги сверх пакета."
   ]
  },
  {
   "cell_type": "markdown",
   "id": "d9bc961c",
   "metadata": {},
   "source": [
    "## Общая длительность звонков"
   ]
  },
  {
   "cell_type": "markdown",
   "id": "5eef1578",
   "metadata": {},
   "source": [
    "Далее посмотрим среднюю, медиану, дисперсию и стандартное отклонение в длительности звонков обоих тарифов."
   ]
  },
  {
   "cell_type": "code",
   "execution_count": 38,
   "id": "2861ea4d",
   "metadata": {},
   "outputs": [
    {
     "data": {
      "text/html": [
       "<style  type=\"text/css\" >\n",
       "</style><table id=\"T_8d2fe_\" ><thead>    <tr>        <th class=\"blank level0\" ></th>        <th class=\"col_heading level0 col0\" colspan=\"6\">month_calls_duration</th>    </tr>    <tr>        <th class=\"blank level1\" ></th>        <th class=\"col_heading level1 col0\" >count</th>        <th class=\"col_heading level1 col1\" >median</th>        <th class=\"col_heading level1 col2\" >mean</th>        <th class=\"col_heading level1 col3\" >var</th>        <th class=\"col_heading level1 col4\" >std</th>        <th class=\"col_heading level1 col5\" >max</th>    </tr>    <tr>        <th class=\"index_name level0\" >tariff</th>        <th class=\"blank\" ></th>        <th class=\"blank\" ></th>        <th class=\"blank\" ></th>        <th class=\"blank\" ></th>        <th class=\"blank\" ></th>        <th class=\"blank\" ></th>    </tr></thead><tbody>\n",
       "                <tr>\n",
       "                        <th id=\"T_8d2fe_level0_row0\" class=\"row_heading level0 row0\" >smart</th>\n",
       "                        <td id=\"T_8d2fe_row0_col0\" class=\"data row0 col0\" >2229.00</td>\n",
       "                        <td id=\"T_8d2fe_row0_col1\" class=\"data row0 col1\" >422.00</td>\n",
       "                        <td id=\"T_8d2fe_row0_col2\" class=\"data row0 col2\" >417.93</td>\n",
       "                        <td id=\"T_8d2fe_row0_col3\" class=\"data row0 col3\" >36219.32</td>\n",
       "                        <td id=\"T_8d2fe_row0_col4\" class=\"data row0 col4\" >190.31</td>\n",
       "                        <td id=\"T_8d2fe_row0_col5\" class=\"data row0 col5\" >1435.00</td>\n",
       "            </tr>\n",
       "            <tr>\n",
       "                        <th id=\"T_8d2fe_level0_row1\" class=\"row_heading level0 row1\" >ultra</th>\n",
       "                        <td id=\"T_8d2fe_row1_col0\" class=\"data row1 col0\" >985.00</td>\n",
       "                        <td id=\"T_8d2fe_row1_col1\" class=\"data row1 col1\" >518.00</td>\n",
       "                        <td id=\"T_8d2fe_row1_col2\" class=\"data row1 col2\" >526.62</td>\n",
       "                        <td id=\"T_8d2fe_row1_col3\" class=\"data row1 col3\" >100873.63</td>\n",
       "                        <td id=\"T_8d2fe_row1_col4\" class=\"data row1 col4\" >317.61</td>\n",
       "                        <td id=\"T_8d2fe_row1_col5\" class=\"data row1 col5\" >1673.00</td>\n",
       "            </tr>\n",
       "    </tbody></table>"
      ],
      "text/plain": [
       "<pandas.io.formats.style.Styler at 0x7f4ffbb91b50>"
      ]
     },
     "execution_count": 38,
     "metadata": {},
     "output_type": "execute_result"
    }
   ],
   "source": [
    "data.groupby('tariff')\\\n",
    "  .agg({'month_calls_duration':['count','median','mean','var','std', 'max']})\\\n",
    "  .style.format(\"{:.2f}\")"
   ]
  },
  {
   "cell_type": "code",
   "execution_count": 39,
   "id": "66cd9e94",
   "metadata": {
    "scrolled": false
   },
   "outputs": [
    {
     "data": {
      "text/plain": [
       "Text(0, 0.5, 'Количество пользователей')"
      ]
     },
     "execution_count": 39,
     "metadata": {},
     "output_type": "execute_result"
    },
    {
     "data": {
      "image/png": "[encoded data removed]",
      "text/plain": [
       "<Figure size 720x360 with 1 Axes>"
      ]
     },
     "metadata": {
      "needs_background": "light"
     },
     "output_type": "display_data"
    }
   ],
   "source": [
    "#построим гистрограммы для обоих тарифов\n",
    "plt.figure(figsize = (10,5))\n",
    "plt.hist(data.query('tariff ==\"smart\"')['month_calls_duration'], bins=100, alpha=0.5, label='Смарт', range = (0, 1500), color='green')\n",
    "plt.hist(data.query('tariff ==\"ultra\"')['month_calls_duration'], bins=100, alpha=0.5, label='Ультра', range = (0, 1700), color='red')\n",
    "plt.legend(loc='upper right')\n",
    "plt.xlabel('Количество минут')\n",
    "plt.ylabel('Количество пользователей')"
   ]
  },
  {
   "cell_type": "code",
   "execution_count": 40,
   "id": "5cf89c70",
   "metadata": {},
   "outputs": [
    {
     "data": {
      "image/png": "[encoded data removed]",
      "text/plain": [
       "<Figure size 720x360 with 1 Axes>"
      ]
     },
     "metadata": {
      "needs_background": "light"
     },
     "output_type": "display_data"
    }
   ],
   "source": [
    "#построим диаграмму размаха\n",
    "plt.figure(figsize = (10,5))\n",
    "plt.boxplot([data.query('tariff ==\"smart\"')['month_calls_duration'], data.query('tariff ==\"ultra\"')['month_calls_duration']])\n",
    "plt.title('Диаграмма размаха по количеству минут')\n",
    "plt.xlabel('Тариф')\n",
    "plt.ylabel('Количество минут')\n",
    "plt.xticks([1, 2],['Смарт', 'Ультра'])\n",
    "plt.grid()"
   ]
  },
  {
   "cell_type": "code",
   "execution_count": 41,
   "id": "02238e67",
   "metadata": {},
   "outputs": [
    {
     "name": "stdout",
     "output_type": "stream",
     "text": [
      "Процент пользователей тарифа Смарт, превыщающих лимит по минутам: 33.83%\n",
      "Процент пользователей тарифа Ультра, превыщающих лимит по минутам: 0.00%\n"
     ]
    }
   ],
   "source": [
    "print('Процент пользователей тарифа Смарт, превыщающих лимит по минутам: {:.2%}'.format(\n",
    "    smart[smart['month_calls_duration'] > 500].shape[0]/smart['month_calls_duration'].shape[0]))\n",
    "\n",
    "print('Процент пользователей тарифа Ультра, превыщающих лимит по минутам: {:.2%}'.format(\n",
    "    ultra[ultra['month_calls_duration'] > 3000].shape[0]/ultra['month_calls_duration'].shape[0]))\n"
   ]
  },
  {
   "cell_type": "markdown",
   "id": "1fe94aa5",
   "metadata": {},
   "source": [
    "**Вывод**\n",
    "\n",
    "По графику видно, что у части пользователей имееются нули в длительности звоноков - помним, что это непринятые вызовы. \n",
    "Большая часть пользователей тарифа Смарт разговаривает примерно 260-515 минут в месяц, а тарифа Ультра - 260-750 минут в месяц. Получается, что в среднем, пользователи обоих тарифов разговаривают около 500 минут в месяц. \n",
    "При этом, среди пользователей тарифа Смарт треть пользователей, ввиду небольшого количества включенных минут, выходят за рамки включенного пакета (500 минут)."
   ]
  },
  {
   "cell_type": "markdown",
   "id": "761b0654",
   "metadata": {},
   "source": [
    "## Количество отправленных смс в месяц"
   ]
  },
  {
   "cell_type": "code",
   "execution_count": 42,
   "id": "3a055e21",
   "metadata": {
    "scrolled": true
   },
   "outputs": [
    {
     "data": {
      "text/html": [
       "<style  type=\"text/css\" >\n",
       "</style><table id=\"T_d4579_\" ><thead>    <tr>        <th class=\"blank level0\" ></th>        <th class=\"col_heading level0 col0\" colspan=\"6\">message_total_in_month</th>    </tr>    <tr>        <th class=\"blank level1\" ></th>        <th class=\"col_heading level1 col0\" >count</th>        <th class=\"col_heading level1 col1\" >median</th>        <th class=\"col_heading level1 col2\" >mean</th>        <th class=\"col_heading level1 col3\" >var</th>        <th class=\"col_heading level1 col4\" >std</th>        <th class=\"col_heading level1 col5\" >max</th>    </tr>    <tr>        <th class=\"index_name level0\" >tariff</th>        <th class=\"blank\" ></th>        <th class=\"blank\" ></th>        <th class=\"blank\" ></th>        <th class=\"blank\" ></th>        <th class=\"blank\" ></th>        <th class=\"blank\" ></th>    </tr></thead><tbody>\n",
       "                <tr>\n",
       "                        <th id=\"T_d4579_level0_row0\" class=\"row_heading level0 row0\" >smart</th>\n",
       "                        <td id=\"T_d4579_row0_col0\" class=\"data row0 col0\" >2229.00</td>\n",
       "                        <td id=\"T_d4579_row0_col1\" class=\"data row0 col1\" >28.00</td>\n",
       "                        <td id=\"T_d4579_row0_col2\" class=\"data row0 col2\" >33.38</td>\n",
       "                        <td id=\"T_d4579_row0_col3\" class=\"data row0 col3\" >796.81</td>\n",
       "                        <td id=\"T_d4579_row0_col4\" class=\"data row0 col4\" >28.23</td>\n",
       "                        <td id=\"T_d4579_row0_col5\" class=\"data row0 col5\" >143.00</td>\n",
       "            </tr>\n",
       "            <tr>\n",
       "                        <th id=\"T_d4579_level0_row1\" class=\"row_heading level0 row1\" >ultra</th>\n",
       "                        <td id=\"T_d4579_row1_col0\" class=\"data row1 col0\" >985.00</td>\n",
       "                        <td id=\"T_d4579_row1_col1\" class=\"data row1 col1\" >38.00</td>\n",
       "                        <td id=\"T_d4579_row1_col2\" class=\"data row1 col2\" >49.36</td>\n",
       "                        <td id=\"T_d4579_row1_col3\" class=\"data row1 col3\" >2285.27</td>\n",
       "                        <td id=\"T_d4579_row1_col4\" class=\"data row1 col4\" >47.80</td>\n",
       "                        <td id=\"T_d4579_row1_col5\" class=\"data row1 col5\" >224.00</td>\n",
       "            </tr>\n",
       "    </tbody></table>"
      ],
      "text/plain": [
       "<pandas.io.formats.style.Styler at 0x7f4ffbbd4af0>"
      ]
     },
     "execution_count": 42,
     "metadata": {},
     "output_type": "execute_result"
    }
   ],
   "source": [
    "data.groupby('tariff')\\\n",
    "  .agg({'message_total_in_month':['count','median','mean','var','std', 'max']})\\\n",
    "  .style.format(\"{:.2f}\")"
   ]
  },
  {
   "cell_type": "code",
   "execution_count": 43,
   "id": "a5cedd44",
   "metadata": {
    "scrolled": false
   },
   "outputs": [
    {
     "data": {
      "text/plain": [
       "Text(0, 0.5, 'Количество пользователей')"
      ]
     },
     "execution_count": 43,
     "metadata": {},
     "output_type": "execute_result"
    },
    {
     "data": {
      "image/png": "[encoded data removed]",
      "text/plain": [
       "<Figure size 720x360 with 1 Axes>"
      ]
     },
     "metadata": {
      "needs_background": "light"
     },
     "output_type": "display_data"
    }
   ],
   "source": [
    "plt.figure(figsize = (10,5))\n",
    "plt.hist(data.query('tariff ==\"smart\"')['message_total_in_month'], bins=100, alpha=0.5, label='Смарт', range = (0, 230), color='pink')\n",
    "plt.hist(data.query('tariff ==\"ultra\"')['message_total_in_month'], bins=100, alpha=0.5, label='Ультра', range = (0, 230), color='blue')\n",
    "plt.legend(loc='upper right')\n",
    "plt.xlabel('Количество сообщений')\n",
    "plt.ylabel('Количество пользователей')"
   ]
  },
  {
   "cell_type": "code",
   "execution_count": 44,
   "id": "6a232021",
   "metadata": {},
   "outputs": [
    {
     "data": {
      "image/png": "[encoded data removed]",
      "text/plain": [
       "<Figure size 720x360 with 1 Axes>"
      ]
     },
     "metadata": {
      "needs_background": "light"
     },
     "output_type": "display_data"
    }
   ],
   "source": [
    "plt.figure(figsize = (10,5))\n",
    "plt.boxplot([data.query('tariff ==\"smart\"')['message_total_in_month'], data.query('tariff ==\"ultra\"')['message_total_in_month']])\n",
    "plt.title('Диаграмма размаха по смс')\n",
    "plt.xlabel('Тариф')\n",
    "plt.ylabel('Количество смс')\n",
    "plt.xticks([1, 2],['Смарт', 'Ультра'])\n",
    "plt.grid()"
   ]
  },
  {
   "cell_type": "code",
   "execution_count": 45,
   "id": "04e465aa",
   "metadata": {
    "scrolled": true
   },
   "outputs": [
    {
     "name": "stdout",
     "output_type": "stream",
     "text": [
      "Процент пользователей тарифа Смарт, превыщающие лимит по сообщениям: 25.30%\n",
      "Процент пользователей тарифа Ультра, превыщающие лимит по сообщениям: 0.00%\n"
     ]
    }
   ],
   "source": [
    "print('Процент пользователей тарифа Смарт, превыщающие лимит по сообщениям: {:.2%}'.format(\n",
    "    smart[smart['message_total_in_month'] > 50].shape[0]/smart['message_total_in_month'].shape[0]))\n",
    "\n",
    "print('Процент пользователей тарифа Ультра, превыщающие лимит по сообщениям: {:.2%}'.format(\n",
    "    ultra[ultra['message_total_in_month'] > 1000].shape[0]/ultra['message_total_in_month'].shape[0]))"
   ]
  },
  {
   "cell_type": "markdown",
   "id": "713fa678",
   "metadata": {},
   "source": [
    "**Вывод**\n",
    "\n",
    "Часть пользователей обоих тарифов в целом не пользуются смс. При этом, большая часть пользователей обоих тарифов, пользующихся данной услугой, отправляет не более 50 сообщений в месяц. Доля пользователей, превыщающая порог в 50 смс тарифа Смарт составляет порядка 25%. "
   ]
  },
  {
   "cell_type": "markdown",
   "id": "86baac94",
   "metadata": {},
   "source": [
    "## Количество потраченного интернет-трафика в месяц"
   ]
  },
  {
   "cell_type": "code",
   "execution_count": 46,
   "id": "325cc8c8",
   "metadata": {
    "scrolled": true
   },
   "outputs": [
    {
     "data": {
      "text/html": [
       "<style  type=\"text/css\" >\n",
       "</style><table id=\"T_3b2a4_\" ><thead>    <tr>        <th class=\"blank level0\" ></th>        <th class=\"col_heading level0 col0\" colspan=\"6\">mb_total_in_month</th>    </tr>    <tr>        <th class=\"blank level1\" ></th>        <th class=\"col_heading level1 col0\" >count</th>        <th class=\"col_heading level1 col1\" >median</th>        <th class=\"col_heading level1 col2\" >mean</th>        <th class=\"col_heading level1 col3\" >var</th>        <th class=\"col_heading level1 col4\" >std</th>        <th class=\"col_heading level1 col5\" >max</th>    </tr>    <tr>        <th class=\"index_name level0\" >tariff</th>        <th class=\"blank\" ></th>        <th class=\"blank\" ></th>        <th class=\"blank\" ></th>        <th class=\"blank\" ></th>        <th class=\"blank\" ></th>        <th class=\"blank\" ></th>    </tr></thead><tbody>\n",
       "                <tr>\n",
       "                        <th id=\"T_3b2a4_level0_row0\" class=\"row_heading level0 row0\" >smart</th>\n",
       "                        <td id=\"T_3b2a4_row0_col0\" class=\"data row0 col0\" >2229.00</td>\n",
       "                        <td id=\"T_3b2a4_row0_col1\" class=\"data row0 col1\" >16531.00</td>\n",
       "                        <td id=\"T_3b2a4_row0_col2\" class=\"data row0 col2\" >16229.19</td>\n",
       "                        <td id=\"T_3b2a4_row0_col3\" class=\"data row0 col3\" >34545911.13</td>\n",
       "                        <td id=\"T_3b2a4_row0_col4\" class=\"data row0 col4\" >5877.58</td>\n",
       "                        <td id=\"T_3b2a4_row0_col5\" class=\"data row0 col5\" >38610.00</td>\n",
       "            </tr>\n",
       "            <tr>\n",
       "                        <th id=\"T_3b2a4_level0_row1\" class=\"row_heading level0 row1\" >ultra</th>\n",
       "                        <td id=\"T_3b2a4_row1_col0\" class=\"data row1 col0\" >985.00</td>\n",
       "                        <td id=\"T_3b2a4_row1_col1\" class=\"data row1 col1\" >19324.00</td>\n",
       "                        <td id=\"T_3b2a4_row1_col2\" class=\"data row1 col2\" >19486.90</td>\n",
       "                        <td id=\"T_3b2a4_row1_col3\" class=\"data row1 col3\" >101935621.05</td>\n",
       "                        <td id=\"T_3b2a4_row1_col4\" class=\"data row1 col4\" >10096.32</td>\n",
       "                        <td id=\"T_3b2a4_row1_col5\" class=\"data row1 col5\" >49789.00</td>\n",
       "            </tr>\n",
       "    </tbody></table>"
      ],
      "text/plain": [
       "<pandas.io.formats.style.Styler at 0x7f4ffe630cd0>"
      ]
     },
     "execution_count": 46,
     "metadata": {},
     "output_type": "execute_result"
    }
   ],
   "source": [
    "data.groupby('tariff')\\\n",
    "  .agg({'mb_total_in_month':['count','median','mean','var','std', 'max']})\\\n",
    "  .style.format(\"{:.2f}\")"
   ]
  },
  {
   "cell_type": "code",
   "execution_count": 47,
   "id": "37d018a2",
   "metadata": {
    "scrolled": false
   },
   "outputs": [
    {
     "data": {
      "text/plain": [
       "Text(0, 0.5, 'Количество пользователей')"
      ]
     },
     "execution_count": 47,
     "metadata": {},
     "output_type": "execute_result"
    },
    {
     "data": {
      "image/png": "[encoded data removed]",
      "text/plain": [
       "<Figure size 720x360 with 1 Axes>"
      ]
     },
     "metadata": {
      "needs_background": "light"
     },
     "output_type": "display_data"
    }
   ],
   "source": [
    "plt.figure(figsize = (10,5))\n",
    "plt.hist(data.query('tariff ==\"smart\"')['mb_total_in_month'], bins=100, alpha=0.5, label='Смарт', range = (0, 50000), color='yellow')\n",
    "plt.hist(data.query('tariff ==\"ultra\"')['mb_total_in_month'], bins=100, alpha=0.5, label='Ультра', range = (0, 50000), color='brown')\n",
    "plt.legend(loc='upper right')\n",
    "plt.xlabel('Объем интернет-траффика, мб')\n",
    "plt.ylabel('Количество пользователей')"
   ]
  },
  {
   "cell_type": "code",
   "execution_count": 48,
   "id": "9fa02ae5",
   "metadata": {},
   "outputs": [
    {
     "data": {
      "image/png": "[encoded data removed]",
      "text/plain": [
       "<Figure size 720x360 with 1 Axes>"
      ]
     },
     "metadata": {
      "needs_background": "light"
     },
     "output_type": "display_data"
    }
   ],
   "source": [
    "plt.figure(figsize = (10,5))\n",
    "plt.boxplot([data.query('tariff ==\"smart\"')['mb_total_in_month'], data.query('tariff ==\"ultra\"')['mb_total_in_month']])\n",
    "plt.title('Диаграмма размаха по интернет-траффику')\n",
    "plt.xlabel('Тариф')\n",
    "plt.ylabel('Объем интернет-траффика, мб')\n",
    "plt.xticks([1, 2],['Смарт', 'Ультра'])\n",
    "plt.grid()"
   ]
  },
  {
   "cell_type": "code",
   "execution_count": 49,
   "id": "d8a73c25",
   "metadata": {},
   "outputs": [
    {
     "name": "stdout",
     "output_type": "stream",
     "text": [
      "Процент пользователей тарифа Смарт, превыщающие лимит по интернет-траффику: 58.73%\n",
      "Процент пользователей тарифа Ультра, превыщающие лимит по интернет-траффику:: 13.60%\n"
     ]
    }
   ],
   "source": [
    "print('Процент пользователей тарифа Смарт, превыщающие лимит по интернет-траффику: {:.2%}'.format(\n",
    "    smart[smart['mb_total_in_month'] > 15360].shape[0]/smart['mb_total_in_month'].shape[0]))\n",
    "\n",
    "print('Процент пользователей тарифа Ультра, превыщающие лимит по интернет-траффику:: {:.2%}'.format(\n",
    "    ultra[ultra['mb_total_in_month'] > 30720].shape[0]/ultra['mb_total_in_month'].shape[0]))"
   ]
  },
  {
   "cell_type": "markdown",
   "id": "de2944cf",
   "metadata": {},
   "source": [
    "**Вывод**\n",
    "\n",
    "Большая часть пользователей использует до 20 гб в месяц. При этом больше половины пользователей тарифа Смарт выходят за лимиты пакета в 15 гб. "
   ]
  },
  {
   "cell_type": "markdown",
   "id": "6059fc39",
   "metadata": {},
   "source": [
    "## Общий вывод"
   ]
  },
  {
   "cell_type": "markdown",
   "id": "29c24569",
   "metadata": {},
   "source": [
    "По итогам проведенного анализа данных можно сделать следующие выводы: \n",
    " * пользователей тарифа Смарт больше в 2,36 раза, чем пользователей тарифа Ультра; \n",
    " * почти 75% пользователей тарифа Смарт оплачивают дополнительные услуги сверх пакета, тогда как доля таких пользователей у тарифа Ультра составляет только 14%;\n",
    " * во всех случаях (минуты, смс, интернет) дисперсия по тарифу Ультра выше, чем у тарифа Смарт, что говорит о том, что по тарифу Ультра имеется больший диапазон значений вокруг среднего значения. \n",
    " * пользователи тарифа Смарт чаще выходят за лимиты своего пакета (особенно это заметно по интернет-траффику);\n",
    " * в среднем в месяц пользователи обоих пакетов используют 500 минут, 50 сообщений и до 20 гб интернет-траффика.\n",
    " "
   ]
  },
  {
   "cell_type": "markdown",
   "id": "c09c6c57",
   "metadata": {},
   "source": [
    "# Проверка гипотез"
   ]
  },
  {
   "cell_type": "markdown",
   "id": "fc64c461",
   "metadata": {},
   "source": [
    "Проверим следующие гипотезы:\n",
    "1. средняя выручка пользователей тарифов Ультра и Смарт различаются;\n",
    "2. средняя выручка пользователей из Москвы отличается от выручки пользователей из других регионов."
   ]
  },
  {
   "cell_type": "markdown",
   "id": "95b0fbd7",
   "metadata": {},
   "source": [
    "## Средняя выручка пользователей тарифов Ультра и Смарт различаются"
   ]
  },
  {
   "cell_type": "markdown",
   "id": "d68e7a6f",
   "metadata": {},
   "source": [
    "Сформулируем гипотезы: \n",
    "   * H0 - средняя выручка пользователей двух тарифов не отличается, \n",
    "   * H1 - средняя выручка пользователей двух тарифов отличается."
   ]
  },
  {
   "cell_type": "markdown",
   "id": "295adad1",
   "metadata": {},
   "source": [
    "Гипотезу будем проверять с помощью t-теста т.к. мы делаем предположение о равенстве средних двух независимых совокупностей."
   ]
  },
  {
   "cell_type": "code",
   "execution_count": 50,
   "id": "4cde194b",
   "metadata": {},
   "outputs": [
    {
     "name": "stdout",
     "output_type": "stream",
     "text": [
      "р-значение: 1.1799810154372117e-190\n",
      "Отвергаем нулевую гипотезу\n"
     ]
    }
   ],
   "source": [
    "alpha = 0.05 # критический уровень статистической значимости\n",
    "# если p-value окажется меньше него - отвергнем гипотезу\n",
    "\n",
    "smart = data.query('tariff ==\"smart\"')['revenue']\n",
    "ultra = data.query('tariff ==\"ultra\"')['revenue']\n",
    "\n",
    "result = st.ttest_ind(smart, ultra) #проверим гипотезу о равенстве средних двух независимых совокупностей\n",
    "\n",
    "print('р-значение:', result.pvalue)\n",
    "\n",
    "if result.pvalue < alpha:\n",
    "    print('Отвергаем нулевую гипотезу')\n",
    "else: \n",
    "    print('Не отвергаем нулевую гипотезу')"
   ]
  },
  {
   "cell_type": "markdown",
   "id": "95231dbe",
   "metadata": {},
   "source": [
    "Значение статистической значимости превышает критический уровень статистической значимости, поэтому мы отвергаем нулевую гипотезу: средняя выручка двух тарифов отличается друг от друга. "
   ]
  },
  {
   "cell_type": "markdown",
   "id": "7d69eba8",
   "metadata": {},
   "source": [
    "## Средняя выручка пользователей из Москвы отличается от выручки пользователей из других регионов."
   ]
  },
  {
   "cell_type": "markdown",
   "id": "ae028473",
   "metadata": {},
   "source": [
    "Сформулируем гипотезы:"
   ]
  },
  {
   "cell_type": "markdown",
   "id": "350654af",
   "metadata": {},
   "source": [
    "* H0 - средняя выручка пользователей из Москвы не отличается от пользователей из других городов,\n",
    "* H1 - средняя выручка пользователей из Москвы отличается от пользователей из других городов."
   ]
  },
  {
   "cell_type": "markdown",
   "id": "54bd848d",
   "metadata": {},
   "source": [
    "Гипотезу будем проверять с помощью t-теста т.к. мы делаем предположение о равенстве средних двух независимых совокупностей."
   ]
  },
  {
   "cell_type": "code",
   "execution_count": 51,
   "id": "d19bf01a",
   "metadata": {},
   "outputs": [
    {
     "name": "stdout",
     "output_type": "stream",
     "text": [
      "р-значение: 0.47434565342568924\n",
      "Не отвергаем нулевую гипотезу\n"
     ]
    }
   ],
   "source": [
    "alpha = 0.05\n",
    "\n",
    "moscow = data.query('city ==\"Москва\"')['revenue']\n",
    "other = data.query('city !=\"Москва\"')['revenue']\n",
    "\n",
    "result = st.ttest_ind(moscow, other) \n",
    "\n",
    "print('р-значение:', result.pvalue)\n",
    "\n",
    "if result.pvalue < alpha:\n",
    "    print('Отвергаем нулевую гипотезу')\n",
    "else: \n",
    "    print('Не отвергаем нулевую гипотезу')"
   ]
  },
  {
   "cell_type": "markdown",
   "id": "81faa265",
   "metadata": {},
   "source": [
    "Значение статистической значимости не превышает критический уровень статистической значимости, поэтому мы не отвергаем нулевую гипотезу: средняя выручка пользователей из Москвы не отличается от средней выручки пользователей из других городов."
   ]
  },
  {
   "cell_type": "markdown",
   "id": "50a67dce",
   "metadata": {},
   "source": [
    "# Общий вывод"
   ]
  },
  {
   "cell_type": "markdown",
   "id": "7476df8c",
   "metadata": {},
   "source": [
    "**Кратный обзор выполненных работ**:\n",
    "\n",
    "Ход исследования был разделен на четыре части: \n",
    "1. Обзор данных.\n",
    "2. Предобработка данных.\n",
    "3. Анализ данных.\n",
    "4. Проверка гипотез. \n",
    "\n",
    "В рамках первой части был сделан обзор предоставленных данных, в ходе которого были выявлены некоторые проблемы, в основном связанные с неверным форматом предоставленных данных. \n",
    "\n",
    "В рамках второй части \"Предобработка данных\" была проведена проверка на наличие дубликатов, поиск пропусков, а также тип данных приведен к нужному. Так же в рамках этой части были рассчитаны и добавлены новые показатели в таблицу (количество сделанных звонков и израсходованных минут разговора по месяцам, количество отправленных сообщений по месяцам, объем израсходованного интернет-трафика по месяцам, помесячная выручка с каждого пользователя.)\n",
    "\n",
    "В третьей части исследования был проведен анализ данных: были подробно исследованы такие параметры как: количество необходимых минут, количество смс и интернет-траффика в месяц. А также посчитано количество пользователей у каждого тарифа и доли платящих сверх тарифов. \n",
    "\n",
    "В четвертой части исследования была проведена проверка двух гипотез (о равенстве средней выручки пользователей двух тарифов и о равенстве выручки пользователей Москвы и других регионов)\n",
    "\n",
    "\n",
    "**Основные выводы**:\n",
    "\n",
    " 1. Количество пользователей тарифа Смарт превышает пользователей тарифа Ультра в 2,36 раза, что сказывается на общем объеме потраченных в месяц минут, смс и интернет-траффика. \n",
    " 2. В среднем в месяц пользователям обоих пакетов требуется 500 минут, 50 сообщений и до 20 гб интернет-траффика.\n",
    " 3. Пользователи тарифа Смарт чаще выходят за лимиты пакета, что подтверждается тем, что среди данных пользователей 76% платят дополнительно. \n",
    " 4. Была проведена проверка двух гипотез:\n",
    "      1. средняя выручка пользователей тарифов Ультра и Смарт различаются,\n",
    "      2. средняя выручка пользователей из Москвы не отличается от пользователей из других городов,\n",
    "    \n",
    "    первая гипотеза не подтвердилась, вторая подтвердилась. \n",
    "    \n"
   ]
  },
  {
   "cell_type": "markdown",
   "id": "b9d92eac",
   "metadata": {},
   "source": [
    "**Общие рекомендации**:\n",
    "\n",
    "Для того, чтобы сформулировать общие рекомендации посмотрим сводную таблицу, чтобы понять, какой из тарифов все-таки приносит больше выручки."
   ]
  },
  {
   "cell_type": "code",
   "execution_count": 52,
   "id": "99d9c2c8",
   "metadata": {},
   "outputs": [
    {
     "data": {
      "text/html": [
       "<div>\n",
       "<style scoped>\n",
       "    .dataframe tbody tr th:only-of-type {\n",
       "        vertical-align: middle;\n",
       "    }\n",
       "\n",
       "    .dataframe tbody tr th {\n",
       "        vertical-align: top;\n",
       "    }\n",
       "\n",
       "    .dataframe thead th {\n",
       "        text-align: right;\n",
       "    }\n",
       "</style>\n",
       "<table border=\"1\" class=\"dataframe\">\n",
       "  <thead>\n",
       "    <tr style=\"text-align: right;\">\n",
       "      <th></th>\n",
       "      <th>Общая выручка</th>\n",
       "      <th>% от общей выручки</th>\n",
       "    </tr>\n",
       "    <tr>\n",
       "      <th>tariff</th>\n",
       "      <th></th>\n",
       "      <th></th>\n",
       "    </tr>\n",
       "  </thead>\n",
       "  <tbody>\n",
       "    <tr>\n",
       "      <th>smart</th>\n",
       "      <td>2749149.0</td>\n",
       "      <td>0.575284</td>\n",
       "    </tr>\n",
       "    <tr>\n",
       "      <th>ultra</th>\n",
       "      <td>2029622.0</td>\n",
       "      <td>0.424716</td>\n",
       "    </tr>\n",
       "  </tbody>\n",
       "</table>\n",
       "</div>"
      ],
      "text/plain": [
       "        Общая выручка  % от общей выручки\n",
       "tariff                                   \n",
       "smart       2749149.0            0.575284\n",
       "ultra       2029622.0            0.424716"
      ]
     },
     "execution_count": 52,
     "metadata": {},
     "output_type": "execute_result"
    }
   ],
   "source": [
    "#построим своднуб таблицу для двух тарифов по сумме выручки\n",
    "final_table = data.pivot_table(index='tariff', values = 'revenue', aggfunc ='sum')\n",
    "final_table.columns = ['Общая выручка']\n",
    "#добавим еще одну колонку, где будет рассчитана доля выручки, приходящаяся на тариф\n",
    "final_table['% от общей выручки'] = final_table['Общая выручка'] / final_table['Общая выручка'].sum()\n",
    "final_table"
   ]
  },
  {
   "cell_type": "markdown",
   "id": "cb713d31",
   "metadata": {},
   "source": [
    "Как видно из сводной таблицы выше - большая часть выручка (57,5%) генерируется за счет пользователей тарифа Смарт, вероятнее всего, это связано с тем, что пользователей данного тарифа больше и 76% из них выходят за рамки пакетных лимитов, т.е. им приходится оплачивать услуги дополнительно. \n",
    "\n",
    "Есть смысл вкладывать больше денег в рекламный бюджет для тарифа Смарт для привлечения новых пользователей. "
   ]
  }
 ],
 "metadata": {
  "ExecuteTimeLog": [
   {
    "duration": 1834,
    "start_time": "2022-05-06T16:06:01.982Z"
   },
   {
    "duration": 549,
    "start_time": "2022-05-06T16:06:03.818Z"
   },
   {
    "duration": 35,
    "start_time": "2022-05-06T16:06:04.369Z"
   },
   {
    "duration": 82,
    "start_time": "2022-05-06T16:06:04.407Z"
   },
   {
    "duration": 23,
    "start_time": "2022-05-06T16:06:04.492Z"
   },
   {
    "duration": 35,
    "start_time": "2022-05-06T16:06:04.517Z"
   },
   {
    "duration": 40,
    "start_time": "2022-05-06T16:06:04.555Z"
   },
   {
    "duration": 44,
    "start_time": "2022-05-06T16:06:04.597Z"
   },
   {
    "duration": 56,
    "start_time": "2022-05-06T16:06:04.643Z"
   },
   {
    "duration": 43,
    "start_time": "2022-05-06T16:06:04.702Z"
   },
   {
    "duration": 16,
    "start_time": "2022-05-06T16:06:04.747Z"
   },
   {
    "duration": 40,
    "start_time": "2022-05-06T16:06:04.765Z"
   },
   {
    "duration": 47,
    "start_time": "2022-05-06T16:06:04.807Z"
   },
   {
    "duration": 26,
    "start_time": "2022-05-06T16:06:04.856Z"
   },
   {
    "duration": 43,
    "start_time": "2022-05-06T16:06:04.885Z"
   },
   {
    "duration": 64,
    "start_time": "2022-05-06T16:06:04.930Z"
   },
   {
    "duration": 26,
    "start_time": "2022-05-06T16:06:04.996Z"
   },
   {
    "duration": 60,
    "start_time": "2022-05-06T16:06:05.024Z"
   },
   {
    "duration": 169,
    "start_time": "2022-05-06T16:06:05.086Z"
   },
   {
    "duration": 137,
    "start_time": "2022-05-06T16:06:05.258Z"
   },
   {
    "duration": 85,
    "start_time": "2022-05-06T16:06:05.397Z"
   },
   {
    "duration": 8,
    "start_time": "2022-05-06T16:06:05.484Z"
   },
   {
    "duration": 41,
    "start_time": "2022-05-06T16:06:05.494Z"
   },
   {
    "duration": 113,
    "start_time": "2022-05-06T16:06:05.538Z"
   },
   {
    "duration": 95,
    "start_time": "2022-05-06T16:06:05.654Z"
   },
   {
    "duration": 83,
    "start_time": "2022-05-06T16:06:05.752Z"
   },
   {
    "duration": 22,
    "start_time": "2022-05-06T16:06:05.838Z"
   },
   {
    "duration": 89,
    "start_time": "2022-05-06T16:06:05.866Z"
   },
   {
    "duration": 43,
    "start_time": "2022-05-06T16:06:05.957Z"
   },
   {
    "duration": 74,
    "start_time": "2022-05-06T16:06:06.002Z"
   },
   {
    "duration": 64,
    "start_time": "2022-05-06T16:06:06.079Z"
   },
   {
    "duration": 35,
    "start_time": "2022-05-06T16:06:06.145Z"
   },
   {
    "duration": 11,
    "start_time": "2022-05-06T16:06:06.182Z"
   },
   {
    "duration": 47,
    "start_time": "2022-05-06T16:06:06.195Z"
   },
   {
    "duration": 43,
    "start_time": "2022-05-06T16:06:06.244Z"
   },
   {
    "duration": 240,
    "start_time": "2022-05-06T16:06:06.289Z"
   },
   {
    "duration": 42,
    "start_time": "2022-05-06T16:06:06.532Z"
   },
   {
    "duration": 137,
    "start_time": "2022-05-06T16:06:06.576Z"
   },
   {
    "duration": 739,
    "start_time": "2022-05-06T16:06:06.715Z"
   },
   {
    "duration": 253,
    "start_time": "2022-05-06T16:06:07.457Z"
   },
   {
    "duration": 10,
    "start_time": "2022-05-06T16:06:07.724Z"
   },
   {
    "duration": 25,
    "start_time": "2022-05-06T16:06:07.736Z"
   },
   {
    "duration": 693,
    "start_time": "2022-05-06T16:06:07.763Z"
   },
   {
    "duration": 232,
    "start_time": "2022-05-06T16:06:08.459Z"
   },
   {
    "duration": 10,
    "start_time": "2022-05-06T16:06:08.693Z"
   },
   {
    "duration": 41,
    "start_time": "2022-05-06T16:06:08.705Z"
   },
   {
    "duration": 763,
    "start_time": "2022-05-06T16:06:08.748Z"
   },
   {
    "duration": 241,
    "start_time": "2022-05-06T16:06:09.513Z"
   },
   {
    "duration": 9,
    "start_time": "2022-05-06T16:06:09.756Z"
   },
   {
    "duration": 19,
    "start_time": "2022-05-06T16:06:09.768Z"
   },
   {
    "duration": 44,
    "start_time": "2022-05-06T16:06:09.789Z"
   },
   {
    "duration": 22,
    "start_time": "2022-05-06T16:06:09.840Z"
   },
   {
    "duration": 38,
    "start_time": "2022-05-06T16:08:20.376Z"
   }
  ],
  "kernelspec": {
   "display_name": "Python 3 (ipykernel)",
   "language": "python",
   "name": "python3"
  },
  "language_info": {
   "codemirror_mode": {
    "name": "ipython",
    "version": 3
   },
   "file_extension": ".py",
   "mimetype": "text/x-python",
   "name": "python",
   "nbconvert_exporter": "python",
   "pygments_lexer": "ipython3",
   "version": "3.9.7"
  },
  "toc": {
   "base_numbering": 1,
   "nav_menu": {},
   "number_sections": true,
   "sideBar": true,
   "skip_h1_title": false,
   "title_cell": "Table of Contents",
   "title_sidebar": "Contents",
   "toc_cell": false,
   "toc_position": {},
   "toc_section_display": true,
   "toc_window_display": false
  }
 },
 "nbformat": 4,
 "nbformat_minor": 5
}

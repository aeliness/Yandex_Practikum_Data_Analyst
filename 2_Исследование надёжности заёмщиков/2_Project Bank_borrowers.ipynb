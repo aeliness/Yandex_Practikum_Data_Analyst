{
 "cells": [
  {
   "cell_type": "markdown",
   "id": "ff5bfaaf",
   "metadata": {},
   "source": [
    "# Исследование надежности заемщиков."
   ]
  },
  {
   "cell_type": "markdown",
   "id": "c980bb04",
   "metadata": {},
   "source": [
    "Кредитный отдел банка предоставил данные о платежеспособности клиентов.\n",
    "\n",
    "**Цель исследования** — проверить четыре гипотезы: \n",
    "\n",
    "* Есть ли зависимость между количеством детей и возвратом кредита в срок?\n",
    "* Есть ли зависимость между семейным положением и возвратом кредита в срок?\n",
    "* Есть ли зависимость между уровнем дохода и возвратом кредита в срок?\n",
    "* Как разные цели кредита влияют на его возврат в срок?\n",
    "\n",
    "Результаты исследования будут использованы при построение модели кредитного скоринга. \n",
    "\n",
    "**Ход исследования**\n",
    "\n",
    "О данных в файла `/datasets/data.csv` нам ничего не известно, поэтому перед проверкой гипотез необходимо будет провести обзор данных. \n",
    "Соответственно, исследование разделится на четыре этапа:\n",
    " 1. Обзор данных\n",
    " 2. Предобработка данных\n",
    " 3. Проверка гипотез\n",
    " 4. Общие выводы и рекомендации"
   ]
  },
  {
   "cell_type": "markdown",
   "id": "15a49479",
   "metadata": {},
   "source": [
    "## Обзор данных"
   ]
  },
  {
   "cell_type": "code",
   "execution_count": 1,
   "id": "8c6b2045",
   "metadata": {},
   "outputs": [],
   "source": [
    "import pandas as pd # импорт библиотеки pandas"
   ]
  },
  {
   "cell_type": "code",
   "execution_count": 2,
   "id": "ab648522",
   "metadata": {},
   "outputs": [
    {
     "name": "stdout",
     "output_type": "stream",
     "text": [
      "<class 'pandas.core.frame.DataFrame'>\n",
      "RangeIndex: 21525 entries, 0 to 21524\n",
      "Data columns (total 12 columns):\n",
      " #   Column            Non-Null Count  Dtype  \n",
      "---  ------            --------------  -----  \n",
      " 0   children          21525 non-null  int64  \n",
      " 1   days_employed     19351 non-null  float64\n",
      " 2   dob_years         21525 non-null  int64  \n",
      " 3   education         21525 non-null  object \n",
      " 4   education_id      21525 non-null  int64  \n",
      " 5   family_status     21525 non-null  object \n",
      " 6   family_status_id  21525 non-null  int64  \n",
      " 7   gender            21525 non-null  object \n",
      " 8   income_type       21525 non-null  object \n",
      " 9   debt              21525 non-null  int64  \n",
      " 10  total_income      19351 non-null  float64\n",
      " 11  purpose           21525 non-null  object \n",
      "dtypes: float64(2), int64(5), object(5)\n",
      "memory usage: 2.0+ MB\n"
     ]
    }
   ],
   "source": [
    "df = pd.read_csv('/datasets/data.csv') # чтение файла с данными и сохранение в df\n",
    "\n",
    "df.info() # получение общей информации о данных в таблице df\n"
   ]
  },
  {
   "cell_type": "code",
   "execution_count": 3,
   "id": "df10d7d3",
   "metadata": {},
   "outputs": [
    {
     "data": {
      "text/html": [
       "<div>\n",
       "<style scoped>\n",
       "    .dataframe tbody tr th:only-of-type {\n",
       "        vertical-align: middle;\n",
       "    }\n",
       "\n",
       "    .dataframe tbody tr th {\n",
       "        vertical-align: top;\n",
       "    }\n",
       "\n",
       "    .dataframe thead th {\n",
       "        text-align: right;\n",
       "    }\n",
       "</style>\n",
       "<table border=\"1\" class=\"dataframe\">\n",
       "  <thead>\n",
       "    <tr style=\"text-align: right;\">\n",
       "      <th></th>\n",
       "      <th>children</th>\n",
       "      <th>days_employed</th>\n",
       "      <th>dob_years</th>\n",
       "      <th>education</th>\n",
       "      <th>education_id</th>\n",
       "      <th>family_status</th>\n",
       "      <th>family_status_id</th>\n",
       "      <th>gender</th>\n",
       "      <th>income_type</th>\n",
       "      <th>debt</th>\n",
       "      <th>total_income</th>\n",
       "      <th>purpose</th>\n",
       "    </tr>\n",
       "  </thead>\n",
       "  <tbody>\n",
       "    <tr>\n",
       "      <th>0</th>\n",
       "      <td>1</td>\n",
       "      <td>-8437.673028</td>\n",
       "      <td>42</td>\n",
       "      <td>высшее</td>\n",
       "      <td>0</td>\n",
       "      <td>женат / замужем</td>\n",
       "      <td>0</td>\n",
       "      <td>F</td>\n",
       "      <td>сотрудник</td>\n",
       "      <td>0</td>\n",
       "      <td>253875.639453</td>\n",
       "      <td>покупка жилья</td>\n",
       "    </tr>\n",
       "    <tr>\n",
       "      <th>1</th>\n",
       "      <td>1</td>\n",
       "      <td>-4024.803754</td>\n",
       "      <td>36</td>\n",
       "      <td>среднее</td>\n",
       "      <td>1</td>\n",
       "      <td>женат / замужем</td>\n",
       "      <td>0</td>\n",
       "      <td>F</td>\n",
       "      <td>сотрудник</td>\n",
       "      <td>0</td>\n",
       "      <td>112080.014102</td>\n",
       "      <td>приобретение автомобиля</td>\n",
       "    </tr>\n",
       "    <tr>\n",
       "      <th>2</th>\n",
       "      <td>0</td>\n",
       "      <td>-5623.422610</td>\n",
       "      <td>33</td>\n",
       "      <td>Среднее</td>\n",
       "      <td>1</td>\n",
       "      <td>женат / замужем</td>\n",
       "      <td>0</td>\n",
       "      <td>M</td>\n",
       "      <td>сотрудник</td>\n",
       "      <td>0</td>\n",
       "      <td>145885.952297</td>\n",
       "      <td>покупка жилья</td>\n",
       "    </tr>\n",
       "    <tr>\n",
       "      <th>3</th>\n",
       "      <td>3</td>\n",
       "      <td>-4124.747207</td>\n",
       "      <td>32</td>\n",
       "      <td>среднее</td>\n",
       "      <td>1</td>\n",
       "      <td>женат / замужем</td>\n",
       "      <td>0</td>\n",
       "      <td>M</td>\n",
       "      <td>сотрудник</td>\n",
       "      <td>0</td>\n",
       "      <td>267628.550329</td>\n",
       "      <td>дополнительное образование</td>\n",
       "    </tr>\n",
       "    <tr>\n",
       "      <th>4</th>\n",
       "      <td>0</td>\n",
       "      <td>340266.072047</td>\n",
       "      <td>53</td>\n",
       "      <td>среднее</td>\n",
       "      <td>1</td>\n",
       "      <td>гражданский брак</td>\n",
       "      <td>1</td>\n",
       "      <td>F</td>\n",
       "      <td>пенсионер</td>\n",
       "      <td>0</td>\n",
       "      <td>158616.077870</td>\n",
       "      <td>сыграть свадьбу</td>\n",
       "    </tr>\n",
       "    <tr>\n",
       "      <th>5</th>\n",
       "      <td>0</td>\n",
       "      <td>-926.185831</td>\n",
       "      <td>27</td>\n",
       "      <td>высшее</td>\n",
       "      <td>0</td>\n",
       "      <td>гражданский брак</td>\n",
       "      <td>1</td>\n",
       "      <td>M</td>\n",
       "      <td>компаньон</td>\n",
       "      <td>0</td>\n",
       "      <td>255763.565419</td>\n",
       "      <td>покупка жилья</td>\n",
       "    </tr>\n",
       "    <tr>\n",
       "      <th>6</th>\n",
       "      <td>0</td>\n",
       "      <td>-2879.202052</td>\n",
       "      <td>43</td>\n",
       "      <td>высшее</td>\n",
       "      <td>0</td>\n",
       "      <td>женат / замужем</td>\n",
       "      <td>0</td>\n",
       "      <td>F</td>\n",
       "      <td>компаньон</td>\n",
       "      <td>0</td>\n",
       "      <td>240525.971920</td>\n",
       "      <td>операции с жильем</td>\n",
       "    </tr>\n",
       "    <tr>\n",
       "      <th>7</th>\n",
       "      <td>0</td>\n",
       "      <td>-152.779569</td>\n",
       "      <td>50</td>\n",
       "      <td>СРЕДНЕЕ</td>\n",
       "      <td>1</td>\n",
       "      <td>женат / замужем</td>\n",
       "      <td>0</td>\n",
       "      <td>M</td>\n",
       "      <td>сотрудник</td>\n",
       "      <td>0</td>\n",
       "      <td>135823.934197</td>\n",
       "      <td>образование</td>\n",
       "    </tr>\n",
       "    <tr>\n",
       "      <th>8</th>\n",
       "      <td>2</td>\n",
       "      <td>-6929.865299</td>\n",
       "      <td>35</td>\n",
       "      <td>ВЫСШЕЕ</td>\n",
       "      <td>0</td>\n",
       "      <td>гражданский брак</td>\n",
       "      <td>1</td>\n",
       "      <td>F</td>\n",
       "      <td>сотрудник</td>\n",
       "      <td>0</td>\n",
       "      <td>95856.832424</td>\n",
       "      <td>на проведение свадьбы</td>\n",
       "    </tr>\n",
       "    <tr>\n",
       "      <th>9</th>\n",
       "      <td>0</td>\n",
       "      <td>-2188.756445</td>\n",
       "      <td>41</td>\n",
       "      <td>среднее</td>\n",
       "      <td>1</td>\n",
       "      <td>женат / замужем</td>\n",
       "      <td>0</td>\n",
       "      <td>M</td>\n",
       "      <td>сотрудник</td>\n",
       "      <td>0</td>\n",
       "      <td>144425.938277</td>\n",
       "      <td>покупка жилья для семьи</td>\n",
       "    </tr>\n",
       "  </tbody>\n",
       "</table>\n",
       "</div>"
      ],
      "text/plain": [
       "   children  days_employed  dob_years education  education_id  \\\n",
       "0         1   -8437.673028         42    высшее             0   \n",
       "1         1   -4024.803754         36   среднее             1   \n",
       "2         0   -5623.422610         33   Среднее             1   \n",
       "3         3   -4124.747207         32   среднее             1   \n",
       "4         0  340266.072047         53   среднее             1   \n",
       "5         0    -926.185831         27    высшее             0   \n",
       "6         0   -2879.202052         43    высшее             0   \n",
       "7         0    -152.779569         50   СРЕДНЕЕ             1   \n",
       "8         2   -6929.865299         35    ВЫСШЕЕ             0   \n",
       "9         0   -2188.756445         41   среднее             1   \n",
       "\n",
       "      family_status  family_status_id gender income_type  debt   total_income  \\\n",
       "0   женат / замужем                 0      F   сотрудник     0  253875.639453   \n",
       "1   женат / замужем                 0      F   сотрудник     0  112080.014102   \n",
       "2   женат / замужем                 0      M   сотрудник     0  145885.952297   \n",
       "3   женат / замужем                 0      M   сотрудник     0  267628.550329   \n",
       "4  гражданский брак                 1      F   пенсионер     0  158616.077870   \n",
       "5  гражданский брак                 1      M   компаньон     0  255763.565419   \n",
       "6   женат / замужем                 0      F   компаньон     0  240525.971920   \n",
       "7   женат / замужем                 0      M   сотрудник     0  135823.934197   \n",
       "8  гражданский брак                 1      F   сотрудник     0   95856.832424   \n",
       "9   женат / замужем                 0      M   сотрудник     0  144425.938277   \n",
       "\n",
       "                      purpose  \n",
       "0               покупка жилья  \n",
       "1     приобретение автомобиля  \n",
       "2               покупка жилья  \n",
       "3  дополнительное образование  \n",
       "4             сыграть свадьбу  \n",
       "5               покупка жилья  \n",
       "6           операции с жильем  \n",
       "7                 образование  \n",
       "8       на проведение свадьбы  \n",
       "9     покупка жилья для семьи  "
      ]
     },
     "execution_count": 3,
     "metadata": {},
     "output_type": "execute_result"
    }
   ],
   "source": [
    " df.head(10) # получение первых 10 строк таблицы df"
   ]
  },
  {
   "cell_type": "code",
   "execution_count": 4,
   "id": "2cb493d0",
   "metadata": {
    "scrolled": false
   },
   "outputs": [
    {
     "data": {
      "text/html": [
       "<div>\n",
       "<style scoped>\n",
       "    .dataframe tbody tr th:only-of-type {\n",
       "        vertical-align: middle;\n",
       "    }\n",
       "\n",
       "    .dataframe tbody tr th {\n",
       "        vertical-align: top;\n",
       "    }\n",
       "\n",
       "    .dataframe thead th {\n",
       "        text-align: right;\n",
       "    }\n",
       "</style>\n",
       "<table border=\"1\" class=\"dataframe\">\n",
       "  <thead>\n",
       "    <tr style=\"text-align: right;\">\n",
       "      <th></th>\n",
       "      <th>children</th>\n",
       "      <th>days_employed</th>\n",
       "      <th>dob_years</th>\n",
       "      <th>education</th>\n",
       "      <th>education_id</th>\n",
       "      <th>family_status</th>\n",
       "      <th>family_status_id</th>\n",
       "      <th>gender</th>\n",
       "      <th>income_type</th>\n",
       "      <th>debt</th>\n",
       "      <th>total_income</th>\n",
       "      <th>purpose</th>\n",
       "    </tr>\n",
       "  </thead>\n",
       "  <tbody>\n",
       "    <tr>\n",
       "      <th>21515</th>\n",
       "      <td>1</td>\n",
       "      <td>-467.685130</td>\n",
       "      <td>28</td>\n",
       "      <td>среднее</td>\n",
       "      <td>1</td>\n",
       "      <td>женат / замужем</td>\n",
       "      <td>0</td>\n",
       "      <td>F</td>\n",
       "      <td>сотрудник</td>\n",
       "      <td>1</td>\n",
       "      <td>109486.327999</td>\n",
       "      <td>заняться образованием</td>\n",
       "    </tr>\n",
       "    <tr>\n",
       "      <th>21516</th>\n",
       "      <td>0</td>\n",
       "      <td>-914.391429</td>\n",
       "      <td>42</td>\n",
       "      <td>высшее</td>\n",
       "      <td>0</td>\n",
       "      <td>женат / замужем</td>\n",
       "      <td>0</td>\n",
       "      <td>F</td>\n",
       "      <td>компаньон</td>\n",
       "      <td>0</td>\n",
       "      <td>322807.776603</td>\n",
       "      <td>покупка своего жилья</td>\n",
       "    </tr>\n",
       "    <tr>\n",
       "      <th>21517</th>\n",
       "      <td>0</td>\n",
       "      <td>-404.679034</td>\n",
       "      <td>42</td>\n",
       "      <td>высшее</td>\n",
       "      <td>0</td>\n",
       "      <td>гражданский брак</td>\n",
       "      <td>1</td>\n",
       "      <td>F</td>\n",
       "      <td>компаньон</td>\n",
       "      <td>0</td>\n",
       "      <td>178059.553491</td>\n",
       "      <td>на покупку своего автомобиля</td>\n",
       "    </tr>\n",
       "    <tr>\n",
       "      <th>21518</th>\n",
       "      <td>0</td>\n",
       "      <td>373995.710838</td>\n",
       "      <td>59</td>\n",
       "      <td>СРЕДНЕЕ</td>\n",
       "      <td>1</td>\n",
       "      <td>женат / замужем</td>\n",
       "      <td>0</td>\n",
       "      <td>F</td>\n",
       "      <td>пенсионер</td>\n",
       "      <td>0</td>\n",
       "      <td>153864.650328</td>\n",
       "      <td>сделка с автомобилем</td>\n",
       "    </tr>\n",
       "    <tr>\n",
       "      <th>21519</th>\n",
       "      <td>1</td>\n",
       "      <td>-2351.431934</td>\n",
       "      <td>37</td>\n",
       "      <td>ученая степень</td>\n",
       "      <td>4</td>\n",
       "      <td>в разводе</td>\n",
       "      <td>3</td>\n",
       "      <td>M</td>\n",
       "      <td>сотрудник</td>\n",
       "      <td>0</td>\n",
       "      <td>115949.039788</td>\n",
       "      <td>покупка коммерческой недвижимости</td>\n",
       "    </tr>\n",
       "    <tr>\n",
       "      <th>21520</th>\n",
       "      <td>1</td>\n",
       "      <td>-4529.316663</td>\n",
       "      <td>43</td>\n",
       "      <td>среднее</td>\n",
       "      <td>1</td>\n",
       "      <td>гражданский брак</td>\n",
       "      <td>1</td>\n",
       "      <td>F</td>\n",
       "      <td>компаньон</td>\n",
       "      <td>0</td>\n",
       "      <td>224791.862382</td>\n",
       "      <td>операции с жильем</td>\n",
       "    </tr>\n",
       "    <tr>\n",
       "      <th>21521</th>\n",
       "      <td>0</td>\n",
       "      <td>343937.404131</td>\n",
       "      <td>67</td>\n",
       "      <td>среднее</td>\n",
       "      <td>1</td>\n",
       "      <td>женат / замужем</td>\n",
       "      <td>0</td>\n",
       "      <td>F</td>\n",
       "      <td>пенсионер</td>\n",
       "      <td>0</td>\n",
       "      <td>155999.806512</td>\n",
       "      <td>сделка с автомобилем</td>\n",
       "    </tr>\n",
       "    <tr>\n",
       "      <th>21522</th>\n",
       "      <td>1</td>\n",
       "      <td>-2113.346888</td>\n",
       "      <td>38</td>\n",
       "      <td>среднее</td>\n",
       "      <td>1</td>\n",
       "      <td>гражданский брак</td>\n",
       "      <td>1</td>\n",
       "      <td>M</td>\n",
       "      <td>сотрудник</td>\n",
       "      <td>1</td>\n",
       "      <td>89672.561153</td>\n",
       "      <td>недвижимость</td>\n",
       "    </tr>\n",
       "    <tr>\n",
       "      <th>21523</th>\n",
       "      <td>3</td>\n",
       "      <td>-3112.481705</td>\n",
       "      <td>38</td>\n",
       "      <td>среднее</td>\n",
       "      <td>1</td>\n",
       "      <td>женат / замужем</td>\n",
       "      <td>0</td>\n",
       "      <td>M</td>\n",
       "      <td>сотрудник</td>\n",
       "      <td>1</td>\n",
       "      <td>244093.050500</td>\n",
       "      <td>на покупку своего автомобиля</td>\n",
       "    </tr>\n",
       "    <tr>\n",
       "      <th>21524</th>\n",
       "      <td>2</td>\n",
       "      <td>-1984.507589</td>\n",
       "      <td>40</td>\n",
       "      <td>среднее</td>\n",
       "      <td>1</td>\n",
       "      <td>женат / замужем</td>\n",
       "      <td>0</td>\n",
       "      <td>F</td>\n",
       "      <td>сотрудник</td>\n",
       "      <td>0</td>\n",
       "      <td>82047.418899</td>\n",
       "      <td>на покупку автомобиля</td>\n",
       "    </tr>\n",
       "  </tbody>\n",
       "</table>\n",
       "</div>"
      ],
      "text/plain": [
       "       children  days_employed  dob_years       education  education_id  \\\n",
       "21515         1    -467.685130         28         среднее             1   \n",
       "21516         0    -914.391429         42          высшее             0   \n",
       "21517         0    -404.679034         42          высшее             0   \n",
       "21518         0  373995.710838         59         СРЕДНЕЕ             1   \n",
       "21519         1   -2351.431934         37  ученая степень             4   \n",
       "21520         1   -4529.316663         43         среднее             1   \n",
       "21521         0  343937.404131         67         среднее             1   \n",
       "21522         1   -2113.346888         38         среднее             1   \n",
       "21523         3   -3112.481705         38         среднее             1   \n",
       "21524         2   -1984.507589         40         среднее             1   \n",
       "\n",
       "          family_status  family_status_id gender income_type  debt  \\\n",
       "21515   женат / замужем                 0      F   сотрудник     1   \n",
       "21516   женат / замужем                 0      F   компаньон     0   \n",
       "21517  гражданский брак                 1      F   компаньон     0   \n",
       "21518   женат / замужем                 0      F   пенсионер     0   \n",
       "21519         в разводе                 3      M   сотрудник     0   \n",
       "21520  гражданский брак                 1      F   компаньон     0   \n",
       "21521   женат / замужем                 0      F   пенсионер     0   \n",
       "21522  гражданский брак                 1      M   сотрудник     1   \n",
       "21523   женат / замужем                 0      M   сотрудник     1   \n",
       "21524   женат / замужем                 0      F   сотрудник     0   \n",
       "\n",
       "        total_income                            purpose  \n",
       "21515  109486.327999              заняться образованием  \n",
       "21516  322807.776603               покупка своего жилья  \n",
       "21517  178059.553491       на покупку своего автомобиля  \n",
       "21518  153864.650328               сделка с автомобилем  \n",
       "21519  115949.039788  покупка коммерческой недвижимости  \n",
       "21520  224791.862382                  операции с жильем  \n",
       "21521  155999.806512               сделка с автомобилем  \n",
       "21522   89672.561153                       недвижимость  \n",
       "21523  244093.050500       на покупку своего автомобиля  \n",
       "21524   82047.418899              на покупку автомобиля  "
      ]
     },
     "execution_count": 4,
     "metadata": {},
     "output_type": "execute_result"
    }
   ],
   "source": [
    " df.tail(10) # получение последних 10 строк таблицы df"
   ]
  },
  {
   "cell_type": "code",
   "execution_count": 5,
   "id": "ad8a4705",
   "metadata": {},
   "outputs": [
    {
     "data": {
      "text/html": [
       "<div>\n",
       "<style scoped>\n",
       "    .dataframe tbody tr th:only-of-type {\n",
       "        vertical-align: middle;\n",
       "    }\n",
       "\n",
       "    .dataframe tbody tr th {\n",
       "        vertical-align: top;\n",
       "    }\n",
       "\n",
       "    .dataframe thead th {\n",
       "        text-align: right;\n",
       "    }\n",
       "</style>\n",
       "<table border=\"1\" class=\"dataframe\">\n",
       "  <thead>\n",
       "    <tr style=\"text-align: right;\">\n",
       "      <th></th>\n",
       "      <th>children</th>\n",
       "      <th>days_employed</th>\n",
       "      <th>dob_years</th>\n",
       "      <th>education_id</th>\n",
       "      <th>family_status_id</th>\n",
       "      <th>debt</th>\n",
       "      <th>total_income</th>\n",
       "    </tr>\n",
       "  </thead>\n",
       "  <tbody>\n",
       "    <tr>\n",
       "      <th>count</th>\n",
       "      <td>21525</td>\n",
       "      <td>19351</td>\n",
       "      <td>21525</td>\n",
       "      <td>21525</td>\n",
       "      <td>21525</td>\n",
       "      <td>21525</td>\n",
       "      <td>19351</td>\n",
       "    </tr>\n",
       "    <tr>\n",
       "      <th>mean</th>\n",
       "      <td>0</td>\n",
       "      <td>63046</td>\n",
       "      <td>43</td>\n",
       "      <td>0</td>\n",
       "      <td>0</td>\n",
       "      <td>0</td>\n",
       "      <td>167422</td>\n",
       "    </tr>\n",
       "    <tr>\n",
       "      <th>std</th>\n",
       "      <td>1</td>\n",
       "      <td>140827</td>\n",
       "      <td>12</td>\n",
       "      <td>0</td>\n",
       "      <td>1</td>\n",
       "      <td>0</td>\n",
       "      <td>102971</td>\n",
       "    </tr>\n",
       "    <tr>\n",
       "      <th>min</th>\n",
       "      <td>-1</td>\n",
       "      <td>-18388</td>\n",
       "      <td>0</td>\n",
       "      <td>0</td>\n",
       "      <td>0</td>\n",
       "      <td>0</td>\n",
       "      <td>20667</td>\n",
       "    </tr>\n",
       "    <tr>\n",
       "      <th>25%</th>\n",
       "      <td>0</td>\n",
       "      <td>-2747</td>\n",
       "      <td>33</td>\n",
       "      <td>1</td>\n",
       "      <td>0</td>\n",
       "      <td>0</td>\n",
       "      <td>103053</td>\n",
       "    </tr>\n",
       "    <tr>\n",
       "      <th>50%</th>\n",
       "      <td>0</td>\n",
       "      <td>-1203</td>\n",
       "      <td>42</td>\n",
       "      <td>1</td>\n",
       "      <td>0</td>\n",
       "      <td>0</td>\n",
       "      <td>145017</td>\n",
       "    </tr>\n",
       "    <tr>\n",
       "      <th>75%</th>\n",
       "      <td>1</td>\n",
       "      <td>-291</td>\n",
       "      <td>53</td>\n",
       "      <td>1</td>\n",
       "      <td>1</td>\n",
       "      <td>0</td>\n",
       "      <td>203435</td>\n",
       "    </tr>\n",
       "    <tr>\n",
       "      <th>max</th>\n",
       "      <td>20</td>\n",
       "      <td>401755</td>\n",
       "      <td>75</td>\n",
       "      <td>4</td>\n",
       "      <td>4</td>\n",
       "      <td>1</td>\n",
       "      <td>2265604</td>\n",
       "    </tr>\n",
       "  </tbody>\n",
       "</table>\n",
       "</div>"
      ],
      "text/plain": [
       "       children  days_employed  dob_years  education_id  family_status_id  \\\n",
       "count     21525          19351      21525         21525             21525   \n",
       "mean          0          63046         43             0                 0   \n",
       "std           1         140827         12             0                 1   \n",
       "min          -1         -18388          0             0                 0   \n",
       "25%           0          -2747         33             1                 0   \n",
       "50%           0          -1203         42             1                 0   \n",
       "75%           1           -291         53             1                 1   \n",
       "max          20         401755         75             4                 4   \n",
       "\n",
       "        debt  total_income  \n",
       "count  21525         19351  \n",
       "mean       0        167422  \n",
       "std        0        102971  \n",
       "min        0         20667  \n",
       "25%        0        103053  \n",
       "50%        0        145017  \n",
       "75%        0        203435  \n",
       "max        1       2265604  "
      ]
     },
     "execution_count": 5,
     "metadata": {},
     "output_type": "execute_result"
    }
   ],
   "source": [
    "df.describe().astype(int) #вывод таблицы со статистическими данными без десятичных знаков после запятой"
   ]
  },
  {
   "cell_type": "markdown",
   "id": "2ed5366e",
   "metadata": {},
   "source": [
    "Посмотрим информацию по отдельным столбцам, которые в т.ч. необходимы нам для исследования."
   ]
  },
  {
   "cell_type": "code",
   "execution_count": 6,
   "id": "f24c80e0",
   "metadata": {},
   "outputs": [
    {
     "data": {
      "text/plain": [
       "среднее                13750\n",
       "высшее                  4718\n",
       "СРЕДНЕЕ                  772\n",
       "Среднее                  711\n",
       "неоконченное высшее      668\n",
       "ВЫСШЕЕ                   274\n",
       "Высшее                   268\n",
       "начальное                250\n",
       "Неоконченное высшее       47\n",
       "НЕОКОНЧЕННОЕ ВЫСШЕЕ       29\n",
       "НАЧАЛЬНОЕ                 17\n",
       "Начальное                 15\n",
       "ученая степень             4\n",
       "Ученая степень             1\n",
       "УЧЕНАЯ СТЕПЕНЬ             1\n",
       "Name: education, dtype: int64"
      ]
     },
     "execution_count": 6,
     "metadata": {},
     "output_type": "execute_result"
    }
   ],
   "source": [
    "df['education'].value_counts() #посмотрим категории в столбце education, чтобы проверить корректность заполненных данных"
   ]
  },
  {
   "cell_type": "code",
   "execution_count": 7,
   "id": "46350758",
   "metadata": {
    "scrolled": false
   },
   "outputs": [
    {
     "data": {
      "text/plain": [
       "женат / замужем          12380\n",
       "гражданский брак          4177\n",
       "Не женат / не замужем     2813\n",
       "в разводе                 1195\n",
       "вдовец / вдова             960\n",
       "Name: family_status, dtype: int64"
      ]
     },
     "execution_count": 7,
     "metadata": {},
     "output_type": "execute_result"
    }
   ],
   "source": [
    "df['family_status'].value_counts() #посмотрим категории по столбцу family_status"
   ]
  },
  {
   "cell_type": "code",
   "execution_count": 8,
   "id": "cfeb6dfd",
   "metadata": {},
   "outputs": [
    {
     "data": {
      "text/plain": [
       "F      14236\n",
       "M       7288\n",
       "XNA        1\n",
       "Name: gender, dtype: int64"
      ]
     },
     "execution_count": 8,
     "metadata": {},
     "output_type": "execute_result"
    }
   ],
   "source": [
    "df['gender'].value_counts() #посмотрим категории по столбцу gender"
   ]
  },
  {
   "cell_type": "code",
   "execution_count": 9,
   "id": "5d7ec386",
   "metadata": {
    "scrolled": true
   },
   "outputs": [
    {
     "data": {
      "text/plain": [
       "сотрудник          11119\n",
       "компаньон           5085\n",
       "пенсионер           3856\n",
       "госслужащий         1459\n",
       "безработный            2\n",
       "предприниматель        2\n",
       "в декрете              1\n",
       "студент                1\n",
       "Name: income_type, dtype: int64"
      ]
     },
     "execution_count": 9,
     "metadata": {},
     "output_type": "execute_result"
    }
   ],
   "source": [
    "df['income_type'].value_counts() #посмотрим категории по столбцу income_type"
   ]
  },
  {
   "cell_type": "code",
   "execution_count": 10,
   "id": "c8263c30",
   "metadata": {},
   "outputs": [
    {
     "data": {
      "text/plain": [
       "свадьба                                   797\n",
       "на проведение свадьбы                     777\n",
       "сыграть свадьбу                           774\n",
       "операции с недвижимостью                  676\n",
       "покупка коммерческой недвижимости         664\n",
       "операции с жильем                         653\n",
       "покупка жилья для сдачи                   653\n",
       "операции с коммерческой недвижимостью     651\n",
       "покупка жилья                             647\n",
       "жилье                                     647\n",
       "покупка жилья для семьи                   641\n",
       "строительство собственной недвижимости    635\n",
       "недвижимость                              634\n",
       "операции со своей недвижимостью           630\n",
       "строительство жилой недвижимости          626\n",
       "покупка недвижимости                      624\n",
       "строительство недвижимости                620\n",
       "покупка своего жилья                      620\n",
       "ремонт жилью                              612\n",
       "покупка жилой недвижимости                607\n",
       "на покупку своего автомобиля              505\n",
       "заняться высшим образованием              496\n",
       "автомобиль                                495\n",
       "сделка с подержанным автомобилем          489\n",
       "свой автомобиль                           480\n",
       "на покупку подержанного автомобиля        479\n",
       "автомобили                                478\n",
       "на покупку автомобиля                     472\n",
       "дополнительное образование                462\n",
       "приобретение автомобиля                   462\n",
       "сделка с автомобилем                      455\n",
       "высшее образование                        453\n",
       "получение дополнительного образования     447\n",
       "образование                               447\n",
       "получение образования                     443\n",
       "профильное образование                    436\n",
       "получение высшего образования             426\n",
       "заняться образованием                     412\n",
       "Name: purpose, dtype: int64"
      ]
     },
     "execution_count": 10,
     "metadata": {},
     "output_type": "execute_result"
    }
   ],
   "source": [
    "df['purpose'].value_counts() #посмотрим категории по столбцу purpose"
   ]
  },
  {
   "cell_type": "markdown",
   "id": "c49491ac",
   "metadata": {},
   "source": [
    "### Выводы обзора данных"
   ]
  },
  {
   "cell_type": "markdown",
   "id": "e7706444",
   "metadata": {},
   "source": [
    "В таблице имеется двенадцать столбцов, которые в соответствии с документацией к данным представляют следующее:\n",
    "\n",
    "* `children` — количество детей в семье;\n",
    "* `days_employed` — общий трудовой стаж в днях;\n",
    "* `dob_years` — возраст клиента в годах;\n",
    "* `education` — уровень образования клиента;\n",
    "* `education_id` — идентификатор уровня образования;\n",
    "* `family_status` — семейное положение;\n",
    "* `family_status_id` — идентификатор семейного положения;\n",
    "* `gender` — пол клиента;\n",
    "* `income_type` — тип занятости;\n",
    "* `debt` — имел ли задолженность по возврату кредитов;\n",
    "* `total_income` — ежемесячный доход;\n",
    "* `purpose` — цель получения кредита.\n"
   ]
  },
  {
   "cell_type": "markdown",
   "id": "e0b20544",
   "metadata": {},
   "source": [
    "Из представленных данных можно сделать несколько выводов:\n",
    "* больше всего кредитов представлено людям со *средним* образованием, которые работают *сотрудниками*,\n",
    "* 66% кредитов были выданы *женщинам*,\n",
    "* кредиты пользуются большей популярностью у *женатых/замужних людей*, \n",
    "* самая растространненая цель получения кредита - *на свадьбу*. "
   ]
  },
  {
   "cell_type": "markdown",
   "id": "d9a91179",
   "metadata": {},
   "source": [
    "Были выявлены следующие *проблемы* в предоставленных данных:\n",
    "\n",
    "* колонка `children`:  \n",
    "    * имееются 47 отрицательных значений, а также 76 значений, где детей больше 20, что тоже вызывает подозрение о корректности заполненных данных; \n",
    "* колонка `days_employed`: \n",
    "    * имеются отрицальные и слишком большие положительные значения,\n",
    "    * имеются пропущенные значения;\n",
    "* в колонке `dob_years`:\n",
    "    * имеются нулевые значения;\n",
    "* в колонке `education`:\n",
    "    * имеются неявные дубликаты - используются разные типы регистров;\n",
    "* в колонке `gender`: \n",
    "    * имеется ошибочное значение XNA;\n",
    "* колонка `total_income`:\n",
    "    * имеются пропущенные значения;\n",
    "* в колонке `purpose`:\n",
    "    * имеется много дубликатов, которые по сути являются идентичными."
   ]
  },
  {
   "cell_type": "markdown",
   "id": "d1d926c1",
   "metadata": {},
   "source": [
    "## Предобработка данных"
   ]
  },
  {
   "cell_type": "markdown",
   "id": "23c5d1e8",
   "metadata": {},
   "source": [
    "### Заполнение пропусков"
   ]
  },
  {
   "cell_type": "markdown",
   "id": "82bce5e9",
   "metadata": {},
   "source": [
    "Пропущенные значения была выявлены в колонках `days_employed` (общий трудовой стаж) и `total_income` (ежемесячный доход). Посмотрим их количество. "
   ]
  },
  {
   "cell_type": "code",
   "execution_count": 11,
   "id": "464ad374",
   "metadata": {},
   "outputs": [
    {
     "data": {
      "text/plain": [
       "children               0\n",
       "days_employed       2174\n",
       "dob_years              0\n",
       "education              0\n",
       "education_id           0\n",
       "family_status          0\n",
       "family_status_id       0\n",
       "gender                 0\n",
       "income_type            0\n",
       "debt                   0\n",
       "total_income        2174\n",
       "purpose                0\n",
       "dtype: int64"
      ]
     },
     "execution_count": 11,
     "metadata": {},
     "output_type": "execute_result"
    }
   ],
   "source": [
    "df.isna().sum() #считаем количество пропусков в датафрейме"
   ]
  },
  {
   "cell_type": "markdown",
   "id": "60a3918c",
   "metadata": {},
   "source": [
    "Проверим общую долю пропущенных значений от общего количества."
   ]
  },
  {
   "cell_type": "code",
   "execution_count": 12,
   "id": "86890dc9",
   "metadata": {
    "scrolled": true
   },
   "outputs": [
    {
     "data": {
      "text/plain": [
       "children            0.000000\n",
       "days_employed       0.100999\n",
       "dob_years           0.000000\n",
       "education           0.000000\n",
       "education_id        0.000000\n",
       "family_status       0.000000\n",
       "family_status_id    0.000000\n",
       "gender              0.000000\n",
       "income_type         0.000000\n",
       "debt                0.000000\n",
       "total_income        0.100999\n",
       "purpose             0.000000\n",
       "dtype: float64"
      ]
     },
     "execution_count": 12,
     "metadata": {},
     "output_type": "execute_result"
    }
   ],
   "source": [
    "df.isna().mean()"
   ]
  },
  {
   "cell_type": "markdown",
   "id": "6abd09fd",
   "metadata": {},
   "source": [
    "Пропущенные значения составляют порядка 10% от общего количества.\n",
    "Пропущенные значения в данных колонках могут быть связаны с тем, что эти люди не работали на момент выдачи кредита (т.е. были безработными), либо с тем, что данные были заполнены некорректно. \n",
    "Пропущенные данные столбца `total_income` заполним медианными значениями по типу занятости. Медиана позволит не включать в расчет сильно выбивающиеся доходы и таким образом не окажет влияния на общий результат.\n",
    "\n",
    "Пропущенные значения в столбце `days_employed` заменим на нули, чтобы избавиться от пропусков, но в дальнейшим к ним вернемся, т.к. в данном столбце присутствует большое количество аномальных значений."
   ]
  },
  {
   "cell_type": "code",
   "execution_count": 13,
   "id": "692895f2",
   "metadata": {},
   "outputs": [],
   "source": [
    "df['total_income'] = df['total_income'].fillna(0) #сначала заменим все пропущенные значения на 0\n",
    "df['days_employed'] = df['days_employed'].fillna(0)"
   ]
  },
  {
   "cell_type": "code",
   "execution_count": 14,
   "id": "989d4a45",
   "metadata": {},
   "outputs": [
    {
     "data": {
      "text/plain": [
       "income_type\n",
       "безработный        131339.751676\n",
       "в декрете           53829.130729\n",
       "госслужащий        139034.452386\n",
       "компаньон          162401.351555\n",
       "пенсионер          110179.690761\n",
       "предприниматель    249581.572474\n",
       "сотрудник          133546.457238\n",
       "студент             98201.625314\n",
       "Name: total_income, dtype: float64"
      ]
     },
     "execution_count": 14,
     "metadata": {},
     "output_type": "execute_result"
    }
   ],
   "source": [
    "df_ti_median = df.groupby('income_type')['total_income'].median() \n",
    "df_ti_median\n",
    "#расчитаем медианное значение дохода для каждого типа занятости"
   ]
  },
  {
   "cell_type": "code",
   "execution_count": 15,
   "id": "9e7eaa18",
   "metadata": {},
   "outputs": [],
   "source": [
    "for income_type in df_ti_median.index:\n",
    "    df.loc[(df['total_income'].isna()) & (df['income_type'] == income_type), 'total_income'] = df_ti_median.loc[income_type]\n",
    "\n",
    "#заменим пропущенные значения в колонке total_income по каждому типу занятости медианным значением колонки total_income"
   ]
  },
  {
   "cell_type": "code",
   "execution_count": 16,
   "id": "66ecff81",
   "metadata": {
    "scrolled": false
   },
   "outputs": [
    {
     "data": {
      "text/plain": [
       "children            0\n",
       "days_employed       0\n",
       "dob_years           0\n",
       "education           0\n",
       "education_id        0\n",
       "family_status       0\n",
       "family_status_id    0\n",
       "gender              0\n",
       "income_type         0\n",
       "debt                0\n",
       "total_income        0\n",
       "purpose             0\n",
       "dtype: int64"
      ]
     },
     "execution_count": 16,
     "metadata": {},
     "output_type": "execute_result"
    }
   ],
   "source": [
    "df.isna().sum() #проверим количество пропусков в датафрейме после замены"
   ]
  },
  {
   "cell_type": "markdown",
   "id": "8a29536c",
   "metadata": {},
   "source": [
    "Пропуски в колонке `total_income` были успешно заменены медианным значением, а в `колонке days_employed` нулевым."
   ]
  },
  {
   "cell_type": "markdown",
   "id": "8d0fb82a",
   "metadata": {},
   "source": [
    "### Проверка данных на аномалии и исправления."
   ]
  },
  {
   "cell_type": "markdown",
   "id": "bed18b56",
   "metadata": {},
   "source": [
    "Анализ выше показал, что в столбце `days_employed`, помимо пропущенных значений, имееются также отрицальные значения и аномально большие, что может быть связано с разными причинами: \n",
    "* некорректное заполнение исходных данных (например, сотрудник перепутал ячейки и в дату начала трудовой деятельности вбил текущую дату, а в текущую - дату начала трудовой деятельности),\n",
    "* произошёл какой-то сбой в выгрузке данных."
   ]
  },
  {
   "cell_type": "markdown",
   "id": "68e71d0c",
   "metadata": {},
   "source": [
    "Т.к. у нас нет возможности перезапросить исходные данные, предположим, что отрицательные значения связаны с некорректным заполнением исходных данных и на самом деле должны быть положительными числами, и переведем все значения колонки `days_employed` в абсолютные значения."
   ]
  },
  {
   "cell_type": "code",
   "execution_count": 17,
   "id": "cb73b276",
   "metadata": {
    "scrolled": true
   },
   "outputs": [
    {
     "data": {
      "text/plain": [
       "count     21525.000000\n",
       "mean      60156.419005\n",
       "std      133355.929525\n",
       "min           0.000000\n",
       "25%         610.652074\n",
       "50%        1808.053434\n",
       "75%        4779.587738\n",
       "max      401755.400475\n",
       "Name: days_employed, dtype: float64"
      ]
     },
     "execution_count": 17,
     "metadata": {},
     "output_type": "execute_result"
    }
   ],
   "source": [
    "df['days_employed'] = df['days_employed'].abs() #перевод всех значений в абсолютную величину\n",
    "df['days_employed'].describe() #проверим остались ли отрицательные значения"
   ]
  },
  {
   "cell_type": "markdown",
   "id": "1e59800e",
   "metadata": {},
   "source": [
    "Среднее значение рабочего стажа составляет 60 259 дней, что является очень большим значением (165 лет), которое точно не может быть правдой. Так же это видно и по максимальному значению - 401 755 дней. Рассчитаем медианное значение стажа для каждого типа занятости. "
   ]
  },
  {
   "cell_type": "code",
   "execution_count": 18,
   "id": "9f1b21ca",
   "metadata": {
    "scrolled": true
   },
   "outputs": [
    {
     "data": {
      "text/plain": [
       "income_type\n",
       "безработный        366413.652744\n",
       "в декрете            3296.759962\n",
       "госслужащий          2385.358043\n",
       "компаньон            1311.128244\n",
       "пенсионер          360505.668544\n",
       "предприниматель       260.424042\n",
       "сотрудник            1360.363902\n",
       "студент               578.751554\n",
       "Name: days_employed, dtype: float64"
      ]
     },
     "execution_count": 18,
     "metadata": {},
     "output_type": "execute_result"
    }
   ],
   "source": [
    "df_dy_median = df.groupby('income_type')['days_employed'].median() \n",
    "df_dy_median"
   ]
  },
  {
   "cell_type": "markdown",
   "id": "01ceba55",
   "metadata": {},
   "source": [
    "Из таблицы выше стало ясно, что аномально высокие значения имеются по двум категориям: безработные и пенсионеры. \n",
    "Такое заполнение данных, вероятнее всего, связано с тем, что при подаче заявки на кредит безработные и пенсионеры не предоставляют справки с места работы и трудовые книжки, соответственно, эти данные взять неоткуда и сотрудники банка намеренно вводят даты некорректно (например, дату начала трудовой деятельности) из-за чего и возникают аномально высокие значения.\n",
    "Учитывая, что эти данные нам для дальнейшего исследования не нужны, в данных категориях заменим аномальные значения на нулевые, а в остальных группах пропуски заменим на медианное значение по группе."
   ]
  },
  {
   "cell_type": "code",
   "execution_count": 19,
   "id": "5788c624",
   "metadata": {},
   "outputs": [],
   "source": [
    "max_days_employed = (75-16)*365 #создадим переменную, чтобы рассчитать максимальное количество дней трудового стажа, которое может быть\n",
    "#75 - это максимальные возраст, который есть в таблице, \n",
    "#16 - минимальный возраст, с которого можно самостоятельно начать работать\n",
    "\n",
    "\n",
    "df.loc[(df['income_type'] == 'безработный') & (df['days_employed'] >= max_days_employed), 'days_employed'] = 0\n",
    "df.loc[(df['income_type'] == 'пенсионер') & (df['days_employed'] >= max_days_employed), 'days_employed'] = 0\n",
    "\n",
    "for income_type in df_dy_median.index:\n",
    "    df.loc[(df['days_employed'].isna()) & (df['income_type'] == income_type), 'days_employed'] = df_dy_median.loc[income_type]"
   ]
  },
  {
   "cell_type": "code",
   "execution_count": 20,
   "id": "d0b22d1f",
   "metadata": {
    "scrolled": true
   },
   "outputs": [
    {
     "data": {
      "text/plain": [
       "count    21525.000000\n",
       "mean      1738.772191\n",
       "std       2234.171998\n",
       "min          0.000000\n",
       "25%          0.000000\n",
       "50%        982.531720\n",
       "75%       2518.168900\n",
       "max      18388.949901\n",
       "Name: days_employed, dtype: float64"
      ]
     },
     "execution_count": 20,
     "metadata": {},
     "output_type": "execute_result"
    }
   ],
   "source": [
    "df['days_employed'].describe() #проверим отсутствие отрицальных и аномально больших значений"
   ]
  },
  {
   "cell_type": "code",
   "execution_count": 21,
   "id": "c0fcd7e6",
   "metadata": {},
   "outputs": [
    {
     "data": {
      "text/plain": [
       "0"
      ]
     },
     "execution_count": 21,
     "metadata": {},
     "output_type": "execute_result"
    }
   ],
   "source": [
    "df['days_employed'].isna().sum() #проверим остались ли в таблице пропуски по столбцу days_employed"
   ]
  },
  {
   "cell_type": "markdown",
   "id": "b9ab2bc1",
   "metadata": {},
   "source": [
    "По итогам обзора данных были выявлены некорректные значения в колонке `children` (отрицальные значения и аномально большие). Вероятнее всего, это связано с некорректным внесением информации в базу данных. Проверим количество этих значений. "
   ]
  },
  {
   "cell_type": "code",
   "execution_count": 22,
   "id": "3c3c4bd4",
   "metadata": {},
   "outputs": [
    {
     "data": {
      "text/plain": [
       " 0     14149\n",
       " 1      4818\n",
       " 2      2055\n",
       " 3       330\n",
       " 20       76\n",
       "-1        47\n",
       " 4        41\n",
       " 5         9\n",
       "Name: children, dtype: int64"
      ]
     },
     "execution_count": 22,
     "metadata": {},
     "output_type": "execute_result"
    }
   ],
   "source": [
    "df['children'].value_counts() #подсчет категорий колонки children"
   ]
  },
  {
   "cell_type": "markdown",
   "id": "f0c28434",
   "metadata": {},
   "source": [
    "Количество ошибочных значений минимальное (менее 1%). Можно предположить, что данные были внесены ошибочно (например, ошибочно добавлены 0 и \"-\"). Но так как значение небольшое, скорректируем таблицу удалив эти данные. "
   ]
  },
  {
   "cell_type": "code",
   "execution_count": 23,
   "id": "85cee8af",
   "metadata": {},
   "outputs": [
    {
     "data": {
      "text/plain": [
       "0    14149\n",
       "1     4818\n",
       "2     2055\n",
       "3      330\n",
       "4       41\n",
       "5        9\n",
       "Name: children, dtype: int64"
      ]
     },
     "execution_count": 23,
     "metadata": {},
     "output_type": "execute_result"
    }
   ],
   "source": [
    "df = df.loc[df['children'] >= 0] #создадим условия, чтобы в таблицу попадали только строки, \n",
    "df = df.loc[df['children'] < 20] #с количеством детей больше 0, но меньше 20\n",
    "df['children'].value_counts() #проверим результат"
   ]
  },
  {
   "cell_type": "markdown",
   "id": "c3c7f125",
   "metadata": {},
   "source": [
    "Также было замечено ошибочное значение в столбце `gender`. Поскольку оно было единичным, так же удалим его. "
   ]
  },
  {
   "cell_type": "code",
   "execution_count": 24,
   "id": "95537af9",
   "metadata": {},
   "outputs": [
    {
     "data": {
      "text/plain": [
       "F    14154\n",
       "M     7247\n",
       "Name: gender, dtype: int64"
      ]
     },
     "execution_count": 24,
     "metadata": {},
     "output_type": "execute_result"
    }
   ],
   "source": [
    "df = df.loc[df['gender'] != 'XNA'] #исключим из выборки неизвестное значение\n",
    "df['gender'].value_counts() #проверим результат"
   ]
  },
  {
   "cell_type": "markdown",
   "id": "d2085251",
   "metadata": {},
   "source": [
    "Проверим столбец `dob_years` поскольку в нём встречались значения равные 0."
   ]
  },
  {
   "cell_type": "code",
   "execution_count": 25,
   "id": "4f5e2d65",
   "metadata": {},
   "outputs": [
    {
     "data": {
      "text/plain": [
       "0     100\n",
       "68     99\n",
       "69     83\n",
       "70     65\n",
       "71     58\n",
       "20     51\n",
       "72     33\n",
       "19     14\n",
       "73      8\n",
       "74      6\n",
       "75      1\n",
       "Name: dob_years, dtype: int64"
      ]
     },
     "execution_count": 25,
     "metadata": {},
     "output_type": "execute_result"
    }
   ],
   "source": [
    "df['dob_years'].value_counts().tail(11)"
   ]
  },
  {
   "cell_type": "markdown",
   "id": "7cd8000a",
   "metadata": {},
   "source": [
    "Так как колонка с возрастом не участвует в дальнейших расчетах заменем все нулевые значения на среднее. "
   ]
  },
  {
   "cell_type": "code",
   "execution_count": 26,
   "id": "565b13fa",
   "metadata": {},
   "outputs": [
    {
     "data": {
      "text/plain": [
       "0"
      ]
     },
     "execution_count": 26,
     "metadata": {},
     "output_type": "execute_result"
    }
   ],
   "source": [
    "df.loc[df['dob_years'] == 0, 'dob_years'] = df['dob_years'].mean() #заменяем все нулевые значения на средние\n",
    "df.loc[df['dob_years'] == 0].count().sum() #проверим заменились ли все нулевые значения"
   ]
  },
  {
   "cell_type": "markdown",
   "id": "dcc4e0f3",
   "metadata": {},
   "source": [
    "### Изменение типов данных."
   ]
  },
  {
   "cell_type": "markdown",
   "id": "43aecc7e",
   "metadata": {},
   "source": [
    "Для дальнейшего удобства приведем доходы (колонка `total_income`) к целочисленным значениям."
   ]
  },
  {
   "cell_type": "code",
   "execution_count": 27,
   "id": "986134d0",
   "metadata": {},
   "outputs": [
    {
     "data": {
      "text/plain": [
       "dtype('int64')"
      ]
     },
     "execution_count": 27,
     "metadata": {},
     "output_type": "execute_result"
    }
   ],
   "source": [
    "try: \n",
    "    df['total_income'] = int(df['total_income'])\n",
    "except:\n",
    "    df['total_income'] = df['total_income'].astype(int)\n",
    "df['total_income'].dtype"
   ]
  },
  {
   "cell_type": "markdown",
   "id": "b8ad5efd",
   "metadata": {},
   "source": [
    "### Удаление дубликатов."
   ]
  },
  {
   "cell_type": "markdown",
   "id": "0d2bc911",
   "metadata": {},
   "source": [
    "В столбце `education` по итогам обзора данных были выявлены неявные дубликаты (были использованы разные регистры). Приведем их к одному виду. "
   ]
  },
  {
   "cell_type": "code",
   "execution_count": 28,
   "id": "e623c7a9",
   "metadata": {
    "scrolled": true
   },
   "outputs": [
    {
     "data": {
      "text/plain": [
       "array(['высшее', 'среднее', 'неоконченное высшее', 'начальное',\n",
       "       'ученая степень'], dtype=object)"
      ]
     },
     "execution_count": 28,
     "metadata": {},
     "output_type": "execute_result"
    }
   ],
   "source": [
    "df['education'] = df['education'].str.lower() #приведем все значения к единому регистру\n",
    "df['education'].unique() #теперь проверим количество уникальных значений в столбце"
   ]
  },
  {
   "cell_type": "markdown",
   "id": "173aa729",
   "metadata": {},
   "source": [
    "Теперь проанализируем есть ли в таблице какие-либо еще дубликаты. "
   ]
  },
  {
   "cell_type": "code",
   "execution_count": 29,
   "id": "d3d0894f",
   "metadata": {
    "scrolled": true
   },
   "outputs": [
    {
     "data": {
      "text/plain": [
       "71"
      ]
     },
     "execution_count": 29,
     "metadata": {},
     "output_type": "execute_result"
    }
   ],
   "source": [
    "df.duplicated().sum() #проверяем наличие дубликатов в таблице"
   ]
  },
  {
   "cell_type": "code",
   "execution_count": 30,
   "id": "78329e2b",
   "metadata": {},
   "outputs": [
    {
     "data": {
      "text/html": [
       "<div>\n",
       "<style scoped>\n",
       "    .dataframe tbody tr th:only-of-type {\n",
       "        vertical-align: middle;\n",
       "    }\n",
       "\n",
       "    .dataframe tbody tr th {\n",
       "        vertical-align: top;\n",
       "    }\n",
       "\n",
       "    .dataframe thead th {\n",
       "        text-align: right;\n",
       "    }\n",
       "</style>\n",
       "<table border=\"1\" class=\"dataframe\">\n",
       "  <thead>\n",
       "    <tr style=\"text-align: right;\">\n",
       "      <th></th>\n",
       "      <th>children</th>\n",
       "      <th>days_employed</th>\n",
       "      <th>dob_years</th>\n",
       "      <th>education</th>\n",
       "      <th>education_id</th>\n",
       "      <th>family_status</th>\n",
       "      <th>family_status_id</th>\n",
       "      <th>gender</th>\n",
       "      <th>income_type</th>\n",
       "      <th>debt</th>\n",
       "      <th>total_income</th>\n",
       "      <th>purpose</th>\n",
       "    </tr>\n",
       "  </thead>\n",
       "  <tbody>\n",
       "    <tr>\n",
       "      <th>0</th>\n",
       "      <td>1</td>\n",
       "      <td>8437.673028</td>\n",
       "      <td>42.0</td>\n",
       "      <td>высшее</td>\n",
       "      <td>0</td>\n",
       "      <td>женат / замужем</td>\n",
       "      <td>0</td>\n",
       "      <td>F</td>\n",
       "      <td>сотрудник</td>\n",
       "      <td>0</td>\n",
       "      <td>253875</td>\n",
       "      <td>покупка жилья</td>\n",
       "    </tr>\n",
       "    <tr>\n",
       "      <th>1</th>\n",
       "      <td>1</td>\n",
       "      <td>4024.803754</td>\n",
       "      <td>36.0</td>\n",
       "      <td>среднее</td>\n",
       "      <td>1</td>\n",
       "      <td>женат / замужем</td>\n",
       "      <td>0</td>\n",
       "      <td>F</td>\n",
       "      <td>сотрудник</td>\n",
       "      <td>0</td>\n",
       "      <td>112080</td>\n",
       "      <td>приобретение автомобиля</td>\n",
       "    </tr>\n",
       "    <tr>\n",
       "      <th>2</th>\n",
       "      <td>0</td>\n",
       "      <td>5623.422610</td>\n",
       "      <td>33.0</td>\n",
       "      <td>среднее</td>\n",
       "      <td>1</td>\n",
       "      <td>женат / замужем</td>\n",
       "      <td>0</td>\n",
       "      <td>M</td>\n",
       "      <td>сотрудник</td>\n",
       "      <td>0</td>\n",
       "      <td>145885</td>\n",
       "      <td>покупка жилья</td>\n",
       "    </tr>\n",
       "    <tr>\n",
       "      <th>3</th>\n",
       "      <td>3</td>\n",
       "      <td>4124.747207</td>\n",
       "      <td>32.0</td>\n",
       "      <td>среднее</td>\n",
       "      <td>1</td>\n",
       "      <td>женат / замужем</td>\n",
       "      <td>0</td>\n",
       "      <td>M</td>\n",
       "      <td>сотрудник</td>\n",
       "      <td>0</td>\n",
       "      <td>267628</td>\n",
       "      <td>дополнительное образование</td>\n",
       "    </tr>\n",
       "    <tr>\n",
       "      <th>4</th>\n",
       "      <td>0</td>\n",
       "      <td>0.000000</td>\n",
       "      <td>53.0</td>\n",
       "      <td>среднее</td>\n",
       "      <td>1</td>\n",
       "      <td>гражданский брак</td>\n",
       "      <td>1</td>\n",
       "      <td>F</td>\n",
       "      <td>пенсионер</td>\n",
       "      <td>0</td>\n",
       "      <td>158616</td>\n",
       "      <td>сыграть свадьбу</td>\n",
       "    </tr>\n",
       "    <tr>\n",
       "      <th>5</th>\n",
       "      <td>0</td>\n",
       "      <td>926.185831</td>\n",
       "      <td>27.0</td>\n",
       "      <td>высшее</td>\n",
       "      <td>0</td>\n",
       "      <td>гражданский брак</td>\n",
       "      <td>1</td>\n",
       "      <td>M</td>\n",
       "      <td>компаньон</td>\n",
       "      <td>0</td>\n",
       "      <td>255763</td>\n",
       "      <td>покупка жилья</td>\n",
       "    </tr>\n",
       "    <tr>\n",
       "      <th>6</th>\n",
       "      <td>0</td>\n",
       "      <td>2879.202052</td>\n",
       "      <td>43.0</td>\n",
       "      <td>высшее</td>\n",
       "      <td>0</td>\n",
       "      <td>женат / замужем</td>\n",
       "      <td>0</td>\n",
       "      <td>F</td>\n",
       "      <td>компаньон</td>\n",
       "      <td>0</td>\n",
       "      <td>240525</td>\n",
       "      <td>операции с жильем</td>\n",
       "    </tr>\n",
       "    <tr>\n",
       "      <th>7</th>\n",
       "      <td>0</td>\n",
       "      <td>152.779569</td>\n",
       "      <td>50.0</td>\n",
       "      <td>среднее</td>\n",
       "      <td>1</td>\n",
       "      <td>женат / замужем</td>\n",
       "      <td>0</td>\n",
       "      <td>M</td>\n",
       "      <td>сотрудник</td>\n",
       "      <td>0</td>\n",
       "      <td>135823</td>\n",
       "      <td>образование</td>\n",
       "    </tr>\n",
       "    <tr>\n",
       "      <th>8</th>\n",
       "      <td>2</td>\n",
       "      <td>6929.865299</td>\n",
       "      <td>35.0</td>\n",
       "      <td>высшее</td>\n",
       "      <td>0</td>\n",
       "      <td>гражданский брак</td>\n",
       "      <td>1</td>\n",
       "      <td>F</td>\n",
       "      <td>сотрудник</td>\n",
       "      <td>0</td>\n",
       "      <td>95856</td>\n",
       "      <td>на проведение свадьбы</td>\n",
       "    </tr>\n",
       "    <tr>\n",
       "      <th>9</th>\n",
       "      <td>0</td>\n",
       "      <td>2188.756445</td>\n",
       "      <td>41.0</td>\n",
       "      <td>среднее</td>\n",
       "      <td>1</td>\n",
       "      <td>женат / замужем</td>\n",
       "      <td>0</td>\n",
       "      <td>M</td>\n",
       "      <td>сотрудник</td>\n",
       "      <td>0</td>\n",
       "      <td>144425</td>\n",
       "      <td>покупка жилья для семьи</td>\n",
       "    </tr>\n",
       "  </tbody>\n",
       "</table>\n",
       "</div>"
      ],
      "text/plain": [
       "   children  days_employed  dob_years education  education_id  \\\n",
       "0         1    8437.673028       42.0    высшее             0   \n",
       "1         1    4024.803754       36.0   среднее             1   \n",
       "2         0    5623.422610       33.0   среднее             1   \n",
       "3         3    4124.747207       32.0   среднее             1   \n",
       "4         0       0.000000       53.0   среднее             1   \n",
       "5         0     926.185831       27.0    высшее             0   \n",
       "6         0    2879.202052       43.0    высшее             0   \n",
       "7         0     152.779569       50.0   среднее             1   \n",
       "8         2    6929.865299       35.0    высшее             0   \n",
       "9         0    2188.756445       41.0   среднее             1   \n",
       "\n",
       "      family_status  family_status_id gender income_type  debt  total_income  \\\n",
       "0   женат / замужем                 0      F   сотрудник     0        253875   \n",
       "1   женат / замужем                 0      F   сотрудник     0        112080   \n",
       "2   женат / замужем                 0      M   сотрудник     0        145885   \n",
       "3   женат / замужем                 0      M   сотрудник     0        267628   \n",
       "4  гражданский брак                 1      F   пенсионер     0        158616   \n",
       "5  гражданский брак                 1      M   компаньон     0        255763   \n",
       "6   женат / замужем                 0      F   компаньон     0        240525   \n",
       "7   женат / замужем                 0      M   сотрудник     0        135823   \n",
       "8  гражданский брак                 1      F   сотрудник     0         95856   \n",
       "9   женат / замужем                 0      M   сотрудник     0        144425   \n",
       "\n",
       "                      purpose  \n",
       "0               покупка жилья  \n",
       "1     приобретение автомобиля  \n",
       "2               покупка жилья  \n",
       "3  дополнительное образование  \n",
       "4             сыграть свадьбу  \n",
       "5               покупка жилья  \n",
       "6           операции с жильем  \n",
       "7                 образование  \n",
       "8       на проведение свадьбы  \n",
       "9     покупка жилья для семьи  "
      ]
     },
     "execution_count": 30,
     "metadata": {},
     "output_type": "execute_result"
    }
   ],
   "source": [
    "df.drop_duplicates().reset_index(drop = True) #избавляемся от дубликатов с пересозданием индексов\n",
    "df.head(10)"
   ]
  },
  {
   "cell_type": "markdown",
   "id": "19bfb21d",
   "metadata": {},
   "source": [
    "### Формирование дополнительных датафреймов словарей, декомпозиция исходного датафрейма."
   ]
  },
  {
   "cell_type": "markdown",
   "id": "8d42159a",
   "metadata": {},
   "source": [
    "Поскольку таблицы довольно большая, визуально с ней сложно работать. Для этого мы ее немного сократим, создав отдельные словари для колонок `education` и `family_status`. Также это сократитит время обработки исходных данных. "
   ]
  },
  {
   "cell_type": "code",
   "execution_count": 31,
   "id": "aed98b08",
   "metadata": {
    "scrolled": true
   },
   "outputs": [
    {
     "data": {
      "text/html": [
       "<div>\n",
       "<style scoped>\n",
       "    .dataframe tbody tr th:only-of-type {\n",
       "        vertical-align: middle;\n",
       "    }\n",
       "\n",
       "    .dataframe tbody tr th {\n",
       "        vertical-align: top;\n",
       "    }\n",
       "\n",
       "    .dataframe thead th {\n",
       "        text-align: right;\n",
       "    }\n",
       "</style>\n",
       "<table border=\"1\" class=\"dataframe\">\n",
       "  <thead>\n",
       "    <tr style=\"text-align: right;\">\n",
       "      <th></th>\n",
       "      <th>education</th>\n",
       "      <th>education_id</th>\n",
       "    </tr>\n",
       "  </thead>\n",
       "  <tbody>\n",
       "    <tr>\n",
       "      <th>0</th>\n",
       "      <td>высшее</td>\n",
       "      <td>0</td>\n",
       "    </tr>\n",
       "    <tr>\n",
       "      <th>1</th>\n",
       "      <td>среднее</td>\n",
       "      <td>1</td>\n",
       "    </tr>\n",
       "    <tr>\n",
       "      <th>2</th>\n",
       "      <td>неоконченное высшее</td>\n",
       "      <td>2</td>\n",
       "    </tr>\n",
       "    <tr>\n",
       "      <th>3</th>\n",
       "      <td>начальное</td>\n",
       "      <td>3</td>\n",
       "    </tr>\n",
       "    <tr>\n",
       "      <th>4</th>\n",
       "      <td>ученая степень</td>\n",
       "      <td>4</td>\n",
       "    </tr>\n",
       "  </tbody>\n",
       "</table>\n",
       "</div>"
      ],
      "text/plain": [
       "             education  education_id\n",
       "0               высшее             0\n",
       "1              среднее             1\n",
       "2  неоконченное высшее             2\n",
       "3            начальное             3\n",
       "4       ученая степень             4"
      ]
     },
     "execution_count": 31,
     "metadata": {},
     "output_type": "execute_result"
    }
   ],
   "source": [
    "education_dict = df[['education', 'education_id']] #создадим новый датафрейм словаря\n",
    "education_dict = education_dict.drop_duplicates().reset_index(drop=True) #удалим все дубликаты в этом датафрейме\n",
    "education_dict"
   ]
  },
  {
   "cell_type": "code",
   "execution_count": 32,
   "id": "bf9bc75e",
   "metadata": {
    "scrolled": true
   },
   "outputs": [
    {
     "data": {
      "text/html": [
       "<div>\n",
       "<style scoped>\n",
       "    .dataframe tbody tr th:only-of-type {\n",
       "        vertical-align: middle;\n",
       "    }\n",
       "\n",
       "    .dataframe tbody tr th {\n",
       "        vertical-align: top;\n",
       "    }\n",
       "\n",
       "    .dataframe thead th {\n",
       "        text-align: right;\n",
       "    }\n",
       "</style>\n",
       "<table border=\"1\" class=\"dataframe\">\n",
       "  <thead>\n",
       "    <tr style=\"text-align: right;\">\n",
       "      <th></th>\n",
       "      <th>family_status</th>\n",
       "      <th>family_status_id</th>\n",
       "    </tr>\n",
       "  </thead>\n",
       "  <tbody>\n",
       "    <tr>\n",
       "      <th>0</th>\n",
       "      <td>женат / замужем</td>\n",
       "      <td>0</td>\n",
       "    </tr>\n",
       "    <tr>\n",
       "      <th>1</th>\n",
       "      <td>гражданский брак</td>\n",
       "      <td>1</td>\n",
       "    </tr>\n",
       "    <tr>\n",
       "      <th>2</th>\n",
       "      <td>вдовец / вдова</td>\n",
       "      <td>2</td>\n",
       "    </tr>\n",
       "    <tr>\n",
       "      <th>3</th>\n",
       "      <td>в разводе</td>\n",
       "      <td>3</td>\n",
       "    </tr>\n",
       "    <tr>\n",
       "      <th>4</th>\n",
       "      <td>Не женат / не замужем</td>\n",
       "      <td>4</td>\n",
       "    </tr>\n",
       "  </tbody>\n",
       "</table>\n",
       "</div>"
      ],
      "text/plain": [
       "           family_status  family_status_id\n",
       "0        женат / замужем                 0\n",
       "1       гражданский брак                 1\n",
       "2         вдовец / вдова                 2\n",
       "3              в разводе                 3\n",
       "4  Не женат / не замужем                 4"
      ]
     },
     "execution_count": 32,
     "metadata": {},
     "output_type": "execute_result"
    }
   ],
   "source": [
    "family_status_dict = df[['family_status', 'family_status_id']] #создадим новый датафрейм словаря\n",
    "family_status_dict = family_status_dict.drop_duplicates().reset_index(drop=True) #удалим все дубликаты в этом датафрейме\n",
    "family_status_dict"
   ]
  },
  {
   "cell_type": "code",
   "execution_count": 33,
   "id": "79bc9342",
   "metadata": {},
   "outputs": [
    {
     "data": {
      "text/html": [
       "<div>\n",
       "<style scoped>\n",
       "    .dataframe tbody tr th:only-of-type {\n",
       "        vertical-align: middle;\n",
       "    }\n",
       "\n",
       "    .dataframe tbody tr th {\n",
       "        vertical-align: top;\n",
       "    }\n",
       "\n",
       "    .dataframe thead th {\n",
       "        text-align: right;\n",
       "    }\n",
       "</style>\n",
       "<table border=\"1\" class=\"dataframe\">\n",
       "  <thead>\n",
       "    <tr style=\"text-align: right;\">\n",
       "      <th></th>\n",
       "      <th>children</th>\n",
       "      <th>days_employed</th>\n",
       "      <th>dob_years</th>\n",
       "      <th>education_id</th>\n",
       "      <th>family_status_id</th>\n",
       "      <th>gender</th>\n",
       "      <th>income_type</th>\n",
       "      <th>debt</th>\n",
       "      <th>total_income</th>\n",
       "      <th>purpose</th>\n",
       "    </tr>\n",
       "  </thead>\n",
       "  <tbody>\n",
       "    <tr>\n",
       "      <th>0</th>\n",
       "      <td>1</td>\n",
       "      <td>8437.673028</td>\n",
       "      <td>42.0</td>\n",
       "      <td>0</td>\n",
       "      <td>0</td>\n",
       "      <td>F</td>\n",
       "      <td>сотрудник</td>\n",
       "      <td>0</td>\n",
       "      <td>253875</td>\n",
       "      <td>покупка жилья</td>\n",
       "    </tr>\n",
       "    <tr>\n",
       "      <th>1</th>\n",
       "      <td>1</td>\n",
       "      <td>4024.803754</td>\n",
       "      <td>36.0</td>\n",
       "      <td>1</td>\n",
       "      <td>0</td>\n",
       "      <td>F</td>\n",
       "      <td>сотрудник</td>\n",
       "      <td>0</td>\n",
       "      <td>112080</td>\n",
       "      <td>приобретение автомобиля</td>\n",
       "    </tr>\n",
       "    <tr>\n",
       "      <th>2</th>\n",
       "      <td>0</td>\n",
       "      <td>5623.422610</td>\n",
       "      <td>33.0</td>\n",
       "      <td>1</td>\n",
       "      <td>0</td>\n",
       "      <td>M</td>\n",
       "      <td>сотрудник</td>\n",
       "      <td>0</td>\n",
       "      <td>145885</td>\n",
       "      <td>покупка жилья</td>\n",
       "    </tr>\n",
       "    <tr>\n",
       "      <th>3</th>\n",
       "      <td>3</td>\n",
       "      <td>4124.747207</td>\n",
       "      <td>32.0</td>\n",
       "      <td>1</td>\n",
       "      <td>0</td>\n",
       "      <td>M</td>\n",
       "      <td>сотрудник</td>\n",
       "      <td>0</td>\n",
       "      <td>267628</td>\n",
       "      <td>дополнительное образование</td>\n",
       "    </tr>\n",
       "    <tr>\n",
       "      <th>4</th>\n",
       "      <td>0</td>\n",
       "      <td>0.000000</td>\n",
       "      <td>53.0</td>\n",
       "      <td>1</td>\n",
       "      <td>1</td>\n",
       "      <td>F</td>\n",
       "      <td>пенсионер</td>\n",
       "      <td>0</td>\n",
       "      <td>158616</td>\n",
       "      <td>сыграть свадьбу</td>\n",
       "    </tr>\n",
       "    <tr>\n",
       "      <th>5</th>\n",
       "      <td>0</td>\n",
       "      <td>926.185831</td>\n",
       "      <td>27.0</td>\n",
       "      <td>0</td>\n",
       "      <td>1</td>\n",
       "      <td>M</td>\n",
       "      <td>компаньон</td>\n",
       "      <td>0</td>\n",
       "      <td>255763</td>\n",
       "      <td>покупка жилья</td>\n",
       "    </tr>\n",
       "    <tr>\n",
       "      <th>6</th>\n",
       "      <td>0</td>\n",
       "      <td>2879.202052</td>\n",
       "      <td>43.0</td>\n",
       "      <td>0</td>\n",
       "      <td>0</td>\n",
       "      <td>F</td>\n",
       "      <td>компаньон</td>\n",
       "      <td>0</td>\n",
       "      <td>240525</td>\n",
       "      <td>операции с жильем</td>\n",
       "    </tr>\n",
       "    <tr>\n",
       "      <th>7</th>\n",
       "      <td>0</td>\n",
       "      <td>152.779569</td>\n",
       "      <td>50.0</td>\n",
       "      <td>1</td>\n",
       "      <td>0</td>\n",
       "      <td>M</td>\n",
       "      <td>сотрудник</td>\n",
       "      <td>0</td>\n",
       "      <td>135823</td>\n",
       "      <td>образование</td>\n",
       "    </tr>\n",
       "    <tr>\n",
       "      <th>8</th>\n",
       "      <td>2</td>\n",
       "      <td>6929.865299</td>\n",
       "      <td>35.0</td>\n",
       "      <td>0</td>\n",
       "      <td>1</td>\n",
       "      <td>F</td>\n",
       "      <td>сотрудник</td>\n",
       "      <td>0</td>\n",
       "      <td>95856</td>\n",
       "      <td>на проведение свадьбы</td>\n",
       "    </tr>\n",
       "    <tr>\n",
       "      <th>9</th>\n",
       "      <td>0</td>\n",
       "      <td>2188.756445</td>\n",
       "      <td>41.0</td>\n",
       "      <td>1</td>\n",
       "      <td>0</td>\n",
       "      <td>M</td>\n",
       "      <td>сотрудник</td>\n",
       "      <td>0</td>\n",
       "      <td>144425</td>\n",
       "      <td>покупка жилья для семьи</td>\n",
       "    </tr>\n",
       "    <tr>\n",
       "      <th>10</th>\n",
       "      <td>2</td>\n",
       "      <td>4171.483647</td>\n",
       "      <td>36.0</td>\n",
       "      <td>0</td>\n",
       "      <td>0</td>\n",
       "      <td>M</td>\n",
       "      <td>компаньон</td>\n",
       "      <td>0</td>\n",
       "      <td>113943</td>\n",
       "      <td>покупка недвижимости</td>\n",
       "    </tr>\n",
       "    <tr>\n",
       "      <th>11</th>\n",
       "      <td>0</td>\n",
       "      <td>792.701887</td>\n",
       "      <td>40.0</td>\n",
       "      <td>1</td>\n",
       "      <td>0</td>\n",
       "      <td>F</td>\n",
       "      <td>сотрудник</td>\n",
       "      <td>0</td>\n",
       "      <td>77069</td>\n",
       "      <td>покупка коммерческой недвижимости</td>\n",
       "    </tr>\n",
       "    <tr>\n",
       "      <th>12</th>\n",
       "      <td>0</td>\n",
       "      <td>0.000000</td>\n",
       "      <td>65.0</td>\n",
       "      <td>1</td>\n",
       "      <td>1</td>\n",
       "      <td>M</td>\n",
       "      <td>пенсионер</td>\n",
       "      <td>0</td>\n",
       "      <td>0</td>\n",
       "      <td>сыграть свадьбу</td>\n",
       "    </tr>\n",
       "    <tr>\n",
       "      <th>13</th>\n",
       "      <td>0</td>\n",
       "      <td>1846.641941</td>\n",
       "      <td>54.0</td>\n",
       "      <td>2</td>\n",
       "      <td>0</td>\n",
       "      <td>F</td>\n",
       "      <td>сотрудник</td>\n",
       "      <td>0</td>\n",
       "      <td>130458</td>\n",
       "      <td>приобретение автомобиля</td>\n",
       "    </tr>\n",
       "    <tr>\n",
       "      <th>14</th>\n",
       "      <td>0</td>\n",
       "      <td>1844.956182</td>\n",
       "      <td>56.0</td>\n",
       "      <td>0</td>\n",
       "      <td>1</td>\n",
       "      <td>F</td>\n",
       "      <td>компаньон</td>\n",
       "      <td>1</td>\n",
       "      <td>165127</td>\n",
       "      <td>покупка жилой недвижимости</td>\n",
       "    </tr>\n",
       "  </tbody>\n",
       "</table>\n",
       "</div>"
      ],
      "text/plain": [
       "    children  days_employed  dob_years  education_id  family_status_id gender  \\\n",
       "0          1    8437.673028       42.0             0                 0      F   \n",
       "1          1    4024.803754       36.0             1                 0      F   \n",
       "2          0    5623.422610       33.0             1                 0      M   \n",
       "3          3    4124.747207       32.0             1                 0      M   \n",
       "4          0       0.000000       53.0             1                 1      F   \n",
       "5          0     926.185831       27.0             0                 1      M   \n",
       "6          0    2879.202052       43.0             0                 0      F   \n",
       "7          0     152.779569       50.0             1                 0      M   \n",
       "8          2    6929.865299       35.0             0                 1      F   \n",
       "9          0    2188.756445       41.0             1                 0      M   \n",
       "10         2    4171.483647       36.0             0                 0      M   \n",
       "11         0     792.701887       40.0             1                 0      F   \n",
       "12         0       0.000000       65.0             1                 1      M   \n",
       "13         0    1846.641941       54.0             2                 0      F   \n",
       "14         0    1844.956182       56.0             0                 1      F   \n",
       "\n",
       "   income_type  debt  total_income                            purpose  \n",
       "0    сотрудник     0        253875                      покупка жилья  \n",
       "1    сотрудник     0        112080            приобретение автомобиля  \n",
       "2    сотрудник     0        145885                      покупка жилья  \n",
       "3    сотрудник     0        267628         дополнительное образование  \n",
       "4    пенсионер     0        158616                    сыграть свадьбу  \n",
       "5    компаньон     0        255763                      покупка жилья  \n",
       "6    компаньон     0        240525                  операции с жильем  \n",
       "7    сотрудник     0        135823                        образование  \n",
       "8    сотрудник     0         95856              на проведение свадьбы  \n",
       "9    сотрудник     0        144425            покупка жилья для семьи  \n",
       "10   компаньон     0        113943               покупка недвижимости  \n",
       "11   сотрудник     0         77069  покупка коммерческой недвижимости  \n",
       "12   пенсионер     0             0                    сыграть свадьбу  \n",
       "13   сотрудник     0        130458            приобретение автомобиля  \n",
       "14   компаньон     1        165127         покупка жилой недвижимости  "
      ]
     },
     "execution_count": 33,
     "metadata": {},
     "output_type": "execute_result"
    }
   ],
   "source": [
    "#удалим из исходного датафрейма \"ненужные\" столбцы - education и family_status\n",
    "\n",
    "df = df.drop(['education', 'family_status'], axis = 1)\n",
    "df.head(15) #выведем на экран первый 15 строк таблицы"
   ]
  },
  {
   "cell_type": "markdown",
   "id": "19dda010",
   "metadata": {},
   "source": [
    "### Категоризация дохода."
   ]
  },
  {
   "cell_type": "markdown",
   "id": "d725c919",
   "metadata": {},
   "source": [
    "Для того, чтобы ответить на вопрос исследования о влиянии уровня дохода на возврат кредита в срок, необходимо разделить клиентов на 5 категорий (по условиям задачи) по уровню дохода."
   ]
  },
  {
   "cell_type": "code",
   "execution_count": 34,
   "id": "a06e31e4",
   "metadata": {},
   "outputs": [
    {
     "data": {
      "text/html": [
       "<div>\n",
       "<style scoped>\n",
       "    .dataframe tbody tr th:only-of-type {\n",
       "        vertical-align: middle;\n",
       "    }\n",
       "\n",
       "    .dataframe tbody tr th {\n",
       "        vertical-align: top;\n",
       "    }\n",
       "\n",
       "    .dataframe thead th {\n",
       "        text-align: right;\n",
       "    }\n",
       "</style>\n",
       "<table border=\"1\" class=\"dataframe\">\n",
       "  <thead>\n",
       "    <tr style=\"text-align: right;\">\n",
       "      <th></th>\n",
       "      <th>children</th>\n",
       "      <th>days_employed</th>\n",
       "      <th>dob_years</th>\n",
       "      <th>education_id</th>\n",
       "      <th>family_status_id</th>\n",
       "      <th>gender</th>\n",
       "      <th>income_type</th>\n",
       "      <th>debt</th>\n",
       "      <th>total_income</th>\n",
       "      <th>purpose</th>\n",
       "      <th>total_income_category</th>\n",
       "    </tr>\n",
       "  </thead>\n",
       "  <tbody>\n",
       "    <tr>\n",
       "      <th>0</th>\n",
       "      <td>1</td>\n",
       "      <td>8437.673028</td>\n",
       "      <td>42.0</td>\n",
       "      <td>0</td>\n",
       "      <td>0</td>\n",
       "      <td>F</td>\n",
       "      <td>сотрудник</td>\n",
       "      <td>0</td>\n",
       "      <td>253875</td>\n",
       "      <td>покупка жилья</td>\n",
       "      <td>B</td>\n",
       "    </tr>\n",
       "    <tr>\n",
       "      <th>1</th>\n",
       "      <td>1</td>\n",
       "      <td>4024.803754</td>\n",
       "      <td>36.0</td>\n",
       "      <td>1</td>\n",
       "      <td>0</td>\n",
       "      <td>F</td>\n",
       "      <td>сотрудник</td>\n",
       "      <td>0</td>\n",
       "      <td>112080</td>\n",
       "      <td>приобретение автомобиля</td>\n",
       "      <td>C</td>\n",
       "    </tr>\n",
       "    <tr>\n",
       "      <th>2</th>\n",
       "      <td>0</td>\n",
       "      <td>5623.422610</td>\n",
       "      <td>33.0</td>\n",
       "      <td>1</td>\n",
       "      <td>0</td>\n",
       "      <td>M</td>\n",
       "      <td>сотрудник</td>\n",
       "      <td>0</td>\n",
       "      <td>145885</td>\n",
       "      <td>покупка жилья</td>\n",
       "      <td>C</td>\n",
       "    </tr>\n",
       "    <tr>\n",
       "      <th>3</th>\n",
       "      <td>3</td>\n",
       "      <td>4124.747207</td>\n",
       "      <td>32.0</td>\n",
       "      <td>1</td>\n",
       "      <td>0</td>\n",
       "      <td>M</td>\n",
       "      <td>сотрудник</td>\n",
       "      <td>0</td>\n",
       "      <td>267628</td>\n",
       "      <td>дополнительное образование</td>\n",
       "      <td>B</td>\n",
       "    </tr>\n",
       "    <tr>\n",
       "      <th>4</th>\n",
       "      <td>0</td>\n",
       "      <td>0.000000</td>\n",
       "      <td>53.0</td>\n",
       "      <td>1</td>\n",
       "      <td>1</td>\n",
       "      <td>F</td>\n",
       "      <td>пенсионер</td>\n",
       "      <td>0</td>\n",
       "      <td>158616</td>\n",
       "      <td>сыграть свадьбу</td>\n",
       "      <td>C</td>\n",
       "    </tr>\n",
       "    <tr>\n",
       "      <th>5</th>\n",
       "      <td>0</td>\n",
       "      <td>926.185831</td>\n",
       "      <td>27.0</td>\n",
       "      <td>0</td>\n",
       "      <td>1</td>\n",
       "      <td>M</td>\n",
       "      <td>компаньон</td>\n",
       "      <td>0</td>\n",
       "      <td>255763</td>\n",
       "      <td>покупка жилья</td>\n",
       "      <td>B</td>\n",
       "    </tr>\n",
       "    <tr>\n",
       "      <th>6</th>\n",
       "      <td>0</td>\n",
       "      <td>2879.202052</td>\n",
       "      <td>43.0</td>\n",
       "      <td>0</td>\n",
       "      <td>0</td>\n",
       "      <td>F</td>\n",
       "      <td>компаньон</td>\n",
       "      <td>0</td>\n",
       "      <td>240525</td>\n",
       "      <td>операции с жильем</td>\n",
       "      <td>B</td>\n",
       "    </tr>\n",
       "    <tr>\n",
       "      <th>7</th>\n",
       "      <td>0</td>\n",
       "      <td>152.779569</td>\n",
       "      <td>50.0</td>\n",
       "      <td>1</td>\n",
       "      <td>0</td>\n",
       "      <td>M</td>\n",
       "      <td>сотрудник</td>\n",
       "      <td>0</td>\n",
       "      <td>135823</td>\n",
       "      <td>образование</td>\n",
       "      <td>C</td>\n",
       "    </tr>\n",
       "    <tr>\n",
       "      <th>8</th>\n",
       "      <td>2</td>\n",
       "      <td>6929.865299</td>\n",
       "      <td>35.0</td>\n",
       "      <td>0</td>\n",
       "      <td>1</td>\n",
       "      <td>F</td>\n",
       "      <td>сотрудник</td>\n",
       "      <td>0</td>\n",
       "      <td>95856</td>\n",
       "      <td>на проведение свадьбы</td>\n",
       "      <td>C</td>\n",
       "    </tr>\n",
       "    <tr>\n",
       "      <th>9</th>\n",
       "      <td>0</td>\n",
       "      <td>2188.756445</td>\n",
       "      <td>41.0</td>\n",
       "      <td>1</td>\n",
       "      <td>0</td>\n",
       "      <td>M</td>\n",
       "      <td>сотрудник</td>\n",
       "      <td>0</td>\n",
       "      <td>144425</td>\n",
       "      <td>покупка жилья для семьи</td>\n",
       "      <td>C</td>\n",
       "    </tr>\n",
       "    <tr>\n",
       "      <th>10</th>\n",
       "      <td>2</td>\n",
       "      <td>4171.483647</td>\n",
       "      <td>36.0</td>\n",
       "      <td>0</td>\n",
       "      <td>0</td>\n",
       "      <td>M</td>\n",
       "      <td>компаньон</td>\n",
       "      <td>0</td>\n",
       "      <td>113943</td>\n",
       "      <td>покупка недвижимости</td>\n",
       "      <td>C</td>\n",
       "    </tr>\n",
       "    <tr>\n",
       "      <th>11</th>\n",
       "      <td>0</td>\n",
       "      <td>792.701887</td>\n",
       "      <td>40.0</td>\n",
       "      <td>1</td>\n",
       "      <td>0</td>\n",
       "      <td>F</td>\n",
       "      <td>сотрудник</td>\n",
       "      <td>0</td>\n",
       "      <td>77069</td>\n",
       "      <td>покупка коммерческой недвижимости</td>\n",
       "      <td>C</td>\n",
       "    </tr>\n",
       "    <tr>\n",
       "      <th>12</th>\n",
       "      <td>0</td>\n",
       "      <td>0.000000</td>\n",
       "      <td>65.0</td>\n",
       "      <td>1</td>\n",
       "      <td>1</td>\n",
       "      <td>M</td>\n",
       "      <td>пенсионер</td>\n",
       "      <td>0</td>\n",
       "      <td>0</td>\n",
       "      <td>сыграть свадьбу</td>\n",
       "      <td>E</td>\n",
       "    </tr>\n",
       "    <tr>\n",
       "      <th>13</th>\n",
       "      <td>0</td>\n",
       "      <td>1846.641941</td>\n",
       "      <td>54.0</td>\n",
       "      <td>2</td>\n",
       "      <td>0</td>\n",
       "      <td>F</td>\n",
       "      <td>сотрудник</td>\n",
       "      <td>0</td>\n",
       "      <td>130458</td>\n",
       "      <td>приобретение автомобиля</td>\n",
       "      <td>C</td>\n",
       "    </tr>\n",
       "    <tr>\n",
       "      <th>14</th>\n",
       "      <td>0</td>\n",
       "      <td>1844.956182</td>\n",
       "      <td>56.0</td>\n",
       "      <td>0</td>\n",
       "      <td>1</td>\n",
       "      <td>F</td>\n",
       "      <td>компаньон</td>\n",
       "      <td>1</td>\n",
       "      <td>165127</td>\n",
       "      <td>покупка жилой недвижимости</td>\n",
       "      <td>C</td>\n",
       "    </tr>\n",
       "  </tbody>\n",
       "</table>\n",
       "</div>"
      ],
      "text/plain": [
       "    children  days_employed  dob_years  education_id  family_status_id gender  \\\n",
       "0          1    8437.673028       42.0             0                 0      F   \n",
       "1          1    4024.803754       36.0             1                 0      F   \n",
       "2          0    5623.422610       33.0             1                 0      M   \n",
       "3          3    4124.747207       32.0             1                 0      M   \n",
       "4          0       0.000000       53.0             1                 1      F   \n",
       "5          0     926.185831       27.0             0                 1      M   \n",
       "6          0    2879.202052       43.0             0                 0      F   \n",
       "7          0     152.779569       50.0             1                 0      M   \n",
       "8          2    6929.865299       35.0             0                 1      F   \n",
       "9          0    2188.756445       41.0             1                 0      M   \n",
       "10         2    4171.483647       36.0             0                 0      M   \n",
       "11         0     792.701887       40.0             1                 0      F   \n",
       "12         0       0.000000       65.0             1                 1      M   \n",
       "13         0    1846.641941       54.0             2                 0      F   \n",
       "14         0    1844.956182       56.0             0                 1      F   \n",
       "\n",
       "   income_type  debt  total_income                            purpose  \\\n",
       "0    сотрудник     0        253875                      покупка жилья   \n",
       "1    сотрудник     0        112080            приобретение автомобиля   \n",
       "2    сотрудник     0        145885                      покупка жилья   \n",
       "3    сотрудник     0        267628         дополнительное образование   \n",
       "4    пенсионер     0        158616                    сыграть свадьбу   \n",
       "5    компаньон     0        255763                      покупка жилья   \n",
       "6    компаньон     0        240525                  операции с жильем   \n",
       "7    сотрудник     0        135823                        образование   \n",
       "8    сотрудник     0         95856              на проведение свадьбы   \n",
       "9    сотрудник     0        144425            покупка жилья для семьи   \n",
       "10   компаньон     0        113943               покупка недвижимости   \n",
       "11   сотрудник     0         77069  покупка коммерческой недвижимости   \n",
       "12   пенсионер     0             0                    сыграть свадьбу   \n",
       "13   сотрудник     0        130458            приобретение автомобиля   \n",
       "14   компаньон     1        165127         покупка жилой недвижимости   \n",
       "\n",
       "   total_income_category  \n",
       "0                      B  \n",
       "1                      C  \n",
       "2                      C  \n",
       "3                      B  \n",
       "4                      C  \n",
       "5                      B  \n",
       "6                      B  \n",
       "7                      C  \n",
       "8                      C  \n",
       "9                      C  \n",
       "10                     C  \n",
       "11                     C  \n",
       "12                     E  \n",
       "13                     C  \n",
       "14                     C  "
      ]
     },
     "execution_count": 34,
     "metadata": {},
     "output_type": "execute_result"
    }
   ],
   "source": [
    "def income_category(income): #напишем функцию, которая будет присваивать различиные категории в зависимости от уровня дохода\n",
    "    try:\n",
    "        if income <= 30000:\n",
    "            return 'E'\n",
    "        if 30001 <= income <= 50000:\n",
    "            return 'D'\n",
    "        if 50001 <= income <= 200000:\n",
    "            return 'C'\n",
    "        if 200001 <= income <= 1000000:\n",
    "            return 'B'\n",
    "    \n",
    "        return 'A'\n",
    "    except:\n",
    "        display('Ошибка')\n",
    "\n",
    "#display(income_category(1000)) #проверка того, что функция работает верно\n",
    "#display(income_category(40000))\n",
    "#display(income_category(100000))\n",
    "#display(income_category(500000))\n",
    "#display(income_category(10000000))\n",
    "\n",
    "df['total_income_category'] = df['total_income'].apply(income_category) #добавим в нашу таблицу новый столбец с категорией дохода\n",
    "df.head(15) #выведем на экран первый 15 строк таблицы"
   ]
  },
  {
   "cell_type": "markdown",
   "id": "2e05be6e",
   "metadata": {},
   "source": [
    "### Категоризация целей кредита."
   ]
  },
  {
   "cell_type": "markdown",
   "id": "545abeab",
   "metadata": {},
   "source": [
    "Также для ответа на последний вопрос исследования о том как различные цели кредита влияют на его возврат в срок, необходимо разбить эти цели на несколько категорий, т.к. исходя из обзора данных целей кредита в таблице очень много, но по факту они дублируют друг друга, а какие-то написаны просто с орфографическими ошибками. Можно выделить 4 цели, которые имееются в исходных данных:\n",
    "  * операции с автомобилем,\n",
    "  * получение образования,\n",
    "  * проведение свадьбы,\n",
    "  * операции с недвижимостью.\n",
    "\n",
    "Наиболее оптимальный путь для разделения целей на разные категории - провести лемматизацию. "
   ]
  },
  {
   "cell_type": "code",
   "execution_count": 35,
   "id": "75e1213b",
   "metadata": {},
   "outputs": [
    {
     "data": {
      "text/html": [
       "<div>\n",
       "<style scoped>\n",
       "    .dataframe tbody tr th:only-of-type {\n",
       "        vertical-align: middle;\n",
       "    }\n",
       "\n",
       "    .dataframe tbody tr th {\n",
       "        vertical-align: top;\n",
       "    }\n",
       "\n",
       "    .dataframe thead th {\n",
       "        text-align: right;\n",
       "    }\n",
       "</style>\n",
       "<table border=\"1\" class=\"dataframe\">\n",
       "  <thead>\n",
       "    <tr style=\"text-align: right;\">\n",
       "      <th></th>\n",
       "      <th>children</th>\n",
       "      <th>days_employed</th>\n",
       "      <th>dob_years</th>\n",
       "      <th>education_id</th>\n",
       "      <th>family_status_id</th>\n",
       "      <th>gender</th>\n",
       "      <th>income_type</th>\n",
       "      <th>debt</th>\n",
       "      <th>total_income</th>\n",
       "      <th>purpose</th>\n",
       "      <th>total_income_category</th>\n",
       "      <th>purpose_category</th>\n",
       "    </tr>\n",
       "  </thead>\n",
       "  <tbody>\n",
       "    <tr>\n",
       "      <th>0</th>\n",
       "      <td>1</td>\n",
       "      <td>8437.673028</td>\n",
       "      <td>42.0</td>\n",
       "      <td>0</td>\n",
       "      <td>0</td>\n",
       "      <td>F</td>\n",
       "      <td>сотрудник</td>\n",
       "      <td>0</td>\n",
       "      <td>253875</td>\n",
       "      <td>покупка жилья</td>\n",
       "      <td>B</td>\n",
       "      <td>операции с недвижимостью</td>\n",
       "    </tr>\n",
       "    <tr>\n",
       "      <th>1</th>\n",
       "      <td>1</td>\n",
       "      <td>4024.803754</td>\n",
       "      <td>36.0</td>\n",
       "      <td>1</td>\n",
       "      <td>0</td>\n",
       "      <td>F</td>\n",
       "      <td>сотрудник</td>\n",
       "      <td>0</td>\n",
       "      <td>112080</td>\n",
       "      <td>приобретение автомобиля</td>\n",
       "      <td>C</td>\n",
       "      <td>операции с автомобилем</td>\n",
       "    </tr>\n",
       "    <tr>\n",
       "      <th>2</th>\n",
       "      <td>0</td>\n",
       "      <td>5623.422610</td>\n",
       "      <td>33.0</td>\n",
       "      <td>1</td>\n",
       "      <td>0</td>\n",
       "      <td>M</td>\n",
       "      <td>сотрудник</td>\n",
       "      <td>0</td>\n",
       "      <td>145885</td>\n",
       "      <td>покупка жилья</td>\n",
       "      <td>C</td>\n",
       "      <td>операции с недвижимостью</td>\n",
       "    </tr>\n",
       "    <tr>\n",
       "      <th>3</th>\n",
       "      <td>3</td>\n",
       "      <td>4124.747207</td>\n",
       "      <td>32.0</td>\n",
       "      <td>1</td>\n",
       "      <td>0</td>\n",
       "      <td>M</td>\n",
       "      <td>сотрудник</td>\n",
       "      <td>0</td>\n",
       "      <td>267628</td>\n",
       "      <td>дополнительное образование</td>\n",
       "      <td>B</td>\n",
       "      <td>получение образования</td>\n",
       "    </tr>\n",
       "    <tr>\n",
       "      <th>4</th>\n",
       "      <td>0</td>\n",
       "      <td>0.000000</td>\n",
       "      <td>53.0</td>\n",
       "      <td>1</td>\n",
       "      <td>1</td>\n",
       "      <td>F</td>\n",
       "      <td>пенсионер</td>\n",
       "      <td>0</td>\n",
       "      <td>158616</td>\n",
       "      <td>сыграть свадьбу</td>\n",
       "      <td>C</td>\n",
       "      <td>проведение свадьбы</td>\n",
       "    </tr>\n",
       "    <tr>\n",
       "      <th>5</th>\n",
       "      <td>0</td>\n",
       "      <td>926.185831</td>\n",
       "      <td>27.0</td>\n",
       "      <td>0</td>\n",
       "      <td>1</td>\n",
       "      <td>M</td>\n",
       "      <td>компаньон</td>\n",
       "      <td>0</td>\n",
       "      <td>255763</td>\n",
       "      <td>покупка жилья</td>\n",
       "      <td>B</td>\n",
       "      <td>операции с недвижимостью</td>\n",
       "    </tr>\n",
       "    <tr>\n",
       "      <th>6</th>\n",
       "      <td>0</td>\n",
       "      <td>2879.202052</td>\n",
       "      <td>43.0</td>\n",
       "      <td>0</td>\n",
       "      <td>0</td>\n",
       "      <td>F</td>\n",
       "      <td>компаньон</td>\n",
       "      <td>0</td>\n",
       "      <td>240525</td>\n",
       "      <td>операции с жильем</td>\n",
       "      <td>B</td>\n",
       "      <td>операции с недвижимостью</td>\n",
       "    </tr>\n",
       "    <tr>\n",
       "      <th>7</th>\n",
       "      <td>0</td>\n",
       "      <td>152.779569</td>\n",
       "      <td>50.0</td>\n",
       "      <td>1</td>\n",
       "      <td>0</td>\n",
       "      <td>M</td>\n",
       "      <td>сотрудник</td>\n",
       "      <td>0</td>\n",
       "      <td>135823</td>\n",
       "      <td>образование</td>\n",
       "      <td>C</td>\n",
       "      <td>получение образования</td>\n",
       "    </tr>\n",
       "    <tr>\n",
       "      <th>8</th>\n",
       "      <td>2</td>\n",
       "      <td>6929.865299</td>\n",
       "      <td>35.0</td>\n",
       "      <td>0</td>\n",
       "      <td>1</td>\n",
       "      <td>F</td>\n",
       "      <td>сотрудник</td>\n",
       "      <td>0</td>\n",
       "      <td>95856</td>\n",
       "      <td>на проведение свадьбы</td>\n",
       "      <td>C</td>\n",
       "      <td>проведение свадьбы</td>\n",
       "    </tr>\n",
       "    <tr>\n",
       "      <th>9</th>\n",
       "      <td>0</td>\n",
       "      <td>2188.756445</td>\n",
       "      <td>41.0</td>\n",
       "      <td>1</td>\n",
       "      <td>0</td>\n",
       "      <td>M</td>\n",
       "      <td>сотрудник</td>\n",
       "      <td>0</td>\n",
       "      <td>144425</td>\n",
       "      <td>покупка жилья для семьи</td>\n",
       "      <td>C</td>\n",
       "      <td>операции с недвижимостью</td>\n",
       "    </tr>\n",
       "    <tr>\n",
       "      <th>10</th>\n",
       "      <td>2</td>\n",
       "      <td>4171.483647</td>\n",
       "      <td>36.0</td>\n",
       "      <td>0</td>\n",
       "      <td>0</td>\n",
       "      <td>M</td>\n",
       "      <td>компаньон</td>\n",
       "      <td>0</td>\n",
       "      <td>113943</td>\n",
       "      <td>покупка недвижимости</td>\n",
       "      <td>C</td>\n",
       "      <td>операции с недвижимостью</td>\n",
       "    </tr>\n",
       "    <tr>\n",
       "      <th>11</th>\n",
       "      <td>0</td>\n",
       "      <td>792.701887</td>\n",
       "      <td>40.0</td>\n",
       "      <td>1</td>\n",
       "      <td>0</td>\n",
       "      <td>F</td>\n",
       "      <td>сотрудник</td>\n",
       "      <td>0</td>\n",
       "      <td>77069</td>\n",
       "      <td>покупка коммерческой недвижимости</td>\n",
       "      <td>C</td>\n",
       "      <td>операции с недвижимостью</td>\n",
       "    </tr>\n",
       "    <tr>\n",
       "      <th>12</th>\n",
       "      <td>0</td>\n",
       "      <td>0.000000</td>\n",
       "      <td>65.0</td>\n",
       "      <td>1</td>\n",
       "      <td>1</td>\n",
       "      <td>M</td>\n",
       "      <td>пенсионер</td>\n",
       "      <td>0</td>\n",
       "      <td>0</td>\n",
       "      <td>сыграть свадьбу</td>\n",
       "      <td>E</td>\n",
       "      <td>проведение свадьбы</td>\n",
       "    </tr>\n",
       "    <tr>\n",
       "      <th>13</th>\n",
       "      <td>0</td>\n",
       "      <td>1846.641941</td>\n",
       "      <td>54.0</td>\n",
       "      <td>2</td>\n",
       "      <td>0</td>\n",
       "      <td>F</td>\n",
       "      <td>сотрудник</td>\n",
       "      <td>0</td>\n",
       "      <td>130458</td>\n",
       "      <td>приобретение автомобиля</td>\n",
       "      <td>C</td>\n",
       "      <td>операции с автомобилем</td>\n",
       "    </tr>\n",
       "    <tr>\n",
       "      <th>14</th>\n",
       "      <td>0</td>\n",
       "      <td>1844.956182</td>\n",
       "      <td>56.0</td>\n",
       "      <td>0</td>\n",
       "      <td>1</td>\n",
       "      <td>F</td>\n",
       "      <td>компаньон</td>\n",
       "      <td>1</td>\n",
       "      <td>165127</td>\n",
       "      <td>покупка жилой недвижимости</td>\n",
       "      <td>C</td>\n",
       "      <td>операции с недвижимостью</td>\n",
       "    </tr>\n",
       "  </tbody>\n",
       "</table>\n",
       "</div>"
      ],
      "text/plain": [
       "    children  days_employed  dob_years  education_id  family_status_id gender  \\\n",
       "0          1    8437.673028       42.0             0                 0      F   \n",
       "1          1    4024.803754       36.0             1                 0      F   \n",
       "2          0    5623.422610       33.0             1                 0      M   \n",
       "3          3    4124.747207       32.0             1                 0      M   \n",
       "4          0       0.000000       53.0             1                 1      F   \n",
       "5          0     926.185831       27.0             0                 1      M   \n",
       "6          0    2879.202052       43.0             0                 0      F   \n",
       "7          0     152.779569       50.0             1                 0      M   \n",
       "8          2    6929.865299       35.0             0                 1      F   \n",
       "9          0    2188.756445       41.0             1                 0      M   \n",
       "10         2    4171.483647       36.0             0                 0      M   \n",
       "11         0     792.701887       40.0             1                 0      F   \n",
       "12         0       0.000000       65.0             1                 1      M   \n",
       "13         0    1846.641941       54.0             2                 0      F   \n",
       "14         0    1844.956182       56.0             0                 1      F   \n",
       "\n",
       "   income_type  debt  total_income                            purpose  \\\n",
       "0    сотрудник     0        253875                      покупка жилья   \n",
       "1    сотрудник     0        112080            приобретение автомобиля   \n",
       "2    сотрудник     0        145885                      покупка жилья   \n",
       "3    сотрудник     0        267628         дополнительное образование   \n",
       "4    пенсионер     0        158616                    сыграть свадьбу   \n",
       "5    компаньон     0        255763                      покупка жилья   \n",
       "6    компаньон     0        240525                  операции с жильем   \n",
       "7    сотрудник     0        135823                        образование   \n",
       "8    сотрудник     0         95856              на проведение свадьбы   \n",
       "9    сотрудник     0        144425            покупка жилья для семьи   \n",
       "10   компаньон     0        113943               покупка недвижимости   \n",
       "11   сотрудник     0         77069  покупка коммерческой недвижимости   \n",
       "12   пенсионер     0             0                    сыграть свадьбу   \n",
       "13   сотрудник     0        130458            приобретение автомобиля   \n",
       "14   компаньон     1        165127         покупка жилой недвижимости   \n",
       "\n",
       "   total_income_category          purpose_category  \n",
       "0                      B  операции с недвижимостью  \n",
       "1                      C    операции с автомобилем  \n",
       "2                      C  операции с недвижимостью  \n",
       "3                      B     получение образования  \n",
       "4                      C        проведение свадьбы  \n",
       "5                      B  операции с недвижимостью  \n",
       "6                      B  операции с недвижимостью  \n",
       "7                      C     получение образования  \n",
       "8                      C        проведение свадьбы  \n",
       "9                      C  операции с недвижимостью  \n",
       "10                     C  операции с недвижимостью  \n",
       "11                     C  операции с недвижимостью  \n",
       "12                     E        проведение свадьбы  \n",
       "13                     C    операции с автомобилем  \n",
       "14                     C  операции с недвижимостью  "
      ]
     },
     "execution_count": 35,
     "metadata": {},
     "output_type": "execute_result"
    }
   ],
   "source": [
    "from pymystem3 import Mystem #импортируем библиотеку pymystem3 \n",
    "m = Mystem()\n",
    "\n",
    "def purpose_category(your_purpose): #здесь напишем функцию, которая будет по словам присваивать категорию\n",
    "    lemmas = m.lemmatize(your_purpose)\n",
    "    try:\n",
    "        if 'автомобиль' in lemmas:\n",
    "            return 'операции с автомобилем'\n",
    "        if 'образование' in lemmas:\n",
    "            return 'получение образования'\n",
    "        if 'свадьба' in lemmas:\n",
    "            return 'проведение свадьбы'\n",
    "        return  'операции с недвижимостью'\n",
    "    except:\n",
    "        display('Ошибка')\n",
    "\n",
    "#создадим новый столбец в нашей таблице, который в зависимости от цели будет присваивать категорию\n",
    "df['purpose_category'] = df['purpose'].apply(purpose_category) \n",
    "df.head(15) #выведем первые 15 строк таблицы"
   ]
  },
  {
   "cell_type": "markdown",
   "id": "e6118ade",
   "metadata": {},
   "source": [
    "### Предобработка данных: выводы"
   ]
  },
  {
   "cell_type": "markdown",
   "id": "04cd2aa9",
   "metadata": {},
   "source": [
    "По итогам проведенной преобработки данные было сделано следующее:\n",
    "* были заполнены пропуски  в колонках `days_employed` и `total_income`. Пропуски были заполнены медианными значениями по типам занятости;\n",
    "* некорректные значения в колонке `children` (отрицальные значения и аномально большие) были удалены из таблицы, ввиду их незначительного количества (менее 1%);\n",
    "* удалено ошибочное значение в столбце `gender` (оно было единичным);\n",
    "* в колонке `dob_years` вместо пустых значений подставили средние;\n",
    "* удалили возникающие дубликаты в таблице;\n",
    "* сократили таблицу удалив колонки `education` и `family_status` и создали для них отдельные словари;\n",
    "* провели категоризацию доходов и целей кредита."
   ]
  },
  {
   "cell_type": "markdown",
   "id": "0557923a",
   "metadata": {},
   "source": [
    "## Проверка гипотез"
   ]
  },
  {
   "cell_type": "markdown",
   "id": "30c2467c",
   "metadata": {},
   "source": [
    "### Есть ли зависимость между количеством детей и возвратом кредита в срок?"
   ]
  },
  {
   "cell_type": "markdown",
   "id": "57feff72",
   "metadata": {},
   "source": [
    "Для ответов на поставленные вопросы проще всего информацию обработать в табличном виде с помощью построения сводных таблиц."
   ]
  },
  {
   "cell_type": "code",
   "execution_count": 36,
   "id": "b33ad2b9",
   "metadata": {
    "scrolled": true
   },
   "outputs": [
    {
     "data": {
      "text/html": [
       "<div>\n",
       "<style scoped>\n",
       "    .dataframe tbody tr th:only-of-type {\n",
       "        vertical-align: middle;\n",
       "    }\n",
       "\n",
       "    .dataframe tbody tr th {\n",
       "        vertical-align: top;\n",
       "    }\n",
       "\n",
       "    .dataframe thead th {\n",
       "        text-align: right;\n",
       "    }\n",
       "</style>\n",
       "<table border=\"1\" class=\"dataframe\">\n",
       "  <thead>\n",
       "    <tr style=\"text-align: right;\">\n",
       "      <th></th>\n",
       "      <th>Общее количество заемщиков</th>\n",
       "      <th>Количество должников</th>\n",
       "      <th>Доля должников в %</th>\n",
       "    </tr>\n",
       "    <tr>\n",
       "      <th>children</th>\n",
       "      <th></th>\n",
       "      <th></th>\n",
       "      <th></th>\n",
       "    </tr>\n",
       "  </thead>\n",
       "  <tbody>\n",
       "    <tr>\n",
       "      <th>4</th>\n",
       "      <td>41</td>\n",
       "      <td>4</td>\n",
       "      <td>9.76</td>\n",
       "    </tr>\n",
       "    <tr>\n",
       "      <th>2</th>\n",
       "      <td>2055</td>\n",
       "      <td>194</td>\n",
       "      <td>9.44</td>\n",
       "    </tr>\n",
       "    <tr>\n",
       "      <th>1</th>\n",
       "      <td>4818</td>\n",
       "      <td>444</td>\n",
       "      <td>9.22</td>\n",
       "    </tr>\n",
       "    <tr>\n",
       "      <th>3</th>\n",
       "      <td>330</td>\n",
       "      <td>27</td>\n",
       "      <td>8.18</td>\n",
       "    </tr>\n",
       "    <tr>\n",
       "      <th>0</th>\n",
       "      <td>14148</td>\n",
       "      <td>1063</td>\n",
       "      <td>7.51</td>\n",
       "    </tr>\n",
       "    <tr>\n",
       "      <th>5</th>\n",
       "      <td>9</td>\n",
       "      <td>0</td>\n",
       "      <td>0.00</td>\n",
       "    </tr>\n",
       "  </tbody>\n",
       "</table>\n",
       "</div>"
      ],
      "text/plain": [
       "          Общее количество заемщиков  Количество должников  Доля должников в %\n",
       "children                                                                      \n",
       "4                                 41                     4                9.76\n",
       "2                               2055                   194                9.44\n",
       "1                               4818                   444                9.22\n",
       "3                                330                    27                8.18\n",
       "0                              14148                  1063                7.51\n",
       "5                                  9                     0                0.00"
      ]
     },
     "execution_count": 36,
     "metadata": {},
     "output_type": "execute_result"
    }
   ],
   "source": [
    "children_debt = df.pivot_table(index='children', values='debt', aggfunc=['count','sum', 'mean'])  \n",
    "#создадим сводную таблицу \n",
    "\n",
    "children_debt.columns = ['Общее количество заемщиков','Количество должников','Доля должников в %'] \n",
    "#добавим все необходимые столбцы, которые хотим увидеть в сводную таблицу\n",
    "\n",
    "children_debt['Доля должников в %']= round(children_debt['Доля должников в %'] * 100, 2)\n",
    "#переведем колонку Доля должников в % в проценты с округлением до двух десятичных знаков\n",
    "\n",
    "children_debt.sort_values(by = 'Доля должников в %', ascending = False)\n",
    "#отсортируем по столбцу \"Доля должников в %\" по возрастанию"
   ]
  },
  {
   "cell_type": "markdown",
   "id": "bb1e64d8",
   "metadata": {},
   "source": [
    "**Вывод:**"
   ]
  },
  {
   "cell_type": "markdown",
   "id": "6a09c1ce",
   "metadata": {},
   "source": [
    "Прямой зависимости между количеством детей и возвратом кредита в срок нет. При этом, по таблице видно, что заемщики, у которых дети отсутствуют являются более платежеспособными, чем те, у которых есть дети (количество не важно). Данные по заёмщикам с 5 детьми не репрезентативны ввиду малого количества данных."
   ]
  },
  {
   "cell_type": "markdown",
   "id": "e13ecd8e",
   "metadata": {},
   "source": [
    "### Есть ли зависимость между семейным положением и возвратом кредита в срок?"
   ]
  },
  {
   "cell_type": "code",
   "execution_count": 37,
   "id": "f2355359",
   "metadata": {},
   "outputs": [
    {
     "data": {
      "text/html": [
       "<div>\n",
       "<style scoped>\n",
       "    .dataframe tbody tr th:only-of-type {\n",
       "        vertical-align: middle;\n",
       "    }\n",
       "\n",
       "    .dataframe tbody tr th {\n",
       "        vertical-align: top;\n",
       "    }\n",
       "\n",
       "    .dataframe thead th {\n",
       "        text-align: right;\n",
       "    }\n",
       "</style>\n",
       "<table border=\"1\" class=\"dataframe\">\n",
       "  <thead>\n",
       "    <tr style=\"text-align: right;\">\n",
       "      <th></th>\n",
       "      <th>family_status</th>\n",
       "      <th>family_status_id</th>\n",
       "    </tr>\n",
       "  </thead>\n",
       "  <tbody>\n",
       "    <tr>\n",
       "      <th>0</th>\n",
       "      <td>женат / замужем</td>\n",
       "      <td>0</td>\n",
       "    </tr>\n",
       "    <tr>\n",
       "      <th>1</th>\n",
       "      <td>гражданский брак</td>\n",
       "      <td>1</td>\n",
       "    </tr>\n",
       "    <tr>\n",
       "      <th>2</th>\n",
       "      <td>вдовец / вдова</td>\n",
       "      <td>2</td>\n",
       "    </tr>\n",
       "    <tr>\n",
       "      <th>3</th>\n",
       "      <td>в разводе</td>\n",
       "      <td>3</td>\n",
       "    </tr>\n",
       "    <tr>\n",
       "      <th>4</th>\n",
       "      <td>Не женат / не замужем</td>\n",
       "      <td>4</td>\n",
       "    </tr>\n",
       "  </tbody>\n",
       "</table>\n",
       "</div>"
      ],
      "text/plain": [
       "           family_status  family_status_id\n",
       "0        женат / замужем                 0\n",
       "1       гражданский брак                 1\n",
       "2         вдовец / вдова                 2\n",
       "3              в разводе                 3\n",
       "4  Не женат / не замужем                 4"
      ]
     },
     "execution_count": 37,
     "metadata": {},
     "output_type": "execute_result"
    }
   ],
   "source": [
    "family_status_dict #выведем дата фрейм со словарем на экран"
   ]
  },
  {
   "cell_type": "code",
   "execution_count": 38,
   "id": "8652b9d8",
   "metadata": {
    "scrolled": true
   },
   "outputs": [
    {
     "data": {
      "text/html": [
       "<div>\n",
       "<style scoped>\n",
       "    .dataframe tbody tr th:only-of-type {\n",
       "        vertical-align: middle;\n",
       "    }\n",
       "\n",
       "    .dataframe tbody tr th {\n",
       "        vertical-align: top;\n",
       "    }\n",
       "\n",
       "    .dataframe thead th {\n",
       "        text-align: right;\n",
       "    }\n",
       "</style>\n",
       "<table border=\"1\" class=\"dataframe\">\n",
       "  <thead>\n",
       "    <tr style=\"text-align: right;\">\n",
       "      <th></th>\n",
       "      <th>Общее количество заемщиков</th>\n",
       "      <th>Количество должников</th>\n",
       "      <th>Доля должников в %</th>\n",
       "    </tr>\n",
       "    <tr>\n",
       "      <th>family_status_id</th>\n",
       "      <th></th>\n",
       "      <th></th>\n",
       "      <th></th>\n",
       "    </tr>\n",
       "  </thead>\n",
       "  <tbody>\n",
       "    <tr>\n",
       "      <th>0</th>\n",
       "      <td>12302</td>\n",
       "      <td>927</td>\n",
       "      <td>7.54</td>\n",
       "    </tr>\n",
       "    <tr>\n",
       "      <th>1</th>\n",
       "      <td>4159</td>\n",
       "      <td>385</td>\n",
       "      <td>9.26</td>\n",
       "    </tr>\n",
       "    <tr>\n",
       "      <th>2</th>\n",
       "      <td>952</td>\n",
       "      <td>63</td>\n",
       "      <td>6.62</td>\n",
       "    </tr>\n",
       "    <tr>\n",
       "      <th>3</th>\n",
       "      <td>1189</td>\n",
       "      <td>84</td>\n",
       "      <td>7.06</td>\n",
       "    </tr>\n",
       "    <tr>\n",
       "      <th>4</th>\n",
       "      <td>2799</td>\n",
       "      <td>273</td>\n",
       "      <td>9.75</td>\n",
       "    </tr>\n",
       "  </tbody>\n",
       "</table>\n",
       "</div>"
      ],
      "text/plain": [
       "                  Общее количество заемщиков  Количество должников  \\\n",
       "family_status_id                                                     \n",
       "0                                      12302                   927   \n",
       "1                                       4159                   385   \n",
       "2                                        952                    63   \n",
       "3                                       1189                    84   \n",
       "4                                       2799                   273   \n",
       "\n",
       "                  Доля должников в %  \n",
       "family_status_id                      \n",
       "0                               7.54  \n",
       "1                               9.26  \n",
       "2                               6.62  \n",
       "3                               7.06  \n",
       "4                               9.75  "
      ]
     },
     "execution_count": 38,
     "metadata": {},
     "output_type": "execute_result"
    }
   ],
   "source": [
    "family_status_debt=df.pivot_table(index='family_status_id', values='debt', aggfunc=['count','sum', 'mean'])\n",
    "\n",
    "family_status_debt.columns = ['Общее количество заемщиков','Количество должников','Доля должников в %']\n",
    "\n",
    "family_status_debt['Доля должников в %']= round(family_status_debt['Доля должников в %'] * 100, 2)\n",
    "\n",
    "family_status_debt.sort_values(by = 'Доля должников в %', ascending = False)\n",
    "\n",
    "family_status_debt.merge(family_status_dict, on ='family_status_id')\n",
    "family_status_debt"
   ]
  },
  {
   "cell_type": "markdown",
   "id": "4d78e7cd",
   "metadata": {},
   "source": [
    "**Вывод:**"
   ]
  },
  {
   "cell_type": "markdown",
   "id": "9248b139",
   "metadata": {},
   "source": [
    "Заёмщики, которые находятся не в браке или в гражданском браке являются менее платежеспособными, как видно из таблицы выше."
   ]
  },
  {
   "cell_type": "markdown",
   "id": "3061b0fd",
   "metadata": {},
   "source": [
    "### Есть ли зависимость между уровнем дохода и возвратом кредита в срок?"
   ]
  },
  {
   "cell_type": "code",
   "execution_count": 39,
   "id": "8d20c7df",
   "metadata": {},
   "outputs": [
    {
     "data": {
      "text/html": [
       "<div>\n",
       "<style scoped>\n",
       "    .dataframe tbody tr th:only-of-type {\n",
       "        vertical-align: middle;\n",
       "    }\n",
       "\n",
       "    .dataframe tbody tr th {\n",
       "        vertical-align: top;\n",
       "    }\n",
       "\n",
       "    .dataframe thead th {\n",
       "        text-align: right;\n",
       "    }\n",
       "</style>\n",
       "<table border=\"1\" class=\"dataframe\">\n",
       "  <thead>\n",
       "    <tr style=\"text-align: right;\">\n",
       "      <th></th>\n",
       "      <th>Общее количество заемщиков</th>\n",
       "      <th>Количество должников</th>\n",
       "      <th>Доля должников в %</th>\n",
       "    </tr>\n",
       "    <tr>\n",
       "      <th>total_income_category</th>\n",
       "      <th></th>\n",
       "      <th></th>\n",
       "      <th></th>\n",
       "    </tr>\n",
       "  </thead>\n",
       "  <tbody>\n",
       "    <tr>\n",
       "      <th>C</th>\n",
       "      <td>13831</td>\n",
       "      <td>1183</td>\n",
       "      <td>8.55</td>\n",
       "    </tr>\n",
       "    <tr>\n",
       "      <th>A</th>\n",
       "      <td>25</td>\n",
       "      <td>2</td>\n",
       "      <td>8.00</td>\n",
       "    </tr>\n",
       "    <tr>\n",
       "      <th>E</th>\n",
       "      <td>2184</td>\n",
       "      <td>172</td>\n",
       "      <td>7.88</td>\n",
       "    </tr>\n",
       "    <tr>\n",
       "      <th>B</th>\n",
       "      <td>5012</td>\n",
       "      <td>354</td>\n",
       "      <td>7.06</td>\n",
       "    </tr>\n",
       "    <tr>\n",
       "      <th>D</th>\n",
       "      <td>349</td>\n",
       "      <td>21</td>\n",
       "      <td>6.02</td>\n",
       "    </tr>\n",
       "  </tbody>\n",
       "</table>\n",
       "</div>"
      ],
      "text/plain": [
       "                       Общее количество заемщиков  Количество должников  \\\n",
       "total_income_category                                                     \n",
       "C                                           13831                  1183   \n",
       "A                                              25                     2   \n",
       "E                                            2184                   172   \n",
       "B                                            5012                   354   \n",
       "D                                             349                    21   \n",
       "\n",
       "                       Доля должников в %  \n",
       "total_income_category                      \n",
       "C                                    8.55  \n",
       "A                                    8.00  \n",
       "E                                    7.88  \n",
       "B                                    7.06  \n",
       "D                                    6.02  "
      ]
     },
     "execution_count": 39,
     "metadata": {},
     "output_type": "execute_result"
    }
   ],
   "source": [
    "total_income_debt = df.pivot_table(index='total_income_category',values='debt',aggfunc=['count','sum', 'mean'])\n",
    "\n",
    "total_income_debt.columns = ['Общее количество заемщиков','Количество должников','Доля должников в %']\n",
    "\n",
    "total_income_debt['Доля должников в %']= round(total_income_debt['Доля должников в %'] * 100, 2)\n",
    "\n",
    "total_income_debt.sort_values(by = 'Доля должников в %', ascending = False)"
   ]
  },
  {
   "cell_type": "markdown",
   "id": "90250da1",
   "metadata": {},
   "source": [
    "**Вывод:**"
   ]
  },
  {
   "cell_type": "markdown",
   "id": "b5172bbb",
   "metadata": {},
   "source": [
    "Ярко выраженной зависимости между уровнем дохода и возвратом кредита в срок нет (данные по заемщикам с категорией E (доход менее 30 000) не показательны, ввиду малого количества). При этом, несмотря на малое количество заемщиков в категории А - это люди, у которых очень высокий доход и по определнию их не может быть много. Стоит обратить внимание, что несмотря на их уровень дохода среди них имеется 8% не возвращающих обязательства по каким-то причинам в срок. "
   ]
  },
  {
   "cell_type": "markdown",
   "id": "6712ea3f",
   "metadata": {},
   "source": [
    "### Как разные цели кредита влияют на его возврат в срок?"
   ]
  },
  {
   "cell_type": "code",
   "execution_count": 40,
   "id": "8e573bb6",
   "metadata": {
    "scrolled": true
   },
   "outputs": [
    {
     "data": {
      "text/html": [
       "<div>\n",
       "<style scoped>\n",
       "    .dataframe tbody tr th:only-of-type {\n",
       "        vertical-align: middle;\n",
       "    }\n",
       "\n",
       "    .dataframe tbody tr th {\n",
       "        vertical-align: top;\n",
       "    }\n",
       "\n",
       "    .dataframe thead th {\n",
       "        text-align: right;\n",
       "    }\n",
       "</style>\n",
       "<table border=\"1\" class=\"dataframe\">\n",
       "  <thead>\n",
       "    <tr style=\"text-align: right;\">\n",
       "      <th></th>\n",
       "      <th>Общее количество заемщиков</th>\n",
       "      <th>Количество должников</th>\n",
       "      <th>Доля должников в %</th>\n",
       "    </tr>\n",
       "    <tr>\n",
       "      <th>purpose_category</th>\n",
       "      <th></th>\n",
       "      <th></th>\n",
       "      <th></th>\n",
       "    </tr>\n",
       "  </thead>\n",
       "  <tbody>\n",
       "    <tr>\n",
       "      <th>операции с автомобилем</th>\n",
       "      <td>4288</td>\n",
       "      <td>400</td>\n",
       "      <td>9.33</td>\n",
       "    </tr>\n",
       "    <tr>\n",
       "      <th>получение образования</th>\n",
       "      <td>3997</td>\n",
       "      <td>369</td>\n",
       "      <td>9.23</td>\n",
       "    </tr>\n",
       "    <tr>\n",
       "      <th>проведение свадьбы</th>\n",
       "      <td>2337</td>\n",
       "      <td>183</td>\n",
       "      <td>7.83</td>\n",
       "    </tr>\n",
       "    <tr>\n",
       "      <th>операции с недвижимостью</th>\n",
       "      <td>10779</td>\n",
       "      <td>780</td>\n",
       "      <td>7.24</td>\n",
       "    </tr>\n",
       "  </tbody>\n",
       "</table>\n",
       "</div>"
      ],
      "text/plain": [
       "                          Общее количество заемщиков  Количество должников  \\\n",
       "purpose_category                                                             \n",
       "операции с автомобилем                          4288                   400   \n",
       "получение образования                           3997                   369   \n",
       "проведение свадьбы                              2337                   183   \n",
       "операции с недвижимостью                       10779                   780   \n",
       "\n",
       "                          Доля должников в %  \n",
       "purpose_category                              \n",
       "операции с автомобилем                  9.33  \n",
       "получение образования                   9.23  \n",
       "проведение свадьбы                      7.83  \n",
       "операции с недвижимостью                7.24  "
      ]
     },
     "execution_count": 40,
     "metadata": {},
     "output_type": "execute_result"
    }
   ],
   "source": [
    "purpose_debt = df.pivot_table(index='purpose_category',values='debt',aggfunc=['count','sum', 'mean'])\n",
    "\n",
    "purpose_debt.columns = ['Общее количество заемщиков','Количество должников','Доля должников в %']\n",
    "\n",
    "purpose_debt['Доля должников в %']= round(purpose_debt['Доля должников в %'] * 100, 2)\n",
    "\n",
    "purpose_debt.sort_values(by = 'Доля должников в %', ascending = False)"
   ]
  },
  {
   "cell_type": "markdown",
   "id": "74ee3996",
   "metadata": {},
   "source": [
    "**Вывод:**"
   ]
  },
  {
   "cell_type": "markdown",
   "id": "f4932fbf",
   "metadata": {},
   "source": [
    "Самый популярный тип кредитов: операции с недвижимостью, но ним же самый маленький процент должников. При этом самый высокий процент неуплат приходится на кредиты, которые берут для покупки автомобиля или получения образования."
   ]
  },
  {
   "cell_type": "markdown",
   "id": "e62c7d7d",
   "metadata": {},
   "source": [
    "<div class=\"alert alert-info\"> <b>Комментарий студента:</b> \n",
    "Спасибо! Воспользовалась твоим советом. \n",
    "За инфу про сводные тоже спасибо)\n",
    "</div>"
   ]
  },
  {
   "cell_type": "markdown",
   "id": "453ca903",
   "metadata": {},
   "source": [
    "## Общий вывод:"
   ]
  },
  {
   "cell_type": "markdown",
   "id": "d6b03959",
   "metadata": {},
   "source": [
    "**Кратный обзор выполненных работ**:\n",
    "\n",
    "Ход исследования был разделен на три части: \n",
    "1. Обзор данных\n",
    "2. Предобработка данных\n",
    "3. Проверка гипотез\n",
    "\n",
    "В рамках первой части ввиду отствия какой-либо информации о предоставленных данных был сделан их подробный анализ, в ходе которого были выявлены проблемы, такие как: пропущенные и некорретные значения, нулевые значения, а также дубликаты. \n",
    "\n",
    "В рамках второй части \"Предобработка данных\" были заполнены пропусти, выявлены аномалии в данных, проведено изменение типов данных, удаление дубликатов, а также провели категоризацию уровня доходов заемщиков и целей кредита. \n",
    "\n",
    "В третьей части исследования осуществлялась проверка гипотез путем построения сводных таблиц на основе уже скорректированных данных.\n",
    "\n",
    "**Основные выводы**:\n",
    "\n",
    " 1. Количество детей не влияет на возможность вернуть кредит в срок, при этом бездетные заемщики платят по своим обязательствам лучше.\n",
    " 2. Заемщики, которые не состоят в официальном браке платят по своим обязательствам хуже. Вероятнее всего, это связано с тем, что их доходы меньше, чем у семейных. \n",
    " 3. Зависимости между уровнем дохода и возвратом кредита в срок не установлено. Однако стоит обратить внимание на заемщиков с очень высоким уровнем дохода и выяснить более подробно, почему они пропускают платежи по кредитам. \n",
    " 4. Среди заемщиков, которые берут кредиты на покупку автомобиля или получение образования, бОльшая доля должников, чем среди тех, кто берет кредиты на свадьбу или недвижимость.\n",
    "    \n",
    "**Общие рекомендации**:\n",
    "\n",
    "Обратить внимание на ввод информации в ячейки с датой стажа, поскольку на данный момент они выгружаются некорректно ввиду большого количества неправильно заполненных данных. Возможно, стоит поменять форму заполнения. "
   ]
  }
 ],
 "metadata": {
  "ExecuteTimeLog": [
   {
    "duration": 181,
    "start_time": "2022-04-03T08:27:19.771Z"
   },
   {
    "duration": 488,
    "start_time": "2022-04-03T08:27:26.899Z"
   },
   {
    "duration": 18,
    "start_time": "2022-04-03T08:28:33.653Z"
   },
   {
    "duration": 66,
    "start_time": "2022-04-03T08:36:31.054Z"
   },
   {
    "duration": 14,
    "start_time": "2022-04-03T08:36:32.513Z"
   },
   {
    "duration": 14,
    "start_time": "2022-04-03T08:36:49.080Z"
   },
   {
    "duration": 17,
    "start_time": "2022-04-03T08:39:55.741Z"
   },
   {
    "duration": 16,
    "start_time": "2022-04-03T08:40:02.634Z"
   },
   {
    "duration": 13,
    "start_time": "2022-04-03T08:40:10.350Z"
   },
   {
    "duration": 13,
    "start_time": "2022-04-03T08:40:13.090Z"
   },
   {
    "duration": 34,
    "start_time": "2022-04-03T08:40:34.336Z"
   },
   {
    "duration": 69,
    "start_time": "2022-04-03T09:06:47.828Z"
   },
   {
    "duration": 13,
    "start_time": "2022-04-03T09:06:58.317Z"
   },
   {
    "duration": 14,
    "start_time": "2022-04-03T09:06:59.263Z"
   },
   {
    "duration": 462,
    "start_time": "2022-04-03T09:07:08.852Z"
   },
   {
    "duration": 22,
    "start_time": "2022-04-03T09:07:09.317Z"
   },
   {
    "duration": 15,
    "start_time": "2022-04-03T09:07:09.341Z"
   },
   {
    "duration": 54,
    "start_time": "2022-04-03T09:07:09.358Z"
   },
   {
    "duration": 14,
    "start_time": "2022-04-03T10:01:19.783Z"
   },
   {
    "duration": 175,
    "start_time": "2022-04-04T09:23:51.695Z"
   },
   {
    "duration": 3,
    "start_time": "2022-04-04T09:26:05.204Z"
   },
   {
    "duration": 2,
    "start_time": "2022-04-04T09:26:07.308Z"
   },
   {
    "duration": 493,
    "start_time": "2022-04-04T09:32:10.934Z"
   },
   {
    "duration": 20,
    "start_time": "2022-04-04T09:32:11.429Z"
   },
   {
    "duration": 19,
    "start_time": "2022-04-04T09:32:11.451Z"
   },
   {
    "duration": 56,
    "start_time": "2022-04-04T09:32:11.473Z"
   },
   {
    "duration": 38,
    "start_time": "2022-04-04T09:34:06.061Z"
   },
   {
    "duration": 38,
    "start_time": "2022-04-04T09:34:09.806Z"
   },
   {
    "duration": 38,
    "start_time": "2022-04-04T09:34:13.132Z"
   },
   {
    "duration": 33,
    "start_time": "2022-04-04T09:34:18.231Z"
   },
   {
    "duration": 37,
    "start_time": "2022-04-04T09:34:44.069Z"
   },
   {
    "duration": 35,
    "start_time": "2022-04-04T09:40:43.965Z"
   },
   {
    "duration": 35,
    "start_time": "2022-04-04T09:40:47.652Z"
   },
   {
    "duration": 37,
    "start_time": "2022-04-04T09:40:51.020Z"
   },
   {
    "duration": 32,
    "start_time": "2022-04-04T09:40:57.680Z"
   },
   {
    "duration": 37,
    "start_time": "2022-04-04T09:41:14.958Z"
   },
   {
    "duration": 80,
    "start_time": "2022-04-04T10:02:21.898Z"
   },
   {
    "duration": 11,
    "start_time": "2022-04-04T10:02:25.487Z"
   },
   {
    "duration": 148,
    "start_time": "2022-04-04T10:10:40.880Z"
   },
   {
    "duration": 320,
    "start_time": "2022-04-04T10:10:51.433Z"
   },
   {
    "duration": 179,
    "start_time": "2022-04-04T10:11:16.314Z"
   },
   {
    "duration": 8,
    "start_time": "2022-04-04T10:11:24.791Z"
   },
   {
    "duration": 6,
    "start_time": "2022-04-04T10:14:03.592Z"
   },
   {
    "duration": 169,
    "start_time": "2022-04-04T10:14:11.973Z"
   },
   {
    "duration": 190,
    "start_time": "2022-04-04T10:14:14.366Z"
   },
   {
    "duration": 191,
    "start_time": "2022-04-04T10:14:20.644Z"
   },
   {
    "duration": 5,
    "start_time": "2022-04-04T10:14:22.713Z"
   },
   {
    "duration": 6,
    "start_time": "2022-04-04T10:14:28.069Z"
   },
   {
    "duration": 6,
    "start_time": "2022-04-04T10:14:58.625Z"
   },
   {
    "duration": 6,
    "start_time": "2022-04-04T10:23:41.562Z"
   },
   {
    "duration": 6,
    "start_time": "2022-04-04T10:30:05.272Z"
   },
   {
    "duration": 19,
    "start_time": "2022-04-04T10:30:57.189Z"
   },
   {
    "duration": 18,
    "start_time": "2022-04-04T10:30:59.391Z"
   },
   {
    "duration": 43,
    "start_time": "2022-04-04T10:31:09.563Z"
   },
   {
    "duration": 46,
    "start_time": "2022-04-04T10:33:02.570Z"
   },
   {
    "duration": 32,
    "start_time": "2022-04-04T10:35:56.971Z"
   },
   {
    "duration": 167,
    "start_time": "2022-04-04T10:37:08.408Z"
   },
   {
    "duration": 7,
    "start_time": "2022-04-04T10:37:28.689Z"
   },
   {
    "duration": 7,
    "start_time": "2022-04-04T10:37:32.525Z"
   },
   {
    "duration": 8,
    "start_time": "2022-04-04T10:37:43.243Z"
   },
   {
    "duration": 7,
    "start_time": "2022-04-04T10:37:51.990Z"
   },
   {
    "duration": 10,
    "start_time": "2022-04-04T10:44:52.412Z"
   },
   {
    "duration": 7,
    "start_time": "2022-04-04T10:44:55.257Z"
   },
   {
    "duration": 46,
    "start_time": "2022-04-04T10:45:27.086Z"
   },
   {
    "duration": 45,
    "start_time": "2022-04-04T10:48:29.659Z"
   },
   {
    "duration": 19,
    "start_time": "2022-04-04T10:48:50.954Z"
   },
   {
    "duration": 19,
    "start_time": "2022-04-04T10:48:52.620Z"
   },
   {
    "duration": 43,
    "start_time": "2022-04-04T10:49:08.027Z"
   },
   {
    "duration": 42,
    "start_time": "2022-04-04T10:49:22.947Z"
   },
   {
    "duration": 171,
    "start_time": "2022-04-04T12:04:50.538Z"
   },
   {
    "duration": 8,
    "start_time": "2022-04-04T12:15:44.792Z"
   },
   {
    "duration": 22,
    "start_time": "2022-04-04T12:15:53.280Z"
   },
   {
    "duration": 22,
    "start_time": "2022-04-04T12:15:53.880Z"
   },
   {
    "duration": 9,
    "start_time": "2022-04-04T12:16:10.908Z"
   },
   {
    "duration": 9,
    "start_time": "2022-04-04T12:16:33.766Z"
   },
   {
    "duration": 24,
    "start_time": "2022-04-04T12:16:51.442Z"
   },
   {
    "duration": 14,
    "start_time": "2022-04-04T12:17:14.988Z"
   },
   {
    "duration": 41,
    "start_time": "2022-04-04T12:17:28.556Z"
   },
   {
    "duration": 4,
    "start_time": "2022-04-04T12:17:48.405Z"
   },
   {
    "duration": 162,
    "start_time": "2022-04-04T12:17:50.648Z"
   },
   {
    "duration": 8,
    "start_time": "2022-04-04T12:17:56.637Z"
   },
   {
    "duration": 7,
    "start_time": "2022-04-04T12:18:00.008Z"
   },
   {
    "duration": 7,
    "start_time": "2022-04-04T12:18:08.938Z"
   },
   {
    "duration": 38,
    "start_time": "2022-04-04T12:18:14.469Z"
   },
   {
    "duration": 38,
    "start_time": "2022-04-04T12:29:30.902Z"
   },
   {
    "duration": 36,
    "start_time": "2022-04-04T12:29:34.591Z"
   },
   {
    "duration": 7,
    "start_time": "2022-04-04T12:29:47.414Z"
   },
   {
    "duration": 2713,
    "start_time": "2022-04-04T12:29:55.828Z"
   },
   {
    "duration": 11,
    "start_time": "2022-04-04T12:31:04.514Z"
   },
   {
    "duration": 10,
    "start_time": "2022-04-04T12:31:36.606Z"
   },
   {
    "duration": 6,
    "start_time": "2022-04-04T12:32:13.165Z"
   },
   {
    "duration": 6,
    "start_time": "2022-04-04T12:33:52.498Z"
   },
   {
    "duration": 6,
    "start_time": "2022-04-04T12:45:57.383Z"
   },
   {
    "duration": 10,
    "start_time": "2022-04-04T12:47:05.862Z"
   },
   {
    "duration": 54,
    "start_time": "2022-04-04T13:11:09.978Z"
   },
   {
    "duration": 39,
    "start_time": "2022-04-04T13:11:27.207Z"
   },
   {
    "duration": 7,
    "start_time": "2022-04-04T13:13:53.448Z"
   },
   {
    "duration": 191,
    "start_time": "2022-04-04T13:14:01.526Z"
   },
   {
    "duration": 16,
    "start_time": "2022-04-04T13:14:29.655Z"
   },
   {
    "duration": 15,
    "start_time": "2022-04-04T13:14:40.531Z"
   },
   {
    "duration": 12,
    "start_time": "2022-04-04T13:15:43.502Z"
   },
   {
    "duration": 14,
    "start_time": "2022-04-04T13:15:47.745Z"
   },
   {
    "duration": 15,
    "start_time": "2022-04-04T13:16:03.585Z"
   },
   {
    "duration": 5,
    "start_time": "2022-04-04T13:17:07.308Z"
   },
   {
    "duration": 4,
    "start_time": "2022-04-04T13:17:09.375Z"
   },
   {
    "duration": 5,
    "start_time": "2022-04-04T13:17:18.405Z"
   },
   {
    "duration": 6,
    "start_time": "2022-04-04T13:17:54.012Z"
   },
   {
    "duration": 14,
    "start_time": "2022-04-04T13:18:06.182Z"
   },
   {
    "duration": 522,
    "start_time": "2022-04-04T13:18:19.408Z"
   },
   {
    "duration": 20,
    "start_time": "2022-04-04T13:18:19.932Z"
   },
   {
    "duration": 14,
    "start_time": "2022-04-04T13:18:19.957Z"
   },
   {
    "duration": 36,
    "start_time": "2022-04-04T13:18:19.973Z"
   },
   {
    "duration": 45,
    "start_time": "2022-04-04T13:18:20.031Z"
   },
   {
    "duration": 11,
    "start_time": "2022-04-04T13:18:20.078Z"
   },
   {
    "duration": 41,
    "start_time": "2022-04-04T13:18:20.091Z"
   },
   {
    "duration": 17,
    "start_time": "2022-04-04T13:18:20.134Z"
   },
   {
    "duration": 12,
    "start_time": "2022-04-04T13:19:29.237Z"
   },
   {
    "duration": 11,
    "start_time": "2022-04-04T13:20:27.690Z"
   },
   {
    "duration": 5,
    "start_time": "2022-04-04T13:22:18.891Z"
   },
   {
    "duration": 4,
    "start_time": "2022-04-04T13:22:21.059Z"
   },
   {
    "duration": 4,
    "start_time": "2022-04-04T13:22:31.416Z"
   },
   {
    "duration": 4,
    "start_time": "2022-04-04T13:22:33.405Z"
   },
   {
    "duration": 4,
    "start_time": "2022-04-04T13:22:42.119Z"
   },
   {
    "duration": 5,
    "start_time": "2022-04-04T13:22:53.470Z"
   },
   {
    "duration": 9,
    "start_time": "2022-04-04T13:53:31.115Z"
   },
   {
    "duration": 14,
    "start_time": "2022-04-04T13:54:42.786Z"
   },
   {
    "duration": 23,
    "start_time": "2022-04-04T13:55:28.849Z"
   },
   {
    "duration": 31,
    "start_time": "2022-04-04T13:55:35.864Z"
   },
   {
    "duration": 22,
    "start_time": "2022-04-04T13:56:12.825Z"
   },
   {
    "duration": 68,
    "start_time": "2022-04-04T13:56:39.111Z"
   },
   {
    "duration": 173,
    "start_time": "2022-04-04T13:57:11.120Z"
   },
   {
    "duration": 176,
    "start_time": "2022-04-04T13:57:25.257Z"
   },
   {
    "duration": 170,
    "start_time": "2022-04-04T13:57:39.357Z"
   },
   {
    "duration": 14,
    "start_time": "2022-04-04T13:57:49.310Z"
   },
   {
    "duration": 27,
    "start_time": "2022-04-04T13:58:30.073Z"
   },
   {
    "duration": 27,
    "start_time": "2022-04-04T13:58:44.755Z"
   },
   {
    "duration": 23,
    "start_time": "2022-04-04T13:58:50.222Z"
   },
   {
    "duration": 28,
    "start_time": "2022-04-04T13:59:02.875Z"
   },
   {
    "duration": 25,
    "start_time": "2022-04-04T13:59:20.155Z"
   },
   {
    "duration": 26,
    "start_time": "2022-04-04T13:59:27.201Z"
   },
   {
    "duration": 26,
    "start_time": "2022-04-04T14:00:35.487Z"
   },
   {
    "duration": 12,
    "start_time": "2022-04-04T14:01:43.916Z"
   },
   {
    "duration": 12,
    "start_time": "2022-04-04T14:01:46.452Z"
   },
   {
    "duration": 12,
    "start_time": "2022-04-04T14:01:50.095Z"
   },
   {
    "duration": 6,
    "start_time": "2022-04-04T14:03:37.238Z"
   },
   {
    "duration": 6,
    "start_time": "2022-04-04T14:03:43.873Z"
   },
   {
    "duration": 4,
    "start_time": "2022-04-04T14:03:59.588Z"
   },
   {
    "duration": 530,
    "start_time": "2022-04-04T14:04:15.116Z"
   },
   {
    "duration": 23,
    "start_time": "2022-04-04T14:04:15.649Z"
   },
   {
    "duration": 15,
    "start_time": "2022-04-04T14:04:15.674Z"
   },
   {
    "duration": 59,
    "start_time": "2022-04-04T14:04:15.692Z"
   },
   {
    "duration": 89,
    "start_time": "2022-04-04T14:04:15.754Z"
   },
   {
    "duration": 12,
    "start_time": "2022-04-04T14:04:15.845Z"
   },
   {
    "duration": 9,
    "start_time": "2022-04-04T14:04:15.859Z"
   },
   {
    "duration": 10,
    "start_time": "2022-04-04T14:04:15.870Z"
   },
   {
    "duration": 4,
    "start_time": "2022-04-04T14:04:15.882Z"
   },
   {
    "duration": 71,
    "start_time": "2022-04-04T14:04:15.888Z"
   },
   {
    "duration": 13,
    "start_time": "2022-04-04T14:04:59.184Z"
   },
   {
    "duration": 11,
    "start_time": "2022-04-04T14:07:24.136Z"
   },
   {
    "duration": 55,
    "start_time": "2022-04-04T14:07:32.868Z"
   },
   {
    "duration": 68,
    "start_time": "2022-04-04T14:09:59.704Z"
   },
   {
    "duration": 3,
    "start_time": "2022-04-04T14:10:31.476Z"
   },
   {
    "duration": 3,
    "start_time": "2022-04-04T14:10:34.146Z"
   },
   {
    "duration": 7,
    "start_time": "2022-04-04T14:10:41.709Z"
   },
   {
    "duration": 5,
    "start_time": "2022-04-04T14:10:46.023Z"
   },
   {
    "duration": 21,
    "start_time": "2022-04-04T14:11:23.222Z"
   },
   {
    "duration": 3,
    "start_time": "2022-04-04T14:12:10.971Z"
   },
   {
    "duration": 22,
    "start_time": "2022-04-04T14:12:13.271Z"
   },
   {
    "duration": 11,
    "start_time": "2022-04-04T14:13:20.768Z"
   },
   {
    "duration": 8,
    "start_time": "2022-04-04T14:13:33.793Z"
   },
   {
    "duration": 8,
    "start_time": "2022-04-04T14:16:34.432Z"
   },
   {
    "duration": 8,
    "start_time": "2022-04-04T14:17:42.242Z"
   },
   {
    "duration": 10,
    "start_time": "2022-04-04T14:21:01.449Z"
   },
   {
    "duration": 453,
    "start_time": "2022-04-04T14:28:18.180Z"
   },
   {
    "duration": 22,
    "start_time": "2022-04-04T14:28:18.635Z"
   },
   {
    "duration": 14,
    "start_time": "2022-04-04T14:28:18.658Z"
   },
   {
    "duration": 35,
    "start_time": "2022-04-04T14:28:18.673Z"
   },
   {
    "duration": 62,
    "start_time": "2022-04-04T14:28:18.711Z"
   },
   {
    "duration": 11,
    "start_time": "2022-04-04T14:28:18.774Z"
   },
   {
    "duration": 7,
    "start_time": "2022-04-04T14:28:18.787Z"
   },
   {
    "duration": 9,
    "start_time": "2022-04-04T14:28:18.831Z"
   },
   {
    "duration": 10,
    "start_time": "2022-04-04T14:28:18.842Z"
   },
   {
    "duration": 14,
    "start_time": "2022-04-04T14:28:18.854Z"
   },
   {
    "duration": 68,
    "start_time": "2022-04-04T14:28:47.467Z"
   },
   {
    "duration": 8,
    "start_time": "2022-04-04T14:28:52.700Z"
   },
   {
    "duration": 8,
    "start_time": "2022-04-04T14:29:22.102Z"
   },
   {
    "duration": 8,
    "start_time": "2022-04-04T14:29:31.832Z"
   },
   {
    "duration": 12,
    "start_time": "2022-04-04T14:30:14.326Z"
   },
   {
    "duration": 7,
    "start_time": "2022-04-04T14:30:39.197Z"
   },
   {
    "duration": 6,
    "start_time": "2022-04-04T14:30:44.387Z"
   },
   {
    "duration": 11,
    "start_time": "2022-04-04T14:30:46.799Z"
   },
   {
    "duration": 6,
    "start_time": "2022-04-04T14:32:01.437Z"
   },
   {
    "duration": 10,
    "start_time": "2022-04-04T14:32:03.621Z"
   },
   {
    "duration": 10,
    "start_time": "2022-04-04T14:32:21.671Z"
   },
   {
    "duration": 2,
    "start_time": "2022-04-04T14:32:23.616Z"
   },
   {
    "duration": 494,
    "start_time": "2022-04-04T14:32:31.050Z"
   },
   {
    "duration": 22,
    "start_time": "2022-04-04T14:32:31.546Z"
   },
   {
    "duration": 14,
    "start_time": "2022-04-04T14:32:31.570Z"
   },
   {
    "duration": 53,
    "start_time": "2022-04-04T14:32:31.587Z"
   },
   {
    "duration": 43,
    "start_time": "2022-04-04T14:32:31.642Z"
   },
   {
    "duration": 10,
    "start_time": "2022-04-04T14:32:31.687Z"
   },
   {
    "duration": 21,
    "start_time": "2022-04-04T14:32:31.731Z"
   },
   {
    "duration": 12,
    "start_time": "2022-04-04T14:32:31.754Z"
   },
   {
    "duration": 9,
    "start_time": "2022-04-04T14:32:31.768Z"
   },
   {
    "duration": 3,
    "start_time": "2022-04-04T14:32:31.779Z"
   },
   {
    "duration": 16,
    "start_time": "2022-04-04T14:32:31.783Z"
   },
   {
    "duration": 6,
    "start_time": "2022-04-04T14:32:38.408Z"
   },
   {
    "duration": 11,
    "start_time": "2022-04-04T14:32:40.491Z"
   },
   {
    "duration": 6,
    "start_time": "2022-04-04T14:33:04.178Z"
   },
   {
    "duration": 10,
    "start_time": "2022-04-04T14:33:05.588Z"
   },
   {
    "duration": 11,
    "start_time": "2022-04-04T14:33:14.404Z"
   },
   {
    "duration": 5,
    "start_time": "2022-04-04T14:33:16.180Z"
   },
   {
    "duration": 5,
    "start_time": "2022-04-04T14:33:33.138Z"
   },
   {
    "duration": 11,
    "start_time": "2022-04-04T14:33:35.843Z"
   },
   {
    "duration": 7,
    "start_time": "2022-04-04T14:33:46.664Z"
   },
   {
    "duration": 11,
    "start_time": "2022-04-04T14:33:48.804Z"
   },
   {
    "duration": 15,
    "start_time": "2022-04-04T14:37:20.201Z"
   },
   {
    "duration": 10,
    "start_time": "2022-04-04T14:37:22.381Z"
   },
   {
    "duration": 8,
    "start_time": "2022-04-04T14:38:50.275Z"
   },
   {
    "duration": 9,
    "start_time": "2022-04-04T14:39:01.601Z"
   },
   {
    "duration": 9,
    "start_time": "2022-04-04T14:39:06.582Z"
   },
   {
    "duration": 6,
    "start_time": "2022-04-04T14:39:10.570Z"
   },
   {
    "duration": 8,
    "start_time": "2022-04-04T14:39:14.814Z"
   },
   {
    "duration": 16,
    "start_time": "2022-04-04T14:39:30.051Z"
   },
   {
    "duration": 9,
    "start_time": "2022-04-04T14:42:15.537Z"
   },
   {
    "duration": 7,
    "start_time": "2022-04-04T14:43:54.872Z"
   },
   {
    "duration": 10,
    "start_time": "2022-04-04T14:44:36.333Z"
   },
   {
    "duration": 9,
    "start_time": "2022-04-04T14:45:22.530Z"
   },
   {
    "duration": 21,
    "start_time": "2022-04-04T14:47:33.099Z"
   },
   {
    "duration": 38,
    "start_time": "2022-04-04T14:47:52.982Z"
   },
   {
    "duration": 10,
    "start_time": "2022-04-04T14:48:08.421Z"
   },
   {
    "duration": 23,
    "start_time": "2022-04-04T14:49:22.691Z"
   },
   {
    "duration": 625,
    "start_time": "2022-04-04T14:49:27.551Z"
   },
   {
    "duration": 13,
    "start_time": "2022-04-04T14:49:35.775Z"
   },
   {
    "duration": 70,
    "start_time": "2022-04-04T14:49:50.412Z"
   },
   {
    "duration": 37,
    "start_time": "2022-04-04T14:50:14.091Z"
   },
   {
    "duration": 12,
    "start_time": "2022-04-04T14:50:22.795Z"
   },
   {
    "duration": 10,
    "start_time": "2022-04-04T14:51:27.078Z"
   },
   {
    "duration": 28,
    "start_time": "2022-04-04T14:52:50.302Z"
   },
   {
    "duration": 9,
    "start_time": "2022-04-04T14:57:08.269Z"
   },
   {
    "duration": 205,
    "start_time": "2022-04-04T14:58:35.594Z"
   },
   {
    "duration": 12,
    "start_time": "2022-04-04T15:42:37.751Z"
   },
   {
    "duration": 14,
    "start_time": "2022-04-04T15:42:43.818Z"
   },
   {
    "duration": 10,
    "start_time": "2022-04-04T15:43:00.975Z"
   },
   {
    "duration": 13,
    "start_time": "2022-04-04T15:44:24.180Z"
   },
   {
    "duration": 11,
    "start_time": "2022-04-04T15:44:34.510Z"
   },
   {
    "duration": 14,
    "start_time": "2022-04-04T15:45:28.941Z"
   },
   {
    "duration": 25,
    "start_time": "2022-04-04T15:45:53.224Z"
   },
   {
    "duration": 31,
    "start_time": "2022-04-04T15:45:55.065Z"
   },
   {
    "duration": 26,
    "start_time": "2022-04-04T15:45:57.236Z"
   },
   {
    "duration": 26,
    "start_time": "2022-04-04T15:46:06.692Z"
   },
   {
    "duration": 14,
    "start_time": "2022-04-04T15:49:10.885Z"
   },
   {
    "duration": 11,
    "start_time": "2022-04-04T16:01:43.491Z"
   },
   {
    "duration": 12,
    "start_time": "2022-04-04T16:01:46.335Z"
   },
   {
    "duration": 488,
    "start_time": "2022-04-04T16:01:51.847Z"
   },
   {
    "duration": 20,
    "start_time": "2022-04-04T16:01:52.337Z"
   },
   {
    "duration": 14,
    "start_time": "2022-04-04T16:01:52.359Z"
   },
   {
    "duration": 44,
    "start_time": "2022-04-04T16:01:52.375Z"
   },
   {
    "duration": 54,
    "start_time": "2022-04-04T16:01:52.420Z"
   },
   {
    "duration": 11,
    "start_time": "2022-04-04T16:01:52.476Z"
   },
   {
    "duration": 44,
    "start_time": "2022-04-04T16:01:52.489Z"
   },
   {
    "duration": 8,
    "start_time": "2022-04-04T16:01:52.535Z"
   },
   {
    "duration": 20,
    "start_time": "2022-04-04T16:01:52.545Z"
   },
   {
    "duration": 4,
    "start_time": "2022-04-04T16:01:52.568Z"
   },
   {
    "duration": 16,
    "start_time": "2022-04-04T16:01:52.573Z"
   },
   {
    "duration": 174,
    "start_time": "2022-04-04T16:01:52.591Z"
   },
   {
    "duration": 0,
    "start_time": "2022-04-04T16:01:52.767Z"
   },
   {
    "duration": 0,
    "start_time": "2022-04-04T16:01:52.768Z"
   },
   {
    "duration": 0,
    "start_time": "2022-04-04T16:01:52.769Z"
   },
   {
    "duration": 76,
    "start_time": "2022-04-04T16:03:34.075Z"
   },
   {
    "duration": 14,
    "start_time": "2022-04-04T16:03:53.613Z"
   },
   {
    "duration": 10,
    "start_time": "2022-04-04T16:03:56.935Z"
   },
   {
    "duration": 10,
    "start_time": "2022-04-04T16:05:59.533Z"
   },
   {
    "duration": 18,
    "start_time": "2022-04-04T16:07:11.626Z"
   },
   {
    "duration": 12,
    "start_time": "2022-04-04T16:07:19.269Z"
   },
   {
    "duration": 11,
    "start_time": "2022-04-04T16:07:25.595Z"
   },
   {
    "duration": 535,
    "start_time": "2022-04-04T16:07:40.905Z"
   },
   {
    "duration": 20,
    "start_time": "2022-04-04T16:07:41.442Z"
   },
   {
    "duration": 14,
    "start_time": "2022-04-04T16:07:41.464Z"
   },
   {
    "duration": 33,
    "start_time": "2022-04-04T16:07:41.480Z"
   },
   {
    "duration": 43,
    "start_time": "2022-04-04T16:07:41.532Z"
   },
   {
    "duration": 10,
    "start_time": "2022-04-04T16:07:41.577Z"
   },
   {
    "duration": 46,
    "start_time": "2022-04-04T16:07:41.589Z"
   },
   {
    "duration": 8,
    "start_time": "2022-04-04T16:07:41.637Z"
   },
   {
    "duration": 8,
    "start_time": "2022-04-04T16:07:41.647Z"
   },
   {
    "duration": 12,
    "start_time": "2022-04-04T16:07:41.658Z"
   },
   {
    "duration": 11,
    "start_time": "2022-04-04T16:07:41.672Z"
   },
   {
    "duration": 207,
    "start_time": "2022-04-04T16:07:41.684Z"
   },
   {
    "duration": 0,
    "start_time": "2022-04-04T16:07:41.892Z"
   },
   {
    "duration": 0,
    "start_time": "2022-04-04T16:07:41.894Z"
   },
   {
    "duration": 0,
    "start_time": "2022-04-04T16:07:41.895Z"
   },
   {
    "duration": 38,
    "start_time": "2022-04-04T16:09:47.416Z"
   },
   {
    "duration": 521,
    "start_time": "2022-04-04T16:09:55.902Z"
   },
   {
    "duration": 23,
    "start_time": "2022-04-04T16:09:56.426Z"
   },
   {
    "duration": 15,
    "start_time": "2022-04-04T16:09:56.451Z"
   },
   {
    "duration": 41,
    "start_time": "2022-04-04T16:09:56.469Z"
   },
   {
    "duration": 65,
    "start_time": "2022-04-04T16:09:56.512Z"
   },
   {
    "duration": 10,
    "start_time": "2022-04-04T16:09:56.579Z"
   },
   {
    "duration": 42,
    "start_time": "2022-04-04T16:09:56.591Z"
   },
   {
    "duration": 8,
    "start_time": "2022-04-04T16:09:56.634Z"
   },
   {
    "duration": 13,
    "start_time": "2022-04-04T16:09:56.644Z"
   },
   {
    "duration": 47,
    "start_time": "2022-04-04T16:09:56.659Z"
   },
   {
    "duration": 24,
    "start_time": "2022-04-04T16:09:56.708Z"
   },
   {
    "duration": 165,
    "start_time": "2022-04-04T16:09:56.734Z"
   },
   {
    "duration": 0,
    "start_time": "2022-04-04T16:09:56.900Z"
   },
   {
    "duration": 0,
    "start_time": "2022-04-04T16:09:56.902Z"
   },
   {
    "duration": 0,
    "start_time": "2022-04-04T16:09:56.903Z"
   },
   {
    "duration": 41,
    "start_time": "2022-04-04T16:10:19.117Z"
   },
   {
    "duration": 17,
    "start_time": "2022-04-04T16:10:21.330Z"
   },
   {
    "duration": 203,
    "start_time": "2022-04-04T16:10:48.999Z"
   },
   {
    "duration": 58,
    "start_time": "2022-04-04T16:13:13.930Z"
   },
   {
    "duration": 11,
    "start_time": "2022-04-04T16:13:16.390Z"
   },
   {
    "duration": 509,
    "start_time": "2022-04-04T16:13:21.697Z"
   },
   {
    "duration": 21,
    "start_time": "2022-04-04T16:13:22.208Z"
   },
   {
    "duration": 13,
    "start_time": "2022-04-04T16:13:22.231Z"
   },
   {
    "duration": 33,
    "start_time": "2022-04-04T16:13:22.247Z"
   },
   {
    "duration": 69,
    "start_time": "2022-04-04T16:13:22.282Z"
   },
   {
    "duration": 11,
    "start_time": "2022-04-04T16:13:22.353Z"
   },
   {
    "duration": 7,
    "start_time": "2022-04-04T16:13:22.366Z"
   },
   {
    "duration": 7,
    "start_time": "2022-04-04T16:13:22.375Z"
   },
   {
    "duration": 11,
    "start_time": "2022-04-04T16:13:22.384Z"
   },
   {
    "duration": 58,
    "start_time": "2022-04-04T16:13:22.433Z"
   },
   {
    "duration": 9,
    "start_time": "2022-04-04T16:13:22.493Z"
   },
   {
    "duration": 156,
    "start_time": "2022-04-04T16:13:22.504Z"
   },
   {
    "duration": 0,
    "start_time": "2022-04-04T16:13:22.662Z"
   },
   {
    "duration": 0,
    "start_time": "2022-04-04T16:13:22.663Z"
   },
   {
    "duration": 0,
    "start_time": "2022-04-04T16:13:22.664Z"
   },
   {
    "duration": 61,
    "start_time": "2022-04-04T16:14:06.743Z"
   },
   {
    "duration": 232,
    "start_time": "2022-04-04T16:14:19.562Z"
   },
   {
    "duration": 56,
    "start_time": "2022-04-04T16:16:43.268Z"
   },
   {
    "duration": 10,
    "start_time": "2022-04-04T16:16:45.916Z"
   },
   {
    "duration": 5,
    "start_time": "2022-04-04T16:18:41.986Z"
   },
   {
    "duration": 11,
    "start_time": "2022-04-04T16:18:43.185Z"
   },
   {
    "duration": 5,
    "start_time": "2022-04-04T16:18:44.790Z"
   },
   {
    "duration": 11,
    "start_time": "2022-04-04T16:19:12.727Z"
   },
   {
    "duration": 519,
    "start_time": "2022-04-04T16:19:40.910Z"
   },
   {
    "duration": 21,
    "start_time": "2022-04-04T16:19:41.432Z"
   },
   {
    "duration": 14,
    "start_time": "2022-04-04T16:19:41.455Z"
   },
   {
    "duration": 33,
    "start_time": "2022-04-04T16:19:41.472Z"
   },
   {
    "duration": 45,
    "start_time": "2022-04-04T16:19:41.532Z"
   },
   {
    "duration": 10,
    "start_time": "2022-04-04T16:19:41.579Z"
   },
   {
    "duration": 46,
    "start_time": "2022-04-04T16:19:41.591Z"
   },
   {
    "duration": 9,
    "start_time": "2022-04-04T16:19:41.639Z"
   },
   {
    "duration": 9,
    "start_time": "2022-04-04T16:19:41.651Z"
   },
   {
    "duration": 5,
    "start_time": "2022-04-04T16:19:41.663Z"
   },
   {
    "duration": 19,
    "start_time": "2022-04-04T16:19:41.670Z"
   },
   {
    "duration": 163,
    "start_time": "2022-04-04T16:19:41.690Z"
   },
   {
    "duration": 0,
    "start_time": "2022-04-04T16:19:41.855Z"
   },
   {
    "duration": 0,
    "start_time": "2022-04-04T16:19:41.856Z"
   },
   {
    "duration": 0,
    "start_time": "2022-04-04T16:19:41.857Z"
   },
   {
    "duration": 6,
    "start_time": "2022-04-04T16:20:03.442Z"
   },
   {
    "duration": 10,
    "start_time": "2022-04-04T16:20:04.808Z"
   },
   {
    "duration": 5,
    "start_time": "2022-04-04T16:20:07.873Z"
   },
   {
    "duration": 10,
    "start_time": "2022-04-04T16:20:08.990Z"
   },
   {
    "duration": 449,
    "start_time": "2022-04-04T16:20:46.490Z"
   },
   {
    "duration": 20,
    "start_time": "2022-04-04T16:20:46.941Z"
   },
   {
    "duration": 23,
    "start_time": "2022-04-04T16:20:46.963Z"
   },
   {
    "duration": 44,
    "start_time": "2022-04-04T16:20:46.988Z"
   },
   {
    "duration": 44,
    "start_time": "2022-04-04T16:20:47.034Z"
   },
   {
    "duration": 10,
    "start_time": "2022-04-04T16:20:47.079Z"
   },
   {
    "duration": 42,
    "start_time": "2022-04-04T16:20:47.091Z"
   },
   {
    "duration": 24,
    "start_time": "2022-04-04T16:20:47.134Z"
   },
   {
    "duration": 14,
    "start_time": "2022-04-04T16:20:47.159Z"
   },
   {
    "duration": 14,
    "start_time": "2022-04-04T16:20:47.175Z"
   },
   {
    "duration": 19,
    "start_time": "2022-04-04T16:20:47.190Z"
   },
   {
    "duration": 2,
    "start_time": "2022-04-04T16:20:47.211Z"
   },
   {
    "duration": 14,
    "start_time": "2022-04-04T16:20:47.215Z"
   },
   {
    "duration": 20,
    "start_time": "2022-04-04T16:20:47.231Z"
   },
   {
    "duration": 5,
    "start_time": "2022-04-04T16:22:21.314Z"
   },
   {
    "duration": 11,
    "start_time": "2022-04-04T16:22:24.060Z"
   },
   {
    "duration": 5,
    "start_time": "2022-04-04T16:22:29.402Z"
   },
   {
    "duration": 6,
    "start_time": "2022-04-04T16:22:37.411Z"
   },
   {
    "duration": 10,
    "start_time": "2022-04-04T16:22:38.474Z"
   },
   {
    "duration": 2709,
    "start_time": "2022-04-04T16:25:56.736Z"
   },
   {
    "duration": 4,
    "start_time": "2022-04-04T16:26:00.357Z"
   },
   {
    "duration": 12,
    "start_time": "2022-04-04T16:26:02.556Z"
   },
   {
    "duration": 52,
    "start_time": "2022-04-04T16:27:37.538Z"
   },
   {
    "duration": 12,
    "start_time": "2022-04-04T16:27:39.136Z"
   },
   {
    "duration": 507,
    "start_time": "2022-04-04T16:30:36.049Z"
   },
   {
    "duration": 23,
    "start_time": "2022-04-04T16:30:36.558Z"
   },
   {
    "duration": 22,
    "start_time": "2022-04-04T16:30:36.582Z"
   },
   {
    "duration": 48,
    "start_time": "2022-04-04T16:30:36.607Z"
   },
   {
    "duration": 42,
    "start_time": "2022-04-04T16:30:36.656Z"
   },
   {
    "duration": 41,
    "start_time": "2022-04-04T16:30:36.700Z"
   },
   {
    "duration": 8,
    "start_time": "2022-04-04T16:30:36.742Z"
   },
   {
    "duration": 13,
    "start_time": "2022-04-04T16:30:36.751Z"
   },
   {
    "duration": 9,
    "start_time": "2022-04-04T16:30:36.765Z"
   },
   {
    "duration": 120,
    "start_time": "2022-04-04T16:30:36.776Z"
   },
   {
    "duration": 0,
    "start_time": "2022-04-04T16:30:36.898Z"
   },
   {
    "duration": 0,
    "start_time": "2022-04-04T16:30:36.900Z"
   },
   {
    "duration": 0,
    "start_time": "2022-04-04T16:30:36.901Z"
   },
   {
    "duration": 0,
    "start_time": "2022-04-04T16:30:36.903Z"
   },
   {
    "duration": 49,
    "start_time": "2022-04-04T16:31:15.244Z"
   },
   {
    "duration": 48,
    "start_time": "2022-04-04T16:31:22.671Z"
   },
   {
    "duration": 10,
    "start_time": "2022-04-04T16:31:24.298Z"
   },
   {
    "duration": 47,
    "start_time": "2022-04-04T16:31:31.170Z"
   },
   {
    "duration": 10,
    "start_time": "2022-04-04T16:31:33.225Z"
   },
   {
    "duration": 8,
    "start_time": "2022-04-04T16:52:12.036Z"
   },
   {
    "duration": 6,
    "start_time": "2022-04-04T16:52:16.984Z"
   },
   {
    "duration": 8,
    "start_time": "2022-04-04T16:53:02.823Z"
   },
   {
    "duration": 5,
    "start_time": "2022-04-04T16:53:28.083Z"
   },
   {
    "duration": 7,
    "start_time": "2022-04-04T16:53:29.108Z"
   },
   {
    "duration": 8,
    "start_time": "2022-04-04T16:54:51.628Z"
   },
   {
    "duration": 7,
    "start_time": "2022-04-04T16:55:06.053Z"
   },
   {
    "duration": 8,
    "start_time": "2022-04-04T16:55:20.533Z"
   },
   {
    "duration": 16,
    "start_time": "2022-04-04T16:55:27.966Z"
   },
   {
    "duration": 7,
    "start_time": "2022-04-04T16:55:33.528Z"
   },
   {
    "duration": 8,
    "start_time": "2022-04-04T17:01:09.355Z"
   },
   {
    "duration": 7,
    "start_time": "2022-04-04T17:01:18.347Z"
   },
   {
    "duration": 8,
    "start_time": "2022-04-04T17:02:06.486Z"
   },
   {
    "duration": 7,
    "start_time": "2022-04-04T17:03:47.340Z"
   },
   {
    "duration": 7,
    "start_time": "2022-04-04T17:04:27.649Z"
   },
   {
    "duration": 170,
    "start_time": "2022-04-04T17:15:08.801Z"
   },
   {
    "duration": 11,
    "start_time": "2022-04-04T17:15:13.723Z"
   },
   {
    "duration": 516,
    "start_time": "2022-04-04T17:15:21.499Z"
   },
   {
    "duration": 21,
    "start_time": "2022-04-04T17:15:22.017Z"
   },
   {
    "duration": 14,
    "start_time": "2022-04-04T17:15:22.040Z"
   },
   {
    "duration": 33,
    "start_time": "2022-04-04T17:15:22.057Z"
   },
   {
    "duration": 9,
    "start_time": "2022-04-04T17:15:22.092Z"
   },
   {
    "duration": 35,
    "start_time": "2022-04-04T17:15:22.102Z"
   },
   {
    "duration": 10,
    "start_time": "2022-04-04T17:15:22.139Z"
   },
   {
    "duration": 9,
    "start_time": "2022-04-04T17:15:22.150Z"
   },
   {
    "duration": 9,
    "start_time": "2022-04-04T17:15:22.161Z"
   },
   {
    "duration": 13,
    "start_time": "2022-04-04T17:15:22.172Z"
   },
   {
    "duration": 6,
    "start_time": "2022-04-04T17:15:22.187Z"
   },
   {
    "duration": 47,
    "start_time": "2022-04-04T17:15:22.194Z"
   },
   {
    "duration": 3,
    "start_time": "2022-04-04T17:15:22.243Z"
   },
   {
    "duration": 5,
    "start_time": "2022-04-04T17:15:22.247Z"
   },
   {
    "duration": 7,
    "start_time": "2022-04-04T17:15:22.254Z"
   },
   {
    "duration": 11,
    "start_time": "2022-04-04T17:18:00.987Z"
   },
   {
    "duration": 13,
    "start_time": "2022-04-04T17:18:02.965Z"
   },
   {
    "duration": 19,
    "start_time": "2022-04-04T17:19:42.234Z"
   },
   {
    "duration": 13,
    "start_time": "2022-04-04T17:30:42.508Z"
   },
   {
    "duration": 14,
    "start_time": "2022-04-04T17:31:12.641Z"
   },
   {
    "duration": 28,
    "start_time": "2022-04-04T17:31:12.657Z"
   },
   {
    "duration": 63,
    "start_time": "2022-04-04T17:31:12.686Z"
   },
   {
    "duration": 7,
    "start_time": "2022-04-04T17:31:12.751Z"
   },
   {
    "duration": 34,
    "start_time": "2022-04-04T17:31:12.760Z"
   },
   {
    "duration": 40,
    "start_time": "2022-04-04T17:31:12.796Z"
   },
   {
    "duration": 27,
    "start_time": "2022-04-04T17:31:12.837Z"
   },
   {
    "duration": 28,
    "start_time": "2022-04-04T17:31:12.866Z"
   },
   {
    "duration": 23,
    "start_time": "2022-04-04T17:31:12.896Z"
   },
   {
    "duration": 17,
    "start_time": "2022-04-04T17:31:12.923Z"
   },
   {
    "duration": 7,
    "start_time": "2022-04-04T17:31:12.942Z"
   },
   {
    "duration": 16,
    "start_time": "2022-04-04T17:31:12.950Z"
   },
   {
    "duration": 24,
    "start_time": "2022-04-04T17:31:12.967Z"
   },
   {
    "duration": 17,
    "start_time": "2022-04-04T17:31:12.993Z"
   },
   {
    "duration": 24,
    "start_time": "2022-04-04T17:31:13.012Z"
   },
   {
    "duration": 17,
    "start_time": "2022-04-04T17:31:13.038Z"
   },
   {
    "duration": 82,
    "start_time": "2022-04-04T17:38:56.469Z"
   },
   {
    "duration": 18,
    "start_time": "2022-04-04T17:39:01.059Z"
   },
   {
    "duration": 12,
    "start_time": "2022-04-04T17:39:05.533Z"
   },
   {
    "duration": 174,
    "start_time": "2022-04-04T17:39:11.083Z"
   },
   {
    "duration": 179,
    "start_time": "2022-04-04T17:39:16.434Z"
   },
   {
    "duration": 176,
    "start_time": "2022-04-04T17:39:31.467Z"
   },
   {
    "duration": 15,
    "start_time": "2022-04-04T17:39:35.893Z"
   },
   {
    "duration": 170,
    "start_time": "2022-04-04T17:39:56.712Z"
   },
   {
    "duration": 400,
    "start_time": "2022-04-04T17:40:07.532Z"
   },
   {
    "duration": 495,
    "start_time": "2022-04-04T17:40:13.362Z"
   },
   {
    "duration": 12,
    "start_time": "2022-04-04T17:40:15.492Z"
   },
   {
    "duration": 11,
    "start_time": "2022-04-04T17:40:23.520Z"
   },
   {
    "duration": 95,
    "start_time": "2022-04-04T17:43:44.081Z"
   },
   {
    "duration": 13,
    "start_time": "2022-04-04T17:43:44.177Z"
   },
   {
    "duration": 16,
    "start_time": "2022-04-04T17:43:44.192Z"
   },
   {
    "duration": 47,
    "start_time": "2022-04-04T17:43:44.210Z"
   },
   {
    "duration": 7,
    "start_time": "2022-04-04T17:43:44.259Z"
   },
   {
    "duration": 9,
    "start_time": "2022-04-04T17:43:44.268Z"
   },
   {
    "duration": 14,
    "start_time": "2022-04-04T17:43:44.279Z"
   },
   {
    "duration": 11,
    "start_time": "2022-04-04T17:43:44.295Z"
   },
   {
    "duration": 29,
    "start_time": "2022-04-04T17:43:44.307Z"
   },
   {
    "duration": 13,
    "start_time": "2022-04-04T17:43:44.338Z"
   },
   {
    "duration": 12,
    "start_time": "2022-04-04T17:43:44.353Z"
   },
   {
    "duration": 13,
    "start_time": "2022-04-04T17:43:44.367Z"
   },
   {
    "duration": 11,
    "start_time": "2022-04-04T17:43:44.381Z"
   },
   {
    "duration": 3,
    "start_time": "2022-04-04T17:43:44.394Z"
   },
   {
    "duration": 33,
    "start_time": "2022-04-04T17:43:44.399Z"
   },
   {
    "duration": 5,
    "start_time": "2022-04-04T17:43:44.434Z"
   },
   {
    "duration": 67,
    "start_time": "2022-04-04T17:48:08.189Z"
   },
   {
    "duration": 6,
    "start_time": "2022-04-04T17:48:21.325Z"
   },
   {
    "duration": 8,
    "start_time": "2022-04-04T17:48:25.637Z"
   },
   {
    "duration": 6,
    "start_time": "2022-04-04T17:48:57.838Z"
   },
   {
    "duration": 3,
    "start_time": "2022-04-04T17:52:38.071Z"
   },
   {
    "duration": 2647,
    "start_time": "2022-04-04T17:52:57.355Z"
   },
   {
    "duration": 22,
    "start_time": "2022-04-04T17:53:14.449Z"
   },
   {
    "duration": 20,
    "start_time": "2022-04-04T17:53:18.533Z"
   },
   {
    "duration": 3,
    "start_time": "2022-04-04T17:53:28.869Z"
   },
   {
    "duration": 12,
    "start_time": "2022-04-04T17:53:29.680Z"
   },
   {
    "duration": 507,
    "start_time": "2022-04-04T17:53:35.022Z"
   },
   {
    "duration": 19,
    "start_time": "2022-04-04T17:53:35.532Z"
   },
   {
    "duration": 14,
    "start_time": "2022-04-04T17:53:35.553Z"
   },
   {
    "duration": 33,
    "start_time": "2022-04-04T17:53:35.569Z"
   },
   {
    "duration": 7,
    "start_time": "2022-04-04T17:53:35.604Z"
   },
   {
    "duration": 7,
    "start_time": "2022-04-04T17:53:35.632Z"
   },
   {
    "duration": 12,
    "start_time": "2022-04-04T17:53:35.641Z"
   },
   {
    "duration": 9,
    "start_time": "2022-04-04T17:53:35.655Z"
   },
   {
    "duration": 9,
    "start_time": "2022-04-04T17:53:35.666Z"
   },
   {
    "duration": 15,
    "start_time": "2022-04-04T17:53:35.677Z"
   },
   {
    "duration": 40,
    "start_time": "2022-04-04T17:53:35.694Z"
   },
   {
    "duration": 5,
    "start_time": "2022-04-04T17:53:35.736Z"
   },
   {
    "duration": 31,
    "start_time": "2022-04-04T17:53:35.743Z"
   },
   {
    "duration": 3,
    "start_time": "2022-04-04T17:53:35.776Z"
   },
   {
    "duration": 13,
    "start_time": "2022-04-04T17:53:35.781Z"
   },
   {
    "duration": 2,
    "start_time": "2022-04-04T17:53:35.796Z"
   },
   {
    "duration": 8,
    "start_time": "2022-04-04T17:53:35.800Z"
   },
   {
    "duration": 24,
    "start_time": "2022-04-04T17:53:35.810Z"
   },
   {
    "duration": 66,
    "start_time": "2022-04-04T17:54:12.915Z"
   },
   {
    "duration": 21,
    "start_time": "2022-04-04T17:54:18.948Z"
   },
   {
    "duration": 2794,
    "start_time": "2022-04-04T17:54:46.105Z"
   },
   {
    "duration": 22,
    "start_time": "2022-04-04T17:55:04.453Z"
   },
   {
    "duration": 23,
    "start_time": "2022-04-04T17:55:08.807Z"
   },
   {
    "duration": 5,
    "start_time": "2022-04-04T17:55:32.403Z"
   },
   {
    "duration": 8,
    "start_time": "2022-04-04T17:55:36.947Z"
   },
   {
    "duration": 517,
    "start_time": "2022-04-04T17:55:45.296Z"
   },
   {
    "duration": 21,
    "start_time": "2022-04-04T17:55:45.815Z"
   },
   {
    "duration": 14,
    "start_time": "2022-04-04T17:55:45.838Z"
   },
   {
    "duration": 40,
    "start_time": "2022-04-04T17:55:45.854Z"
   },
   {
    "duration": 7,
    "start_time": "2022-04-04T17:55:45.895Z"
   },
   {
    "duration": 14,
    "start_time": "2022-04-04T17:55:45.904Z"
   },
   {
    "duration": 8,
    "start_time": "2022-04-04T17:55:45.932Z"
   },
   {
    "duration": 10,
    "start_time": "2022-04-04T17:55:45.941Z"
   },
   {
    "duration": 10,
    "start_time": "2022-04-04T17:55:45.952Z"
   },
   {
    "duration": 13,
    "start_time": "2022-04-04T17:55:45.965Z"
   },
   {
    "duration": 10,
    "start_time": "2022-04-04T17:55:45.980Z"
   },
   {
    "duration": 40,
    "start_time": "2022-04-04T17:55:45.992Z"
   },
   {
    "duration": 22,
    "start_time": "2022-04-04T17:55:46.034Z"
   },
   {
    "duration": 4,
    "start_time": "2022-04-04T17:55:46.058Z"
   },
   {
    "duration": 5,
    "start_time": "2022-04-04T17:55:46.064Z"
   },
   {
    "duration": 14,
    "start_time": "2022-04-04T17:55:46.071Z"
   },
   {
    "duration": 2,
    "start_time": "2022-04-04T17:55:46.087Z"
   },
   {
    "duration": 5,
    "start_time": "2022-04-04T17:55:46.091Z"
   },
   {
    "duration": 6,
    "start_time": "2022-04-04T17:55:46.097Z"
   },
   {
    "duration": 68,
    "start_time": "2022-04-05T10:21:51.323Z"
   },
   {
    "duration": 10,
    "start_time": "2022-04-05T10:22:25.327Z"
   },
   {
    "duration": 596,
    "start_time": "2022-04-05T10:22:33.612Z"
   },
   {
    "duration": 41,
    "start_time": "2022-04-05T10:22:34.212Z"
   },
   {
    "duration": 19,
    "start_time": "2022-04-05T10:22:34.256Z"
   },
   {
    "duration": 66,
    "start_time": "2022-04-05T10:22:34.279Z"
   },
   {
    "duration": 11,
    "start_time": "2022-04-05T10:22:34.348Z"
   },
   {
    "duration": 13,
    "start_time": "2022-04-05T10:22:34.362Z"
   },
   {
    "duration": 12,
    "start_time": "2022-04-05T10:22:34.377Z"
   },
   {
    "duration": 54,
    "start_time": "2022-04-05T10:22:34.392Z"
   },
   {
    "duration": 11,
    "start_time": "2022-04-05T10:22:34.449Z"
   },
   {
    "duration": 14,
    "start_time": "2022-04-05T10:22:34.464Z"
   },
   {
    "duration": 12,
    "start_time": "2022-04-05T10:22:34.480Z"
   },
   {
    "duration": 51,
    "start_time": "2022-04-05T10:22:34.494Z"
   },
   {
    "duration": 10,
    "start_time": "2022-04-05T10:22:34.547Z"
   },
   {
    "duration": 8,
    "start_time": "2022-04-05T10:22:34.559Z"
   },
   {
    "duration": 6,
    "start_time": "2022-04-05T10:22:34.569Z"
   },
   {
    "duration": 18,
    "start_time": "2022-04-05T10:22:34.577Z"
   },
   {
    "duration": 3,
    "start_time": "2022-04-05T10:22:34.597Z"
   },
   {
    "duration": 6,
    "start_time": "2022-04-05T10:22:34.602Z"
   },
   {
    "duration": 3,
    "start_time": "2022-04-05T10:22:34.644Z"
   },
   {
    "duration": 32,
    "start_time": "2022-04-05T10:23:56.206Z"
   },
   {
    "duration": 6,
    "start_time": "2022-04-05T10:23:59.582Z"
   },
   {
    "duration": 558,
    "start_time": "2022-04-05T10:24:08.272Z"
   },
   {
    "duration": 31,
    "start_time": "2022-04-05T10:24:08.833Z"
   },
   {
    "duration": 19,
    "start_time": "2022-04-05T10:24:08.867Z"
   },
   {
    "duration": 67,
    "start_time": "2022-04-05T10:24:08.890Z"
   },
   {
    "duration": 11,
    "start_time": "2022-04-05T10:24:08.960Z"
   },
   {
    "duration": 11,
    "start_time": "2022-04-05T10:24:08.974Z"
   },
   {
    "duration": 11,
    "start_time": "2022-04-05T10:24:08.988Z"
   },
   {
    "duration": 49,
    "start_time": "2022-04-05T10:24:09.002Z"
   },
   {
    "duration": 13,
    "start_time": "2022-04-05T10:24:09.053Z"
   },
   {
    "duration": 13,
    "start_time": "2022-04-05T10:24:09.069Z"
   },
   {
    "duration": 15,
    "start_time": "2022-04-05T10:24:09.084Z"
   },
   {
    "duration": 51,
    "start_time": "2022-04-05T10:24:09.101Z"
   },
   {
    "duration": 33,
    "start_time": "2022-04-05T10:24:09.154Z"
   },
   {
    "duration": 6,
    "start_time": "2022-04-05T10:24:09.189Z"
   },
   {
    "duration": 5,
    "start_time": "2022-04-05T10:24:09.197Z"
   },
   {
    "duration": 39,
    "start_time": "2022-04-05T10:24:09.205Z"
   },
   {
    "duration": 3,
    "start_time": "2022-04-05T10:24:09.246Z"
   },
   {
    "duration": 7,
    "start_time": "2022-04-05T10:24:09.251Z"
   },
   {
    "duration": 7,
    "start_time": "2022-04-05T10:24:09.261Z"
   },
   {
    "duration": 13,
    "start_time": "2022-04-05T10:24:27.935Z"
   },
   {
    "duration": 14,
    "start_time": "2022-04-05T10:24:31.557Z"
   },
   {
    "duration": 67,
    "start_time": "2022-04-05T10:26:02.172Z"
   },
   {
    "duration": 100,
    "start_time": "2022-04-05T10:26:49.410Z"
   },
   {
    "duration": 32,
    "start_time": "2022-04-05T10:26:49.512Z"
   },
   {
    "duration": 20,
    "start_time": "2022-04-05T10:26:49.547Z"
   },
   {
    "duration": 40,
    "start_time": "2022-04-05T10:26:49.569Z"
   },
   {
    "duration": 33,
    "start_time": "2022-04-05T10:26:49.611Z"
   },
   {
    "duration": 17,
    "start_time": "2022-04-05T10:26:49.647Z"
   },
   {
    "duration": 11,
    "start_time": "2022-04-05T10:26:49.667Z"
   },
   {
    "duration": 13,
    "start_time": "2022-04-05T10:26:49.681Z"
   },
   {
    "duration": 14,
    "start_time": "2022-04-05T10:26:49.696Z"
   },
   {
    "duration": 14,
    "start_time": "2022-04-05T10:26:49.748Z"
   },
   {
    "duration": 15,
    "start_time": "2022-04-05T10:26:49.765Z"
   },
   {
    "duration": 4,
    "start_time": "2022-04-05T10:26:49.784Z"
   },
   {
    "duration": 53,
    "start_time": "2022-04-05T10:26:49.791Z"
   },
   {
    "duration": 31,
    "start_time": "2022-04-05T10:26:49.846Z"
   },
   {
    "duration": 13,
    "start_time": "2022-04-05T10:26:49.879Z"
   },
   {
    "duration": 5,
    "start_time": "2022-04-05T10:26:49.894Z"
   },
   {
    "duration": 6,
    "start_time": "2022-04-05T10:26:49.901Z"
   },
   {
    "duration": 34,
    "start_time": "2022-04-05T10:26:49.909Z"
   },
   {
    "duration": 10,
    "start_time": "2022-04-05T10:36:30.131Z"
   },
   {
    "duration": 11,
    "start_time": "2022-04-05T10:36:34.618Z"
   },
   {
    "duration": 11,
    "start_time": "2022-04-05T10:36:41.657Z"
   },
   {
    "duration": 9,
    "start_time": "2022-04-05T10:36:50.023Z"
   },
   {
    "duration": 8,
    "start_time": "2022-04-05T10:36:52.977Z"
   },
   {
    "duration": 8,
    "start_time": "2022-04-05T10:37:12.360Z"
   },
   {
    "duration": 7,
    "start_time": "2022-04-05T10:37:19.127Z"
   },
   {
    "duration": 7,
    "start_time": "2022-04-05T10:37:22.026Z"
   },
   {
    "duration": 9,
    "start_time": "2022-04-05T10:37:25.418Z"
   },
   {
    "duration": 7,
    "start_time": "2022-04-05T10:39:49.624Z"
   },
   {
    "duration": 7,
    "start_time": "2022-04-05T10:40:03.204Z"
   },
   {
    "duration": 336,
    "start_time": "2022-04-05T10:42:37.854Z"
   },
   {
    "duration": 47,
    "start_time": "2022-04-05T10:43:24.994Z"
   },
   {
    "duration": 10,
    "start_time": "2022-04-05T10:43:27.115Z"
   },
   {
    "duration": 8,
    "start_time": "2022-04-05T10:43:58.719Z"
   },
   {
    "duration": 6,
    "start_time": "2022-04-05T10:45:52.586Z"
   },
   {
    "duration": 8,
    "start_time": "2022-04-05T10:46:00.677Z"
   },
   {
    "duration": 6,
    "start_time": "2022-04-05T10:52:24.116Z"
   },
   {
    "duration": 10,
    "start_time": "2022-04-05T10:52:32.556Z"
   },
   {
    "duration": 10,
    "start_time": "2022-04-05T10:52:38.356Z"
   },
   {
    "duration": 8,
    "start_time": "2022-04-05T10:52:45.061Z"
   },
   {
    "duration": 8,
    "start_time": "2022-04-05T10:52:49.124Z"
   },
   {
    "duration": 9,
    "start_time": "2022-04-05T10:53:16.458Z"
   },
   {
    "duration": 5,
    "start_time": "2022-04-05T10:55:01.041Z"
   },
   {
    "duration": 7,
    "start_time": "2022-04-05T10:55:05.608Z"
   },
   {
    "duration": 11,
    "start_time": "2022-04-05T10:55:10.544Z"
   },
   {
    "duration": 342,
    "start_time": "2022-04-05T10:55:25.734Z"
   },
   {
    "duration": 11,
    "start_time": "2022-04-05T10:55:28.265Z"
   },
   {
    "duration": 40,
    "start_time": "2022-04-05T10:55:48.547Z"
   },
   {
    "duration": 8,
    "start_time": "2022-04-05T10:56:17.180Z"
   },
   {
    "duration": 39,
    "start_time": "2022-04-05T10:56:29.693Z"
   },
   {
    "duration": 689,
    "start_time": "2022-04-05T10:57:04.996Z"
   },
   {
    "duration": 31,
    "start_time": "2022-04-05T10:57:05.688Z"
   },
   {
    "duration": 35,
    "start_time": "2022-04-05T10:57:05.722Z"
   },
   {
    "duration": 45,
    "start_time": "2022-04-05T10:57:05.761Z"
   },
   {
    "duration": 11,
    "start_time": "2022-04-05T10:57:05.809Z"
   },
   {
    "duration": 10,
    "start_time": "2022-04-05T10:57:05.844Z"
   },
   {
    "duration": 29,
    "start_time": "2022-04-05T10:57:05.857Z"
   },
   {
    "duration": 36,
    "start_time": "2022-04-05T10:57:05.889Z"
   },
   {
    "duration": 31,
    "start_time": "2022-04-05T10:57:05.928Z"
   },
   {
    "duration": 40,
    "start_time": "2022-04-05T10:57:05.965Z"
   },
   {
    "duration": 27,
    "start_time": "2022-04-05T10:57:06.008Z"
   },
   {
    "duration": 60,
    "start_time": "2022-04-05T10:57:06.038Z"
   },
   {
    "duration": 50,
    "start_time": "2022-04-05T10:57:06.100Z"
   },
   {
    "duration": 63,
    "start_time": "2022-04-05T10:57:06.153Z"
   },
   {
    "duration": 22,
    "start_time": "2022-04-05T10:57:06.218Z"
   },
   {
    "duration": 22,
    "start_time": "2022-04-05T10:57:06.242Z"
   },
   {
    "duration": 21,
    "start_time": "2022-04-05T10:57:06.267Z"
   },
   {
    "duration": 27,
    "start_time": "2022-04-05T10:57:06.290Z"
   },
   {
    "duration": 22,
    "start_time": "2022-04-05T10:57:06.320Z"
   },
   {
    "duration": 22,
    "start_time": "2022-04-05T10:57:06.345Z"
   },
   {
    "duration": 23,
    "start_time": "2022-04-05T10:57:06.369Z"
   },
   {
    "duration": 15,
    "start_time": "2022-04-05T10:57:06.395Z"
   },
   {
    "duration": 19,
    "start_time": "2022-04-05T10:57:06.412Z"
   },
   {
    "duration": 8,
    "start_time": "2022-04-05T10:57:18.502Z"
   },
   {
    "duration": 9,
    "start_time": "2022-04-05T10:57:25.466Z"
   },
   {
    "duration": 8,
    "start_time": "2022-04-05T10:57:40.434Z"
   },
   {
    "duration": 554,
    "start_time": "2022-04-05T10:57:45.491Z"
   },
   {
    "duration": 28,
    "start_time": "2022-04-05T10:57:46.048Z"
   },
   {
    "duration": 34,
    "start_time": "2022-04-05T10:57:46.078Z"
   },
   {
    "duration": 58,
    "start_time": "2022-04-05T10:57:46.115Z"
   },
   {
    "duration": 13,
    "start_time": "2022-04-05T10:57:46.175Z"
   },
   {
    "duration": 23,
    "start_time": "2022-04-05T10:57:46.190Z"
   },
   {
    "duration": 11,
    "start_time": "2022-04-05T10:57:46.216Z"
   },
   {
    "duration": 10,
    "start_time": "2022-04-05T10:57:46.243Z"
   },
   {
    "duration": 21,
    "start_time": "2022-04-05T10:57:46.256Z"
   },
   {
    "duration": 26,
    "start_time": "2022-04-05T10:57:46.283Z"
   },
   {
    "duration": 32,
    "start_time": "2022-04-05T10:57:46.312Z"
   },
   {
    "duration": 5,
    "start_time": "2022-04-05T10:57:46.347Z"
   },
   {
    "duration": 39,
    "start_time": "2022-04-05T10:57:46.355Z"
   },
   {
    "duration": 37,
    "start_time": "2022-04-05T10:57:46.397Z"
   },
   {
    "duration": 19,
    "start_time": "2022-04-05T10:57:46.436Z"
   },
   {
    "duration": 18,
    "start_time": "2022-04-05T10:57:46.457Z"
   },
   {
    "duration": 16,
    "start_time": "2022-04-05T10:57:46.477Z"
   },
   {
    "duration": 13,
    "start_time": "2022-04-05T10:57:46.495Z"
   },
   {
    "duration": 23,
    "start_time": "2022-04-05T10:57:46.511Z"
   },
   {
    "duration": 16,
    "start_time": "2022-04-05T10:57:46.536Z"
   },
   {
    "duration": 15,
    "start_time": "2022-04-05T10:57:46.554Z"
   },
   {
    "duration": 12,
    "start_time": "2022-04-05T10:57:46.571Z"
   },
   {
    "duration": 24,
    "start_time": "2022-04-05T10:57:46.585Z"
   },
   {
    "duration": 45,
    "start_time": "2022-04-05T10:58:02.816Z"
   },
   {
    "duration": 51,
    "start_time": "2022-04-05T10:58:16.327Z"
   },
   {
    "duration": 10,
    "start_time": "2022-04-05T10:58:39.571Z"
   },
   {
    "duration": 6,
    "start_time": "2022-04-05T10:58:45.422Z"
   },
   {
    "duration": 556,
    "start_time": "2022-04-05T10:58:57.468Z"
   },
   {
    "duration": 29,
    "start_time": "2022-04-05T10:58:58.027Z"
   },
   {
    "duration": 26,
    "start_time": "2022-04-05T10:58:58.058Z"
   },
   {
    "duration": 56,
    "start_time": "2022-04-05T10:58:58.087Z"
   },
   {
    "duration": 9,
    "start_time": "2022-04-05T10:58:58.145Z"
   },
   {
    "duration": 21,
    "start_time": "2022-04-05T10:58:58.156Z"
   },
   {
    "duration": 39,
    "start_time": "2022-04-05T10:58:58.179Z"
   },
   {
    "duration": 25,
    "start_time": "2022-04-05T10:58:58.220Z"
   },
   {
    "duration": 17,
    "start_time": "2022-04-05T10:58:58.248Z"
   },
   {
    "duration": 26,
    "start_time": "2022-04-05T10:58:58.269Z"
   },
   {
    "duration": 34,
    "start_time": "2022-04-05T10:58:58.298Z"
   },
   {
    "duration": 10,
    "start_time": "2022-04-05T10:58:58.334Z"
   },
   {
    "duration": 16,
    "start_time": "2022-04-05T10:58:58.346Z"
   },
   {
    "duration": 39,
    "start_time": "2022-04-05T10:58:58.364Z"
   },
   {
    "duration": 14,
    "start_time": "2022-04-05T10:58:58.405Z"
   },
   {
    "duration": 3,
    "start_time": "2022-04-05T10:58:58.444Z"
   },
   {
    "duration": 9,
    "start_time": "2022-04-05T10:58:58.450Z"
   },
   {
    "duration": 6,
    "start_time": "2022-04-05T10:58:58.461Z"
   },
   {
    "duration": 11,
    "start_time": "2022-04-05T10:58:58.469Z"
   },
   {
    "duration": 9,
    "start_time": "2022-04-05T10:58:58.482Z"
   },
   {
    "duration": 9,
    "start_time": "2022-04-05T10:58:58.493Z"
   },
   {
    "duration": 41,
    "start_time": "2022-04-05T10:58:58.504Z"
   },
   {
    "duration": 14,
    "start_time": "2022-04-05T10:58:58.547Z"
   },
   {
    "duration": 11,
    "start_time": "2022-04-05T10:59:06.151Z"
   },
   {
    "duration": 12,
    "start_time": "2022-04-05T10:59:15.005Z"
   },
   {
    "duration": 12,
    "start_time": "2022-04-05T10:59:22.767Z"
   },
   {
    "duration": 12,
    "start_time": "2022-04-05T11:00:39.495Z"
   },
   {
    "duration": 623,
    "start_time": "2022-04-05T11:00:46.610Z"
   },
   {
    "duration": 29,
    "start_time": "2022-04-05T11:00:47.236Z"
   },
   {
    "duration": 18,
    "start_time": "2022-04-05T11:00:47.268Z"
   },
   {
    "duration": 59,
    "start_time": "2022-04-05T11:00:47.289Z"
   },
   {
    "duration": 9,
    "start_time": "2022-04-05T11:00:47.350Z"
   },
   {
    "duration": 16,
    "start_time": "2022-04-05T11:00:47.361Z"
   },
   {
    "duration": 11,
    "start_time": "2022-04-05T11:00:47.379Z"
   },
   {
    "duration": 12,
    "start_time": "2022-04-05T11:00:47.392Z"
   },
   {
    "duration": 42,
    "start_time": "2022-04-05T11:00:47.406Z"
   },
   {
    "duration": 23,
    "start_time": "2022-04-05T11:00:47.452Z"
   },
   {
    "duration": 17,
    "start_time": "2022-04-05T11:00:47.477Z"
   },
   {
    "duration": 14,
    "start_time": "2022-04-05T11:00:47.496Z"
   },
   {
    "duration": 20,
    "start_time": "2022-04-05T11:00:47.512Z"
   },
   {
    "duration": 51,
    "start_time": "2022-04-05T11:00:47.543Z"
   },
   {
    "duration": 12,
    "start_time": "2022-04-05T11:00:47.596Z"
   },
   {
    "duration": 5,
    "start_time": "2022-04-05T11:00:47.610Z"
   },
   {
    "duration": 10,
    "start_time": "2022-04-05T11:00:47.618Z"
   },
   {
    "duration": 10,
    "start_time": "2022-04-05T11:00:47.629Z"
   },
   {
    "duration": 14,
    "start_time": "2022-04-05T11:00:47.641Z"
   },
   {
    "duration": 34,
    "start_time": "2022-04-05T11:00:47.657Z"
   },
   {
    "duration": 26,
    "start_time": "2022-04-05T11:00:47.693Z"
   },
   {
    "duration": 22,
    "start_time": "2022-04-05T11:00:47.721Z"
   },
   {
    "duration": 37,
    "start_time": "2022-04-05T11:00:47.745Z"
   },
   {
    "duration": 10,
    "start_time": "2022-04-05T11:01:06.498Z"
   },
   {
    "duration": 10,
    "start_time": "2022-04-05T11:01:49.690Z"
   },
   {
    "duration": 13,
    "start_time": "2022-04-05T11:02:00.936Z"
   },
   {
    "duration": 13,
    "start_time": "2022-04-05T11:02:29.123Z"
   },
   {
    "duration": 13,
    "start_time": "2022-04-05T11:02:35.580Z"
   },
   {
    "duration": 13,
    "start_time": "2022-04-05T11:03:03.878Z"
   },
   {
    "duration": 11,
    "start_time": "2022-04-05T11:03:19.134Z"
   },
   {
    "duration": 16,
    "start_time": "2022-04-05T11:08:34.313Z"
   },
   {
    "duration": 13,
    "start_time": "2022-04-05T11:12:27.746Z"
   },
   {
    "duration": 9,
    "start_time": "2022-04-05T11:12:54.446Z"
   },
   {
    "duration": 9,
    "start_time": "2022-04-05T11:13:15.313Z"
   },
   {
    "duration": 10,
    "start_time": "2022-04-05T11:14:03.927Z"
   },
   {
    "duration": 614,
    "start_time": "2022-04-05T11:14:16.519Z"
   },
   {
    "duration": 29,
    "start_time": "2022-04-05T11:14:17.136Z"
   },
   {
    "duration": 28,
    "start_time": "2022-04-05T11:14:17.167Z"
   },
   {
    "duration": 48,
    "start_time": "2022-04-05T11:14:17.199Z"
   },
   {
    "duration": 10,
    "start_time": "2022-04-05T11:14:17.249Z"
   },
   {
    "duration": 16,
    "start_time": "2022-04-05T11:14:17.262Z"
   },
   {
    "duration": 12,
    "start_time": "2022-04-05T11:14:17.280Z"
   },
   {
    "duration": 15,
    "start_time": "2022-04-05T11:14:17.294Z"
   },
   {
    "duration": 42,
    "start_time": "2022-04-05T11:14:17.311Z"
   },
   {
    "duration": 14,
    "start_time": "2022-04-05T11:14:17.356Z"
   },
   {
    "duration": 13,
    "start_time": "2022-04-05T11:14:17.372Z"
   },
   {
    "duration": 5,
    "start_time": "2022-04-05T11:14:17.386Z"
   },
   {
    "duration": 16,
    "start_time": "2022-04-05T11:14:17.393Z"
   },
   {
    "duration": 63,
    "start_time": "2022-04-05T11:14:17.411Z"
   },
   {
    "duration": 12,
    "start_time": "2022-04-05T11:14:17.476Z"
   },
   {
    "duration": 4,
    "start_time": "2022-04-05T11:14:17.491Z"
   },
   {
    "duration": 7,
    "start_time": "2022-04-05T11:14:17.497Z"
   },
   {
    "duration": 6,
    "start_time": "2022-04-05T11:14:17.506Z"
   },
   {
    "duration": 8,
    "start_time": "2022-04-05T11:14:17.543Z"
   },
   {
    "duration": 18,
    "start_time": "2022-04-05T11:14:17.553Z"
   },
   {
    "duration": 13,
    "start_time": "2022-04-05T11:14:17.573Z"
   },
   {
    "duration": 8,
    "start_time": "2022-04-05T11:14:17.589Z"
   },
   {
    "duration": 10,
    "start_time": "2022-04-05T11:14:17.644Z"
   },
   {
    "duration": 8,
    "start_time": "2022-04-05T11:15:18.072Z"
   },
   {
    "duration": 8,
    "start_time": "2022-04-05T11:15:56.099Z"
   },
   {
    "duration": 562,
    "start_time": "2022-04-05T11:16:41.060Z"
   },
   {
    "duration": 30,
    "start_time": "2022-04-05T11:16:41.624Z"
   },
   {
    "duration": 24,
    "start_time": "2022-04-05T11:16:41.657Z"
   },
   {
    "duration": 63,
    "start_time": "2022-04-05T11:16:41.685Z"
   },
   {
    "duration": 11,
    "start_time": "2022-04-05T11:16:41.750Z"
   },
   {
    "duration": 15,
    "start_time": "2022-04-05T11:16:41.764Z"
   },
   {
    "duration": 15,
    "start_time": "2022-04-05T11:16:41.781Z"
   },
   {
    "duration": 17,
    "start_time": "2022-04-05T11:16:41.799Z"
   },
   {
    "duration": 10,
    "start_time": "2022-04-05T11:16:41.844Z"
   },
   {
    "duration": 20,
    "start_time": "2022-04-05T11:16:41.858Z"
   },
   {
    "duration": 16,
    "start_time": "2022-04-05T11:16:41.880Z"
   },
   {
    "duration": 4,
    "start_time": "2022-04-05T11:16:41.898Z"
   },
   {
    "duration": 45,
    "start_time": "2022-04-05T11:16:41.904Z"
   },
   {
    "duration": 36,
    "start_time": "2022-04-05T11:16:41.951Z"
   },
   {
    "duration": 13,
    "start_time": "2022-04-05T11:16:41.990Z"
   },
   {
    "duration": 13,
    "start_time": "2022-04-05T11:16:42.005Z"
   },
   {
    "duration": 20,
    "start_time": "2022-04-05T11:16:42.020Z"
   },
   {
    "duration": 20,
    "start_time": "2022-04-05T11:16:42.043Z"
   },
   {
    "duration": 33,
    "start_time": "2022-04-05T11:16:42.065Z"
   },
   {
    "duration": 24,
    "start_time": "2022-04-05T11:16:42.100Z"
   },
   {
    "duration": 4,
    "start_time": "2022-04-05T11:16:42.126Z"
   },
   {
    "duration": 17,
    "start_time": "2022-04-05T11:16:42.132Z"
   },
   {
    "duration": 20,
    "start_time": "2022-04-05T11:16:42.152Z"
   },
   {
    "duration": 13,
    "start_time": "2022-04-05T11:17:04.077Z"
   },
   {
    "duration": 9,
    "start_time": "2022-04-05T11:18:29.004Z"
   },
   {
    "duration": 9,
    "start_time": "2022-04-05T11:18:31.182Z"
   },
   {
    "duration": 8,
    "start_time": "2022-04-05T11:21:07.361Z"
   },
   {
    "duration": 858,
    "start_time": "2022-04-05T11:21:25.237Z"
   },
   {
    "duration": 46,
    "start_time": "2022-04-05T11:21:26.099Z"
   },
   {
    "duration": 30,
    "start_time": "2022-04-05T11:21:26.148Z"
   },
   {
    "duration": 90,
    "start_time": "2022-04-05T11:21:26.182Z"
   },
   {
    "duration": 38,
    "start_time": "2022-04-05T11:21:26.275Z"
   },
   {
    "duration": 40,
    "start_time": "2022-04-05T11:21:26.316Z"
   },
   {
    "duration": 32,
    "start_time": "2022-04-05T11:21:26.358Z"
   },
   {
    "duration": 31,
    "start_time": "2022-04-05T11:21:26.393Z"
   },
   {
    "duration": 27,
    "start_time": "2022-04-05T11:21:26.426Z"
   },
   {
    "duration": 48,
    "start_time": "2022-04-05T11:21:26.459Z"
   },
   {
    "duration": 55,
    "start_time": "2022-04-05T11:21:26.509Z"
   },
   {
    "duration": 9,
    "start_time": "2022-04-05T11:21:26.566Z"
   },
   {
    "duration": 44,
    "start_time": "2022-04-05T11:21:26.578Z"
   },
   {
    "duration": 71,
    "start_time": "2022-04-05T11:21:26.624Z"
   },
   {
    "duration": 31,
    "start_time": "2022-04-05T11:21:26.697Z"
   },
   {
    "duration": 36,
    "start_time": "2022-04-05T11:21:26.730Z"
   },
   {
    "duration": 35,
    "start_time": "2022-04-05T11:21:26.768Z"
   },
   {
    "duration": 46,
    "start_time": "2022-04-05T11:21:26.805Z"
   },
   {
    "duration": 44,
    "start_time": "2022-04-05T11:21:26.854Z"
   },
   {
    "duration": 47,
    "start_time": "2022-04-05T11:21:26.902Z"
   },
   {
    "duration": 23,
    "start_time": "2022-04-05T11:21:26.952Z"
   },
   {
    "duration": 64,
    "start_time": "2022-04-05T11:21:26.978Z"
   },
   {
    "duration": 57,
    "start_time": "2022-04-05T11:21:27.045Z"
   },
   {
    "duration": 11,
    "start_time": "2022-04-05T11:22:14.540Z"
   },
   {
    "duration": 9,
    "start_time": "2022-04-05T11:23:08.281Z"
   },
   {
    "duration": 8,
    "start_time": "2022-04-05T11:23:18.180Z"
   },
   {
    "duration": 9,
    "start_time": "2022-04-05T11:23:25.864Z"
   },
   {
    "duration": 30,
    "start_time": "2022-04-05T12:05:33.583Z"
   },
   {
    "duration": 26,
    "start_time": "2022-04-05T12:06:43.489Z"
   },
   {
    "duration": 95,
    "start_time": "2022-04-05T12:32:56.668Z"
   },
   {
    "duration": 60,
    "start_time": "2022-04-05T12:33:02.167Z"
   },
   {
    "duration": 9,
    "start_time": "2022-04-05T14:33:14.524Z"
   },
   {
    "duration": 7,
    "start_time": "2022-04-05T14:33:24.886Z"
   },
   {
    "duration": 12,
    "start_time": "2022-04-05T14:33:35.844Z"
   },
   {
    "duration": 12,
    "start_time": "2022-04-05T14:33:40.148Z"
   },
   {
    "duration": 12,
    "start_time": "2022-04-05T14:33:42.163Z"
   },
   {
    "duration": 581,
    "start_time": "2022-04-05T14:33:48.441Z"
   },
   {
    "duration": 34,
    "start_time": "2022-04-05T14:33:49.024Z"
   },
   {
    "duration": 20,
    "start_time": "2022-04-05T14:33:49.060Z"
   },
   {
    "duration": 63,
    "start_time": "2022-04-05T14:33:49.083Z"
   },
   {
    "duration": 9,
    "start_time": "2022-04-05T14:33:49.148Z"
   },
   {
    "duration": 14,
    "start_time": "2022-04-05T14:33:49.159Z"
   },
   {
    "duration": 15,
    "start_time": "2022-04-05T14:33:49.175Z"
   },
   {
    "duration": 12,
    "start_time": "2022-04-05T14:33:49.192Z"
   },
   {
    "duration": 43,
    "start_time": "2022-04-05T14:33:49.206Z"
   },
   {
    "duration": 14,
    "start_time": "2022-04-05T14:33:49.252Z"
   },
   {
    "duration": 13,
    "start_time": "2022-04-05T14:33:49.268Z"
   },
   {
    "duration": 4,
    "start_time": "2022-04-05T14:33:49.283Z"
   },
   {
    "duration": 14,
    "start_time": "2022-04-05T14:33:49.289Z"
   },
   {
    "duration": 68,
    "start_time": "2022-04-05T14:33:49.305Z"
   },
   {
    "duration": 13,
    "start_time": "2022-04-05T14:33:49.375Z"
   },
   {
    "duration": 4,
    "start_time": "2022-04-05T14:33:49.390Z"
   },
   {
    "duration": 9,
    "start_time": "2022-04-05T14:33:49.396Z"
   },
   {
    "duration": 7,
    "start_time": "2022-04-05T14:33:49.407Z"
   },
   {
    "duration": 13,
    "start_time": "2022-04-05T14:33:49.442Z"
   },
   {
    "duration": 7,
    "start_time": "2022-04-05T14:33:49.457Z"
   },
   {
    "duration": 22,
    "start_time": "2022-04-05T14:33:49.467Z"
   },
   {
    "duration": 14,
    "start_time": "2022-04-05T14:33:49.492Z"
   },
   {
    "duration": 9,
    "start_time": "2022-04-05T14:33:49.542Z"
   },
   {
    "duration": 10,
    "start_time": "2022-04-05T14:33:49.553Z"
   },
   {
    "duration": 7,
    "start_time": "2022-04-05T14:33:49.566Z"
   },
   {
    "duration": 22,
    "start_time": "2022-04-05T14:33:49.576Z"
   },
   {
    "duration": 66,
    "start_time": "2022-04-05T14:33:49.601Z"
   },
   {
    "duration": 74,
    "start_time": "2022-04-05T14:33:49.673Z"
   },
   {
    "duration": 7,
    "start_time": "2022-04-05T14:34:05.217Z"
   },
   {
    "duration": 92,
    "start_time": "2022-04-05T14:34:11.640Z"
   },
   {
    "duration": 9,
    "start_time": "2022-04-05T14:34:23.065Z"
   },
   {
    "duration": 10,
    "start_time": "2022-04-05T14:34:26.853Z"
   },
   {
    "duration": 32,
    "start_time": "2022-04-05T14:36:45.357Z"
   },
   {
    "duration": 7,
    "start_time": "2022-04-05T14:39:30.333Z"
   },
   {
    "duration": 6,
    "start_time": "2022-04-05T14:40:20.178Z"
   },
   {
    "duration": 6,
    "start_time": "2022-04-05T14:40:30.962Z"
   },
   {
    "duration": 9,
    "start_time": "2022-04-05T14:41:22.042Z"
   },
   {
    "duration": 6,
    "start_time": "2022-04-05T14:52:54.039Z"
   },
   {
    "duration": 15,
    "start_time": "2022-04-05T14:52:57.736Z"
   },
   {
    "duration": 7,
    "start_time": "2022-04-05T14:54:19.031Z"
   },
   {
    "duration": 11,
    "start_time": "2022-04-05T14:54:42.553Z"
   },
   {
    "duration": 10,
    "start_time": "2022-04-05T14:57:07.746Z"
   },
   {
    "duration": 11,
    "start_time": "2022-04-05T14:57:18.217Z"
   },
   {
    "duration": 18,
    "start_time": "2022-04-05T14:58:54.321Z"
   },
   {
    "duration": 38,
    "start_time": "2022-04-05T16:07:09.201Z"
   },
   {
    "duration": 36,
    "start_time": "2022-04-05T16:07:20.122Z"
   },
   {
    "duration": 593,
    "start_time": "2022-04-05T16:09:02.989Z"
   },
   {
    "duration": 29,
    "start_time": "2022-04-05T16:09:03.585Z"
   },
   {
    "duration": 42,
    "start_time": "2022-04-05T16:09:03.616Z"
   },
   {
    "duration": 48,
    "start_time": "2022-04-05T16:09:03.661Z"
   },
   {
    "duration": 10,
    "start_time": "2022-04-05T16:09:03.711Z"
   },
   {
    "duration": 10,
    "start_time": "2022-04-05T16:09:03.742Z"
   },
   {
    "duration": 24,
    "start_time": "2022-04-05T16:09:03.754Z"
   },
   {
    "duration": 20,
    "start_time": "2022-04-05T16:09:03.781Z"
   },
   {
    "duration": 24,
    "start_time": "2022-04-05T16:09:03.803Z"
   },
   {
    "duration": 13,
    "start_time": "2022-04-05T16:09:03.843Z"
   },
   {
    "duration": 22,
    "start_time": "2022-04-05T16:09:03.858Z"
   },
   {
    "duration": 15,
    "start_time": "2022-04-05T16:09:03.882Z"
   },
   {
    "duration": 18,
    "start_time": "2022-04-05T16:09:03.899Z"
   },
   {
    "duration": 57,
    "start_time": "2022-04-05T16:09:03.919Z"
   },
   {
    "duration": 14,
    "start_time": "2022-04-05T16:09:03.978Z"
   },
   {
    "duration": 21,
    "start_time": "2022-04-05T16:09:03.994Z"
   },
   {
    "duration": 40,
    "start_time": "2022-04-05T16:09:04.017Z"
   },
   {
    "duration": 31,
    "start_time": "2022-04-05T16:09:04.060Z"
   },
   {
    "duration": 7,
    "start_time": "2022-04-05T16:09:04.094Z"
   },
   {
    "duration": 46,
    "start_time": "2022-04-05T16:09:04.103Z"
   },
   {
    "duration": 14,
    "start_time": "2022-04-05T16:09:04.151Z"
   },
   {
    "duration": 7,
    "start_time": "2022-04-05T16:09:04.168Z"
   },
   {
    "duration": 19,
    "start_time": "2022-04-05T16:09:04.177Z"
   },
   {
    "duration": 47,
    "start_time": "2022-04-05T16:09:04.198Z"
   },
   {
    "duration": 23,
    "start_time": "2022-04-05T16:09:04.247Z"
   },
   {
    "duration": 29,
    "start_time": "2022-04-05T16:09:04.272Z"
   },
   {
    "duration": 91,
    "start_time": "2022-04-05T16:09:04.304Z"
   },
   {
    "duration": 13,
    "start_time": "2022-04-05T16:09:35.845Z"
   },
   {
    "duration": 11,
    "start_time": "2022-04-05T16:13:05.665Z"
   },
   {
    "duration": 6,
    "start_time": "2022-04-05T16:13:32.153Z"
   },
   {
    "duration": 6,
    "start_time": "2022-04-05T16:21:24.781Z"
   },
   {
    "duration": 41,
    "start_time": "2022-04-06T13:05:37.237Z"
   },
   {
    "duration": 7,
    "start_time": "2022-04-06T13:05:50.675Z"
   },
   {
    "duration": 429,
    "start_time": "2022-04-06T13:06:24.649Z"
   },
   {
    "duration": 20,
    "start_time": "2022-04-06T13:06:25.080Z"
   },
   {
    "duration": 13,
    "start_time": "2022-04-06T13:06:25.101Z"
   },
   {
    "duration": 33,
    "start_time": "2022-04-06T13:06:25.129Z"
   },
   {
    "duration": 7,
    "start_time": "2022-04-06T13:06:25.163Z"
   },
   {
    "duration": 11,
    "start_time": "2022-04-06T13:06:25.172Z"
   },
   {
    "duration": 11,
    "start_time": "2022-04-06T13:06:25.185Z"
   },
   {
    "duration": 34,
    "start_time": "2022-04-06T13:06:25.197Z"
   },
   {
    "duration": 7,
    "start_time": "2022-04-06T13:06:25.233Z"
   },
   {
    "duration": 12,
    "start_time": "2022-04-06T13:06:25.244Z"
   },
   {
    "duration": 12,
    "start_time": "2022-04-06T13:06:25.258Z"
   },
   {
    "duration": 8,
    "start_time": "2022-04-06T13:06:25.272Z"
   },
   {
    "duration": 10,
    "start_time": "2022-04-06T13:06:25.282Z"
   },
   {
    "duration": 64,
    "start_time": "2022-04-06T13:06:25.293Z"
   },
   {
    "duration": 14,
    "start_time": "2022-04-06T13:06:25.359Z"
   },
   {
    "duration": 10,
    "start_time": "2022-04-06T13:06:25.375Z"
   },
   {
    "duration": 9,
    "start_time": "2022-04-06T13:06:25.387Z"
   },
   {
    "duration": 60,
    "start_time": "2022-04-06T13:06:25.398Z"
   },
   {
    "duration": 9,
    "start_time": "2022-04-06T13:06:25.460Z"
   },
   {
    "duration": 4,
    "start_time": "2022-04-06T13:06:25.471Z"
   },
   {
    "duration": 7,
    "start_time": "2022-04-06T13:06:25.477Z"
   },
   {
    "duration": 44,
    "start_time": "2022-04-06T13:06:25.486Z"
   },
   {
    "duration": 10,
    "start_time": "2022-04-06T13:06:25.532Z"
   },
   {
    "duration": 5,
    "start_time": "2022-04-06T13:06:25.543Z"
   },
   {
    "duration": 13,
    "start_time": "2022-04-06T13:06:25.550Z"
   },
   {
    "duration": 11,
    "start_time": "2022-04-06T13:06:25.565Z"
   },
   {
    "duration": 18,
    "start_time": "2022-04-06T13:06:25.578Z"
   },
   {
    "duration": 37,
    "start_time": "2022-04-06T13:06:25.598Z"
   },
   {
    "duration": 30,
    "start_time": "2022-04-06T13:06:25.637Z"
   },
   {
    "duration": 8,
    "start_time": "2022-04-06T13:06:25.668Z"
   },
   {
    "duration": 8,
    "start_time": "2022-04-06T13:36:53.822Z"
   },
   {
    "duration": 11,
    "start_time": "2022-04-06T13:36:58.777Z"
   },
   {
    "duration": 58,
    "start_time": "2022-04-06T13:39:37.882Z"
   },
   {
    "duration": 10,
    "start_time": "2022-04-06T13:39:41.842Z"
   },
   {
    "duration": 2148,
    "start_time": "2022-04-06T13:43:27.810Z"
   },
   {
    "duration": 32,
    "start_time": "2022-04-06T13:43:43.364Z"
   },
   {
    "duration": 12,
    "start_time": "2022-04-06T13:44:55.924Z"
   },
   {
    "duration": 9,
    "start_time": "2022-04-06T13:45:04.389Z"
   },
   {
    "duration": 9,
    "start_time": "2022-04-06T13:45:06.474Z"
   },
   {
    "duration": 13,
    "start_time": "2022-04-06T13:45:09.905Z"
   },
   {
    "duration": 17,
    "start_time": "2022-04-06T13:46:11.272Z"
   },
   {
    "duration": 18,
    "start_time": "2022-04-06T13:46:21.058Z"
   },
   {
    "duration": 17,
    "start_time": "2022-04-06T13:46:44.261Z"
   },
   {
    "duration": 13,
    "start_time": "2022-04-06T13:46:52.206Z"
   },
   {
    "duration": 7,
    "start_time": "2022-04-06T13:49:28.305Z"
   },
   {
    "duration": 7,
    "start_time": "2022-04-06T13:49:30.722Z"
   },
   {
    "duration": 12,
    "start_time": "2022-04-06T13:49:40.079Z"
   },
   {
    "duration": 20,
    "start_time": "2022-04-06T13:50:00.246Z"
   },
   {
    "duration": 1141,
    "start_time": "2022-04-06T13:56:45.238Z"
   },
   {
    "duration": 23,
    "start_time": "2022-04-06T13:57:12.263Z"
   },
   {
    "duration": 7,
    "start_time": "2022-04-06T13:57:27.053Z"
   },
   {
    "duration": 2335,
    "start_time": "2022-04-06T13:58:03.931Z"
   },
   {
    "duration": 2167,
    "start_time": "2022-04-06T13:58:22.920Z"
   },
   {
    "duration": 445,
    "start_time": "2022-04-06T13:58:52.737Z"
   },
   {
    "duration": 18,
    "start_time": "2022-04-06T13:58:53.184Z"
   },
   {
    "duration": 12,
    "start_time": "2022-04-06T13:58:53.204Z"
   },
   {
    "duration": 28,
    "start_time": "2022-04-06T13:58:53.229Z"
   },
   {
    "duration": 7,
    "start_time": "2022-04-06T13:58:53.260Z"
   },
   {
    "duration": 7,
    "start_time": "2022-04-06T13:58:53.269Z"
   },
   {
    "duration": 8,
    "start_time": "2022-04-06T13:58:53.278Z"
   },
   {
    "duration": 44,
    "start_time": "2022-04-06T13:58:53.287Z"
   },
   {
    "duration": 11,
    "start_time": "2022-04-06T13:58:53.332Z"
   },
   {
    "duration": 12,
    "start_time": "2022-04-06T13:58:53.345Z"
   },
   {
    "duration": 10,
    "start_time": "2022-04-06T13:58:53.358Z"
   },
   {
    "duration": 4,
    "start_time": "2022-04-06T13:58:53.370Z"
   },
   {
    "duration": 9,
    "start_time": "2022-04-06T13:58:53.376Z"
   },
   {
    "duration": 62,
    "start_time": "2022-04-06T13:58:53.387Z"
   },
   {
    "duration": 9,
    "start_time": "2022-04-06T13:58:53.450Z"
   },
   {
    "duration": 7,
    "start_time": "2022-04-06T13:58:53.461Z"
   },
   {
    "duration": 6,
    "start_time": "2022-04-06T13:58:53.470Z"
   },
   {
    "duration": 19,
    "start_time": "2022-04-06T13:58:53.477Z"
   },
   {
    "duration": 8,
    "start_time": "2022-04-06T13:58:53.529Z"
   },
   {
    "duration": 4,
    "start_time": "2022-04-06T13:58:53.538Z"
   },
   {
    "duration": 6,
    "start_time": "2022-04-06T13:58:53.543Z"
   },
   {
    "duration": 11,
    "start_time": "2022-04-06T13:58:53.550Z"
   },
   {
    "duration": 9,
    "start_time": "2022-04-06T13:58:53.563Z"
   },
   {
    "duration": 5,
    "start_time": "2022-04-06T13:58:53.574Z"
   },
   {
    "duration": 54,
    "start_time": "2022-04-06T13:58:53.581Z"
   },
   {
    "duration": 5,
    "start_time": "2022-04-06T13:58:53.636Z"
   },
   {
    "duration": 16,
    "start_time": "2022-04-06T13:58:53.643Z"
   },
   {
    "duration": 16,
    "start_time": "2022-04-06T13:58:53.662Z"
   },
   {
    "duration": 67,
    "start_time": "2022-04-06T13:58:53.679Z"
   },
   {
    "duration": 13,
    "start_time": "2022-04-06T13:58:53.748Z"
   },
   {
    "duration": 13,
    "start_time": "2022-04-06T13:58:53.763Z"
   },
   {
    "duration": 19,
    "start_time": "2022-04-06T13:58:53.778Z"
   },
   {
    "duration": 483,
    "start_time": "2022-04-06T14:00:17.011Z"
   },
   {
    "duration": 16,
    "start_time": "2022-04-06T14:00:17.496Z"
   },
   {
    "duration": 20,
    "start_time": "2022-04-06T14:00:17.514Z"
   },
   {
    "duration": 31,
    "start_time": "2022-04-06T14:00:17.535Z"
   },
   {
    "duration": 6,
    "start_time": "2022-04-06T14:00:17.567Z"
   },
   {
    "duration": 13,
    "start_time": "2022-04-06T14:00:17.574Z"
   },
   {
    "duration": 10,
    "start_time": "2022-04-06T14:00:17.589Z"
   },
   {
    "duration": 21,
    "start_time": "2022-04-06T14:00:17.601Z"
   },
   {
    "duration": 8,
    "start_time": "2022-04-06T14:00:17.624Z"
   },
   {
    "duration": 14,
    "start_time": "2022-04-06T14:00:17.635Z"
   },
   {
    "duration": 8,
    "start_time": "2022-04-06T14:00:17.650Z"
   },
   {
    "duration": 6,
    "start_time": "2022-04-06T14:00:17.659Z"
   },
   {
    "duration": 10,
    "start_time": "2022-04-06T14:00:17.666Z"
   },
   {
    "duration": 23,
    "start_time": "2022-04-06T14:00:17.677Z"
   },
   {
    "duration": 28,
    "start_time": "2022-04-06T14:00:17.702Z"
   },
   {
    "duration": 7,
    "start_time": "2022-04-06T14:00:17.731Z"
   },
   {
    "duration": 9,
    "start_time": "2022-04-06T14:00:17.740Z"
   },
   {
    "duration": 20,
    "start_time": "2022-04-06T14:00:17.751Z"
   },
   {
    "duration": 7,
    "start_time": "2022-04-06T14:00:17.773Z"
   },
   {
    "duration": 4,
    "start_time": "2022-04-06T14:00:17.781Z"
   },
   {
    "duration": 7,
    "start_time": "2022-04-06T14:00:17.786Z"
   },
   {
    "duration": 10,
    "start_time": "2022-04-06T14:00:17.830Z"
   },
   {
    "duration": 12,
    "start_time": "2022-04-06T14:00:17.841Z"
   },
   {
    "duration": 5,
    "start_time": "2022-04-06T14:00:17.854Z"
   },
   {
    "duration": 9,
    "start_time": "2022-04-06T14:00:17.860Z"
   },
   {
    "duration": 5,
    "start_time": "2022-04-06T14:00:17.870Z"
   },
   {
    "duration": 17,
    "start_time": "2022-04-06T14:00:17.876Z"
   },
   {
    "duration": 50,
    "start_time": "2022-04-06T14:00:17.895Z"
   },
   {
    "duration": 30,
    "start_time": "2022-04-06T14:00:17.946Z"
   },
   {
    "duration": 12,
    "start_time": "2022-04-06T14:00:17.977Z"
   },
   {
    "duration": 43,
    "start_time": "2022-04-06T14:00:17.991Z"
   },
   {
    "duration": 66,
    "start_time": "2022-04-06T14:00:18.035Z"
   },
   {
    "duration": 17,
    "start_time": "2022-04-06T14:00:50.601Z"
   },
   {
    "duration": 13,
    "start_time": "2022-04-06T14:07:58.459Z"
   },
   {
    "duration": 425,
    "start_time": "2022-04-06T14:08:06.646Z"
   },
   {
    "duration": 17,
    "start_time": "2022-04-06T14:08:07.073Z"
   },
   {
    "duration": 11,
    "start_time": "2022-04-06T14:08:07.091Z"
   },
   {
    "duration": 44,
    "start_time": "2022-04-06T14:08:07.103Z"
   },
   {
    "duration": 6,
    "start_time": "2022-04-06T14:08:07.149Z"
   },
   {
    "duration": 11,
    "start_time": "2022-04-06T14:08:07.156Z"
   },
   {
    "duration": 20,
    "start_time": "2022-04-06T14:08:07.168Z"
   },
   {
    "duration": 22,
    "start_time": "2022-04-06T14:08:07.190Z"
   },
   {
    "duration": 26,
    "start_time": "2022-04-06T14:08:07.214Z"
   },
   {
    "duration": 25,
    "start_time": "2022-04-06T14:08:07.242Z"
   },
   {
    "duration": 17,
    "start_time": "2022-04-06T14:08:07.269Z"
   },
   {
    "duration": 38,
    "start_time": "2022-04-06T14:08:07.287Z"
   },
   {
    "duration": 12,
    "start_time": "2022-04-06T14:08:07.328Z"
   },
   {
    "duration": 47,
    "start_time": "2022-04-06T14:08:07.342Z"
   },
   {
    "duration": 12,
    "start_time": "2022-04-06T14:08:07.390Z"
   },
   {
    "duration": 15,
    "start_time": "2022-04-06T14:08:07.403Z"
   },
   {
    "duration": 20,
    "start_time": "2022-04-06T14:08:07.420Z"
   },
   {
    "duration": 20,
    "start_time": "2022-04-06T14:08:07.442Z"
   },
   {
    "duration": 16,
    "start_time": "2022-04-06T14:08:07.464Z"
   },
   {
    "duration": 21,
    "start_time": "2022-04-06T14:08:07.481Z"
   },
   {
    "duration": 44,
    "start_time": "2022-04-06T14:08:07.504Z"
   },
   {
    "duration": 21,
    "start_time": "2022-04-06T14:08:07.549Z"
   },
   {
    "duration": 21,
    "start_time": "2022-04-06T14:08:07.571Z"
   },
   {
    "duration": 25,
    "start_time": "2022-04-06T14:08:07.593Z"
   },
   {
    "duration": 35,
    "start_time": "2022-04-06T14:08:07.620Z"
   },
   {
    "duration": 16,
    "start_time": "2022-04-06T14:08:07.656Z"
   },
   {
    "duration": 17,
    "start_time": "2022-04-06T14:08:07.674Z"
   },
   {
    "duration": 34,
    "start_time": "2022-04-06T14:08:07.695Z"
   },
   {
    "duration": 55,
    "start_time": "2022-04-06T14:08:07.731Z"
   },
   {
    "duration": 11,
    "start_time": "2022-04-06T14:08:07.788Z"
   },
   {
    "duration": 19,
    "start_time": "2022-04-06T14:08:07.801Z"
   },
   {
    "duration": 32,
    "start_time": "2022-04-06T14:08:07.822Z"
   },
   {
    "duration": 417,
    "start_time": "2022-04-06T14:11:14.090Z"
   },
   {
    "duration": 18,
    "start_time": "2022-04-06T14:11:14.509Z"
   },
   {
    "duration": 17,
    "start_time": "2022-04-06T14:11:14.529Z"
   },
   {
    "duration": 38,
    "start_time": "2022-04-06T14:11:14.548Z"
   },
   {
    "duration": 6,
    "start_time": "2022-04-06T14:11:14.589Z"
   },
   {
    "duration": 19,
    "start_time": "2022-04-06T14:11:14.596Z"
   },
   {
    "duration": 24,
    "start_time": "2022-04-06T14:11:14.617Z"
   },
   {
    "duration": 37,
    "start_time": "2022-04-06T14:11:14.642Z"
   },
   {
    "duration": 13,
    "start_time": "2022-04-06T14:11:14.681Z"
   },
   {
    "duration": 10,
    "start_time": "2022-04-06T14:11:14.697Z"
   },
   {
    "duration": 21,
    "start_time": "2022-04-06T14:11:14.709Z"
   },
   {
    "duration": 31,
    "start_time": "2022-04-06T14:11:14.731Z"
   },
   {
    "duration": 14,
    "start_time": "2022-04-06T14:11:14.764Z"
   },
   {
    "duration": 39,
    "start_time": "2022-04-06T14:11:14.780Z"
   },
   {
    "duration": 14,
    "start_time": "2022-04-06T14:11:14.820Z"
   },
   {
    "duration": 24,
    "start_time": "2022-04-06T14:11:14.836Z"
   },
   {
    "duration": 14,
    "start_time": "2022-04-06T14:11:14.861Z"
   },
   {
    "duration": 28,
    "start_time": "2022-04-06T14:11:14.876Z"
   },
   {
    "duration": 19,
    "start_time": "2022-04-06T14:11:14.905Z"
   },
   {
    "duration": 13,
    "start_time": "2022-04-06T14:11:14.925Z"
   },
   {
    "duration": 15,
    "start_time": "2022-04-06T14:11:14.940Z"
   },
   {
    "duration": 21,
    "start_time": "2022-04-06T14:11:14.956Z"
   },
   {
    "duration": 30,
    "start_time": "2022-04-06T14:11:14.979Z"
   },
   {
    "duration": 30,
    "start_time": "2022-04-06T14:11:15.011Z"
   },
   {
    "duration": 28,
    "start_time": "2022-04-06T14:11:15.042Z"
   },
   {
    "duration": 10,
    "start_time": "2022-04-06T14:11:15.072Z"
   },
   {
    "duration": 17,
    "start_time": "2022-04-06T14:11:15.083Z"
   },
   {
    "duration": 16,
    "start_time": "2022-04-06T14:11:15.103Z"
   },
   {
    "duration": 35,
    "start_time": "2022-04-06T14:11:15.121Z"
   },
   {
    "duration": 13,
    "start_time": "2022-04-06T14:11:15.157Z"
   },
   {
    "duration": 9,
    "start_time": "2022-04-06T14:11:15.171Z"
   },
   {
    "duration": 17,
    "start_time": "2022-04-06T14:11:15.182Z"
   },
   {
    "duration": 56,
    "start_time": "2022-04-06T14:18:23.445Z"
   },
   {
    "duration": 12,
    "start_time": "2022-04-06T14:18:39.160Z"
   },
   {
    "duration": 15,
    "start_time": "2022-04-06T14:18:42.311Z"
   },
   {
    "duration": 407,
    "start_time": "2022-04-06T14:18:47.156Z"
   },
   {
    "duration": 17,
    "start_time": "2022-04-06T14:18:47.565Z"
   },
   {
    "duration": 11,
    "start_time": "2022-04-06T14:18:47.584Z"
   },
   {
    "duration": 36,
    "start_time": "2022-04-06T14:18:47.596Z"
   },
   {
    "duration": 6,
    "start_time": "2022-04-06T14:18:47.634Z"
   },
   {
    "duration": 7,
    "start_time": "2022-04-06T14:18:47.642Z"
   },
   {
    "duration": 8,
    "start_time": "2022-04-06T14:18:47.650Z"
   },
   {
    "duration": 7,
    "start_time": "2022-04-06T14:18:47.660Z"
   },
   {
    "duration": 7,
    "start_time": "2022-04-06T14:18:47.668Z"
   },
   {
    "duration": 9,
    "start_time": "2022-04-06T14:18:47.678Z"
   },
   {
    "duration": 46,
    "start_time": "2022-04-06T14:18:47.688Z"
   },
   {
    "duration": 4,
    "start_time": "2022-04-06T14:18:47.735Z"
   },
   {
    "duration": 8,
    "start_time": "2022-04-06T14:18:47.741Z"
   },
   {
    "duration": 20,
    "start_time": "2022-04-06T14:18:47.750Z"
   },
   {
    "duration": 8,
    "start_time": "2022-04-06T14:18:47.771Z"
   },
   {
    "duration": 8,
    "start_time": "2022-04-06T14:18:47.780Z"
   },
   {
    "duration": 8,
    "start_time": "2022-04-06T14:18:47.789Z"
   },
   {
    "duration": 45,
    "start_time": "2022-04-06T14:18:47.798Z"
   },
   {
    "duration": 7,
    "start_time": "2022-04-06T14:18:47.844Z"
   },
   {
    "duration": 5,
    "start_time": "2022-04-06T14:18:47.852Z"
   },
   {
    "duration": 9,
    "start_time": "2022-04-06T14:18:47.859Z"
   },
   {
    "duration": 23,
    "start_time": "2022-04-06T14:18:47.870Z"
   },
   {
    "duration": 16,
    "start_time": "2022-04-06T14:18:47.894Z"
   },
   {
    "duration": 21,
    "start_time": "2022-04-06T14:18:47.911Z"
   },
   {
    "duration": 23,
    "start_time": "2022-04-06T14:18:47.933Z"
   },
   {
    "duration": 12,
    "start_time": "2022-04-06T14:18:47.957Z"
   },
   {
    "duration": 14,
    "start_time": "2022-04-06T14:18:47.971Z"
   },
   {
    "duration": 42,
    "start_time": "2022-04-06T14:18:47.987Z"
   },
   {
    "duration": 29,
    "start_time": "2022-04-06T14:18:48.031Z"
   },
   {
    "duration": 10,
    "start_time": "2022-04-06T14:18:48.062Z"
   },
   {
    "duration": 23,
    "start_time": "2022-04-06T14:18:48.074Z"
   },
   {
    "duration": 26,
    "start_time": "2022-04-06T14:18:48.099Z"
   },
   {
    "duration": 30,
    "start_time": "2022-04-06T14:18:48.127Z"
   },
   {
    "duration": 32,
    "start_time": "2022-04-06T14:18:48.159Z"
   },
   {
    "duration": 20,
    "start_time": "2022-04-06T14:18:48.193Z"
   },
   {
    "duration": 13,
    "start_time": "2022-04-06T14:22:34.859Z"
   },
   {
    "duration": 13,
    "start_time": "2022-04-06T14:22:42.800Z"
   },
   {
    "duration": 13,
    "start_time": "2022-04-06T14:23:41.058Z"
   },
   {
    "duration": 13,
    "start_time": "2022-04-06T14:23:44.233Z"
   },
   {
    "duration": 13,
    "start_time": "2022-04-06T14:24:22.960Z"
   },
   {
    "duration": 13,
    "start_time": "2022-04-06T14:24:33.922Z"
   },
   {
    "duration": 13,
    "start_time": "2022-04-06T14:24:41.857Z"
   },
   {
    "duration": 13,
    "start_time": "2022-04-06T14:24:47.309Z"
   },
   {
    "duration": 14,
    "start_time": "2022-04-06T14:24:52.696Z"
   },
   {
    "duration": 76,
    "start_time": "2022-04-06T14:27:21.473Z"
   },
   {
    "duration": 28,
    "start_time": "2022-04-06T14:30:11.024Z"
   },
   {
    "duration": 21,
    "start_time": "2022-04-06T14:30:19.652Z"
   },
   {
    "duration": 446,
    "start_time": "2022-04-06T14:30:31.418Z"
   },
   {
    "duration": 17,
    "start_time": "2022-04-06T14:30:31.866Z"
   },
   {
    "duration": 11,
    "start_time": "2022-04-06T14:30:31.884Z"
   },
   {
    "duration": 43,
    "start_time": "2022-04-06T14:30:31.897Z"
   },
   {
    "duration": 6,
    "start_time": "2022-04-06T14:30:31.942Z"
   },
   {
    "duration": 8,
    "start_time": "2022-04-06T14:30:31.949Z"
   },
   {
    "duration": 7,
    "start_time": "2022-04-06T14:30:31.959Z"
   },
   {
    "duration": 10,
    "start_time": "2022-04-06T14:30:31.968Z"
   },
   {
    "duration": 13,
    "start_time": "2022-04-06T14:30:31.980Z"
   },
   {
    "duration": 8,
    "start_time": "2022-04-06T14:30:31.996Z"
   },
   {
    "duration": 26,
    "start_time": "2022-04-06T14:30:32.006Z"
   },
   {
    "duration": 3,
    "start_time": "2022-04-06T14:30:32.034Z"
   },
   {
    "duration": 43,
    "start_time": "2022-04-06T14:30:32.038Z"
   },
   {
    "duration": 20,
    "start_time": "2022-04-06T14:30:32.082Z"
   },
   {
    "duration": 8,
    "start_time": "2022-04-06T14:30:32.104Z"
   },
   {
    "duration": 11,
    "start_time": "2022-04-06T14:30:32.113Z"
   },
   {
    "duration": 11,
    "start_time": "2022-04-06T14:30:32.125Z"
   },
   {
    "duration": 19,
    "start_time": "2022-04-06T14:30:32.138Z"
   },
   {
    "duration": 8,
    "start_time": "2022-04-06T14:30:32.158Z"
   },
   {
    "duration": 6,
    "start_time": "2022-04-06T14:30:32.167Z"
   },
   {
    "duration": 7,
    "start_time": "2022-04-06T14:30:32.175Z"
   },
   {
    "duration": 10,
    "start_time": "2022-04-06T14:30:32.183Z"
   },
   {
    "duration": 9,
    "start_time": "2022-04-06T14:30:32.194Z"
   },
   {
    "duration": 26,
    "start_time": "2022-04-06T14:30:32.204Z"
   },
   {
    "duration": 10,
    "start_time": "2022-04-06T14:30:32.232Z"
   },
   {
    "duration": 5,
    "start_time": "2022-04-06T14:30:32.243Z"
   },
   {
    "duration": 15,
    "start_time": "2022-04-06T14:30:32.250Z"
   },
   {
    "duration": 14,
    "start_time": "2022-04-06T14:30:32.268Z"
   },
   {
    "duration": 47,
    "start_time": "2022-04-06T14:30:32.283Z"
   },
   {
    "duration": 11,
    "start_time": "2022-04-06T14:30:32.332Z"
   },
   {
    "duration": 11,
    "start_time": "2022-04-06T14:30:32.344Z"
   },
   {
    "duration": 16,
    "start_time": "2022-04-06T14:30:32.356Z"
   },
   {
    "duration": 33,
    "start_time": "2022-04-06T14:30:32.374Z"
   },
   {
    "duration": 54,
    "start_time": "2022-04-06T14:30:32.429Z"
   },
   {
    "duration": 0,
    "start_time": "2022-04-06T14:30:32.484Z"
   },
   {
    "duration": 24,
    "start_time": "2022-04-06T14:30:39.727Z"
   },
   {
    "duration": 21,
    "start_time": "2022-04-06T14:36:27.541Z"
   },
   {
    "duration": 24,
    "start_time": "2022-04-06T14:36:35.981Z"
   },
   {
    "duration": 127,
    "start_time": "2022-04-06T14:37:11.749Z"
   },
   {
    "duration": 128,
    "start_time": "2022-04-06T14:37:37.679Z"
   },
   {
    "duration": 135,
    "start_time": "2022-04-06T14:39:23.320Z"
   },
   {
    "duration": 129,
    "start_time": "2022-04-06T14:39:29.170Z"
   },
   {
    "duration": 139,
    "start_time": "2022-04-06T14:39:31.527Z"
   },
   {
    "duration": 131,
    "start_time": "2022-04-06T14:39:36.205Z"
   },
   {
    "duration": 129,
    "start_time": "2022-04-06T14:40:46.769Z"
   },
   {
    "duration": 131,
    "start_time": "2022-04-06T14:40:50.084Z"
   },
   {
    "duration": 152,
    "start_time": "2022-04-06T14:40:51.605Z"
   },
   {
    "duration": 21,
    "start_time": "2022-04-06T14:40:56.771Z"
   },
   {
    "duration": 21,
    "start_time": "2022-04-06T14:41:03.925Z"
   },
   {
    "duration": 24,
    "start_time": "2022-04-06T14:41:11.974Z"
   },
   {
    "duration": 26,
    "start_time": "2022-04-06T14:41:28.921Z"
   },
   {
    "duration": 24,
    "start_time": "2022-04-06T14:41:41.059Z"
   },
   {
    "duration": 27,
    "start_time": "2022-04-06T14:44:16.262Z"
   },
   {
    "duration": 30,
    "start_time": "2022-04-06T14:44:41.775Z"
   },
   {
    "duration": 21,
    "start_time": "2022-04-06T14:45:18.308Z"
   },
   {
    "duration": 7,
    "start_time": "2022-04-06T15:04:58.431Z"
   },
   {
    "duration": 14,
    "start_time": "2022-04-06T15:06:12.945Z"
   },
   {
    "duration": 462,
    "start_time": "2022-04-06T15:06:18.631Z"
   },
   {
    "duration": 16,
    "start_time": "2022-04-06T15:06:19.095Z"
   },
   {
    "duration": 11,
    "start_time": "2022-04-06T15:06:19.113Z"
   },
   {
    "duration": 31,
    "start_time": "2022-04-06T15:06:19.126Z"
   },
   {
    "duration": 5,
    "start_time": "2022-04-06T15:06:19.159Z"
   },
   {
    "duration": 7,
    "start_time": "2022-04-06T15:06:19.166Z"
   },
   {
    "duration": 7,
    "start_time": "2022-04-06T15:06:19.174Z"
   },
   {
    "duration": 9,
    "start_time": "2022-04-06T15:06:19.183Z"
   },
   {
    "duration": 8,
    "start_time": "2022-04-06T15:06:19.193Z"
   },
   {
    "duration": 32,
    "start_time": "2022-04-06T15:06:19.203Z"
   },
   {
    "duration": 13,
    "start_time": "2022-04-06T15:06:19.237Z"
   },
   {
    "duration": 4,
    "start_time": "2022-04-06T15:06:19.251Z"
   },
   {
    "duration": 16,
    "start_time": "2022-04-06T15:06:19.257Z"
   },
   {
    "duration": 21,
    "start_time": "2022-04-06T15:06:19.274Z"
   },
   {
    "duration": 7,
    "start_time": "2022-04-06T15:06:19.296Z"
   },
   {
    "duration": 37,
    "start_time": "2022-04-06T15:06:19.305Z"
   },
   {
    "duration": 9,
    "start_time": "2022-04-06T15:06:19.344Z"
   },
   {
    "duration": 19,
    "start_time": "2022-04-06T15:06:19.354Z"
   },
   {
    "duration": 6,
    "start_time": "2022-04-06T15:06:19.375Z"
   },
   {
    "duration": 3,
    "start_time": "2022-04-06T15:06:19.383Z"
   },
   {
    "duration": 6,
    "start_time": "2022-04-06T15:06:19.388Z"
   },
   {
    "duration": 37,
    "start_time": "2022-04-06T15:06:19.395Z"
   },
   {
    "duration": 13,
    "start_time": "2022-04-06T15:06:19.434Z"
   },
   {
    "duration": 6,
    "start_time": "2022-04-06T15:06:19.448Z"
   },
   {
    "duration": 9,
    "start_time": "2022-04-06T15:06:19.455Z"
   },
   {
    "duration": 5,
    "start_time": "2022-04-06T15:06:19.465Z"
   },
   {
    "duration": 15,
    "start_time": "2022-04-06T15:06:19.471Z"
   },
   {
    "duration": 50,
    "start_time": "2022-04-06T15:06:19.489Z"
   },
   {
    "duration": 32,
    "start_time": "2022-04-06T15:06:19.542Z"
   },
   {
    "duration": 10,
    "start_time": "2022-04-06T15:06:19.576Z"
   },
   {
    "duration": 9,
    "start_time": "2022-04-06T15:06:19.588Z"
   },
   {
    "duration": 35,
    "start_time": "2022-04-06T15:06:19.599Z"
   },
   {
    "duration": 32,
    "start_time": "2022-04-06T15:06:19.636Z"
   },
   {
    "duration": 7,
    "start_time": "2022-04-06T15:06:19.670Z"
   },
   {
    "duration": 145,
    "start_time": "2022-04-06T15:06:19.678Z"
   },
   {
    "duration": 61,
    "start_time": "2022-04-06T15:11:30.800Z"
   },
   {
    "duration": 3369,
    "start_time": "2022-04-06T15:11:40.428Z"
   },
   {
    "duration": 3547,
    "start_time": "2022-04-06T15:12:12.642Z"
   },
   {
    "duration": 3433,
    "start_time": "2022-04-06T15:13:00.364Z"
   },
   {
    "duration": 3376,
    "start_time": "2022-04-06T15:14:01.945Z"
   },
   {
    "duration": 3518,
    "start_time": "2022-04-06T15:14:05.842Z"
   },
   {
    "duration": 3171,
    "start_time": "2022-04-06T15:15:33.215Z"
   },
   {
    "duration": 3861,
    "start_time": "2022-04-06T15:25:38.121Z"
   },
   {
    "duration": 587,
    "start_time": "2022-04-06T15:38:54.131Z"
   },
   {
    "duration": 807,
    "start_time": "2022-04-06T15:39:41.933Z"
   },
   {
    "duration": 139,
    "start_time": "2022-04-06T15:40:26.042Z"
   },
   {
    "duration": 135,
    "start_time": "2022-04-06T15:40:39.399Z"
   },
   {
    "duration": 134,
    "start_time": "2022-04-06T15:40:44.223Z"
   },
   {
    "duration": 558,
    "start_time": "2022-04-06T15:40:51.279Z"
   },
   {
    "duration": 568,
    "start_time": "2022-04-06T15:41:19.957Z"
   },
   {
    "duration": 12,
    "start_time": "2022-04-06T15:41:45.274Z"
   },
   {
    "duration": 19,
    "start_time": "2022-04-06T15:43:27.597Z"
   },
   {
    "duration": 12,
    "start_time": "2022-04-06T15:43:54.524Z"
   },
   {
    "duration": 8,
    "start_time": "2022-04-06T15:44:10.823Z"
   },
   {
    "duration": 12,
    "start_time": "2022-04-06T15:44:15.927Z"
   },
   {
    "duration": 1341,
    "start_time": "2022-04-06T15:47:17.358Z"
   },
   {
    "duration": 226,
    "start_time": "2022-04-06T15:47:39.498Z"
   },
   {
    "duration": 394,
    "start_time": "2022-04-06T15:48:00.349Z"
   },
   {
    "duration": 7,
    "start_time": "2022-04-06T16:18:45.076Z"
   },
   {
    "duration": 7,
    "start_time": "2022-04-06T16:18:48.375Z"
   },
   {
    "duration": 462,
    "start_time": "2022-04-06T16:18:59.093Z"
   },
   {
    "duration": 18,
    "start_time": "2022-04-06T16:18:59.557Z"
   },
   {
    "duration": 11,
    "start_time": "2022-04-06T16:18:59.577Z"
   },
   {
    "duration": 27,
    "start_time": "2022-04-06T16:18:59.590Z"
   },
   {
    "duration": 6,
    "start_time": "2022-04-06T16:18:59.629Z"
   },
   {
    "duration": 12,
    "start_time": "2022-04-06T16:18:59.637Z"
   },
   {
    "duration": 7,
    "start_time": "2022-04-06T16:18:59.650Z"
   },
   {
    "duration": 8,
    "start_time": "2022-04-06T16:18:59.658Z"
   },
   {
    "duration": 9,
    "start_time": "2022-04-06T16:18:59.667Z"
   },
   {
    "duration": 10,
    "start_time": "2022-04-06T16:18:59.678Z"
   },
   {
    "duration": 9,
    "start_time": "2022-04-06T16:18:59.689Z"
   },
   {
    "duration": 4,
    "start_time": "2022-04-06T16:18:59.699Z"
   },
   {
    "duration": 7,
    "start_time": "2022-04-06T16:18:59.730Z"
   },
   {
    "duration": 23,
    "start_time": "2022-04-06T16:18:59.739Z"
   },
   {
    "duration": 9,
    "start_time": "2022-04-06T16:18:59.764Z"
   },
   {
    "duration": 9,
    "start_time": "2022-04-06T16:18:59.775Z"
   },
   {
    "duration": 8,
    "start_time": "2022-04-06T16:18:59.786Z"
   },
   {
    "duration": 21,
    "start_time": "2022-04-06T16:18:59.830Z"
   },
   {
    "duration": 9,
    "start_time": "2022-04-06T16:18:59.853Z"
   },
   {
    "duration": 3,
    "start_time": "2022-04-06T16:18:59.864Z"
   },
   {
    "duration": 6,
    "start_time": "2022-04-06T16:18:59.869Z"
   },
   {
    "duration": 10,
    "start_time": "2022-04-06T16:18:59.877Z"
   },
   {
    "duration": 10,
    "start_time": "2022-04-06T16:18:59.888Z"
   },
   {
    "duration": 34,
    "start_time": "2022-04-06T16:18:59.899Z"
   },
   {
    "duration": 10,
    "start_time": "2022-04-06T16:18:59.934Z"
   },
   {
    "duration": 5,
    "start_time": "2022-04-06T16:18:59.946Z"
   },
   {
    "duration": 16,
    "start_time": "2022-04-06T16:18:59.952Z"
   },
   {
    "duration": 16,
    "start_time": "2022-04-06T16:18:59.970Z"
   },
   {
    "duration": 58,
    "start_time": "2022-04-06T16:18:59.988Z"
   },
   {
    "duration": 10,
    "start_time": "2022-04-06T16:19:00.048Z"
   },
   {
    "duration": 9,
    "start_time": "2022-04-06T16:19:00.059Z"
   },
   {
    "duration": 14,
    "start_time": "2022-04-06T16:19:00.070Z"
   },
   {
    "duration": 43,
    "start_time": "2022-04-06T16:19:00.086Z"
   },
   {
    "duration": 3353,
    "start_time": "2022-04-06T16:19:00.130Z"
   },
   {
    "duration": 7,
    "start_time": "2022-04-06T16:19:03.485Z"
   },
   {
    "duration": 10,
    "start_time": "2022-04-06T16:19:09.895Z"
   },
   {
    "duration": 18,
    "start_time": "2022-04-06T16:19:36.405Z"
   },
   {
    "duration": 8,
    "start_time": "2022-04-06T16:20:44.440Z"
   },
   {
    "duration": 1114,
    "start_time": "2022-04-06T16:22:41.847Z"
   },
   {
    "duration": 129,
    "start_time": "2022-04-06T16:22:52.135Z"
   },
   {
    "duration": 1126,
    "start_time": "2022-04-06T16:22:57.318Z"
   },
   {
    "duration": 73,
    "start_time": "2022-04-06T16:27:05.137Z"
   },
   {
    "duration": 20,
    "start_time": "2022-04-06T16:27:24.186Z"
   },
   {
    "duration": 19,
    "start_time": "2022-04-06T16:28:57.463Z"
   },
   {
    "duration": 20,
    "start_time": "2022-04-06T16:30:31.557Z"
   },
   {
    "duration": 20,
    "start_time": "2022-04-06T16:35:13.913Z"
   },
   {
    "duration": 16,
    "start_time": "2022-04-06T16:35:57.276Z"
   },
   {
    "duration": 15,
    "start_time": "2022-04-06T16:36:15.476Z"
   },
   {
    "duration": 744,
    "start_time": "2022-04-06T16:36:49.928Z"
   },
   {
    "duration": 10,
    "start_time": "2022-04-06T16:41:31.683Z"
   },
   {
    "duration": 477,
    "start_time": "2022-04-06T16:41:50.405Z"
   },
   {
    "duration": 16,
    "start_time": "2022-04-06T16:41:50.884Z"
   },
   {
    "duration": 12,
    "start_time": "2022-04-06T16:41:50.902Z"
   },
   {
    "duration": 31,
    "start_time": "2022-04-06T16:41:50.929Z"
   },
   {
    "duration": 5,
    "start_time": "2022-04-06T16:41:50.962Z"
   },
   {
    "duration": 9,
    "start_time": "2022-04-06T16:41:50.969Z"
   },
   {
    "duration": 9,
    "start_time": "2022-04-06T16:41:50.979Z"
   },
   {
    "duration": 10,
    "start_time": "2022-04-06T16:41:50.989Z"
   },
   {
    "duration": 10,
    "start_time": "2022-04-06T16:41:51.001Z"
   },
   {
    "duration": 10,
    "start_time": "2022-04-06T16:41:51.029Z"
   },
   {
    "duration": 12,
    "start_time": "2022-04-06T16:41:51.040Z"
   },
   {
    "duration": 7,
    "start_time": "2022-04-06T16:41:51.053Z"
   },
   {
    "duration": 12,
    "start_time": "2022-04-06T16:41:51.062Z"
   },
   {
    "duration": 21,
    "start_time": "2022-04-06T16:41:51.076Z"
   },
   {
    "duration": 9,
    "start_time": "2022-04-06T16:41:51.098Z"
   },
   {
    "duration": 30,
    "start_time": "2022-04-06T16:41:51.108Z"
   },
   {
    "duration": 8,
    "start_time": "2022-04-06T16:41:51.139Z"
   },
   {
    "duration": 21,
    "start_time": "2022-04-06T16:41:51.149Z"
   },
   {
    "duration": 7,
    "start_time": "2022-04-06T16:41:51.171Z"
   },
   {
    "duration": 5,
    "start_time": "2022-04-06T16:41:51.179Z"
   },
   {
    "duration": 8,
    "start_time": "2022-04-06T16:41:51.186Z"
   },
   {
    "duration": 40,
    "start_time": "2022-04-06T16:41:51.195Z"
   },
   {
    "duration": 11,
    "start_time": "2022-04-06T16:41:51.237Z"
   },
   {
    "duration": 6,
    "start_time": "2022-04-06T16:41:51.249Z"
   },
   {
    "duration": 13,
    "start_time": "2022-04-06T16:41:51.257Z"
   },
   {
    "duration": 5,
    "start_time": "2022-04-06T16:41:51.272Z"
   },
   {
    "duration": 13,
    "start_time": "2022-04-06T16:41:51.278Z"
   },
   {
    "duration": 19,
    "start_time": "2022-04-06T16:41:51.330Z"
   },
   {
    "duration": 33,
    "start_time": "2022-04-06T16:41:51.351Z"
   },
   {
    "duration": 12,
    "start_time": "2022-04-06T16:41:51.385Z"
   },
   {
    "duration": 40,
    "start_time": "2022-04-06T16:41:51.398Z"
   },
   {
    "duration": 16,
    "start_time": "2022-04-06T16:41:51.440Z"
   },
   {
    "duration": 24,
    "start_time": "2022-04-06T16:41:51.458Z"
   },
   {
    "duration": 3148,
    "start_time": "2022-04-06T16:41:51.483Z"
   },
   {
    "duration": 21,
    "start_time": "2022-04-06T16:41:54.633Z"
   },
   {
    "duration": 785,
    "start_time": "2022-04-06T16:41:54.655Z"
   },
   {
    "duration": 45,
    "start_time": "2022-04-07T11:31:22.265Z"
   },
   {
    "duration": 8,
    "start_time": "2022-04-07T11:32:33.069Z"
   },
   {
    "duration": 7,
    "start_time": "2022-04-07T11:35:10.958Z"
   },
   {
    "duration": 7,
    "start_time": "2022-04-07T11:35:57.283Z"
   },
   {
    "duration": 443,
    "start_time": "2022-04-07T11:36:04.752Z"
   },
   {
    "duration": 18,
    "start_time": "2022-04-07T11:36:05.196Z"
   },
   {
    "duration": 16,
    "start_time": "2022-04-07T11:36:05.215Z"
   },
   {
    "duration": 28,
    "start_time": "2022-04-07T11:36:05.232Z"
   },
   {
    "duration": 6,
    "start_time": "2022-04-07T11:36:05.261Z"
   },
   {
    "duration": 11,
    "start_time": "2022-04-07T11:36:05.268Z"
   },
   {
    "duration": 10,
    "start_time": "2022-04-07T11:36:05.280Z"
   },
   {
    "duration": 9,
    "start_time": "2022-04-07T11:36:05.291Z"
   },
   {
    "duration": 17,
    "start_time": "2022-04-07T11:36:05.301Z"
   },
   {
    "duration": 9,
    "start_time": "2022-04-07T11:36:05.330Z"
   },
   {
    "duration": 12,
    "start_time": "2022-04-07T11:36:05.340Z"
   },
   {
    "duration": 6,
    "start_time": "2022-04-07T11:36:05.353Z"
   },
   {
    "duration": 8,
    "start_time": "2022-04-07T11:36:05.361Z"
   },
   {
    "duration": 19,
    "start_time": "2022-04-07T11:36:05.370Z"
   },
   {
    "duration": 7,
    "start_time": "2022-04-07T11:36:05.391Z"
   },
   {
    "duration": 31,
    "start_time": "2022-04-07T11:36:05.399Z"
   },
   {
    "duration": 6,
    "start_time": "2022-04-07T11:36:05.432Z"
   },
   {
    "duration": 18,
    "start_time": "2022-04-07T11:36:05.440Z"
   },
   {
    "duration": 13,
    "start_time": "2022-04-07T11:36:05.459Z"
   },
   {
    "duration": 4,
    "start_time": "2022-04-07T11:36:05.473Z"
   },
   {
    "duration": 7,
    "start_time": "2022-04-07T11:36:05.478Z"
   },
   {
    "duration": 10,
    "start_time": "2022-04-07T11:36:05.486Z"
   },
   {
    "duration": 34,
    "start_time": "2022-04-07T11:36:05.497Z"
   },
   {
    "duration": 6,
    "start_time": "2022-04-07T11:36:05.532Z"
   },
   {
    "duration": 18,
    "start_time": "2022-04-07T11:36:05.539Z"
   },
   {
    "duration": 6,
    "start_time": "2022-04-07T11:36:05.559Z"
   },
   {
    "duration": 14,
    "start_time": "2022-04-07T11:36:05.566Z"
   },
   {
    "duration": 18,
    "start_time": "2022-04-07T11:36:05.584Z"
   },
   {
    "duration": 55,
    "start_time": "2022-04-07T11:36:05.604Z"
   },
   {
    "duration": 10,
    "start_time": "2022-04-07T11:36:05.661Z"
   },
   {
    "duration": 13,
    "start_time": "2022-04-07T11:36:05.673Z"
   },
   {
    "duration": 44,
    "start_time": "2022-04-07T11:36:05.688Z"
   },
   {
    "duration": 23,
    "start_time": "2022-04-07T11:36:05.734Z"
   },
   {
    "duration": 3462,
    "start_time": "2022-04-07T11:36:05.759Z"
   },
   {
    "duration": 20,
    "start_time": "2022-04-07T11:36:09.230Z"
   },
   {
    "duration": 760,
    "start_time": "2022-04-07T11:36:09.251Z"
   },
   {
    "duration": 6,
    "start_time": "2022-04-07T11:43:04.166Z"
   },
   {
    "duration": 16,
    "start_time": "2022-04-07T11:43:47.827Z"
   },
   {
    "duration": 13,
    "start_time": "2022-04-07T11:43:52.167Z"
   },
   {
    "duration": 18,
    "start_time": "2022-04-07T11:44:04.849Z"
   },
   {
    "duration": 10,
    "start_time": "2022-04-07T11:44:33.408Z"
   },
   {
    "duration": 18,
    "start_time": "2022-04-07T11:44:55.993Z"
   },
   {
    "duration": 11,
    "start_time": "2022-04-07T11:50:50.585Z"
   },
   {
    "duration": 22,
    "start_time": "2022-04-07T11:51:33.816Z"
   },
   {
    "duration": 21,
    "start_time": "2022-04-07T11:52:54.697Z"
   },
   {
    "duration": 20,
    "start_time": "2022-04-07T11:54:26.515Z"
   },
   {
    "duration": 22,
    "start_time": "2022-04-07T11:54:44.131Z"
   },
   {
    "duration": 20,
    "start_time": "2022-04-07T11:55:09.686Z"
   },
   {
    "duration": 23,
    "start_time": "2022-04-07T11:55:32.311Z"
   },
   {
    "duration": 938,
    "start_time": "2022-04-07T12:17:37.111Z"
   },
   {
    "duration": 9,
    "start_time": "2022-04-07T12:23:05.188Z"
   },
   {
    "duration": 34,
    "start_time": "2022-04-07T12:23:53.723Z"
   },
   {
    "duration": 9,
    "start_time": "2022-04-07T12:24:20.462Z"
   },
   {
    "duration": 567,
    "start_time": "2022-04-07T12:26:26.745Z"
   },
   {
    "duration": 132,
    "start_time": "2022-04-07T12:26:38.061Z"
   },
   {
    "duration": 128,
    "start_time": "2022-04-07T12:27:14.061Z"
   },
   {
    "duration": 164,
    "start_time": "2022-04-07T12:29:18.509Z"
   },
   {
    "duration": 148,
    "start_time": "2022-04-07T12:30:19.523Z"
   },
   {
    "duration": 2194,
    "start_time": "2022-04-07T12:30:52.977Z"
   },
   {
    "duration": 2242,
    "start_time": "2022-04-07T12:31:11.988Z"
   },
   {
    "duration": 11,
    "start_time": "2022-04-07T12:32:42.725Z"
   },
   {
    "duration": 9,
    "start_time": "2022-04-07T12:33:25.803Z"
   },
   {
    "duration": 94,
    "start_time": "2022-04-07T12:35:13.682Z"
   },
   {
    "duration": 94,
    "start_time": "2022-04-07T12:35:32.898Z"
   },
   {
    "duration": 162,
    "start_time": "2022-04-07T12:35:37.024Z"
   },
   {
    "duration": 97,
    "start_time": "2022-04-07T12:35:41.776Z"
   },
   {
    "duration": 9,
    "start_time": "2022-04-07T12:37:23.616Z"
   },
   {
    "duration": 119,
    "start_time": "2022-04-07T12:37:31.210Z"
   },
   {
    "duration": 182,
    "start_time": "2022-04-07T12:38:28.778Z"
   },
   {
    "duration": 140,
    "start_time": "2022-04-07T12:41:14.669Z"
   },
   {
    "duration": 118,
    "start_time": "2022-04-07T12:41:49.168Z"
   },
   {
    "duration": 113,
    "start_time": "2022-04-07T12:42:19.992Z"
   },
   {
    "duration": 53,
    "start_time": "2022-04-07T14:39:42.393Z"
   },
   {
    "duration": 483,
    "start_time": "2022-04-07T14:39:48.780Z"
   },
   {
    "duration": 21,
    "start_time": "2022-04-07T14:39:49.265Z"
   },
   {
    "duration": 14,
    "start_time": "2022-04-07T14:39:49.287Z"
   },
   {
    "duration": 53,
    "start_time": "2022-04-07T14:39:49.303Z"
   },
   {
    "duration": 7,
    "start_time": "2022-04-07T14:39:49.358Z"
   },
   {
    "duration": 11,
    "start_time": "2022-04-07T14:39:49.367Z"
   },
   {
    "duration": 13,
    "start_time": "2022-04-07T14:39:49.380Z"
   },
   {
    "duration": 12,
    "start_time": "2022-04-07T14:39:49.394Z"
   },
   {
    "duration": 28,
    "start_time": "2022-04-07T14:39:49.408Z"
   },
   {
    "duration": 19,
    "start_time": "2022-04-07T14:39:49.439Z"
   },
   {
    "duration": 10,
    "start_time": "2022-04-07T14:39:49.460Z"
   },
   {
    "duration": 5,
    "start_time": "2022-04-07T14:39:49.472Z"
   },
   {
    "duration": 16,
    "start_time": "2022-04-07T14:39:49.479Z"
   },
   {
    "duration": 32,
    "start_time": "2022-04-07T14:39:49.497Z"
   },
   {
    "duration": 18,
    "start_time": "2022-04-07T14:39:49.534Z"
   },
   {
    "duration": 9,
    "start_time": "2022-04-07T14:39:49.555Z"
   },
   {
    "duration": 7,
    "start_time": "2022-04-07T14:39:49.566Z"
   },
   {
    "duration": 23,
    "start_time": "2022-04-07T14:39:49.575Z"
   },
   {
    "duration": 44,
    "start_time": "2022-04-07T14:39:49.600Z"
   },
   {
    "duration": 11,
    "start_time": "2022-04-07T14:39:49.646Z"
   },
   {
    "duration": 7,
    "start_time": "2022-04-07T14:39:49.658Z"
   },
   {
    "duration": 12,
    "start_time": "2022-04-07T14:39:49.667Z"
   },
   {
    "duration": 10,
    "start_time": "2022-04-07T14:39:49.681Z"
   },
   {
    "duration": 5,
    "start_time": "2022-04-07T14:39:49.693Z"
   },
   {
    "duration": 44,
    "start_time": "2022-04-07T14:39:49.699Z"
   },
   {
    "duration": 13,
    "start_time": "2022-04-07T14:39:49.746Z"
   },
   {
    "duration": 15,
    "start_time": "2022-04-07T14:39:49.761Z"
   },
   {
    "duration": 18,
    "start_time": "2022-04-07T14:39:49.780Z"
   },
   {
    "duration": 72,
    "start_time": "2022-04-07T14:39:49.800Z"
   },
   {
    "duration": 12,
    "start_time": "2022-04-07T14:39:49.874Z"
   },
   {
    "duration": 15,
    "start_time": "2022-04-07T14:39:49.888Z"
   },
   {
    "duration": 50,
    "start_time": "2022-04-07T14:39:49.904Z"
   },
   {
    "duration": 25,
    "start_time": "2022-04-07T14:39:49.955Z"
   },
   {
    "duration": 4160,
    "start_time": "2022-04-07T14:39:49.982Z"
   },
   {
    "duration": 28,
    "start_time": "2022-04-07T14:39:54.145Z"
   },
   {
    "duration": 618,
    "start_time": "2022-04-07T14:39:54.174Z"
   },
   {
    "duration": 6,
    "start_time": "2022-04-07T14:39:54.794Z"
   },
   {
    "duration": 34,
    "start_time": "2022-04-07T14:39:54.802Z"
   },
   {
    "duration": 166,
    "start_time": "2022-04-07T14:39:54.838Z"
   },
   {
    "duration": 36,
    "start_time": "2022-04-07T14:39:55.005Z"
   },
   {
    "duration": 147,
    "start_time": "2022-04-07T14:39:55.045Z"
   },
   {
    "duration": 39,
    "start_time": "2022-04-07T14:39:55.194Z"
   },
   {
    "duration": 148,
    "start_time": "2022-04-07T14:39:55.235Z"
   },
   {
    "duration": 1873,
    "start_time": "2022-04-07T14:40:07.347Z"
   },
   {
    "duration": 2107,
    "start_time": "2022-04-07T14:40:09.401Z"
   },
   {
    "duration": 507,
    "start_time": "2022-04-07T14:40:36.711Z"
   },
   {
    "duration": 20,
    "start_time": "2022-04-07T14:40:37.219Z"
   },
   {
    "duration": 13,
    "start_time": "2022-04-07T14:40:37.241Z"
   },
   {
    "duration": 29,
    "start_time": "2022-04-07T14:40:37.256Z"
   },
   {
    "duration": 7,
    "start_time": "2022-04-07T14:40:37.286Z"
   },
   {
    "duration": 8,
    "start_time": "2022-04-07T14:40:37.295Z"
   },
   {
    "duration": 7,
    "start_time": "2022-04-07T14:40:37.332Z"
   },
   {
    "duration": 10,
    "start_time": "2022-04-07T14:40:37.340Z"
   },
   {
    "duration": 9,
    "start_time": "2022-04-07T14:40:37.351Z"
   },
   {
    "duration": 11,
    "start_time": "2022-04-07T14:40:37.363Z"
   },
   {
    "duration": 12,
    "start_time": "2022-04-07T14:40:37.375Z"
   },
   {
    "duration": 4,
    "start_time": "2022-04-07T14:40:37.388Z"
   },
   {
    "duration": 45,
    "start_time": "2022-04-07T14:40:37.394Z"
   },
   {
    "duration": 24,
    "start_time": "2022-04-07T14:40:37.441Z"
   },
   {
    "duration": 11,
    "start_time": "2022-04-07T14:40:37.467Z"
   },
   {
    "duration": 10,
    "start_time": "2022-04-07T14:40:37.480Z"
   },
   {
    "duration": 42,
    "start_time": "2022-04-07T14:40:37.492Z"
   },
   {
    "duration": 24,
    "start_time": "2022-04-07T14:40:37.536Z"
   },
   {
    "duration": 9,
    "start_time": "2022-04-07T14:40:37.562Z"
   },
   {
    "duration": 6,
    "start_time": "2022-04-07T14:40:37.573Z"
   },
   {
    "duration": 9,
    "start_time": "2022-04-07T14:40:37.580Z"
   },
   {
    "duration": 44,
    "start_time": "2022-04-07T14:40:37.590Z"
   },
   {
    "duration": 13,
    "start_time": "2022-04-07T14:40:37.636Z"
   },
   {
    "duration": 7,
    "start_time": "2022-04-07T14:40:37.651Z"
   },
   {
    "duration": 12,
    "start_time": "2022-04-07T14:40:37.660Z"
   },
   {
    "duration": 5,
    "start_time": "2022-04-07T14:40:37.674Z"
   },
   {
    "duration": 53,
    "start_time": "2022-04-07T14:40:37.681Z"
   },
   {
    "duration": 18,
    "start_time": "2022-04-07T14:40:37.738Z"
   },
   {
    "duration": 35,
    "start_time": "2022-04-07T14:40:37.758Z"
   },
   {
    "duration": 40,
    "start_time": "2022-04-07T14:40:37.794Z"
   },
   {
    "duration": 14,
    "start_time": "2022-04-07T14:40:37.836Z"
   },
   {
    "duration": 15,
    "start_time": "2022-04-07T14:40:37.852Z"
   },
   {
    "duration": 27,
    "start_time": "2022-04-07T14:40:37.868Z"
   },
   {
    "duration": 3891,
    "start_time": "2022-04-07T14:40:37.897Z"
   },
   {
    "duration": 50,
    "start_time": "2022-04-07T14:40:41.790Z"
   },
   {
    "duration": 407,
    "start_time": "2022-04-07T14:40:41.842Z"
   },
   {
    "duration": 7,
    "start_time": "2022-04-07T14:40:42.252Z"
   },
   {
    "duration": 24,
    "start_time": "2022-04-07T14:40:42.261Z"
   },
   {
    "duration": 169,
    "start_time": "2022-04-07T14:40:42.287Z"
   },
   {
    "duration": 28,
    "start_time": "2022-04-07T14:40:42.458Z"
   },
   {
    "duration": 162,
    "start_time": "2022-04-07T14:40:42.488Z"
   },
   {
    "duration": 25,
    "start_time": "2022-04-07T14:40:42.652Z"
   },
   {
    "duration": 140,
    "start_time": "2022-04-07T14:40:42.678Z"
   },
   {
    "duration": 111,
    "start_time": "2022-04-07T14:46:40.060Z"
   },
   {
    "duration": 194,
    "start_time": "2022-04-07T14:46:45.948Z"
   },
   {
    "duration": 191,
    "start_time": "2022-04-07T14:46:56.183Z"
   },
   {
    "duration": 193,
    "start_time": "2022-04-07T14:46:59.926Z"
   },
   {
    "duration": 185,
    "start_time": "2022-04-07T14:47:05.190Z"
   },
   {
    "duration": 454,
    "start_time": "2022-04-07T14:47:12.594Z"
   },
   {
    "duration": 20,
    "start_time": "2022-04-07T14:47:13.050Z"
   },
   {
    "duration": 13,
    "start_time": "2022-04-07T14:47:13.071Z"
   },
   {
    "duration": 51,
    "start_time": "2022-04-07T14:47:13.086Z"
   },
   {
    "duration": 8,
    "start_time": "2022-04-07T14:47:13.139Z"
   },
   {
    "duration": 16,
    "start_time": "2022-04-07T14:47:13.149Z"
   },
   {
    "duration": 14,
    "start_time": "2022-04-07T14:47:13.166Z"
   },
   {
    "duration": 9,
    "start_time": "2022-04-07T14:47:13.182Z"
   },
   {
    "duration": 12,
    "start_time": "2022-04-07T14:47:13.193Z"
   },
   {
    "duration": 32,
    "start_time": "2022-04-07T14:47:13.208Z"
   },
   {
    "duration": 11,
    "start_time": "2022-04-07T14:47:13.242Z"
   },
   {
    "duration": 6,
    "start_time": "2022-04-07T14:47:13.255Z"
   },
   {
    "duration": 8,
    "start_time": "2022-04-07T14:47:13.263Z"
   },
   {
    "duration": 212,
    "start_time": "2022-04-07T14:47:13.273Z"
   },
   {
    "duration": 10,
    "start_time": "2022-04-07T14:47:13.487Z"
   },
   {
    "duration": 10,
    "start_time": "2022-04-07T14:47:13.498Z"
   },
   {
    "duration": 28,
    "start_time": "2022-04-07T14:47:13.509Z"
   },
   {
    "duration": 23,
    "start_time": "2022-04-07T14:47:13.538Z"
   },
   {
    "duration": 8,
    "start_time": "2022-04-07T14:47:13.562Z"
   },
   {
    "duration": 4,
    "start_time": "2022-04-07T14:47:13.571Z"
   },
   {
    "duration": 6,
    "start_time": "2022-04-07T14:47:13.577Z"
   },
   {
    "duration": 10,
    "start_time": "2022-04-07T14:47:13.584Z"
   },
   {
    "duration": 43,
    "start_time": "2022-04-07T14:47:13.596Z"
   },
   {
    "duration": 5,
    "start_time": "2022-04-07T14:47:13.641Z"
   },
   {
    "duration": 12,
    "start_time": "2022-04-07T14:47:13.648Z"
   },
   {
    "duration": 6,
    "start_time": "2022-04-07T14:47:13.661Z"
   },
   {
    "duration": 17,
    "start_time": "2022-04-07T14:47:13.669Z"
   },
   {
    "duration": 45,
    "start_time": "2022-04-07T14:47:13.689Z"
   },
   {
    "duration": 34,
    "start_time": "2022-04-07T14:47:13.736Z"
   },
   {
    "duration": 12,
    "start_time": "2022-04-07T14:47:13.772Z"
   },
   {
    "duration": 25,
    "start_time": "2022-04-07T14:47:13.786Z"
   },
   {
    "duration": 31,
    "start_time": "2022-04-07T14:47:13.812Z"
   },
   {
    "duration": 25,
    "start_time": "2022-04-07T14:47:13.845Z"
   },
   {
    "duration": 3303,
    "start_time": "2022-04-07T14:47:13.872Z"
   },
   {
    "duration": 25,
    "start_time": "2022-04-07T14:47:17.177Z"
   },
   {
    "duration": 401,
    "start_time": "2022-04-07T14:47:17.203Z"
   },
   {
    "duration": 7,
    "start_time": "2022-04-07T14:47:17.606Z"
   },
   {
    "duration": 35,
    "start_time": "2022-04-07T14:47:17.615Z"
   },
   {
    "duration": 155,
    "start_time": "2022-04-07T14:47:17.651Z"
   },
   {
    "duration": 33,
    "start_time": "2022-04-07T14:47:17.808Z"
   },
   {
    "duration": 145,
    "start_time": "2022-04-07T14:47:17.843Z"
   },
   {
    "duration": 26,
    "start_time": "2022-04-07T14:47:17.989Z"
   },
   {
    "duration": 139,
    "start_time": "2022-04-07T14:47:18.016Z"
   },
   {
    "duration": 191,
    "start_time": "2022-04-07T14:47:23.627Z"
   },
   {
    "duration": 108,
    "start_time": "2022-04-07T14:51:32.441Z"
   },
   {
    "duration": 192,
    "start_time": "2022-04-07T14:51:39.223Z"
   },
   {
    "duration": 238,
    "start_time": "2022-04-07T14:51:46.954Z"
   },
   {
    "duration": 182,
    "start_time": "2022-04-07T14:51:50.083Z"
   },
   {
    "duration": 191,
    "start_time": "2022-04-07T14:52:35.146Z"
   },
   {
    "duration": 129,
    "start_time": "2022-04-07T15:03:03.333Z"
   },
   {
    "duration": 1997,
    "start_time": "2022-04-07T15:04:01.422Z"
   },
   {
    "duration": 1705,
    "start_time": "2022-04-07T15:05:35.964Z"
   },
   {
    "duration": 2199,
    "start_time": "2022-04-07T15:06:19.570Z"
   },
   {
    "duration": 487,
    "start_time": "2022-04-07T15:06:27.742Z"
   },
   {
    "duration": 21,
    "start_time": "2022-04-07T15:06:28.232Z"
   },
   {
    "duration": 14,
    "start_time": "2022-04-07T15:06:28.255Z"
   },
   {
    "duration": 31,
    "start_time": "2022-04-07T15:06:28.272Z"
   },
   {
    "duration": 9,
    "start_time": "2022-04-07T15:06:28.332Z"
   },
   {
    "duration": 8,
    "start_time": "2022-04-07T15:06:28.343Z"
   },
   {
    "duration": 8,
    "start_time": "2022-04-07T15:06:28.353Z"
   },
   {
    "duration": 9,
    "start_time": "2022-04-07T15:06:28.363Z"
   },
   {
    "duration": 9,
    "start_time": "2022-04-07T15:06:28.373Z"
   },
   {
    "duration": 10,
    "start_time": "2022-04-07T15:06:28.385Z"
   },
   {
    "duration": 10,
    "start_time": "2022-04-07T15:06:28.433Z"
   },
   {
    "duration": 4,
    "start_time": "2022-04-07T15:06:28.445Z"
   },
   {
    "duration": 13,
    "start_time": "2022-04-07T15:06:28.451Z"
   },
   {
    "duration": 206,
    "start_time": "2022-04-07T15:06:28.466Z"
   },
   {
    "duration": 12,
    "start_time": "2022-04-07T15:06:28.674Z"
   },
   {
    "duration": 10,
    "start_time": "2022-04-07T15:06:28.687Z"
   },
   {
    "duration": 34,
    "start_time": "2022-04-07T15:06:28.699Z"
   },
   {
    "duration": 24,
    "start_time": "2022-04-07T15:06:28.735Z"
   },
   {
    "duration": 9,
    "start_time": "2022-04-07T15:06:28.760Z"
   },
   {
    "duration": 4,
    "start_time": "2022-04-07T15:06:28.771Z"
   },
   {
    "duration": 6,
    "start_time": "2022-04-07T15:06:28.777Z"
   },
   {
    "duration": 10,
    "start_time": "2022-04-07T15:06:28.785Z"
   },
   {
    "duration": 11,
    "start_time": "2022-04-07T15:06:28.833Z"
   },
   {
    "duration": 6,
    "start_time": "2022-04-07T15:06:28.845Z"
   },
   {
    "duration": 10,
    "start_time": "2022-04-07T15:06:28.852Z"
   },
   {
    "duration": 86,
    "start_time": "2022-04-07T15:06:28.863Z"
   },
   {
    "duration": 0,
    "start_time": "2022-04-07T15:06:28.952Z"
   },
   {
    "duration": 0,
    "start_time": "2022-04-07T15:06:28.953Z"
   },
   {
    "duration": 0,
    "start_time": "2022-04-07T15:06:28.954Z"
   },
   {
    "duration": 0,
    "start_time": "2022-04-07T15:06:28.955Z"
   },
   {
    "duration": 0,
    "start_time": "2022-04-07T15:06:28.956Z"
   },
   {
    "duration": 0,
    "start_time": "2022-04-07T15:06:28.957Z"
   },
   {
    "duration": 0,
    "start_time": "2022-04-07T15:06:28.958Z"
   },
   {
    "duration": 0,
    "start_time": "2022-04-07T15:06:28.959Z"
   },
   {
    "duration": 0,
    "start_time": "2022-04-07T15:06:28.960Z"
   },
   {
    "duration": 0,
    "start_time": "2022-04-07T15:06:28.961Z"
   },
   {
    "duration": 0,
    "start_time": "2022-04-07T15:06:28.961Z"
   },
   {
    "duration": 0,
    "start_time": "2022-04-07T15:06:28.962Z"
   },
   {
    "duration": 0,
    "start_time": "2022-04-07T15:06:28.963Z"
   },
   {
    "duration": 0,
    "start_time": "2022-04-07T15:06:28.964Z"
   },
   {
    "duration": 0,
    "start_time": "2022-04-07T15:06:28.965Z"
   },
   {
    "duration": 0,
    "start_time": "2022-04-07T15:06:28.966Z"
   },
   {
    "duration": 0,
    "start_time": "2022-04-07T15:06:28.967Z"
   },
   {
    "duration": 185,
    "start_time": "2022-04-07T15:07:06.322Z"
   },
   {
    "duration": 10,
    "start_time": "2022-04-07T15:07:08.906Z"
   },
   {
    "duration": 1840,
    "start_time": "2022-04-07T15:13:59.624Z"
   },
   {
    "duration": 291,
    "start_time": "2022-04-07T15:14:43.758Z"
   },
   {
    "duration": 190,
    "start_time": "2022-04-07T15:14:51.197Z"
   },
   {
    "duration": 11,
    "start_time": "2022-04-07T15:14:54.223Z"
   },
   {
    "duration": 287,
    "start_time": "2022-04-07T15:17:23.449Z"
   },
   {
    "duration": 16,
    "start_time": "2022-04-07T15:17:31.684Z"
   },
   {
    "duration": 285,
    "start_time": "2022-04-07T15:17:49.925Z"
   },
   {
    "duration": 14,
    "start_time": "2022-04-07T15:17:56.276Z"
   },
   {
    "duration": 580,
    "start_time": "2022-04-07T15:18:03.543Z"
   },
   {
    "duration": 20,
    "start_time": "2022-04-07T15:18:04.126Z"
   },
   {
    "duration": 14,
    "start_time": "2022-04-07T15:18:04.147Z"
   },
   {
    "duration": 32,
    "start_time": "2022-04-07T15:18:04.163Z"
   },
   {
    "duration": 8,
    "start_time": "2022-04-07T15:18:04.197Z"
   },
   {
    "duration": 8,
    "start_time": "2022-04-07T15:18:04.234Z"
   },
   {
    "duration": 12,
    "start_time": "2022-04-07T15:18:04.243Z"
   },
   {
    "duration": 12,
    "start_time": "2022-04-07T15:18:04.256Z"
   },
   {
    "duration": 12,
    "start_time": "2022-04-07T15:18:04.270Z"
   },
   {
    "duration": 48,
    "start_time": "2022-04-07T15:18:04.286Z"
   },
   {
    "duration": 16,
    "start_time": "2022-04-07T15:18:04.336Z"
   },
   {
    "duration": 5,
    "start_time": "2022-04-07T15:18:04.353Z"
   },
   {
    "duration": 14,
    "start_time": "2022-04-07T15:18:04.360Z"
   },
   {
    "duration": 316,
    "start_time": "2022-04-07T15:18:04.376Z"
   },
   {
    "duration": 15,
    "start_time": "2022-04-07T15:18:04.694Z"
   },
   {
    "duration": 23,
    "start_time": "2022-04-07T15:18:04.711Z"
   },
   {
    "duration": 9,
    "start_time": "2022-04-07T15:18:04.736Z"
   },
   {
    "duration": 32,
    "start_time": "2022-04-07T15:18:04.747Z"
   },
   {
    "duration": 10,
    "start_time": "2022-04-07T15:18:04.781Z"
   },
   {
    "duration": 6,
    "start_time": "2022-04-07T15:18:04.793Z"
   },
   {
    "duration": 33,
    "start_time": "2022-04-07T15:18:04.801Z"
   },
   {
    "duration": 14,
    "start_time": "2022-04-07T15:18:04.835Z"
   },
   {
    "duration": 13,
    "start_time": "2022-04-07T15:18:04.851Z"
   },
   {
    "duration": 5,
    "start_time": "2022-04-07T15:18:04.866Z"
   },
   {
    "duration": 13,
    "start_time": "2022-04-07T15:18:04.873Z"
   },
   {
    "duration": 9,
    "start_time": "2022-04-07T15:18:04.888Z"
   },
   {
    "duration": 44,
    "start_time": "2022-04-07T15:18:04.898Z"
   },
   {
    "duration": 21,
    "start_time": "2022-04-07T15:18:04.946Z"
   },
   {
    "duration": 36,
    "start_time": "2022-04-07T15:18:04.969Z"
   },
   {
    "duration": 36,
    "start_time": "2022-04-07T15:18:05.007Z"
   },
   {
    "duration": 14,
    "start_time": "2022-04-07T15:18:05.045Z"
   },
   {
    "duration": 18,
    "start_time": "2022-04-07T15:18:05.061Z"
   },
   {
    "duration": 57,
    "start_time": "2022-04-07T15:18:05.081Z"
   },
   {
    "duration": 4165,
    "start_time": "2022-04-07T15:18:05.140Z"
   },
   {
    "duration": 44,
    "start_time": "2022-04-07T15:18:09.307Z"
   },
   {
    "duration": 419,
    "start_time": "2022-04-07T15:18:09.354Z"
   },
   {
    "duration": 8,
    "start_time": "2022-04-07T15:18:09.774Z"
   },
   {
    "duration": 30,
    "start_time": "2022-04-07T15:18:09.784Z"
   },
   {
    "duration": 172,
    "start_time": "2022-04-07T15:18:09.833Z"
   },
   {
    "duration": 53,
    "start_time": "2022-04-07T15:18:10.006Z"
   },
   {
    "duration": 201,
    "start_time": "2022-04-07T15:18:10.061Z"
   },
   {
    "duration": 26,
    "start_time": "2022-04-07T15:18:10.264Z"
   },
   {
    "duration": 148,
    "start_time": "2022-04-07T15:18:10.292Z"
   },
   {
    "duration": 108,
    "start_time": "2022-04-07T15:19:51.680Z"
   },
   {
    "duration": 188,
    "start_time": "2022-04-07T15:19:58.247Z"
   },
   {
    "duration": 201,
    "start_time": "2022-04-07T15:20:04.073Z"
   },
   {
    "duration": 11,
    "start_time": "2022-04-07T15:20:06.012Z"
   },
   {
    "duration": 76,
    "start_time": "2022-04-07T15:20:09.639Z"
   },
   {
    "duration": 12,
    "start_time": "2022-04-07T15:20:14.078Z"
   },
   {
    "duration": 11,
    "start_time": "2022-04-07T15:20:40.701Z"
   },
   {
    "duration": 64,
    "start_time": "2022-04-07T15:20:41.645Z"
   },
   {
    "duration": 532,
    "start_time": "2022-04-07T15:20:46.422Z"
   },
   {
    "duration": 19,
    "start_time": "2022-04-07T15:20:46.956Z"
   },
   {
    "duration": 12,
    "start_time": "2022-04-07T15:20:46.977Z"
   },
   {
    "duration": 52,
    "start_time": "2022-04-07T15:20:46.992Z"
   },
   {
    "duration": 10,
    "start_time": "2022-04-07T15:20:47.046Z"
   },
   {
    "duration": 7,
    "start_time": "2022-04-07T15:20:47.058Z"
   },
   {
    "duration": 9,
    "start_time": "2022-04-07T15:20:47.067Z"
   },
   {
    "duration": 9,
    "start_time": "2022-04-07T15:20:47.077Z"
   },
   {
    "duration": 12,
    "start_time": "2022-04-07T15:20:47.087Z"
   },
   {
    "duration": 18,
    "start_time": "2022-04-07T15:20:47.133Z"
   },
   {
    "duration": 10,
    "start_time": "2022-04-07T15:20:47.153Z"
   },
   {
    "duration": 5,
    "start_time": "2022-04-07T15:20:47.165Z"
   },
   {
    "duration": 9,
    "start_time": "2022-04-07T15:20:47.171Z"
   },
   {
    "duration": 237,
    "start_time": "2022-04-07T15:20:47.182Z"
   },
   {
    "duration": 10,
    "start_time": "2022-04-07T15:20:47.420Z"
   },
   {
    "duration": 27,
    "start_time": "2022-04-07T15:20:47.432Z"
   },
   {
    "duration": 7,
    "start_time": "2022-04-07T15:20:47.461Z"
   },
   {
    "duration": 23,
    "start_time": "2022-04-07T15:20:47.470Z"
   },
   {
    "duration": 8,
    "start_time": "2022-04-07T15:20:47.495Z"
   },
   {
    "duration": 4,
    "start_time": "2022-04-07T15:20:47.505Z"
   },
   {
    "duration": 43,
    "start_time": "2022-04-07T15:20:47.510Z"
   },
   {
    "duration": 15,
    "start_time": "2022-04-07T15:20:47.555Z"
   },
   {
    "duration": 11,
    "start_time": "2022-04-07T15:20:47.572Z"
   },
   {
    "duration": 5,
    "start_time": "2022-04-07T15:20:47.585Z"
   },
   {
    "duration": 15,
    "start_time": "2022-04-07T15:20:47.592Z"
   },
   {
    "duration": 6,
    "start_time": "2022-04-07T15:20:47.609Z"
   },
   {
    "duration": 24,
    "start_time": "2022-04-07T15:20:47.636Z"
   },
   {
    "duration": 19,
    "start_time": "2022-04-07T15:20:47.663Z"
   },
   {
    "duration": 59,
    "start_time": "2022-04-07T15:20:47.683Z"
   },
   {
    "duration": 14,
    "start_time": "2022-04-07T15:20:47.745Z"
   },
   {
    "duration": 15,
    "start_time": "2022-04-07T15:20:47.760Z"
   },
   {
    "duration": 16,
    "start_time": "2022-04-07T15:20:47.776Z"
   },
   {
    "duration": 65,
    "start_time": "2022-04-07T15:20:47.793Z"
   },
   {
    "duration": 4045,
    "start_time": "2022-04-07T15:20:47.859Z"
   },
   {
    "duration": 41,
    "start_time": "2022-04-07T15:20:51.906Z"
   },
   {
    "duration": 457,
    "start_time": "2022-04-07T15:20:51.949Z"
   },
   {
    "duration": 6,
    "start_time": "2022-04-07T15:20:52.408Z"
   },
   {
    "duration": 35,
    "start_time": "2022-04-07T15:20:52.416Z"
   },
   {
    "duration": 230,
    "start_time": "2022-04-07T15:20:52.453Z"
   },
   {
    "duration": 33,
    "start_time": "2022-04-07T15:20:52.686Z"
   },
   {
    "duration": 156,
    "start_time": "2022-04-07T15:20:52.734Z"
   },
   {
    "duration": 27,
    "start_time": "2022-04-07T15:20:52.892Z"
   },
   {
    "duration": 150,
    "start_time": "2022-04-07T15:20:52.934Z"
   },
   {
    "duration": 200,
    "start_time": "2022-04-07T15:21:44.112Z"
   },
   {
    "duration": 10,
    "start_time": "2022-04-07T15:21:46.644Z"
   },
   {
    "duration": 503,
    "start_time": "2022-04-07T15:21:52.414Z"
   },
   {
    "duration": 22,
    "start_time": "2022-04-07T15:21:52.919Z"
   },
   {
    "duration": 18,
    "start_time": "2022-04-07T15:21:52.943Z"
   },
   {
    "duration": 28,
    "start_time": "2022-04-07T15:21:52.963Z"
   },
   {
    "duration": 7,
    "start_time": "2022-04-07T15:21:52.993Z"
   },
   {
    "duration": 35,
    "start_time": "2022-04-07T15:21:53.001Z"
   },
   {
    "duration": 18,
    "start_time": "2022-04-07T15:21:53.038Z"
   },
   {
    "duration": 9,
    "start_time": "2022-04-07T15:21:53.058Z"
   },
   {
    "duration": 8,
    "start_time": "2022-04-07T15:21:53.069Z"
   },
   {
    "duration": 9,
    "start_time": "2022-04-07T15:21:53.080Z"
   },
   {
    "duration": 9,
    "start_time": "2022-04-07T15:21:53.091Z"
   },
   {
    "duration": 3,
    "start_time": "2022-04-07T15:21:53.102Z"
   },
   {
    "duration": 36,
    "start_time": "2022-04-07T15:21:53.107Z"
   },
   {
    "duration": 212,
    "start_time": "2022-04-07T15:21:53.145Z"
   },
   {
    "duration": 10,
    "start_time": "2022-04-07T15:21:53.360Z"
   },
   {
    "duration": 11,
    "start_time": "2022-04-07T15:21:53.371Z"
   },
   {
    "duration": 7,
    "start_time": "2022-04-07T15:21:53.384Z"
   },
   {
    "duration": 47,
    "start_time": "2022-04-07T15:21:53.392Z"
   },
   {
    "duration": 11,
    "start_time": "2022-04-07T15:21:53.441Z"
   },
   {
    "duration": 5,
    "start_time": "2022-04-07T15:21:53.453Z"
   },
   {
    "duration": 7,
    "start_time": "2022-04-07T15:21:53.460Z"
   },
   {
    "duration": 12,
    "start_time": "2022-04-07T15:21:53.468Z"
   },
   {
    "duration": 10,
    "start_time": "2022-04-07T15:21:53.482Z"
   },
   {
    "duration": 45,
    "start_time": "2022-04-07T15:21:53.494Z"
   },
   {
    "duration": 17,
    "start_time": "2022-04-07T15:21:53.541Z"
   },
   {
    "duration": 7,
    "start_time": "2022-04-07T15:21:53.559Z"
   },
   {
    "duration": 18,
    "start_time": "2022-04-07T15:21:53.567Z"
   },
   {
    "duration": 18,
    "start_time": "2022-04-07T15:21:53.588Z"
   },
   {
    "duration": 61,
    "start_time": "2022-04-07T15:21:53.608Z"
   },
   {
    "duration": 11,
    "start_time": "2022-04-07T15:21:53.671Z"
   },
   {
    "duration": 13,
    "start_time": "2022-04-07T15:21:53.684Z"
   },
   {
    "duration": 46,
    "start_time": "2022-04-07T15:21:53.699Z"
   },
   {
    "duration": 24,
    "start_time": "2022-04-07T15:21:53.747Z"
   },
   {
    "duration": 3688,
    "start_time": "2022-04-07T15:21:53.773Z"
   },
   {
    "duration": 22,
    "start_time": "2022-04-07T15:21:57.463Z"
   },
   {
    "duration": 430,
    "start_time": "2022-04-07T15:21:57.487Z"
   },
   {
    "duration": 7,
    "start_time": "2022-04-07T15:21:57.919Z"
   },
   {
    "duration": 27,
    "start_time": "2022-04-07T15:21:57.934Z"
   },
   {
    "duration": 170,
    "start_time": "2022-04-07T15:21:57.963Z"
   },
   {
    "duration": 29,
    "start_time": "2022-04-07T15:21:58.135Z"
   },
   {
    "duration": 153,
    "start_time": "2022-04-07T15:21:58.166Z"
   },
   {
    "duration": 40,
    "start_time": "2022-04-07T15:21:58.321Z"
   },
   {
    "duration": 143,
    "start_time": "2022-04-07T15:21:58.363Z"
   },
   {
    "duration": 190,
    "start_time": "2022-04-07T15:23:25.043Z"
   },
   {
    "duration": 196,
    "start_time": "2022-04-07T15:23:28.739Z"
   },
   {
    "duration": 11,
    "start_time": "2022-04-07T15:23:30.690Z"
   },
   {
    "duration": 492,
    "start_time": "2022-04-07T15:23:36.867Z"
   },
   {
    "duration": 19,
    "start_time": "2022-04-07T15:23:37.361Z"
   },
   {
    "duration": 12,
    "start_time": "2022-04-07T15:23:37.382Z"
   },
   {
    "duration": 55,
    "start_time": "2022-04-07T15:23:37.396Z"
   },
   {
    "duration": 8,
    "start_time": "2022-04-07T15:23:37.453Z"
   },
   {
    "duration": 11,
    "start_time": "2022-04-07T15:23:37.462Z"
   },
   {
    "duration": 7,
    "start_time": "2022-04-07T15:23:37.475Z"
   },
   {
    "duration": 7,
    "start_time": "2022-04-07T15:23:37.484Z"
   },
   {
    "duration": 8,
    "start_time": "2022-04-07T15:23:37.492Z"
   },
   {
    "duration": 36,
    "start_time": "2022-04-07T15:23:37.503Z"
   },
   {
    "duration": 19,
    "start_time": "2022-04-07T15:23:37.541Z"
   },
   {
    "duration": 4,
    "start_time": "2022-04-07T15:23:37.562Z"
   },
   {
    "duration": 9,
    "start_time": "2022-04-07T15:23:37.568Z"
   },
   {
    "duration": 221,
    "start_time": "2022-04-07T15:23:37.580Z"
   },
   {
    "duration": 11,
    "start_time": "2022-04-07T15:23:37.802Z"
   },
   {
    "duration": 24,
    "start_time": "2022-04-07T15:23:37.814Z"
   },
   {
    "duration": 10,
    "start_time": "2022-04-07T15:23:37.840Z"
   },
   {
    "duration": 23,
    "start_time": "2022-04-07T15:23:37.852Z"
   },
   {
    "duration": 8,
    "start_time": "2022-04-07T15:23:37.877Z"
   },
   {
    "duration": 4,
    "start_time": "2022-04-07T15:23:37.887Z"
   },
   {
    "duration": 42,
    "start_time": "2022-04-07T15:23:37.892Z"
   },
   {
    "duration": 16,
    "start_time": "2022-04-07T15:23:37.936Z"
   },
   {
    "duration": 10,
    "start_time": "2022-04-07T15:23:37.954Z"
   },
   {
    "duration": 5,
    "start_time": "2022-04-07T15:23:37.965Z"
   },
   {
    "duration": 9,
    "start_time": "2022-04-07T15:23:37.971Z"
   },
   {
    "duration": 5,
    "start_time": "2022-04-07T15:23:37.981Z"
   },
   {
    "duration": 60,
    "start_time": "2022-04-07T15:23:37.987Z"
   },
   {
    "duration": 18,
    "start_time": "2022-04-07T15:23:38.050Z"
   },
   {
    "duration": 36,
    "start_time": "2022-04-07T15:23:38.069Z"
   },
   {
    "duration": 37,
    "start_time": "2022-04-07T15:23:38.107Z"
   },
   {
    "duration": 15,
    "start_time": "2022-04-07T15:23:38.148Z"
   },
   {
    "duration": 15,
    "start_time": "2022-04-07T15:23:38.165Z"
   },
   {
    "duration": 23,
    "start_time": "2022-04-07T15:23:38.182Z"
   },
   {
    "duration": 3599,
    "start_time": "2022-04-07T15:23:38.207Z"
   },
   {
    "duration": 42,
    "start_time": "2022-04-07T15:23:41.807Z"
   },
   {
    "duration": 408,
    "start_time": "2022-04-07T15:23:41.851Z"
   },
   {
    "duration": 7,
    "start_time": "2022-04-07T15:23:42.261Z"
   },
   {
    "duration": 24,
    "start_time": "2022-04-07T15:23:42.269Z"
   },
   {
    "duration": 181,
    "start_time": "2022-04-07T15:23:42.294Z"
   },
   {
    "duration": 25,
    "start_time": "2022-04-07T15:23:42.477Z"
   },
   {
    "duration": 157,
    "start_time": "2022-04-07T15:23:42.503Z"
   },
   {
    "duration": 26,
    "start_time": "2022-04-07T15:23:42.661Z"
   },
   {
    "duration": 161,
    "start_time": "2022-04-07T15:23:42.689Z"
   },
   {
    "duration": 16,
    "start_time": "2022-04-07T15:24:52.261Z"
   },
   {
    "duration": 179,
    "start_time": "2022-04-07T15:25:13.582Z"
   },
   {
    "duration": 10,
    "start_time": "2022-04-07T15:25:16.022Z"
   },
   {
    "duration": 181,
    "start_time": "2022-04-07T15:28:35.651Z"
   },
   {
    "duration": 487,
    "start_time": "2022-04-07T15:28:41.626Z"
   },
   {
    "duration": 20,
    "start_time": "2022-04-07T15:28:42.115Z"
   },
   {
    "duration": 13,
    "start_time": "2022-04-07T15:28:42.137Z"
   },
   {
    "duration": 29,
    "start_time": "2022-04-07T15:28:42.152Z"
   },
   {
    "duration": 7,
    "start_time": "2022-04-07T15:28:42.183Z"
   },
   {
    "duration": 41,
    "start_time": "2022-04-07T15:28:42.192Z"
   },
   {
    "duration": 8,
    "start_time": "2022-04-07T15:28:42.235Z"
   },
   {
    "duration": 8,
    "start_time": "2022-04-07T15:28:42.245Z"
   },
   {
    "duration": 10,
    "start_time": "2022-04-07T15:28:42.255Z"
   },
   {
    "duration": 10,
    "start_time": "2022-04-07T15:28:42.269Z"
   },
   {
    "duration": 11,
    "start_time": "2022-04-07T15:28:42.281Z"
   },
   {
    "duration": 42,
    "start_time": "2022-04-07T15:28:42.293Z"
   },
   {
    "duration": 191,
    "start_time": "2022-04-07T15:28:42.337Z"
   },
   {
    "duration": 11,
    "start_time": "2022-04-07T15:28:42.529Z"
   },
   {
    "duration": 9,
    "start_time": "2022-04-07T15:28:42.542Z"
   },
   {
    "duration": 8,
    "start_time": "2022-04-07T15:28:42.552Z"
   },
   {
    "duration": 210,
    "start_time": "2022-04-07T15:28:42.561Z"
   },
   {
    "duration": 8,
    "start_time": "2022-04-07T15:28:42.773Z"
   },
   {
    "duration": 4,
    "start_time": "2022-04-07T15:28:42.783Z"
   },
   {
    "duration": 9,
    "start_time": "2022-04-07T15:28:42.789Z"
   },
   {
    "duration": 37,
    "start_time": "2022-04-07T15:28:42.799Z"
   },
   {
    "duration": 10,
    "start_time": "2022-04-07T15:28:42.838Z"
   },
   {
    "duration": 9,
    "start_time": "2022-04-07T15:28:42.850Z"
   },
   {
    "duration": 8,
    "start_time": "2022-04-07T15:28:42.861Z"
   },
   {
    "duration": 6,
    "start_time": "2022-04-07T15:28:42.870Z"
   },
   {
    "duration": 17,
    "start_time": "2022-04-07T15:28:42.877Z"
   },
   {
    "duration": 52,
    "start_time": "2022-04-07T15:28:42.895Z"
   },
   {
    "duration": 35,
    "start_time": "2022-04-07T15:28:42.951Z"
   },
   {
    "duration": 12,
    "start_time": "2022-04-07T15:28:42.987Z"
   },
   {
    "duration": 35,
    "start_time": "2022-04-07T15:28:43.001Z"
   },
   {
    "duration": 15,
    "start_time": "2022-04-07T15:28:43.038Z"
   },
   {
    "duration": 24,
    "start_time": "2022-04-07T15:28:43.054Z"
   },
   {
    "duration": 3518,
    "start_time": "2022-04-07T15:28:43.080Z"
   },
   {
    "duration": 36,
    "start_time": "2022-04-07T15:28:46.600Z"
   },
   {
    "duration": 395,
    "start_time": "2022-04-07T15:28:46.638Z"
   },
   {
    "duration": 6,
    "start_time": "2022-04-07T15:28:47.035Z"
   },
   {
    "duration": 24,
    "start_time": "2022-04-07T15:28:47.042Z"
   },
   {
    "duration": 160,
    "start_time": "2022-04-07T15:28:47.067Z"
   },
   {
    "duration": 23,
    "start_time": "2022-04-07T15:28:47.232Z"
   },
   {
    "duration": 147,
    "start_time": "2022-04-07T15:28:47.257Z"
   },
   {
    "duration": 34,
    "start_time": "2022-04-07T15:28:47.406Z"
   },
   {
    "duration": 135,
    "start_time": "2022-04-07T15:28:47.442Z"
   },
   {
    "duration": 81,
    "start_time": "2022-04-07T15:34:02.907Z"
   },
   {
    "duration": 8,
    "start_time": "2022-04-07T15:34:04.565Z"
   },
   {
    "duration": 446,
    "start_time": "2022-04-07T15:34:27.184Z"
   },
   {
    "duration": 21,
    "start_time": "2022-04-07T15:34:27.632Z"
   },
   {
    "duration": 13,
    "start_time": "2022-04-07T15:34:27.655Z"
   },
   {
    "duration": 30,
    "start_time": "2022-04-07T15:34:27.670Z"
   },
   {
    "duration": 7,
    "start_time": "2022-04-07T15:34:27.702Z"
   },
   {
    "duration": 7,
    "start_time": "2022-04-07T15:34:27.734Z"
   },
   {
    "duration": 7,
    "start_time": "2022-04-07T15:34:27.742Z"
   },
   {
    "duration": 8,
    "start_time": "2022-04-07T15:34:27.751Z"
   },
   {
    "duration": 9,
    "start_time": "2022-04-07T15:34:27.760Z"
   },
   {
    "duration": 10,
    "start_time": "2022-04-07T15:34:27.771Z"
   },
   {
    "duration": 10,
    "start_time": "2022-04-07T15:34:27.783Z"
   },
   {
    "duration": 5,
    "start_time": "2022-04-07T15:34:27.833Z"
   },
   {
    "duration": 10,
    "start_time": "2022-04-07T15:34:27.840Z"
   },
   {
    "duration": 23,
    "start_time": "2022-04-07T15:34:27.852Z"
   },
   {
    "duration": 11,
    "start_time": "2022-04-07T15:34:27.877Z"
   },
   {
    "duration": 9,
    "start_time": "2022-04-07T15:34:27.890Z"
   },
   {
    "duration": 8,
    "start_time": "2022-04-07T15:34:27.932Z"
   },
   {
    "duration": 22,
    "start_time": "2022-04-07T15:34:27.942Z"
   },
   {
    "duration": 8,
    "start_time": "2022-04-07T15:34:27.966Z"
   },
   {
    "duration": 5,
    "start_time": "2022-04-07T15:34:27.975Z"
   },
   {
    "duration": 7,
    "start_time": "2022-04-07T15:34:27.981Z"
   },
   {
    "duration": 44,
    "start_time": "2022-04-07T15:34:27.989Z"
   },
   {
    "duration": 11,
    "start_time": "2022-04-07T15:34:28.035Z"
   },
   {
    "duration": 5,
    "start_time": "2022-04-07T15:34:28.048Z"
   },
   {
    "duration": 11,
    "start_time": "2022-04-07T15:34:28.054Z"
   },
   {
    "duration": 5,
    "start_time": "2022-04-07T15:34:28.067Z"
   },
   {
    "duration": 17,
    "start_time": "2022-04-07T15:34:28.074Z"
   },
   {
    "duration": 51,
    "start_time": "2022-04-07T15:34:28.095Z"
   },
   {
    "duration": 35,
    "start_time": "2022-04-07T15:34:28.148Z"
   },
   {
    "duration": 11,
    "start_time": "2022-04-07T15:34:28.186Z"
   },
   {
    "duration": 39,
    "start_time": "2022-04-07T15:34:28.199Z"
   },
   {
    "duration": 16,
    "start_time": "2022-04-07T15:34:28.241Z"
   },
   {
    "duration": 28,
    "start_time": "2022-04-07T15:34:28.259Z"
   },
   {
    "duration": 3692,
    "start_time": "2022-04-07T15:34:28.289Z"
   },
   {
    "duration": 24,
    "start_time": "2022-04-07T15:34:31.983Z"
   },
   {
    "duration": 415,
    "start_time": "2022-04-07T15:34:32.009Z"
   },
   {
    "duration": 11,
    "start_time": "2022-04-07T15:34:32.426Z"
   },
   {
    "duration": 23,
    "start_time": "2022-04-07T15:34:32.438Z"
   },
   {
    "duration": 175,
    "start_time": "2022-04-07T15:34:32.463Z"
   },
   {
    "duration": 27,
    "start_time": "2022-04-07T15:34:32.641Z"
   },
   {
    "duration": 153,
    "start_time": "2022-04-07T15:34:32.669Z"
   },
   {
    "duration": 31,
    "start_time": "2022-04-07T15:34:32.823Z"
   },
   {
    "duration": 148,
    "start_time": "2022-04-07T15:34:32.856Z"
   },
   {
    "duration": 6,
    "start_time": "2022-04-07T15:39:35.264Z"
   },
   {
    "duration": 32,
    "start_time": "2022-04-07T15:41:57.334Z"
   },
   {
    "duration": 72,
    "start_time": "2022-04-07T15:42:28.636Z"
   },
   {
    "duration": 426,
    "start_time": "2022-04-07T15:42:34.291Z"
   },
   {
    "duration": 22,
    "start_time": "2022-04-07T15:42:34.720Z"
   },
   {
    "duration": 13,
    "start_time": "2022-04-07T15:42:34.743Z"
   },
   {
    "duration": 30,
    "start_time": "2022-04-07T15:42:34.758Z"
   },
   {
    "duration": 7,
    "start_time": "2022-04-07T15:42:34.789Z"
   },
   {
    "duration": 9,
    "start_time": "2022-04-07T15:42:34.797Z"
   },
   {
    "duration": 28,
    "start_time": "2022-04-07T15:42:34.808Z"
   },
   {
    "duration": 8,
    "start_time": "2022-04-07T15:42:34.837Z"
   },
   {
    "duration": 9,
    "start_time": "2022-04-07T15:42:34.846Z"
   },
   {
    "duration": 11,
    "start_time": "2022-04-07T15:42:34.858Z"
   },
   {
    "duration": 10,
    "start_time": "2022-04-07T15:42:34.870Z"
   },
   {
    "duration": 6,
    "start_time": "2022-04-07T15:42:34.882Z"
   },
   {
    "duration": 11,
    "start_time": "2022-04-07T15:42:34.889Z"
   },
   {
    "duration": 24,
    "start_time": "2022-04-07T15:42:34.934Z"
   },
   {
    "duration": 10,
    "start_time": "2022-04-07T15:42:34.960Z"
   },
   {
    "duration": 9,
    "start_time": "2022-04-07T15:42:34.972Z"
   },
   {
    "duration": 8,
    "start_time": "2022-04-07T15:42:34.983Z"
   },
   {
    "duration": 58,
    "start_time": "2022-04-07T15:42:34.992Z"
   },
   {
    "duration": 9,
    "start_time": "2022-04-07T15:42:35.052Z"
   },
   {
    "duration": 5,
    "start_time": "2022-04-07T15:42:35.062Z"
   },
   {
    "duration": 14,
    "start_time": "2022-04-07T15:42:35.069Z"
   },
   {
    "duration": 19,
    "start_time": "2022-04-07T15:42:35.085Z"
   },
   {
    "duration": 31,
    "start_time": "2022-04-07T15:42:35.106Z"
   },
   {
    "duration": 5,
    "start_time": "2022-04-07T15:42:35.139Z"
   },
   {
    "duration": 10,
    "start_time": "2022-04-07T15:42:35.146Z"
   },
   {
    "duration": 5,
    "start_time": "2022-04-07T15:42:35.158Z"
   },
   {
    "duration": 17,
    "start_time": "2022-04-07T15:42:35.165Z"
   },
   {
    "duration": 47,
    "start_time": "2022-04-07T15:42:35.186Z"
   },
   {
    "duration": 30,
    "start_time": "2022-04-07T15:42:35.235Z"
   },
   {
    "duration": 12,
    "start_time": "2022-04-07T15:42:35.267Z"
   },
   {
    "duration": 12,
    "start_time": "2022-04-07T15:42:35.280Z"
   },
   {
    "duration": 40,
    "start_time": "2022-04-07T15:42:35.294Z"
   },
   {
    "duration": 25,
    "start_time": "2022-04-07T15:42:35.336Z"
   },
   {
    "duration": 3527,
    "start_time": "2022-04-07T15:42:35.363Z"
   },
   {
    "duration": 24,
    "start_time": "2022-04-07T15:42:38.892Z"
   },
   {
    "duration": 404,
    "start_time": "2022-04-07T15:42:38.917Z"
   },
   {
    "duration": 11,
    "start_time": "2022-04-07T15:42:39.322Z"
   },
   {
    "duration": 23,
    "start_time": "2022-04-07T15:42:39.335Z"
   },
   {
    "duration": 160,
    "start_time": "2022-04-07T15:42:39.360Z"
   },
   {
    "duration": 32,
    "start_time": "2022-04-07T15:42:39.522Z"
   },
   {
    "duration": 140,
    "start_time": "2022-04-07T15:42:39.555Z"
   },
   {
    "duration": 25,
    "start_time": "2022-04-07T15:42:39.696Z"
   },
   {
    "duration": 138,
    "start_time": "2022-04-07T15:42:39.723Z"
   },
   {
    "duration": 23,
    "start_time": "2022-04-07T15:47:54.048Z"
   },
   {
    "duration": 474,
    "start_time": "2022-04-07T15:48:14.839Z"
   },
   {
    "duration": 20,
    "start_time": "2022-04-07T15:48:15.315Z"
   },
   {
    "duration": 13,
    "start_time": "2022-04-07T15:48:15.337Z"
   },
   {
    "duration": 31,
    "start_time": "2022-04-07T15:48:15.353Z"
   },
   {
    "duration": 7,
    "start_time": "2022-04-07T15:48:15.386Z"
   },
   {
    "duration": 39,
    "start_time": "2022-04-07T15:48:15.395Z"
   },
   {
    "duration": 9,
    "start_time": "2022-04-07T15:48:15.436Z"
   },
   {
    "duration": 14,
    "start_time": "2022-04-07T15:48:15.447Z"
   },
   {
    "duration": 9,
    "start_time": "2022-04-07T15:48:15.463Z"
   },
   {
    "duration": 11,
    "start_time": "2022-04-07T15:48:15.475Z"
   },
   {
    "duration": 11,
    "start_time": "2022-04-07T15:48:15.488Z"
   },
   {
    "duration": 4,
    "start_time": "2022-04-07T15:48:15.534Z"
   },
   {
    "duration": 11,
    "start_time": "2022-04-07T15:48:15.540Z"
   },
   {
    "duration": 24,
    "start_time": "2022-04-07T15:48:15.553Z"
   },
   {
    "duration": 12,
    "start_time": "2022-04-07T15:48:15.578Z"
   },
   {
    "duration": 10,
    "start_time": "2022-04-07T15:48:15.592Z"
   },
   {
    "duration": 34,
    "start_time": "2022-04-07T15:48:15.604Z"
   },
   {
    "duration": 23,
    "start_time": "2022-04-07T15:48:15.640Z"
   },
   {
    "duration": 8,
    "start_time": "2022-04-07T15:48:15.664Z"
   },
   {
    "duration": 4,
    "start_time": "2022-04-07T15:48:15.674Z"
   },
   {
    "duration": 8,
    "start_time": "2022-04-07T15:48:15.680Z"
   },
   {
    "duration": 45,
    "start_time": "2022-04-07T15:48:15.690Z"
   },
   {
    "duration": 11,
    "start_time": "2022-04-07T15:48:15.736Z"
   },
   {
    "duration": 6,
    "start_time": "2022-04-07T15:48:15.748Z"
   },
   {
    "duration": 8,
    "start_time": "2022-04-07T15:48:15.755Z"
   },
   {
    "duration": 5,
    "start_time": "2022-04-07T15:48:15.764Z"
   },
   {
    "duration": 17,
    "start_time": "2022-04-07T15:48:15.771Z"
   },
   {
    "duration": 55,
    "start_time": "2022-04-07T15:48:15.791Z"
   },
   {
    "duration": 30,
    "start_time": "2022-04-07T15:48:15.847Z"
   },
   {
    "duration": 12,
    "start_time": "2022-04-07T15:48:15.878Z"
   },
   {
    "duration": 11,
    "start_time": "2022-04-07T15:48:15.891Z"
   },
   {
    "duration": 41,
    "start_time": "2022-04-07T15:48:15.903Z"
   },
   {
    "duration": 23,
    "start_time": "2022-04-07T15:48:15.946Z"
   },
   {
    "duration": 3546,
    "start_time": "2022-04-07T15:48:15.971Z"
   },
   {
    "duration": 32,
    "start_time": "2022-04-07T15:48:19.519Z"
   },
   {
    "duration": 417,
    "start_time": "2022-04-07T15:48:19.552Z"
   },
   {
    "duration": 6,
    "start_time": "2022-04-07T15:48:19.971Z"
   },
   {
    "duration": 23,
    "start_time": "2022-04-07T15:48:19.979Z"
   },
   {
    "duration": 173,
    "start_time": "2022-04-07T15:48:20.004Z"
   },
   {
    "duration": 25,
    "start_time": "2022-04-07T15:48:20.179Z"
   },
   {
    "duration": 152,
    "start_time": "2022-04-07T15:48:20.206Z"
   },
   {
    "duration": 27,
    "start_time": "2022-04-07T15:48:20.360Z"
   },
   {
    "duration": 153,
    "start_time": "2022-04-07T15:48:20.389Z"
   },
   {
    "duration": 3423,
    "start_time": "2022-04-07T15:50:16.576Z"
   },
   {
    "duration": 494,
    "start_time": "2022-04-07T15:50:22.924Z"
   },
   {
    "duration": 20,
    "start_time": "2022-04-07T15:50:23.421Z"
   },
   {
    "duration": 14,
    "start_time": "2022-04-07T15:50:23.442Z"
   },
   {
    "duration": 32,
    "start_time": "2022-04-07T15:50:23.458Z"
   },
   {
    "duration": 7,
    "start_time": "2022-04-07T15:50:23.491Z"
   },
   {
    "duration": 35,
    "start_time": "2022-04-07T15:50:23.500Z"
   },
   {
    "duration": 12,
    "start_time": "2022-04-07T15:50:23.536Z"
   },
   {
    "duration": 13,
    "start_time": "2022-04-07T15:50:23.549Z"
   },
   {
    "duration": 11,
    "start_time": "2022-04-07T15:50:23.563Z"
   },
   {
    "duration": 11,
    "start_time": "2022-04-07T15:50:23.577Z"
   },
   {
    "duration": 10,
    "start_time": "2022-04-07T15:50:23.590Z"
   },
   {
    "duration": 32,
    "start_time": "2022-04-07T15:50:23.602Z"
   },
   {
    "duration": 9,
    "start_time": "2022-04-07T15:50:23.636Z"
   },
   {
    "duration": 23,
    "start_time": "2022-04-07T15:50:23.647Z"
   },
   {
    "duration": 11,
    "start_time": "2022-04-07T15:50:23.672Z"
   },
   {
    "duration": 10,
    "start_time": "2022-04-07T15:50:23.685Z"
   },
   {
    "duration": 40,
    "start_time": "2022-04-07T15:50:23.697Z"
   },
   {
    "duration": 22,
    "start_time": "2022-04-07T15:50:23.739Z"
   },
   {
    "duration": 8,
    "start_time": "2022-04-07T15:50:23.763Z"
   },
   {
    "duration": 4,
    "start_time": "2022-04-07T15:50:23.773Z"
   },
   {
    "duration": 8,
    "start_time": "2022-04-07T15:50:23.779Z"
   },
   {
    "duration": 44,
    "start_time": "2022-04-07T15:50:23.789Z"
   },
   {
    "duration": 11,
    "start_time": "2022-04-07T15:50:23.835Z"
   },
   {
    "duration": 6,
    "start_time": "2022-04-07T15:50:23.847Z"
   },
   {
    "duration": 8,
    "start_time": "2022-04-07T15:50:23.855Z"
   },
   {
    "duration": 5,
    "start_time": "2022-04-07T15:50:23.865Z"
   },
   {
    "duration": 16,
    "start_time": "2022-04-07T15:50:23.872Z"
   },
   {
    "duration": 54,
    "start_time": "2022-04-07T15:50:23.891Z"
   },
   {
    "duration": 29,
    "start_time": "2022-04-07T15:50:23.946Z"
   },
   {
    "duration": 11,
    "start_time": "2022-04-07T15:50:23.976Z"
   },
   {
    "duration": 12,
    "start_time": "2022-04-07T15:50:23.989Z"
   },
   {
    "duration": 45,
    "start_time": "2022-04-07T15:50:24.002Z"
   },
   {
    "duration": 23,
    "start_time": "2022-04-07T15:50:24.048Z"
   },
   {
    "duration": 3574,
    "start_time": "2022-04-07T15:50:24.073Z"
   },
   {
    "duration": 23,
    "start_time": "2022-04-07T15:50:27.651Z"
   },
   {
    "duration": 402,
    "start_time": "2022-04-07T15:50:27.676Z"
   },
   {
    "duration": 7,
    "start_time": "2022-04-07T15:50:28.080Z"
   },
   {
    "duration": 25,
    "start_time": "2022-04-07T15:50:28.089Z"
   },
   {
    "duration": 163,
    "start_time": "2022-04-07T15:50:28.115Z"
   },
   {
    "duration": 25,
    "start_time": "2022-04-07T15:50:28.279Z"
   },
   {
    "duration": 148,
    "start_time": "2022-04-07T15:50:28.305Z"
   },
   {
    "duration": 29,
    "start_time": "2022-04-07T15:50:28.455Z"
   },
   {
    "duration": 147,
    "start_time": "2022-04-07T15:50:28.486Z"
   },
   {
    "duration": 127,
    "start_time": "2022-04-07T15:57:27.298Z"
   },
   {
    "duration": 77,
    "start_time": "2022-04-07T15:58:12.969Z"
   },
   {
    "duration": 15,
    "start_time": "2022-04-07T15:58:19.984Z"
   },
   {
    "duration": 6,
    "start_time": "2022-04-07T15:59:57.030Z"
   },
   {
    "duration": 111,
    "start_time": "2022-04-07T16:00:40.459Z"
   },
   {
    "duration": 104,
    "start_time": "2022-04-07T16:00:57.802Z"
   },
   {
    "duration": 452,
    "start_time": "2022-04-07T16:01:02.864Z"
   },
   {
    "duration": 23,
    "start_time": "2022-04-07T16:01:03.318Z"
   },
   {
    "duration": 12,
    "start_time": "2022-04-07T16:01:03.343Z"
   },
   {
    "duration": 29,
    "start_time": "2022-04-07T16:01:03.358Z"
   },
   {
    "duration": 7,
    "start_time": "2022-04-07T16:01:03.388Z"
   },
   {
    "duration": 9,
    "start_time": "2022-04-07T16:01:03.397Z"
   },
   {
    "duration": 32,
    "start_time": "2022-04-07T16:01:03.407Z"
   },
   {
    "duration": 8,
    "start_time": "2022-04-07T16:01:03.441Z"
   },
   {
    "duration": 9,
    "start_time": "2022-04-07T16:01:03.450Z"
   },
   {
    "duration": 11,
    "start_time": "2022-04-07T16:01:03.461Z"
   },
   {
    "duration": 10,
    "start_time": "2022-04-07T16:01:03.474Z"
   },
   {
    "duration": 5,
    "start_time": "2022-04-07T16:01:03.485Z"
   },
   {
    "duration": 43,
    "start_time": "2022-04-07T16:01:03.491Z"
   },
   {
    "duration": 24,
    "start_time": "2022-04-07T16:01:03.536Z"
   },
   {
    "duration": 10,
    "start_time": "2022-04-07T16:01:03.561Z"
   },
   {
    "duration": 10,
    "start_time": "2022-04-07T16:01:03.573Z"
   },
   {
    "duration": 7,
    "start_time": "2022-04-07T16:01:03.585Z"
   },
   {
    "duration": 56,
    "start_time": "2022-04-07T16:01:03.594Z"
   },
   {
    "duration": 8,
    "start_time": "2022-04-07T16:01:03.651Z"
   },
   {
    "duration": 4,
    "start_time": "2022-04-07T16:01:03.660Z"
   },
   {
    "duration": 8,
    "start_time": "2022-04-07T16:01:03.665Z"
   },
   {
    "duration": 11,
    "start_time": "2022-04-07T16:01:03.674Z"
   },
   {
    "duration": 13,
    "start_time": "2022-04-07T16:01:03.686Z"
   },
   {
    "duration": 35,
    "start_time": "2022-04-07T16:01:03.701Z"
   },
   {
    "duration": 12,
    "start_time": "2022-04-07T16:01:03.738Z"
   },
   {
    "duration": 5,
    "start_time": "2022-04-07T16:01:03.752Z"
   },
   {
    "duration": 16,
    "start_time": "2022-04-07T16:01:03.759Z"
   },
   {
    "duration": 18,
    "start_time": "2022-04-07T16:01:03.778Z"
   },
   {
    "duration": 58,
    "start_time": "2022-04-07T16:01:03.797Z"
   },
   {
    "duration": 12,
    "start_time": "2022-04-07T16:01:03.856Z"
   },
   {
    "duration": 12,
    "start_time": "2022-04-07T16:01:03.869Z"
   },
   {
    "duration": 25,
    "start_time": "2022-04-07T16:01:03.883Z"
   },
   {
    "duration": 44,
    "start_time": "2022-04-07T16:01:03.910Z"
   },
   {
    "duration": 3478,
    "start_time": "2022-04-07T16:01:03.956Z"
   },
   {
    "duration": 111,
    "start_time": "2022-04-07T16:01:07.436Z"
   },
   {
    "duration": 0,
    "start_time": "2022-04-07T16:01:07.549Z"
   },
   {
    "duration": 0,
    "start_time": "2022-04-07T16:01:07.551Z"
   },
   {
    "duration": 0,
    "start_time": "2022-04-07T16:01:07.553Z"
   },
   {
    "duration": 0,
    "start_time": "2022-04-07T16:01:07.554Z"
   },
   {
    "duration": 0,
    "start_time": "2022-04-07T16:01:07.556Z"
   },
   {
    "duration": 0,
    "start_time": "2022-04-07T16:01:07.557Z"
   },
   {
    "duration": 106,
    "start_time": "2022-04-07T16:01:16.739Z"
   },
   {
    "duration": 187,
    "start_time": "2022-04-07T16:01:30.866Z"
   },
   {
    "duration": 107,
    "start_time": "2022-04-07T16:01:34.792Z"
   },
   {
    "duration": 437,
    "start_time": "2022-04-07T16:01:40.968Z"
   },
   {
    "duration": 17,
    "start_time": "2022-04-07T16:01:41.407Z"
   },
   {
    "duration": 12,
    "start_time": "2022-04-07T16:01:41.432Z"
   },
   {
    "duration": 29,
    "start_time": "2022-04-07T16:01:41.446Z"
   },
   {
    "duration": 7,
    "start_time": "2022-04-07T16:01:41.476Z"
   },
   {
    "duration": 11,
    "start_time": "2022-04-07T16:01:41.484Z"
   },
   {
    "duration": 9,
    "start_time": "2022-04-07T16:01:41.496Z"
   },
   {
    "duration": 30,
    "start_time": "2022-04-07T16:01:41.506Z"
   },
   {
    "duration": 15,
    "start_time": "2022-04-07T16:01:41.538Z"
   },
   {
    "duration": 26,
    "start_time": "2022-04-07T16:01:41.555Z"
   },
   {
    "duration": 10,
    "start_time": "2022-04-07T16:01:41.583Z"
   },
   {
    "duration": 4,
    "start_time": "2022-04-07T16:01:41.595Z"
   },
   {
    "duration": 8,
    "start_time": "2022-04-07T16:01:41.601Z"
   },
   {
    "duration": 35,
    "start_time": "2022-04-07T16:01:41.610Z"
   },
   {
    "duration": 10,
    "start_time": "2022-04-07T16:01:41.647Z"
   },
   {
    "duration": 9,
    "start_time": "2022-04-07T16:01:41.658Z"
   },
   {
    "duration": 7,
    "start_time": "2022-04-07T16:01:41.668Z"
   },
   {
    "duration": 21,
    "start_time": "2022-04-07T16:01:41.677Z"
   },
   {
    "duration": 38,
    "start_time": "2022-04-07T16:01:41.699Z"
   },
   {
    "duration": 4,
    "start_time": "2022-04-07T16:01:41.738Z"
   },
   {
    "duration": 8,
    "start_time": "2022-04-07T16:01:41.744Z"
   },
   {
    "duration": 13,
    "start_time": "2022-04-07T16:01:41.754Z"
   },
   {
    "duration": 10,
    "start_time": "2022-04-07T16:01:41.769Z"
   },
   {
    "duration": 5,
    "start_time": "2022-04-07T16:01:41.781Z"
   },
   {
    "duration": 9,
    "start_time": "2022-04-07T16:01:41.788Z"
   },
   {
    "duration": 6,
    "start_time": "2022-04-07T16:01:41.833Z"
   },
   {
    "duration": 17,
    "start_time": "2022-04-07T16:01:41.840Z"
   },
   {
    "duration": 16,
    "start_time": "2022-04-07T16:01:41.861Z"
   },
   {
    "duration": 29,
    "start_time": "2022-04-07T16:01:41.879Z"
   },
   {
    "duration": 12,
    "start_time": "2022-04-07T16:01:41.933Z"
   },
   {
    "duration": 11,
    "start_time": "2022-04-07T16:01:41.946Z"
   },
   {
    "duration": 14,
    "start_time": "2022-04-07T16:01:41.959Z"
   },
   {
    "duration": 22,
    "start_time": "2022-04-07T16:01:41.974Z"
   },
   {
    "duration": 3681,
    "start_time": "2022-04-07T16:01:41.997Z"
   },
   {
    "duration": 119,
    "start_time": "2022-04-07T16:01:45.680Z"
   },
   {
    "duration": 0,
    "start_time": "2022-04-07T16:01:45.800Z"
   },
   {
    "duration": 0,
    "start_time": "2022-04-07T16:01:45.802Z"
   },
   {
    "duration": 0,
    "start_time": "2022-04-07T16:01:45.803Z"
   },
   {
    "duration": 0,
    "start_time": "2022-04-07T16:01:45.804Z"
   },
   {
    "duration": 0,
    "start_time": "2022-04-07T16:01:45.805Z"
   },
   {
    "duration": 0,
    "start_time": "2022-04-07T16:01:45.806Z"
   },
   {
    "duration": 26,
    "start_time": "2022-04-07T16:03:22.235Z"
   },
   {
    "duration": 113,
    "start_time": "2022-04-07T16:03:33.321Z"
   },
   {
    "duration": 23,
    "start_time": "2022-04-07T16:03:50.435Z"
   },
   {
    "duration": 22,
    "start_time": "2022-04-07T16:04:09.455Z"
   },
   {
    "duration": 7,
    "start_time": "2022-04-07T16:04:15.825Z"
   },
   {
    "duration": 76,
    "start_time": "2022-04-07T16:05:03.543Z"
   },
   {
    "duration": 23,
    "start_time": "2022-04-07T16:05:14.162Z"
   },
   {
    "duration": 24,
    "start_time": "2022-04-07T16:05:36.184Z"
   },
   {
    "duration": 7,
    "start_time": "2022-04-07T16:06:49.180Z"
   },
   {
    "duration": 112,
    "start_time": "2022-04-07T16:12:08.457Z"
   },
   {
    "duration": 24,
    "start_time": "2022-04-07T16:14:44.953Z"
   },
   {
    "duration": 475,
    "start_time": "2022-04-17T19:54:42.091Z"
   },
   {
    "duration": 18,
    "start_time": "2022-04-17T19:54:42.568Z"
   },
   {
    "duration": 21,
    "start_time": "2022-04-17T19:54:42.587Z"
   },
   {
    "duration": 28,
    "start_time": "2022-04-17T19:54:42.610Z"
   },
   {
    "duration": 6,
    "start_time": "2022-04-17T19:54:42.639Z"
   },
   {
    "duration": 7,
    "start_time": "2022-04-17T19:54:42.646Z"
   },
   {
    "duration": 7,
    "start_time": "2022-04-17T19:54:42.654Z"
   },
   {
    "duration": 7,
    "start_time": "2022-04-17T19:54:42.662Z"
   },
   {
    "duration": 38,
    "start_time": "2022-04-17T19:54:42.670Z"
   },
   {
    "duration": 9,
    "start_time": "2022-04-17T19:54:42.711Z"
   },
   {
    "duration": 11,
    "start_time": "2022-04-17T19:54:42.721Z"
   },
   {
    "duration": 4,
    "start_time": "2022-04-17T19:54:42.733Z"
   },
   {
    "duration": 9,
    "start_time": "2022-04-17T19:54:42.739Z"
   },
   {
    "duration": 58,
    "start_time": "2022-04-17T19:54:42.749Z"
   },
   {
    "duration": 11,
    "start_time": "2022-04-17T19:54:42.809Z"
   },
   {
    "duration": 11,
    "start_time": "2022-04-17T19:54:42.821Z"
   },
   {
    "duration": 6,
    "start_time": "2022-04-17T19:54:42.833Z"
   },
   {
    "duration": 20,
    "start_time": "2022-04-17T19:54:42.841Z"
   },
   {
    "duration": 7,
    "start_time": "2022-04-17T19:54:42.862Z"
   },
   {
    "duration": 38,
    "start_time": "2022-04-17T19:54:42.870Z"
   },
   {
    "duration": 5,
    "start_time": "2022-04-17T19:54:42.909Z"
   },
   {
    "duration": 11,
    "start_time": "2022-04-17T19:54:42.915Z"
   },
   {
    "duration": 9,
    "start_time": "2022-04-17T19:54:42.927Z"
   },
   {
    "duration": 5,
    "start_time": "2022-04-17T19:54:42.937Z"
   },
   {
    "duration": 7,
    "start_time": "2022-04-17T19:54:42.943Z"
   },
   {
    "duration": 4,
    "start_time": "2022-04-17T19:54:42.951Z"
   },
   {
    "duration": 54,
    "start_time": "2022-04-17T19:54:42.956Z"
   },
   {
    "duration": 16,
    "start_time": "2022-04-17T19:54:43.013Z"
   },
   {
    "duration": 28,
    "start_time": "2022-04-17T19:54:43.031Z"
   },
   {
    "duration": 10,
    "start_time": "2022-04-17T19:54:43.060Z"
   },
   {
    "duration": 37,
    "start_time": "2022-04-17T19:54:43.071Z"
   },
   {
    "duration": 14,
    "start_time": "2022-04-17T19:54:43.109Z"
   },
   {
    "duration": 21,
    "start_time": "2022-04-17T19:54:43.124Z"
   },
   {
    "duration": 3111,
    "start_time": "2022-04-17T19:54:43.147Z"
   },
   {
    "duration": 23,
    "start_time": "2022-04-17T19:54:46.260Z"
   },
   {
    "duration": 25,
    "start_time": "2022-04-17T19:54:46.284Z"
   },
   {
    "duration": 47,
    "start_time": "2022-04-17T19:54:46.310Z"
   },
   {
    "duration": 23,
    "start_time": "2022-04-17T19:54:46.358Z"
   },
   {
    "duration": 22,
    "start_time": "2022-04-17T19:54:46.383Z"
   },
   {
    "duration": 6,
    "start_time": "2022-04-17T19:58:18.954Z"
   },
   {
    "duration": 7,
    "start_time": "2022-04-17T19:59:04.392Z"
   },
   {
    "duration": 163,
    "start_time": "2022-04-18T08:34:17.468Z"
   },
   {
    "duration": 138,
    "start_time": "2022-04-18T08:35:03.791Z"
   },
   {
    "duration": 378,
    "start_time": "2022-04-18T08:35:17.814Z"
   },
   {
    "duration": 64,
    "start_time": "2022-04-18T08:48:32.223Z"
   },
   {
    "duration": 411,
    "start_time": "2022-04-18T08:48:44.774Z"
   },
   {
    "duration": 67,
    "start_time": "2022-04-18T08:48:45.187Z"
   },
   {
    "duration": 23,
    "start_time": "2022-04-18T08:48:45.256Z"
   },
   {
    "duration": 11,
    "start_time": "2022-04-18T08:48:45.282Z"
   },
   {
    "duration": 29,
    "start_time": "2022-04-18T08:48:45.295Z"
   },
   {
    "duration": 33,
    "start_time": "2022-04-18T08:48:45.326Z"
   },
   {
    "duration": 26,
    "start_time": "2022-04-18T08:48:45.361Z"
   },
   {
    "duration": 10,
    "start_time": "2022-04-18T08:48:45.388Z"
   },
   {
    "duration": 10,
    "start_time": "2022-04-18T08:48:45.399Z"
   },
   {
    "duration": 8,
    "start_time": "2022-04-18T08:48:45.412Z"
   },
   {
    "duration": 16,
    "start_time": "2022-04-18T08:48:45.422Z"
   },
   {
    "duration": 16,
    "start_time": "2022-04-18T08:48:45.439Z"
   },
   {
    "duration": 4,
    "start_time": "2022-04-18T08:48:45.457Z"
   },
   {
    "duration": 16,
    "start_time": "2022-04-18T08:48:45.463Z"
   },
   {
    "duration": 26,
    "start_time": "2022-04-18T08:48:45.480Z"
   },
   {
    "duration": 9,
    "start_time": "2022-04-18T08:48:45.508Z"
   },
   {
    "duration": 9,
    "start_time": "2022-04-18T08:48:45.519Z"
   },
   {
    "duration": 28,
    "start_time": "2022-04-18T08:48:45.530Z"
   },
   {
    "duration": 25,
    "start_time": "2022-04-18T08:48:45.560Z"
   },
   {
    "duration": 7,
    "start_time": "2022-04-18T08:48:45.587Z"
   },
   {
    "duration": 4,
    "start_time": "2022-04-18T08:48:45.595Z"
   },
   {
    "duration": 6,
    "start_time": "2022-04-18T08:48:45.601Z"
   },
   {
    "duration": 11,
    "start_time": "2022-04-18T08:48:45.608Z"
   },
   {
    "duration": 44,
    "start_time": "2022-04-18T08:48:45.621Z"
   },
   {
    "duration": 6,
    "start_time": "2022-04-18T08:48:45.667Z"
   },
   {
    "duration": 9,
    "start_time": "2022-04-18T08:48:45.675Z"
   },
   {
    "duration": 4,
    "start_time": "2022-04-18T08:48:45.686Z"
   },
   {
    "duration": 19,
    "start_time": "2022-04-18T08:48:45.693Z"
   },
   {
    "duration": 59,
    "start_time": "2022-04-18T08:48:45.713Z"
   },
   {
    "duration": 27,
    "start_time": "2022-04-18T08:48:45.775Z"
   },
   {
    "duration": 11,
    "start_time": "2022-04-18T08:48:45.804Z"
   },
   {
    "duration": 10,
    "start_time": "2022-04-18T08:48:45.816Z"
   },
   {
    "duration": 44,
    "start_time": "2022-04-18T08:48:45.827Z"
   },
   {
    "duration": 21,
    "start_time": "2022-04-18T08:48:45.873Z"
   },
   {
    "duration": 4187,
    "start_time": "2022-04-18T08:48:45.896Z"
   },
   {
    "duration": 79,
    "start_time": "2022-04-18T08:48:50.085Z"
   },
   {
    "duration": 6,
    "start_time": "2022-04-18T08:48:50.166Z"
   },
   {
    "duration": 96,
    "start_time": "2022-04-18T08:48:50.174Z"
   },
   {
    "duration": 31,
    "start_time": "2022-04-18T08:48:50.271Z"
   },
   {
    "duration": 79,
    "start_time": "2022-04-18T08:48:50.304Z"
   },
   {
    "duration": 3,
    "start_time": "2022-04-18T08:51:22.582Z"
   },
   {
    "duration": 399,
    "start_time": "2022-04-18T08:57:34.971Z"
   },
   {
    "duration": 70,
    "start_time": "2022-04-18T08:57:35.373Z"
   },
   {
    "duration": 25,
    "start_time": "2022-04-18T08:57:35.445Z"
   },
   {
    "duration": 159,
    "start_time": "2022-04-18T08:57:35.473Z"
   },
   {
    "duration": 50,
    "start_time": "2022-04-18T08:57:35.634Z"
   },
   {
    "duration": 8,
    "start_time": "2022-04-18T08:57:35.686Z"
   },
   {
    "duration": 25,
    "start_time": "2022-04-18T08:57:35.696Z"
   },
   {
    "duration": 28,
    "start_time": "2022-04-18T08:57:35.723Z"
   },
   {
    "duration": 20,
    "start_time": "2022-04-18T08:57:35.753Z"
   },
   {
    "duration": 15,
    "start_time": "2022-04-18T08:57:35.776Z"
   },
   {
    "duration": 17,
    "start_time": "2022-04-18T08:57:35.793Z"
   },
   {
    "duration": 20,
    "start_time": "2022-04-18T08:57:35.811Z"
   },
   {
    "duration": 12,
    "start_time": "2022-04-18T08:57:35.832Z"
   },
   {
    "duration": 27,
    "start_time": "2022-04-18T08:57:35.845Z"
   },
   {
    "duration": 32,
    "start_time": "2022-04-18T08:57:35.874Z"
   },
   {
    "duration": 129,
    "start_time": "2022-04-18T08:57:35.908Z"
   },
   {
    "duration": 140,
    "start_time": "2022-04-18T08:57:36.039Z"
   },
   {
    "duration": 10,
    "start_time": "2022-04-18T08:57:36.181Z"
   },
   {
    "duration": 28,
    "start_time": "2022-04-18T08:57:36.193Z"
   },
   {
    "duration": 10,
    "start_time": "2022-04-18T08:57:36.223Z"
   },
   {
    "duration": 9,
    "start_time": "2022-04-18T08:57:36.235Z"
   },
   {
    "duration": 13,
    "start_time": "2022-04-18T08:57:36.246Z"
   },
   {
    "duration": 16,
    "start_time": "2022-04-18T08:57:36.261Z"
   },
   {
    "duration": 14,
    "start_time": "2022-04-18T08:57:36.279Z"
   },
   {
    "duration": 6,
    "start_time": "2022-04-18T08:57:36.295Z"
   },
   {
    "duration": 13,
    "start_time": "2022-04-18T08:57:36.303Z"
   },
   {
    "duration": 13,
    "start_time": "2022-04-18T08:57:36.318Z"
   },
   {
    "duration": 23,
    "start_time": "2022-04-18T08:57:36.358Z"
   },
   {
    "duration": 33,
    "start_time": "2022-04-18T08:57:36.383Z"
   },
   {
    "duration": 54,
    "start_time": "2022-04-18T08:57:36.419Z"
   },
   {
    "duration": 16,
    "start_time": "2022-04-18T08:57:36.475Z"
   },
   {
    "duration": 26,
    "start_time": "2022-04-18T08:57:36.493Z"
   },
   {
    "duration": 40,
    "start_time": "2022-04-18T08:57:36.520Z"
   },
   {
    "duration": 40,
    "start_time": "2022-04-18T08:57:36.562Z"
   },
   {
    "duration": 3458,
    "start_time": "2022-04-18T08:57:36.604Z"
   },
   {
    "duration": 25,
    "start_time": "2022-04-18T08:57:40.064Z"
   },
   {
    "duration": 7,
    "start_time": "2022-04-18T08:57:40.091Z"
   },
   {
    "duration": 34,
    "start_time": "2022-04-18T08:57:40.100Z"
   },
   {
    "duration": 38,
    "start_time": "2022-04-18T08:57:40.136Z"
   },
   {
    "duration": 22,
    "start_time": "2022-04-18T08:57:40.175Z"
   },
   {
    "duration": 19,
    "start_time": "2022-04-18T08:58:34.402Z"
   },
   {
    "duration": 9,
    "start_time": "2022-04-18T08:58:36.634Z"
   },
   {
    "duration": 26,
    "start_time": "2022-04-18T08:59:01.976Z"
   },
   {
    "duration": 11,
    "start_time": "2022-04-18T08:59:04.732Z"
   },
   {
    "duration": 5,
    "start_time": "2022-04-18T08:59:09.084Z"
   },
   {
    "duration": 132,
    "start_time": "2022-04-18T09:01:02.363Z"
   },
   {
    "duration": 132,
    "start_time": "2022-04-18T09:03:55.805Z"
   },
   {
    "duration": 134,
    "start_time": "2022-04-18T09:05:23.431Z"
   },
   {
    "duration": 3,
    "start_time": "2022-04-18T09:12:01.452Z"
   },
   {
    "duration": 139,
    "start_time": "2022-04-18T09:20:52.208Z"
   },
   {
    "duration": 24,
    "start_time": "2022-04-18T09:26:00.953Z"
   },
   {
    "duration": 81,
    "start_time": "2022-04-18T09:26:46.684Z"
   },
   {
    "duration": 27,
    "start_time": "2022-04-18T09:26:49.731Z"
   },
   {
    "duration": 27,
    "start_time": "2022-04-18T09:26:52.559Z"
   },
   {
    "duration": 26,
    "start_time": "2022-04-18T09:26:55.243Z"
   },
   {
    "duration": 26,
    "start_time": "2022-04-18T09:29:33.207Z"
   },
   {
    "duration": 26,
    "start_time": "2022-04-18T09:29:40.398Z"
   },
   {
    "duration": 30,
    "start_time": "2022-04-18T09:30:40.329Z"
   },
   {
    "duration": 27,
    "start_time": "2022-04-18T09:30:56.217Z"
   },
   {
    "duration": 27,
    "start_time": "2022-04-18T09:31:05.914Z"
   },
   {
    "duration": 27,
    "start_time": "2022-04-18T09:31:10.071Z"
   },
   {
    "duration": 26,
    "start_time": "2022-04-18T09:31:14.675Z"
   },
   {
    "duration": 33,
    "start_time": "2022-04-18T09:31:22.909Z"
   },
   {
    "duration": 26,
    "start_time": "2022-04-18T09:31:27.072Z"
   },
   {
    "duration": 30,
    "start_time": "2022-04-18T09:31:31.631Z"
   },
   {
    "duration": 25,
    "start_time": "2022-04-18T09:31:35.514Z"
   },
   {
    "duration": 26,
    "start_time": "2022-04-18T09:31:40.007Z"
   },
   {
    "duration": 43,
    "start_time": "2022-04-18T09:31:56.116Z"
   },
   {
    "duration": 28,
    "start_time": "2022-04-18T09:33:27.977Z"
   },
   {
    "duration": 28,
    "start_time": "2022-04-18T09:33:49.578Z"
   },
   {
    "duration": 29,
    "start_time": "2022-04-18T09:34:22.555Z"
   },
   {
    "duration": 29,
    "start_time": "2022-04-18T09:37:04.261Z"
   },
   {
    "duration": 30,
    "start_time": "2022-04-18T09:37:18.785Z"
   },
   {
    "duration": 35,
    "start_time": "2022-04-18T09:37:21.487Z"
   },
   {
    "duration": 29,
    "start_time": "2022-04-18T09:37:26.909Z"
   },
   {
    "duration": 28,
    "start_time": "2022-04-18T09:37:31.387Z"
   },
   {
    "duration": 28,
    "start_time": "2022-04-18T09:37:35.854Z"
   },
   {
    "duration": 142,
    "start_time": "2022-04-18T09:41:13.394Z"
   },
   {
    "duration": 144,
    "start_time": "2022-04-18T09:42:22.034Z"
   },
   {
    "duration": 139,
    "start_time": "2022-04-18T09:53:17.905Z"
   },
   {
    "duration": 407,
    "start_time": "2022-04-18T09:55:12.814Z"
   },
   {
    "duration": 73,
    "start_time": "2022-04-18T09:55:13.223Z"
   },
   {
    "duration": 18,
    "start_time": "2022-04-18T09:55:13.300Z"
   },
   {
    "duration": 11,
    "start_time": "2022-04-18T09:55:13.320Z"
   },
   {
    "duration": 45,
    "start_time": "2022-04-18T09:55:13.332Z"
   },
   {
    "duration": 6,
    "start_time": "2022-04-18T09:55:13.379Z"
   },
   {
    "duration": 10,
    "start_time": "2022-04-18T09:55:13.387Z"
   },
   {
    "duration": 10,
    "start_time": "2022-04-18T09:55:13.399Z"
   },
   {
    "duration": 7,
    "start_time": "2022-04-18T09:55:13.412Z"
   },
   {
    "duration": 34,
    "start_time": "2022-04-18T09:55:13.421Z"
   },
   {
    "duration": 12,
    "start_time": "2022-04-18T09:55:13.457Z"
   },
   {
    "duration": 11,
    "start_time": "2022-04-18T09:55:13.471Z"
   },
   {
    "duration": 6,
    "start_time": "2022-04-18T09:55:13.483Z"
   },
   {
    "duration": 10,
    "start_time": "2022-04-18T09:55:13.490Z"
   },
   {
    "duration": 20,
    "start_time": "2022-04-18T09:55:13.501Z"
   },
   {
    "duration": 40,
    "start_time": "2022-04-18T09:55:13.522Z"
   },
   {
    "duration": 8,
    "start_time": "2022-04-18T09:55:13.564Z"
   },
   {
    "duration": 7,
    "start_time": "2022-04-18T09:55:13.574Z"
   },
   {
    "duration": 25,
    "start_time": "2022-04-18T09:55:13.582Z"
   },
   {
    "duration": 8,
    "start_time": "2022-04-18T09:55:13.609Z"
   },
   {
    "duration": 5,
    "start_time": "2022-04-18T09:55:13.654Z"
   },
   {
    "duration": 11,
    "start_time": "2022-04-18T09:55:13.660Z"
   },
   {
    "duration": 16,
    "start_time": "2022-04-18T09:55:13.672Z"
   },
   {
    "duration": 10,
    "start_time": "2022-04-18T09:55:13.689Z"
   },
   {
    "duration": 5,
    "start_time": "2022-04-18T09:55:13.701Z"
   },
   {
    "duration": 14,
    "start_time": "2022-04-18T09:55:13.707Z"
   },
   {
    "duration": 30,
    "start_time": "2022-04-18T09:55:13.725Z"
   },
   {
    "duration": 22,
    "start_time": "2022-04-18T09:55:13.757Z"
   },
   {
    "duration": 20,
    "start_time": "2022-04-18T09:55:13.781Z"
   },
   {
    "duration": 29,
    "start_time": "2022-04-18T09:55:13.803Z"
   },
   {
    "duration": 31,
    "start_time": "2022-04-18T09:55:13.833Z"
   },
   {
    "duration": 22,
    "start_time": "2022-04-18T09:55:13.865Z"
   },
   {
    "duration": 20,
    "start_time": "2022-04-18T09:55:13.889Z"
   },
   {
    "duration": 27,
    "start_time": "2022-04-18T09:55:13.910Z"
   },
   {
    "duration": 3662,
    "start_time": "2022-04-18T09:55:13.939Z"
   },
   {
    "duration": 27,
    "start_time": "2022-04-18T09:55:17.603Z"
   },
   {
    "duration": 24,
    "start_time": "2022-04-18T09:55:17.632Z"
   },
   {
    "duration": 57,
    "start_time": "2022-04-18T09:55:17.658Z"
   },
   {
    "duration": 27,
    "start_time": "2022-04-18T09:55:17.717Z"
   },
   {
    "duration": 28,
    "start_time": "2022-04-18T09:55:17.746Z"
   },
   {
    "duration": 382,
    "start_time": "2022-04-19T06:35:13.150Z"
   },
   {
    "duration": 74,
    "start_time": "2022-04-19T06:35:13.533Z"
   },
   {
    "duration": 18,
    "start_time": "2022-04-19T06:35:13.609Z"
   },
   {
    "duration": 12,
    "start_time": "2022-04-19T06:35:13.629Z"
   },
   {
    "duration": 31,
    "start_time": "2022-04-19T06:35:13.642Z"
   },
   {
    "duration": 7,
    "start_time": "2022-04-19T06:35:13.674Z"
   },
   {
    "duration": 31,
    "start_time": "2022-04-19T06:35:13.682Z"
   },
   {
    "duration": 7,
    "start_time": "2022-04-19T06:35:13.715Z"
   },
   {
    "duration": 10,
    "start_time": "2022-04-19T06:35:13.723Z"
   },
   {
    "duration": 7,
    "start_time": "2022-04-19T06:35:13.735Z"
   },
   {
    "duration": 11,
    "start_time": "2022-04-19T06:35:13.744Z"
   },
   {
    "duration": 11,
    "start_time": "2022-04-19T06:35:13.756Z"
   },
   {
    "duration": 4,
    "start_time": "2022-04-19T06:35:13.808Z"
   },
   {
    "duration": 10,
    "start_time": "2022-04-19T06:35:13.814Z"
   },
   {
    "duration": 20,
    "start_time": "2022-04-19T06:35:13.826Z"
   },
   {
    "duration": 11,
    "start_time": "2022-04-19T06:35:13.847Z"
   },
   {
    "duration": 9,
    "start_time": "2022-04-19T06:35:13.859Z"
   },
   {
    "duration": 40,
    "start_time": "2022-04-19T06:35:13.870Z"
   },
   {
    "duration": 25,
    "start_time": "2022-04-19T06:35:13.912Z"
   },
   {
    "duration": 9,
    "start_time": "2022-04-19T06:35:13.938Z"
   },
   {
    "duration": 5,
    "start_time": "2022-04-19T06:35:13.948Z"
   },
   {
    "duration": 10,
    "start_time": "2022-04-19T06:35:13.954Z"
   },
   {
    "duration": 42,
    "start_time": "2022-04-19T06:35:13.966Z"
   },
   {
    "duration": 11,
    "start_time": "2022-04-19T06:35:14.010Z"
   },
   {
    "duration": 12,
    "start_time": "2022-04-19T06:35:14.023Z"
   },
   {
    "duration": 9,
    "start_time": "2022-04-19T06:35:14.036Z"
   },
   {
    "duration": 12,
    "start_time": "2022-04-19T06:35:14.047Z"
   },
   {
    "duration": 20,
    "start_time": "2022-04-19T06:35:14.062Z"
   },
   {
    "duration": 39,
    "start_time": "2022-04-19T06:35:14.084Z"
   },
   {
    "duration": 31,
    "start_time": "2022-04-19T06:35:14.125Z"
   },
   {
    "duration": 11,
    "start_time": "2022-04-19T06:35:14.158Z"
   },
   {
    "duration": 38,
    "start_time": "2022-04-19T06:35:14.170Z"
   },
   {
    "duration": 15,
    "start_time": "2022-04-19T06:35:14.210Z"
   },
   {
    "duration": 25,
    "start_time": "2022-04-19T06:35:14.227Z"
   },
   {
    "duration": 3328,
    "start_time": "2022-04-19T06:35:14.254Z"
   },
   {
    "duration": 41,
    "start_time": "2022-04-19T06:35:17.584Z"
   },
   {
    "duration": 7,
    "start_time": "2022-04-19T06:35:17.626Z"
   },
   {
    "duration": 31,
    "start_time": "2022-04-19T06:35:17.635Z"
   },
   {
    "duration": 52,
    "start_time": "2022-04-19T06:35:17.667Z"
   },
   {
    "duration": 31,
    "start_time": "2022-04-19T06:35:17.721Z"
   },
   {
    "duration": 8,
    "start_time": "2022-04-19T06:36:22.088Z"
   },
   {
    "duration": 73,
    "start_time": "2022-04-19T06:37:07.031Z"
   },
   {
    "duration": 8,
    "start_time": "2022-04-19T06:38:03.092Z"
   },
   {
    "duration": 7,
    "start_time": "2022-04-19T06:38:14.972Z"
   },
   {
    "duration": 7,
    "start_time": "2022-04-19T06:38:57.220Z"
   },
   {
    "duration": 4,
    "start_time": "2022-04-19T06:39:07.284Z"
   },
   {
    "duration": 8,
    "start_time": "2022-04-19T06:39:19.376Z"
   },
   {
    "duration": 410,
    "start_time": "2022-04-19T06:39:33.599Z"
   },
   {
    "duration": 6,
    "start_time": "2022-04-19T06:39:54.159Z"
   },
   {
    "duration": 6,
    "start_time": "2022-04-19T06:40:09.291Z"
   }
  ],
  "kernelspec": {
   "display_name": "Python 3 (ipykernel)",
   "language": "python",
   "name": "python3"
  },
  "language_info": {
   "codemirror_mode": {
    "name": "ipython",
    "version": 3
   },
   "file_extension": ".py",
   "mimetype": "text/x-python",
   "name": "python",
   "nbconvert_exporter": "python",
   "pygments_lexer": "ipython3",
   "version": "3.9.7"
  },
  "toc": {
   "base_numbering": 1,
   "nav_menu": {
    "height": "225px",
    "width": "470px"
   },
   "number_sections": false,
   "sideBar": true,
   "skip_h1_title": false,
   "title_cell": "Table of Contents",
   "title_sidebar": "Contents",
   "toc_cell": false,
   "toc_position": {},
   "toc_section_display": true,
   "toc_window_display": true
  }
 },
 "nbformat": 4,
 "nbformat_minor": 5
}
